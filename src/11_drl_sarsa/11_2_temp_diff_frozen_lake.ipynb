{
 "nbformat": 4,
 "nbformat_minor": 0,
 "metadata": {
  "anaconda-cloud": {},
  "kernelspec": {
   "name": "pycharm-ec18b53a",
   "language": "python",
   "display_name": "PyCharm (python-work)"
  },
  "language_info": {
   "codemirror_mode": {
    "name": "ipython",
    "version": 3
   },
   "file_extension": ".py",
   "mimetype": "text/x-python",
   "name": "python",
   "nbconvert_exporter": "python",
   "pygments_lexer": "ipython3",
   "version": "3.6.4"
  },
  "colab": {
   "name": "Temporal_Difference_Solution.ipynb",
   "provenance": []
  }
 },
 "cells": [
  {
   "cell_type": "markdown",
   "metadata": {
    "id": "f2tB9PFs_tJe"
   },
   "source": [
    "# Aufgabe 11 - Temporal-Difference Methods with Frozen Lake\n",
    "18.01.2022, Thomas Iten\n",
    "\n",
    "In this notebook, you will write your own implementations of many Temporal-Difference (TD) methods.\n",
    "While we have provided some starter code, you are welcome to erase these hints and write your code from scratch.\n",
    "\n",
    "**Content**\n",
    "0. Explore Frozen Lake\n",
    "1. TD Control: Sarsa          (update_Q_sarsa)\n",
    "2. TD Control: Q-learning     (update_Q_sarsamax, dito Q-Learing)\n",
    "3. TD Control: Expected Sarsa (update_Q_expsarsa)\n",
    "\n",
    "**References**\n",
    "- https://colab.research.google.com/drive/1dloqQlR77yAIXEWgRGWSoSJXflMqCUuN?usp=sharing"
   ]
  },
  {
   "cell_type": "markdown",
   "source": [
    "## Part 0: Explore Frozen Lake"
   ],
   "metadata": {
    "collapsed": false
   }
  },
  {
   "cell_type": "markdown",
   "source": [
    "### Imports and Plot Helpers"
   ],
   "metadata": {
    "collapsed": false
   }
  },
  {
   "cell_type": "code",
   "execution_count": 1,
   "outputs": [],
   "source": [
    "import sys\n",
    "import gym\n",
    "import numpy as np\n",
    "import random\n",
    "import math\n",
    "from collections import defaultdict, deque\n",
    "import matplotlib.pyplot as plt\n",
    "%matplotlib inline\n",
    "\n",
    "import numpy as np\n",
    "import matplotlib.pyplot as plt\n",
    "import seaborn as sns\n",
    "sns.set_style(\"white\")\n"
   ],
   "metadata": {
    "collapsed": false,
    "pycharm": {
     "name": "#%%\n"
    }
   }
  },
  {
   "cell_type": "code",
   "execution_count": 2,
   "outputs": [],
   "source": [
    "# from plot_utils import plot_values\n",
    "def plot_values(V):\n",
    "    # reshape the state-value function\n",
    "    V = np.reshape(V, (4,4))\n",
    "    # plot the state-value function\n",
    "    fig = plt.figure(figsize=(15,5))\n",
    "    ax = fig.add_subplot(111)\n",
    "    im = ax.imshow(V, cmap='cool')\n",
    "    for (j,i),label in np.ndenumerate(V):\n",
    "        ax.text(i, j, np.round(label,3), ha='center', va='center', fontsize=14)\n",
    "    plt.tick_params(bottom='off', left='off', labelbottom='off', labelleft='off')\n",
    "    plt.title('State-Value Function')\n",
    "    plt.show()\n"
   ],
   "metadata": {
    "collapsed": false,
    "pycharm": {
     "name": "#%%\n"
    }
   }
  },
  {
   "cell_type": "markdown",
   "source": [
    "### Frozen Lake Helper"
   ],
   "metadata": {
    "collapsed": false
   }
  },
  {
   "cell_type": "code",
   "execution_count": 3,
   "outputs": [],
   "source": [
    "class FrozenLakeHelper():\n",
    "    \"\"\"Some helper methods used throughout this notebook.\"\"\"\n",
    "\n",
    "    def render(self, env, display_mode=\"brackets\", print_result=True, legend=False):\n",
    "        \"\"\"\n",
    "        IntelliJ notebooks to not render the color of the current position correct.\n",
    "        Details see: https://youtrack.jetbrains.com/issue/PY-32191\n",
    "\n",
    "        Therfore we use this customized render methode with two simple display modes.\n",
    "\n",
    "        :param env: The current environment to render it's fields.\n",
    "        :param display_mode: display current position with \"brackets\" or in \"lowercase\"\n",
    "        :param print_result: print the last action and result\n",
    "        :param legend: print the legend\n",
    "        :return: lastaction as text and fields with marked current position\n",
    "        \"\"\"\n",
    "\n",
    "        # init data\n",
    "        row, col = env.s // env.ncol, env.s % env.ncol\n",
    "        desc = env.desc.tolist()\n",
    "        desc = [[c.decode(\"utf-8\") for c in line] for line in desc]\n",
    "\n",
    "        actions = [\"Left\", \"Down\", \"Right\", \"Up\"]\n",
    "        action = \"Init\" if env.lastaction is None else actions[env.lastaction]\n",
    "\n",
    "        # format display mode\n",
    "        indicator = None\n",
    "        if display_mode == \"brackets\":\n",
    "            desc[row][col] = \"[{}]\".format(desc[row][col])\n",
    "            desc = [[ (\" {} \".format(c) if len(c) == 1 else c) for c in line ] for line in desc]\n",
    "            indicator = \"[]\"\n",
    "        elif display_mode == \"lowercase\":\n",
    "            desc[row][col] = (desc[row][col]).lower()\n",
    "            indicator = \"lowercase\"\n",
    "\n",
    "        # print result\n",
    "        if print_result:\n",
    "            if legend:\n",
    "                print(\"Last action:\", action)\n",
    "            else:\n",
    "                print(action + \":\")\n",
    "            for line in desc:\n",
    "                for pos in line:\n",
    "                    print(pos, end=\"\")\n",
    "                print(\"\")\n",
    "            if legend:\n",
    "                print(\"Legend: S=Start, F=Frozen (safe), H=Hole, G=Goal, \" + indicator + \"=Current Position\")\n",
    "            print(\"\")\n",
    "\n",
    "        # return result\n",
    "        return action, desc\n",
    "\n",
    "\n",
    "    def print_field_positions(self):\n",
    "        print(\"Field positons:\")\n",
    "        print(\"[ 0] [ 1] [ 2] [ 3]\")\n",
    "        print(\"[ 4] [ 5] [ 6] [ 7]\")\n",
    "        print(\"[ 8] [09] [10] [11]\")\n",
    "        print(\"[12] [13] [14] [15]\")\n",
    "\n",
    "    def print_actions(self):\n",
    "        print(\"Actions:\")\n",
    "        print(\"[0] Left\")\n",
    "        print(\"[1] Down\")\n",
    "        print(\"[2] Right\")\n",
    "        print(\"[3] Up\")\n",
    "\n",
    "    def print_Q(self, Q):\n",
    "        print(\"Field: Left        Down       Right      Up\")\n",
    "        for field in Q:\n",
    "            print(f\"{field : >5}\", end=\"\")\n",
    "            print(\":\", Q[field])\n",
    "\n",
    "# Create helper instance\n",
    "helper = FrozenLakeHelper()\n"
   ],
   "metadata": {
    "collapsed": false,
    "pycharm": {
     "name": "#%%\n"
    }
   }
  },
  {
   "cell_type": "markdown",
   "metadata": {
    "id": "dqH7AE2I_tJh"
   },
   "source": [
    "### Frozen Lake environment"
   ]
  },
  {
   "cell_type": "code",
   "execution_count": 4,
   "outputs": [
    {
     "name": "stdout",
     "output_type": "stream",
     "text": [
      "Action space:\n",
      "Discrete(4)\n",
      "\n",
      "Actions:\n",
      "[0] Left\n",
      "[1] Down\n",
      "[2] Right\n",
      "[3] Up\n",
      "\n",
      "Observation space:\n",
      "Discrete(16)\n",
      "\n",
      "Field positons:\n",
      "[ 0] [ 1] [ 2] [ 3]\n",
      "[ 4] [ 5] [ 6] [ 7]\n",
      "[ 8] [09] [10] [11]\n",
      "[12] [13] [14] [15]\n"
     ]
    }
   ],
   "source": [
    "env = gym.make('FrozenLake-v1', is_slippery=False)\n",
    "\n",
    "print(\"Action space:\")\n",
    "print(env.action_space)\n",
    "print(\"\")\n",
    "\n",
    "helper.print_actions()\n",
    "print(\"\")\n",
    "\n",
    "print(\"Observation space:\")\n",
    "print(env.observation_space)\n",
    "print(\"\")\n",
    "\n",
    "helper.print_field_positions()\n"
   ],
   "metadata": {
    "collapsed": false,
    "pycharm": {
     "name": "#%%\n"
    }
   }
  },
  {
   "cell_type": "markdown",
   "source": [
    "### Reset and initial state"
   ],
   "metadata": {
    "collapsed": false
   }
  },
  {
   "cell_type": "code",
   "execution_count": 5,
   "outputs": [
    {
     "name": "stdout",
     "output_type": "stream",
     "text": [
      "Last action: Init\n",
      "[S] F  F  F \n",
      " F  H  F  H \n",
      " F  F  F  H \n",
      " H  F  F  G \n",
      "Legend: S=Start, F=Frozen (safe), H=Hole, G=Goal, []=Current Position\n",
      "\n",
      "\n"
     ]
    }
   ],
   "source": [
    "env.reset()    # reset the environment the set agent to start state\n",
    "helper.render(env, legend=True)\n",
    "print()\n"
   ],
   "metadata": {
    "collapsed": false,
    "pycharm": {
     "name": "#%%\n"
    }
   }
  },
  {
   "cell_type": "markdown",
   "metadata": {
    "id": "j6gSXzrS_tJk"
   },
   "source": [
    "## Part 1: TD Control: Sarsa (update_Q_sarsa)\n",
    "\n",
    "In this section, you will write your own implementation of the Sarsa control algorithm.\n",
    "\n",
    "Your algorithm has four arguments:\n",
    "- `env`: This is an instance of an OpenAI Gym environment.\n",
    "- `num_episodes`: This is the number of episodes that are generated through agent-environment interaction.\n",
    "- `alpha`: This is the step-size parameter for the update step.\n",
    "- `gamma`: This is the discount rate.  It must be a value between 0 and 1, inclusive (default value: `1`).\n",
    "\n",
    "The algorithm returns as output:\n",
    "- `Q`: This is a dictionary (of one-dimensional arrays) where `Q[s][a]` is the **estimated action value** corresponding to state `s` and action `a`.\n",
    "\n",
    "Please complete the function in the code cell below."
   ]
  },
  {
   "cell_type": "code",
   "metadata": {
    "id": "_eNDAWmW_tJk"
   },
   "source": [
    "def update_Q_sarsa(alpha, gamma, Q, state, action, reward, next_state=None, next_action=None, plot=None):\n",
    "    \"\"\"Returns updated Q-value for the most recent experience.\"\"\"\n",
    "    current = Q[state][action]  # estimate in Q-table (for current state, action pair)\n",
    "    # get value of state, action pair at next time step\n",
    "    Qsa_next = Q[next_state][next_action] if next_state is not None else 0    \n",
    "    target = reward + (gamma * Qsa_next)               # construct TD target, gamma=discount\n",
    "    new_value = current + (alpha * (target - current)) # get updated value, alpha analog=lr\n",
    "    if plot:\n",
    "        print(\"current:\", current, \"Qsa_next:\", Qsa_next, \"target:\", target, \"new_value:\", new_value)\n",
    "    return new_value\n",
    "\n",
    "\n",
    "def epsilon_greedy(Q, state, nA, eps):\n",
    "    \"\"\"Selects epsilon-greedy action for supplied state.\n",
    "    \n",
    "    Params\n",
    "    ======\n",
    "        Q (dictionary): action-value function\n",
    "        state (int): current state\n",
    "        nA (int): number actions in the environment\n",
    "        eps (float): epsilon\n",
    "    \"\"\"\n",
    "    if random.random() > eps: # select greedy action with probability epsilon\n",
    "        return np.argmax(Q[state])\n",
    "    else:                     # otherwise, select an action randomly\n",
    "        return random.choice(np.arange(env.action_space.n))"
   ],
   "execution_count": 6,
   "outputs": []
  },
  {
   "cell_type": "code",
   "metadata": {
    "id": "MzeVjhiC_tJl"
   },
   "source": [
    "def sarsa(env, num_episodes, alpha, gamma=1.0, plot_every=1000):\n",
    "    nA = env.action_space.n                # number of actions\n",
    "    Q = defaultdict(lambda: np.zeros(nA))  # initialize empty dictionary of arrays\n",
    "    \n",
    "    eps_decay = .99999\n",
    "    eps = 1.\n",
    "    eps_min = .05\n",
    "\n",
    "    # monitor performance\n",
    "    tmp_scores = deque(maxlen=plot_every)     # deque for keeping track of scores\n",
    "    avg_scores = deque(maxlen=num_episodes)   # average scores over every plot_every episodes\n",
    "    \n",
    "    for i_episode in range(1, num_episodes+1):\n",
    "        # monitor progress\n",
    "        plot = False\n",
    "        if i_episode % 100 == 0:\n",
    "            print(\"\\rEpisode {}/{}\".format(i_episode, num_episodes), end=\"\")\n",
    "            sys.stdout.flush()\n",
    "            print()\n",
    "            plot = True\n",
    "        score = 0                                             # initialize score\n",
    "        state = env.reset()                                   # start episode\n",
    "        \n",
    "        # eps = 1.0 / i_episode\n",
    "        eps = max(eps*eps_decay, eps_min)                     # set the value of epsilon\n",
    "\n",
    "        action = epsilon_greedy(Q, state, nA, eps)            # epsilon-greedy action selection\n",
    "        \n",
    "        while True:\n",
    "            next_state, reward, done, info = env.step(action) # take action A, observe R, S'\n",
    "            score += reward                                   # add reward to agent's score\n",
    "            if not done:\n",
    "                next_action = epsilon_greedy(Q, next_state, nA, eps) # epsilon-greedy action\n",
    "                Q[state][action] = update_Q_sarsa(alpha, gamma, Q, \\\n",
    "                                                  state, action, reward, next_state, next_action, plot)\n",
    "                \n",
    "                state = next_state     # S <- S'\n",
    "                action = next_action   # A <- A'\n",
    "            if done:\n",
    "                Q[state][action] = update_Q_sarsa(alpha, gamma, Q, \\\n",
    "                                                  state, action, reward)\n",
    "                tmp_scores.append(score)    # append score\n",
    "                break\n",
    "        if (i_episode % plot_every == 0):\n",
    "            avg_scores.append(np.mean(tmp_scores))\n",
    "\n",
    "    # plot performance\n",
    "    plt.plot(np.linspace(0,num_episodes,len(avg_scores),endpoint=False), np.asarray(avg_scores))\n",
    "    plt.xlabel('Episode Number')\n",
    "    plt.ylabel('Average Reward (Over Next %d Episodes)' % plot_every)\n",
    "    plt.show()\n",
    "    # print best 100-episode performance\n",
    "    print(('Best Average Reward over %d Episodes: ' % plot_every), np.max(avg_scores))    \n",
    "    return Q"
   ],
   "execution_count": 7,
   "outputs": []
  },
  {
   "cell_type": "markdown",
   "metadata": {
    "id": "9MHGTnt__tJl"
   },
   "source": [
    "Use the next code cell to visualize the **_estimated_** optimal policy and the corresponding state-value function.  \n",
    "If the code cell returns **PASSED**, then you have implemented the function correctly!\n",
    "- Feel free to change the `num_episodes` and `alpha` parameters that are supplied to the function.\n",
    "- However, if you'd like to ensure the accuracy of the unit test, please do not change the value of `gamma` from the default."
   ]
  },
  {
   "cell_type": "code",
   "metadata": {
    "colab": {
     "base_uri": "https://localhost:8080/",
     "height": 420
    },
    "id": "ThfCo-Cj_tJm",
    "outputId": "4d05c79b-0be4-46f7-9f1f-4802ba23fb65"
   },
   "source": [
    "# obtain the estimated optimal policy and corresponding action-value function\n",
    "Q_sarsa = sarsa(env, 5000, .01)\n",
    "\n",
    "\n",
    "helper.print_field_positions()\n",
    "print()\n",
    "\n",
    "helper.print_Q(Q_sarsa)\n",
    "print()\n"
   ],
   "execution_count": 8,
   "outputs": [
    {
     "name": "stdout",
     "output_type": "stream",
     "text": [
      "Episode 100/5000\n",
      "current: 0.0 Qsa_next: 0.0 target: 0.0 new_value: 0.0\n",
      "current: 0.0 Qsa_next: 0.0 target: 0.0 new_value: 0.0\n",
      "current: 0.0 Qsa_next: 0.0 target: 0.0 new_value: 0.0\n",
      "current: 0.0 Qsa_next: 0.0 target: 0.0 new_value: 0.0\n",
      "current: 0.0 Qsa_next: 0.0 target: 0.0 new_value: 0.0\n",
      "current: 0.0 Qsa_next: 0.0 target: 0.0 new_value: 0.0\n",
      "current: 0.0 Qsa_next: 0.0 target: 0.0 new_value: 0.0\n",
      "current: 0.0 Qsa_next: 0.0 target: 0.0 new_value: 0.0\n",
      "current: 0.0 Qsa_next: 0.0 target: 0.0 new_value: 0.0\n",
      "current: 0.0 Qsa_next: 0.0 target: 0.0 new_value: 0.0\n",
      "current: 0.0 Qsa_next: 0.0 target: 0.0 new_value: 0.0\n",
      "current: 0.0 Qsa_next: 0.0 target: 0.0 new_value: 0.0\n",
      "current: 0.0 Qsa_next: 0.0 target: 0.0 new_value: 0.0\n",
      "current: 0.0 Qsa_next: 0.0 target: 0.0 new_value: 0.0\n",
      "current: 0.0 Qsa_next: 0.0 target: 0.0 new_value: 0.0\n",
      "current: 0.0 Qsa_next: 0.0 target: 0.0 new_value: 0.0\n",
      "current: 0.0 Qsa_next: 0.0 target: 0.0 new_value: 0.0\n",
      "current: 0.0 Qsa_next: 0.0 target: 0.0 new_value: 0.0\n",
      "current: 0.0 Qsa_next: 0.0 target: 0.0 new_value: 0.0\n",
      "current: 0.0 Qsa_next: 0.0 target: 0.0 new_value: 0.0\n",
      "Episode 200/5000\n",
      "current: 0.0 Qsa_next: 0.0 target: 0.0 new_value: 0.0\n",
      "current: 0.0 Qsa_next: 0.0 target: 0.0 new_value: 0.0\n",
      "current: 0.0 Qsa_next: 0.0 target: 0.0 new_value: 0.0\n",
      "current: 0.0 Qsa_next: 0.0 target: 0.0 new_value: 0.0\n",
      "current: 0.0 Qsa_next: 0.0 target: 0.0 new_value: 0.0\n",
      "Episode 300/5000\n",
      "current: 5.900350357433284e-10 Qsa_next: 5.618910511715338e-11 target: 5.618910511715338e-11 new_value: 5.846965764370666e-10\n",
      "current: 5.618910511715338e-11 Qsa_next: 5.618910511715338e-11 target: 5.618910511715338e-11 new_value: 5.618910511715338e-11\n",
      "current: 5.618910511715338e-11 Qsa_next: 0.0 target: 0.0 new_value: 5.5627214065981845e-11\n",
      "Episode 400/5000\n",
      "current: 3.9864355898210914e-10 Qsa_next: 0.0 target: 0.0 new_value: 3.9465712339228806e-10\n",
      "Episode 500/5000\n",
      "current: 1.0917370282154364e-09 Qsa_next: 1.0917370282154364e-09 target: 1.0917370282154364e-09 new_value: 1.0917370282154364e-09\n",
      "current: 1.0917370282154364e-09 Qsa_next: 1.0917370282154364e-09 target: 1.0917370282154364e-09 new_value: 1.0917370282154364e-09\n",
      "current: 1.0917370282154364e-09 Qsa_next: 3.343328484613744e-09 target: 3.343328484613744e-09 new_value: 1.1142529427794195e-09\n",
      "current: 3.343328484613744e-09 Qsa_next: 4.440717719007491e-08 target: 4.440717719007491e-08 new_value: 3.7539669716683554e-09\n",
      "current: 4.440717719007491e-08 Qsa_next: 1.9460171845962137e-08 target: 1.9460171845962137e-08 new_value: 4.415770713663378e-08\n",
      "current: 1.9460171845962137e-08 Qsa_next: 1.9460171845962137e-08 target: 1.9460171845962137e-08 new_value: 1.9460171845962137e-08\n",
      "current: 1.9460171845962137e-08 Qsa_next: 7.59723722392799e-11 target: 7.59723722392799e-11 new_value: 1.9266329851224908e-08\n",
      "current: 7.59723722392799e-11 Qsa_next: 9.710040512441489e-11 target: 9.710040512441489e-11 new_value: 7.618365256813125e-11\n",
      "current: 9.710040512441489e-11 Qsa_next: 7.662788805185295e-11 target: 7.662788805185295e-11 new_value: 9.689567995368927e-11\n",
      "current: 7.662788805185295e-11 Qsa_next: 0.0 target: 0.0 new_value: 7.586160917133441e-11\n",
      "Episode 600/5000\n",
      "current: 4.253273717278639e-09 Qsa_next: 4.253273717278639e-09 target: 4.253273717278639e-09 new_value: 4.253273717278639e-09\n",
      "current: 4.253273717278639e-09 Qsa_next: 4.253273717278639e-09 target: 4.253273717278639e-09 new_value: 4.253273717278639e-09\n",
      "current: 4.253273717278639e-09 Qsa_next: 1.16496172017646e-08 target: 1.16496172017646e-08 new_value: 4.327237152123498e-09\n",
      "current: 1.16496172017646e-08 Qsa_next: 0.0 target: 0.0 new_value: 1.1533121029746954e-08\n",
      "Episode 700/5000\n",
      "current: 1.0445606813592593e-08 Qsa_next: 4.9238683631486246e-08 target: 4.9238683631486246e-08 new_value: 1.083353758177153e-08\n",
      "current: 4.9238683631486246e-08 Qsa_next: 4.4801777592024633e-07 target: 4.4801777592024633e-07 new_value: 5.322647455437385e-08\n",
      "current: 4.4801777592024633e-07 Qsa_next: 5.176908591402758e-06 target: 5.176908591402758e-06 new_value: 4.953066840750714e-07\n",
      "current: 5.176908591402758e-06 Qsa_next: 5.1270746288260044e-08 target: 5.1270746288260044e-08 new_value: 5.125652212951613e-06\n",
      "current: 5.1270746288260044e-08 Qsa_next: 1.8775029414668353e-07 target: 1.8775029414668353e-07 new_value: 5.263554176684428e-08\n",
      "current: 1.8775029414668353e-07 Qsa_next: 0.0 target: 0.0 new_value: 1.858727912052167e-07\n",
      "Episode 800/5000\n",
      "current: 1.0688703484700951e-07 Qsa_next: 1.4122724376841843e-08 target: 1.4122724376841843e-08 new_value: 1.0595939174230784e-07\n",
      "current: 1.4122724376841843e-08 Qsa_next: 3.798623828403111e-08 target: 3.798623828403111e-08 new_value: 1.4361359515913735e-08\n",
      "current: 3.798623828403111e-08 Qsa_next: 3.058033073193129e-08 target: 3.058033073193129e-08 new_value: 3.791217920851011e-08\n",
      "current: 3.058033073193129e-08 Qsa_next: 1.6806935689145032e-08 target: 1.6806935689145032e-08 new_value: 3.044259678150342e-08\n",
      "current: 1.6806935689145032e-08 Qsa_next: 1.0595939174230784e-07 target: 1.0595939174230784e-07 new_value: 1.769846024967666e-08\n",
      "current: 1.0595939174230784e-07 Qsa_next: 0.0 target: 0.0 new_value: 1.0489979782488475e-07\n",
      "Episode 900/5000\n",
      "current: 5.11957780874984e-08 Qsa_next: 4.0794120294008074e-08 target: 4.0794120294008074e-08 new_value: 5.109176150956349e-08\n",
      "current: 4.0794120294008074e-08 Qsa_next: 4.0794120294008074e-08 target: 4.0794120294008074e-08 new_value: 4.0794120294008074e-08\n",
      "current: 4.0794120294008074e-08 Qsa_next: 4.0794120294008074e-08 target: 4.0794120294008074e-08 new_value: 4.0794120294008074e-08\n",
      "current: 4.0794120294008074e-08 Qsa_next: 0.0 target: 0.0 new_value: 4.0386179091067996e-08\n",
      "Episode 1000/5000\n",
      "current: 9.249247976853034e-08 Qsa_next: 7.622193047075404e-08 target: 7.622193047075404e-08 new_value: 9.232977427555257e-08\n",
      "current: 7.622193047075404e-08 Qsa_next: 7.622193047075404e-08 target: 7.622193047075404e-08 new_value: 7.622193047075404e-08\n",
      "current: 7.622193047075404e-08 Qsa_next: 7.485051011687933e-08 target: 7.485051011687933e-08 new_value: 7.620821626721529e-08\n",
      "current: 7.485051011687933e-08 Qsa_next: 5.8434074985622615e-08 target: 5.8434074985622615e-08 new_value: 7.468634576556677e-08\n",
      "current: 5.8434074985622615e-08 Qsa_next: 3.8556192954328834e-07 target: 3.8556192954328834e-07 new_value: 6.170535353119927e-08\n",
      "current: 3.8556192954328834e-07 Qsa_next: 4.666659289832027e-09 target: 4.666659289832027e-09 new_value: 3.8175297684075377e-07\n",
      "current: 4.666659289832027e-09 Qsa_next: 3.6128902523908063e-09 target: 3.6128902523908063e-09 new_value: 4.6561215994576155e-09\n",
      "current: 3.6128902523908063e-09 Qsa_next: 2.882876107447507e-09 target: 2.882876107447507e-09 new_value: 3.6055901109413733e-09\n",
      "current: 2.882876107447507e-09 Qsa_next: 0.0 target: 0.0 new_value: 2.854047346373032e-09\n",
      "Episode 1100/5000\n",
      "current: 1.1831561760190851e-07 Qsa_next: 7.607213273006174e-08 target: 7.607213273006174e-08 new_value: 1.1789318275319004e-07\n",
      "current: 7.607213273006174e-08 Qsa_next: 2.9514831769771017e-07 target: 2.9514831769771017e-07 new_value: 7.826289457973823e-08\n",
      "current: 2.9514831769771017e-07 Qsa_next: 6.182648133609079e-08 target: 6.182648133609079e-08 new_value: 2.92815099334094e-07\n",
      "current: 6.182648133609079e-08 Qsa_next: 2.92815099334094e-07 target: 2.92815099334094e-07 new_value: 6.413636751607082e-08\n",
      "current: 2.92815099334094e-07 Qsa_next: 2.31590983821565e-07 target: 2.31590983821565e-07 new_value: 2.922028581789687e-07\n",
      "current: 2.31590983821565e-07 Qsa_next: 1.3303250333289595e-06 target: 1.3303250333289595e-06 new_value: 2.4257832431663897e-07\n",
      "current: 1.3303250333289595e-06 Qsa_next: 9.787810641809149e-08 target: 9.787810641809149e-08 new_value: 1.3180005640598508e-06\n",
      "current: 9.787810641809149e-08 Qsa_next: 1.3180005640598508e-06 target: 1.3180005640598508e-06 new_value: 1.1007933099450908e-07\n",
      "current: 1.3180005640598508e-06 Qsa_next: 0.0 target: 0.0 new_value: 1.3048205584192523e-06\n",
      "Episode 1200/5000\n",
      "current: 1.995132762714936e-07 Qsa_next: 1.1066125215946867e-06 target: 1.1066125215946867e-06 new_value: 2.0858426872472555e-07\n",
      "current: 1.1066125215946867e-06 Qsa_next: 3.321740279603986e-08 target: 3.321740279603986e-08 new_value: 1.0958785704067003e-06\n",
      "current: 3.321740279603986e-08 Qsa_next: 0.0 target: 0.0 new_value: 3.288522876807946e-08\n",
      "Episode 1300/5000\n",
      "current: 3.39750925969131e-07 Qsa_next: 0.0 target: 0.0 new_value: 3.3635341670943967e-07\n",
      "Episode 1400/5000\n",
      "current: 8.551708907571079e-07 Qsa_next: 3.4774753411525942e-06 target: 3.4774753411525942e-06 new_value: 8.813939352610627e-07\n",
      "current: 3.4774753411525942e-06 Qsa_next: 1.9073372561756712e-06 target: 1.9073372561756712e-06 new_value: 3.461773960302825e-06\n",
      "current: 1.9073372561756712e-06 Qsa_next: 2.3414523950016667e-05 target: 2.3414523950016667e-05 new_value: 2.1224091231140813e-06\n",
      "current: 2.3414523950016667e-05 Qsa_next: 5.446567102855132e-07 target: 5.446567102855132e-07 new_value: 2.3185825277619354e-05\n",
      "current: 5.446567102855132e-07 Qsa_next: 4.230501600768048e-07 target: 4.230501600768048e-07 new_value: 5.434406447834262e-07\n",
      "current: 4.230501600768048e-07 Qsa_next: 2.147863051911553e-07 target: 2.147863051911553e-07 new_value: 4.209675215279483e-07\n",
      "current: 2.147863051911553e-07 Qsa_next: 3.351172152533404e-07 target: 3.351172152533404e-07 new_value: 2.1598961429177714e-07\n",
      "current: 3.351172152533404e-07 Qsa_next: 3.242507033091602e-07 target: 3.242507033091602e-07 new_value: 3.350085501338986e-07\n",
      "current: 3.242507033091602e-07 Qsa_next: 3.350085501338986e-07 target: 3.350085501338986e-07 new_value: 3.243582817774076e-07\n",
      "current: 3.350085501338986e-07 Qsa_next: 4.2655117629146806e-07 target: 4.2655117629146806e-07 new_value: 3.359239763954743e-07\n",
      "current: 4.2655117629146806e-07 Qsa_next: 2.5783374421209216e-06 target: 2.5783374421209216e-06 new_value: 4.480690389497626e-07\n",
      "current: 2.5783374421209216e-06 Qsa_next: 1.2710892175504727e-05 target: 1.2710892175504727e-05 new_value: 2.6796629894547595e-06\n",
      "current: 1.2710892175504727e-05 Qsa_next: 1.5823707851003349e-07 target: 1.5823707851003349e-07 new_value: 1.258536562453478e-05\n",
      "current: 1.5823707851003349e-07 Qsa_next: 2.166324664548278e-07 target: 2.166324664548278e-07 new_value: 1.5882103238948142e-07\n",
      "current: 2.166324664548278e-07 Qsa_next: 2.6796629894547595e-06 target: 2.6796629894547595e-06 new_value: 2.412627716848271e-07\n",
      "current: 2.6796629894547595e-06 Qsa_next: 2.412627716848271e-07 target: 2.412627716848271e-07 new_value: 2.65527898727706e-06\n",
      "current: 2.412627716848271e-07 Qsa_next: 0.0 target: 0.0 new_value: 2.3885014396797886e-07\n",
      "Episode 1500/5000\n",
      "current: 5.890982519832048e-07 Qsa_next: 3.3278110692268366e-07 target: 3.3278110692268366e-07 new_value: 5.865350805325996e-07\n",
      "current: 3.3278110692268366e-07 Qsa_next: 1.205037732056249e-06 target: 1.205037732056249e-06 new_value: 3.4150367317401934e-07\n",
      "current: 1.205037732056249e-06 Qsa_next: 5.491270779506869e-06 target: 5.491270779506869e-06 new_value: 1.2479000625307552e-06\n",
      "current: 5.491270779506869e-06 Qsa_next: 3.184841573805761e-05 target: 3.184841573805761e-05 new_value: 5.754842229092377e-06\n",
      "current: 3.184841573805761e-05 Qsa_next: 7.616059650359317e-07 target: 7.616059650359317e-07 new_value: 3.1537547640327394e-05\n",
      "current: 7.616059650359317e-07 Qsa_next: 2.4152852643856197e-06 target: 2.4152852643856197e-06 new_value: 7.781427580294286e-07\n",
      "current: 2.4152852643856197e-06 Qsa_next: 2.4152852643856197e-06 target: 2.4152852643856197e-06 new_value: 2.4152852643856197e-06\n",
      "current: 2.4152852643856197e-06 Qsa_next: 3.1537547640327394e-05 target: 3.1537547640327394e-05 new_value: 2.7065078881450375e-06\n",
      "current: 3.1537547640327394e-05 Qsa_next: 0.0001934856516035592 target: 0.0001934856516035592 new_value: 3.3157028679959714e-05\n",
      "current: 0.0001934856516035592 Qsa_next: 8.252676941188017e-06 target: 8.252676941188017e-06 new_value: 0.00019163332185693547\n",
      "current: 8.252676941188017e-06 Qsa_next: 0.00019163332185693547 target: 0.00019163332185693547 new_value: 1.0086483390345492e-05\n",
      "current: 0.00019163332185693547 Qsa_next: 0.0042491058429880825 target: 0.0042491058429880825 new_value: 0.00023220804706824695\n",
      "current: 0.0042491058429880825 Qsa_next: 3.900988187488738e-05 target: 3.900988187488738e-05 new_value: 0.004207004883376951\n",
      "current: 3.900988187488738e-05 Qsa_next: 1.8537720990988223e-06 target: 1.8537720990988223e-06 new_value: 3.8638320777129494e-05\n",
      "current: 1.8537720990988223e-06 Qsa_next: 3.245435384731703e-07 target: 3.245435384731703e-07 new_value: 1.8384798134925657e-06\n",
      "current: 3.245435384731703e-07 Qsa_next: 9.689919373546469e-08 target: 9.689919373546469e-08 new_value: 3.222670950257932e-07\n",
      "current: 9.689919373546469e-08 Qsa_next: 2.6983283523124665e-08 target: 2.6983283523124665e-08 new_value: 9.62000346333413e-08\n",
      "current: 2.6983283523124665e-08 Qsa_next: 8.837568476802477e-07 target: 8.837568476802477e-07 new_value: 3.5551019164695896e-08\n",
      "current: 8.837568476802477e-07 Qsa_next: 9.62000346333413e-08 target: 9.62000346333413e-08 new_value: 8.758812795497786e-07\n",
      "current: 9.62000346333413e-08 Qsa_next: 3.5784487977252594e-08 target: 3.5784487977252594e-08 new_value: 9.55958791667804e-08\n",
      "current: 3.5784487977252594e-08 Qsa_next: 3.5784487977252594e-08 target: 3.5784487977252594e-08 new_value: 3.5784487977252594e-08\n",
      "current: 3.5784487977252594e-08 Qsa_next: 8.758812795497786e-07 target: 8.758812795497786e-07 new_value: 4.418545589297786e-08\n",
      "current: 8.758812795497786e-07 Qsa_next: 1.9310387626057557e-05 target: 1.9310387626057557e-05 new_value: 1.0602263430148565e-06\n",
      "current: 1.9310387626057557e-05 Qsa_next: 3.222670950257932e-07 target: 3.222670950257932e-07 new_value: 1.912050642074724e-05\n",
      "current: 3.222670950257932e-07 Qsa_next: 1.4342010641938556e-06 target: 1.4342010641938556e-06 new_value: 3.3338643471747384e-07\n",
      "current: 1.4342010641938556e-06 Qsa_next: 9.55958791667804e-08 target: 9.55958791667804e-08 new_value: 1.4208150123435848e-06\n",
      "current: 9.55958791667804e-08 Qsa_next: 0.0 target: 0.0 new_value: 9.46399203751126e-08\n",
      "Episode 1600/5000\n",
      "current: 1.6224602532532921e-06 Qsa_next: 1.0177599752611248e-06 target: 1.0177599752611248e-06 new_value: 1.6164132504733704e-06\n",
      "current: 1.0177599752611248e-06 Qsa_next: 6.578303821007249e-06 target: 6.578303821007249e-06 new_value: 1.073365413718586e-06\n",
      "current: 6.578303821007249e-06 Qsa_next: 2.8634434944746806e-06 target: 2.8634434944746806e-06 new_value: 6.541155217741924e-06\n",
      "current: 2.8634434944746806e-06 Qsa_next: 0.0 target: 0.0 new_value: 2.8348090595299338e-06\n",
      "Episode 1700/5000\n",
      "current: 1.0553943056839817e-06 Qsa_next: 2.1333409061135692e-06 target: 2.1333409061135692e-06 new_value: 1.0661737716882777e-06\n",
      "current: 2.1333409061135692e-06 Qsa_next: 1.3691966600732638e-06 target: 1.3691966600732638e-06 new_value: 2.1256994636531663e-06\n",
      "current: 1.3691966600732638e-06 Qsa_next: 7.4368533235031995e-06 target: 7.4368533235031995e-06 new_value: 1.4298732267075632e-06\n",
      "current: 7.4368533235031995e-06 Qsa_next: 0.0 target: 0.0 new_value: 7.3624847902681676e-06\n",
      "Episode 1800/5000\n",
      "current: 2.59073605267162e-06 Qsa_next: 0.0 target: 0.0 new_value: 2.564828692144904e-06\n",
      "Episode 1900/5000\n",
      "current: 3.3951118431036813e-06 Qsa_next: 0.0 target: 0.0 new_value: 3.3611607246726445e-06\n",
      "Episode 2000/5000\n",
      "current: 2.2900454585947607e-06 Qsa_next: 4.628796365121206e-06 target: 4.628796365121206e-06 new_value: 2.313432967660025e-06\n",
      "current: 4.628796365121206e-06 Qsa_next: 0.0 target: 0.0 new_value: 4.582508401469994e-06\n",
      "Episode 2100/5000\n",
      "current: 3.08392754404928e-06 Qsa_next: 3.08392754404928e-06 target: 3.08392754404928e-06 new_value: 3.08392754404928e-06\n",
      "current: 3.08392754404928e-06 Qsa_next: 6.427098204899845e-06 target: 6.427098204899845e-06 new_value: 3.1173592506577857e-06\n",
      "current: 6.427098204899845e-06 Qsa_next: 1.9231784266478607e-06 target: 1.9231784266478607e-06 new_value: 6.382059007117325e-06\n",
      "current: 1.9231784266478607e-06 Qsa_next: 3.412139635270651e-06 target: 3.412139635270651e-06 new_value: 1.9380680387340887e-06\n",
      "current: 3.412139635270651e-06 Qsa_next: 1.534730061021307e-05 target: 1.534730061021307e-05 new_value: 3.531491245020075e-06\n",
      "current: 1.534730061021307e-05 Qsa_next: 4.380653579344887e-07 target: 4.380653579344887e-07 new_value: 1.5198208257690284e-05\n",
      "current: 4.380653579344887e-07 Qsa_next: 4.869699205770006e-06 target: 4.869699205770006e-06 new_value: 4.823816964128439e-07\n",
      "current: 4.869699205770006e-06 Qsa_next: 7.269365154710451e-05 target: 7.269365154710451e-05 new_value: 5.547938729183351e-06\n",
      "current: 7.269365154710451e-05 Qsa_next: 0.000617923498454963 target: 0.000617923498454963 new_value: 7.814595001618309e-05\n",
      "current: 0.000617923498454963 Qsa_next: 1.2551055200416324e-05 target: 1.2551055200416324e-05 new_value: 0.0006118697740224176\n",
      "current: 1.2551055200416324e-05 Qsa_next: 0.0 target: 0.0 new_value: 1.2425544648412161e-05\n",
      "Episode 2200/5000\n",
      "current: 3.72632855632048e-06 Qsa_next: 6.086334439192381e-06 target: 6.086334439192381e-06 new_value: 3.749928615149199e-06\n",
      "current: 6.086334439192381e-06 Qsa_next: 2.4801856486481078e-05 target: 2.4801856486481078e-05 new_value: 6.273489659665268e-06\n",
      "current: 2.4801856486481078e-05 Qsa_next: 1.7845773563919998e-05 target: 1.7845773563919998e-05 new_value: 2.4732295657255466e-05\n",
      "current: 1.7845773563919998e-05 Qsa_next: 0.00016436786387006883 target: 0.00016436786387006883 new_value: 1.9310994466981487e-05\n",
      "current: 0.00016436786387006883 Qsa_next: 0.0008754511576380011 target: 0.0008754511576380011 new_value: 0.00017147869680774814\n",
      "current: 0.0008754511576380011 Qsa_next: 0.00023758819765366853 target: 0.00023758819765366853 new_value: 0.0008690725280381578\n",
      "current: 0.00023758819765366853 Qsa_next: 0.013944980764445565 target: 0.013944980764445565 new_value: 0.00037466212332158753\n",
      "current: 0.013944980764445565 Qsa_next: 0.00020200956581970845 target: 0.00020200956581970845 new_value: 0.013807551052459307\n",
      "current: 0.00020200956581970845 Qsa_next: 4.492240814254431e-05 target: 4.492240814254431e-05 new_value: 0.00020043869424293681\n",
      "current: 4.492240814254431e-05 Qsa_next: 0.0008690725280381578 target: 0.0008690725280381578 new_value: 5.316390934150045e-05\n",
      "current: 0.0008690725280381578 Qsa_next: 5.316390934150045e-05 target: 5.316390934150045e-05 new_value: 0.0008609134418511912\n",
      "current: 5.316390934150045e-05 Qsa_next: 6.643682751660608e-06 target: 6.643682751660608e-06 new_value: 5.269870707560205e-05\n",
      "current: 6.643682751660608e-06 Qsa_next: 0.00017147869680774814 target: 0.00017147869680774814 new_value: 8.292032892221483e-06\n",
      "current: 0.00017147869680774814 Qsa_next: 0.0006576438402281354 target: 0.0006576438402281354 new_value: 0.00017634034824195202\n",
      "current: 0.0006576438402281354 Qsa_next: 1.217827630990876e-05 target: 1.217827630990876e-05 new_value: 0.0006511891845889531\n",
      "current: 1.217827630990876e-05 Qsa_next: 0.0 target: 0.0 new_value: 1.2056493546809673e-05\n",
      "Episode 2300/5000\n",
      "current: 4.412523870932447e-06 Qsa_next: 5.080960072145293e-06 target: 5.080960072145293e-06 new_value: 4.419208232944576e-06\n",
      "current: 5.080960072145293e-06 Qsa_next: 0.0 target: 0.0 new_value: 5.03015047142384e-06\n",
      "Episode 2400/5000\n",
      "current: 5.154909127241435e-06 Qsa_next: 4.24034157957963e-06 target: 4.24034157957963e-06 new_value: 5.145763451764817e-06\n",
      "current: 4.24034157957963e-06 Qsa_next: 5.145763451764817e-06 target: 5.145763451764817e-06 new_value: 4.249395798301482e-06\n",
      "current: 5.145763451764817e-06 Qsa_next: 4.249395798301482e-06 target: 4.249395798301482e-06 new_value: 5.136799775230184e-06\n",
      "current: 4.249395798301482e-06 Qsa_next: 5.191292452847399e-06 target: 5.191292452847399e-06 new_value: 4.258814764846941e-06\n",
      "current: 5.191292452847399e-06 Qsa_next: 5.136799775230184e-06 target: 5.136799775230184e-06 new_value: 5.190747526071227e-06\n",
      "current: 5.136799775230184e-06 Qsa_next: 2.215431060810247e-05 target: 2.215431060810247e-05 new_value: 5.306974883558907e-06\n",
      "current: 2.215431060810247e-05 Qsa_next: 7.87047371786555e-07 target: 7.87047371786555e-07 new_value: 2.194063797573931e-05\n",
      "current: 7.87047371786555e-07 Qsa_next: 7.169510616320035e-06 target: 7.169510616320035e-06 new_value: 8.508720042318898e-07\n",
      "current: 7.169510616320035e-06 Qsa_next: 8.508720042318898e-07 target: 8.508720042318898e-07 new_value: 7.106324230199154e-06\n",
      "current: 8.508720042318898e-07 Qsa_next: 7.106324230199154e-06 target: 7.106324230199154e-06 new_value: 9.134265264915624e-07\n",
      "current: 7.106324230199154e-06 Qsa_next: 0.0001020074641346681 target: 0.0001020074641346681 new_value: 8.055335629243842e-06\n",
      "current: 0.0001020074641346681 Qsa_next: 0.0 target: 0.0 new_value: 0.00010098738949332143\n",
      "Episode 2500/5000\n",
      "current: 1.5381344771377538e-05 Qsa_next: 0.0 target: 0.0 new_value: 1.5227531323663764e-05\n",
      "Episode 2600/5000\n",
      "current: 9.348358793626914e-06 Qsa_next: 8.75638856742969e-06 target: 8.75638856742969e-06 new_value: 9.342439091364942e-06\n",
      "current: 8.75638856742969e-06 Qsa_next: 9.342439091364942e-06 target: 9.342439091364942e-06 new_value: 8.762249072669043e-06\n",
      "current: 9.342439091364942e-06 Qsa_next: 9.342439091364942e-06 target: 9.342439091364942e-06 new_value: 9.342439091364942e-06\n",
      "current: 9.342439091364942e-06 Qsa_next: 1.741866397275571e-05 target: 1.741866397275571e-05 new_value: 9.42320134017885e-06\n",
      "current: 1.741866397275571e-05 Qsa_next: 5.973229673815212e-06 target: 5.973229673815212e-06 new_value: 1.7304209629766303e-05\n",
      "current: 5.973229673815212e-06 Qsa_next: 9.42320134017885e-06 target: 9.42320134017885e-06 new_value: 6.007729390478848e-06\n",
      "current: 9.42320134017885e-06 Qsa_next: 8.260109703008808e-06 target: 8.260109703008808e-06 new_value: 9.41157042380715e-06\n",
      "current: 8.260109703008808e-06 Qsa_next: 0.0 target: 0.0 new_value: 8.17750860597872e-06\n",
      "Episode 2700/5000\n",
      "current: 1.090154104908737e-05 Qsa_next: 8.00398951850161e-06 target: 8.00398951850161e-06 new_value: 1.0872565533781513e-05\n",
      "current: 8.00398951850161e-06 Qsa_next: 1.0872565533781513e-05 target: 1.0872565533781513e-05 new_value: 8.032675278654409e-06\n",
      "current: 1.0872565533781513e-05 Qsa_next: 8.032675278654409e-06 target: 8.032675278654409e-06 new_value: 1.0844166631230242e-05\n",
      "current: 8.032675278654409e-06 Qsa_next: 1.124281175656668e-05 target: 1.124281175656668e-05 new_value: 8.064776643433532e-06\n",
      "current: 1.124281175656668e-05 Qsa_next: 1.0844166631230242e-05 target: 1.0844166631230242e-05 new_value: 1.1238825305313315e-05\n",
      "current: 1.0844166631230242e-05 Qsa_next: 8.064776643433532e-06 target: 8.064776643433532e-06 new_value: 1.0816372731352276e-05\n",
      "current: 8.064776643433532e-06 Qsa_next: 2.1189532928848793e-05 target: 2.1189532928848793e-05 new_value: 8.196024206287684e-06\n",
      "current: 2.1189532928848793e-05 Qsa_next: 1.6942615015545976e-05 target: 1.6942615015545976e-05 new_value: 2.1147063749715765e-05\n",
      "current: 1.6942615015545976e-05 Qsa_next: 0.0 target: 0.0 new_value: 1.6773188865390517e-05\n",
      "Episode 2800/5000\n",
      "current: 2.4544107730936372e-05 Qsa_next: 8.844832333074864e-06 target: 8.844832333074864e-06 new_value: 2.4387114976957756e-05\n",
      "current: 8.844832333074864e-06 Qsa_next: 1.2600814087223397e-05 target: 1.2600814087223397e-05 new_value: 8.882392150616349e-06\n",
      "current: 1.2600814087223397e-05 Qsa_next: 1.2779380598349336e-05 target: 1.2779380598349336e-05 new_value: 1.2602599752334656e-05\n",
      "current: 1.2779380598349336e-05 Qsa_next: 1.092091450042272e-05 target: 1.092091450042272e-05 new_value: 1.276079593737007e-05\n",
      "current: 1.092091450042272e-05 Qsa_next: 1.0131062372035317e-05 target: 1.0131062372035317e-05 new_value: 1.0913015979138846e-05\n",
      "current: 1.0131062372035317e-05 Qsa_next: 1.276079593737007e-05 target: 1.276079593737007e-05 new_value: 1.0157359707688665e-05\n",
      "current: 1.276079593737007e-05 Qsa_next: 1.276079593737007e-05 target: 1.276079593737007e-05 new_value: 1.276079593737007e-05\n",
      "current: 1.276079593737007e-05 Qsa_next: 2.4387114976957756e-05 target: 2.4387114976957756e-05 new_value: 1.2877059127765947e-05\n",
      "current: 2.4387114976957756e-05 Qsa_next: 9.3575107563792e-05 target: 9.3575107563792e-05 new_value: 2.5078994902826098e-05\n",
      "current: 9.3575107563792e-05 Qsa_next: 0.0 target: 0.0 new_value: 9.263935648815408e-05\n",
      "Episode 2900/5000\n",
      "current: 3.138362002650567e-05 Qsa_next: 2.5763056355665276e-05 target: 2.5763056355665276e-05 new_value: 3.1327414389797264e-05\n",
      "current: 2.5763056355665276e-05 Qsa_next: 0.00011606358393266352 target: 0.00011606358393266352 new_value: 2.6666061631435258e-05\n",
      "current: 0.00011606358393266352 Qsa_next: 5.1314942846003376e-05 target: 5.1314942846003376e-05 new_value: 0.00011541609752179692\n",
      "current: 5.1314942846003376e-05 Qsa_next: 0.0 target: 0.0 new_value: 5.080179341754334e-05\n",
      "Episode 3000/5000\n",
      "current: 4.0654816810377054e-05 Qsa_next: 0.00014181090131660655 target: 0.00014181090131660655 new_value: 4.166637765543935e-05\n",
      "current: 0.00014181090131660655 Qsa_next: 7.070245482981254e-05 target: 7.070245482981254e-05 new_value: 0.00014109981685173862\n",
      "current: 7.070245482981254e-05 Qsa_next: 0.0 target: 0.0 new_value: 6.999543028151442e-05\n",
      "Episode 3100/5000\n",
      "current: 2.2902686375670908e-05 Qsa_next: 7.500215291605104e-05 target: 7.500215291605104e-05 new_value: 2.342368104107471e-05\n",
      "current: 7.500215291605104e-05 Qsa_next: 0.000380610254833702 target: 0.000380610254833702 new_value: 7.805823393522754e-05\n",
      "current: 0.000380610254833702 Qsa_next: 0.0 target: 0.0 new_value: 0.000376804152285365\n",
      "Episode 3200/5000\n",
      "current: 2.8748872035464465e-05 Qsa_next: 2.084719892806172e-05 target: 2.084719892806172e-05 new_value: 2.866985530439044e-05\n",
      "current: 2.084719892806172e-05 Qsa_next: 7.939307123409476e-05 target: 7.939307123409476e-05 new_value: 2.1432657651122048e-05\n",
      "current: 7.939307123409476e-05 Qsa_next: 3.777616856123223e-06 target: 3.777616856123223e-06 new_value: 7.863691669031504e-05\n",
      "current: 3.777616856123223e-06 Qsa_next: 3.8763562624244524e-05 target: 3.8763562624244524e-05 new_value: 4.127476313804436e-06\n",
      "current: 3.8763562624244524e-05 Qsa_next: 0.0003969786117611301 target: 0.0003969786117611301 new_value: 4.234571311561338e-05\n",
      "current: 0.0003969786117611301 Qsa_next: 3.153852251419207e-05 target: 3.153852251419207e-05 new_value: 0.00039332421086866077\n",
      "current: 3.153852251419207e-05 Qsa_next: 0.00039332421086866077 target: 0.00039332421086866077 new_value: 3.515637939773676e-05\n",
      "current: 0.00039332421086866077 Qsa_next: 3.515637939773676e-05 target: 3.515637939773676e-05 new_value: 0.0003897425325539515\n",
      "current: 3.515637939773676e-05 Qsa_next: 5.533195648810668e-05 target: 5.533195648810668e-05 new_value: 3.535813516864046e-05\n",
      "current: 5.533195648810668e-05 Qsa_next: 5.533195648810668e-05 target: 5.533195648810668e-05 new_value: 5.533195648810668e-05\n",
      "current: 5.533195648810668e-05 Qsa_next: 0.0003897425325539515 target: 0.0003897425325539515 new_value: 5.867606224876513e-05\n",
      "current: 0.0003897425325539515 Qsa_next: 3.535813516864046e-05 target: 3.535813516864046e-05 new_value: 0.0003861986885800984\n",
      "current: 3.535813516864046e-05 Qsa_next: 0.0003861986885800984 target: 0.0003861986885800984 new_value: 3.8866540702755034e-05\n",
      "current: 0.0003861986885800984 Qsa_next: 0.0026581635697083632 target: 0.0026581635697083632 new_value: 0.0004089183373913811\n",
      "current: 0.0026581635697083632 Qsa_next: 0.0 target: 0.0 new_value: 0.00263158193401128\n",
      "Episode 3300/5000\n",
      "current: 6.431193570944438e-05 Qsa_next: 5.776319911848343e-05 target: 5.776319911848343e-05 new_value: 6.424644834353476e-05\n",
      "current: 5.776319911848343e-05 Qsa_next: 0.0 target: 0.0 new_value: 5.7185567127298596e-05\n",
      "Episode 3400/5000\n",
      "current: 0.00010331799241374061 Qsa_next: 0.0003263691144022914 target: 0.0003263691144022914 new_value: 0.00010554850363362612\n",
      "current: 0.0003263691144022914 Qsa_next: 0.0 target: 0.0 new_value: 0.0003231054232582685\n",
      "Episode 3500/5000\n",
      "current: 4.0235197321857045e-05 Qsa_next: 3.395977557191832e-05 target: 3.395977557191832e-05 new_value: 4.017244310435766e-05\n",
      "current: 3.395977557191832e-05 Qsa_next: 0.0 target: 0.0 new_value: 3.3620177816199136e-05\n",
      "Episode 3600/5000\n",
      "current: 0.0001253848908428411 Qsa_next: 8.915248946929692e-05 target: 8.915248946929692e-05 new_value: 0.00012502256682910565\n",
      "current: 8.915248946929692e-05 Qsa_next: 0.0 target: 0.0 new_value: 8.826096457460396e-05\n",
      "Episode 3700/5000\n",
      "current: 6.945136223954864e-05 Qsa_next: 0.00016257774695693718 target: 0.00016257774695693718 new_value: 7.038262608672252e-05\n",
      "current: 0.00016257774695693718 Qsa_next: 5.9697966896920156e-05 target: 5.9697966896920156e-05 new_value: 0.00016154894915633702\n",
      "current: 5.9697966896920156e-05 Qsa_next: 0.00016154894915633702 target: 0.00016154894915633702 new_value: 6.071647671951433e-05\n",
      "current: 0.00016154894915633702 Qsa_next: 0.0 target: 0.0 new_value: 0.00015993345966477365\n",
      "Episode 3800/5000\n",
      "current: 8.65515378837546e-05 Qsa_next: 9.33442931487388e-05 target: 9.33442931487388e-05 new_value: 8.661946543640444e-05\n",
      "current: 9.33442931487388e-05 Qsa_next: 8.661946543640444e-05 target: 8.661946543640444e-05 new_value: 9.327704487161545e-05\n",
      "current: 8.661946543640444e-05 Qsa_next: 6.465179393379918e-05 target: 6.465179393379918e-05 new_value: 8.63997887213784e-05\n",
      "current: 6.465179393379918e-05 Qsa_next: 0.00018912170399117953 target: 0.00018912170399117953 new_value: 6.589649303437299e-05\n",
      "current: 0.00018912170399117953 Qsa_next: 0.00013152854275301257 target: 0.00013152854275301257 new_value: 0.00018854577237879786\n",
      "current: 0.00013152854275301257 Qsa_next: 1.8233608262760215e-05 target: 1.8233608262760215e-05 new_value: 0.00013039559340811006\n",
      "current: 1.8233608262760215e-05 Qsa_next: 9.599826321004229e-05 target: 9.599826321004229e-05 new_value: 1.9011254812233035e-05\n",
      "current: 9.599826321004229e-05 Qsa_next: 0.00013039559340811006 target: 0.00013039559340811006 new_value: 9.634223651202296e-05\n",
      "current: 0.00013039559340811006 Qsa_next: 1.9011254812233035e-05 target: 1.9011254812233035e-05 new_value: 0.0001292817500221513\n",
      "current: 1.9011254812233035e-05 Qsa_next: 9.634223651202296e-05 target: 9.634223651202296e-05 new_value: 1.9784564629230936e-05\n",
      "current: 9.634223651202296e-05 Qsa_next: 4.1323188189995655e-05 target: 4.1323188189995655e-05 new_value: 9.579204602880268e-05\n",
      "current: 4.1323188189995655e-05 Qsa_next: 6.616897452096838e-05 target: 6.616897452096838e-05 new_value: 4.157164605330538e-05\n",
      "current: 6.616897452096838e-05 Qsa_next: 6.589649303437299e-05 target: 6.589649303437299e-05 new_value: 6.616624970610242e-05\n",
      "current: 6.589649303437299e-05 Qsa_next: 5.028859020958272e-05 target: 5.028859020958272e-05 new_value: 6.57404140061251e-05\n",
      "current: 5.028859020958272e-05 Qsa_next: 0.00018854577237879786 target: 0.00018854577237879786 new_value: 5.167116203127487e-05\n",
      "current: 0.00018854577237879786 Qsa_next: 1.9784564629230936e-05 target: 1.9784564629230936e-05 new_value: 0.00018685816030130219\n",
      "current: 1.9784564629230936e-05 Qsa_next: 9.579204602880268e-05 target: 9.579204602880268e-05 new_value: 2.0544639443226652e-05\n",
      "current: 9.579204602880268e-05 Qsa_next: 0.000742555588774585 target: 0.000742555588774585 new_value: 0.0001022596814562605\n",
      "current: 0.000742555588774585 Qsa_next: 0.0 target: 0.0 new_value: 0.0007351300328868392\n",
      "Episode 3900/5000\n",
      "current: 8.166221030103575e-05 Qsa_next: 6.758962126519751e-05 target: 6.758962126519751e-05 new_value: 8.152148441067736e-05\n",
      "current: 6.758962126519751e-05 Qsa_next: 7.543532391562174e-05 target: 7.543532391562174e-05 new_value: 6.766807829170175e-05\n",
      "current: 7.543532391562174e-05 Qsa_next: 8.152148441067736e-05 target: 8.152148441067736e-05 new_value: 7.54961855205723e-05\n",
      "current: 8.152148441067736e-05 Qsa_next: 7.54961855205723e-05 target: 7.54961855205723e-05 new_value: 8.146123142177631e-05\n",
      "current: 7.54961855205723e-05 Qsa_next: 9.859772747856352e-05 target: 9.859772747856352e-05 new_value: 7.572720094015221e-05\n",
      "current: 9.859772747856352e-05 Qsa_next: 0.00010440144859888438 target: 0.00010440144859888438 new_value: 9.865576468976673e-05\n",
      "current: 0.00010440144859888438 Qsa_next: 8.146123142177631e-05 target: 8.146123142177631e-05 new_value: 0.0001041720464271133\n",
      "current: 8.146123142177631e-05 Qsa_next: 7.572720094015221e-05 target: 7.572720094015221e-05 new_value: 8.140389111696007e-05\n",
      "current: 7.572720094015221e-05 Qsa_next: 0.00020762458363642988 target: 0.00020762458363642988 new_value: 7.704617476711499e-05\n",
      "current: 0.00020762458363642988 Qsa_next: 0.0 target: 0.0 new_value: 0.00020554833780006557\n",
      "Episode 4000/5000\n",
      "current: 9.446058843634459e-05 Qsa_next: 7.972253658193299e-05 target: 7.972253658193299e-05 new_value: 9.431320791780047e-05\n",
      "current: 7.972253658193299e-05 Qsa_next: 0.00025268403652037124 target: 0.00025268403652037124 new_value: 8.145215158131737e-05\n",
      "current: 0.00025268403652037124 Qsa_next: 2.381689532705862e-05 target: 2.381689532705862e-05 new_value: 0.0002503953651084381\n",
      "current: 2.381689532705862e-05 Qsa_next: 0.00013672259086337224 target: 0.00013672259086337224 new_value: 2.4945952282421757e-05\n",
      "current: 0.00013672259086337224 Qsa_next: 0.00015866348547312245 target: 0.00015866348547312245 new_value: 0.00013694199980946974\n",
      "current: 0.00015866348547312245 Qsa_next: 2.4945952282421757e-05 target: 2.4945952282421757e-05 new_value: 0.00015732631014121545\n",
      "current: 2.4945952282421757e-05 Qsa_next: 0.00013694199980946974 target: 0.00013694199980946974 new_value: 2.606591275769224e-05\n",
      "current: 0.00013694199980946974 Qsa_next: 0.00015732631014121545 target: 0.00015732631014121545 new_value: 0.0001371458429127872\n",
      "current: 0.00015732631014121545 Qsa_next: 2.606591275769224e-05 target: 2.606591275769224e-05 new_value: 0.00015601370616738023\n",
      "current: 2.606591275769224e-05 Qsa_next: 0.0 target: 0.0 new_value: 2.5805253630115317e-05\n",
      "Episode 4100/5000\n",
      "current: 0.00026396805662433635 Qsa_next: 0.00019772541989850886 target: 0.00019772541989850886 new_value: 0.00026330563025707805\n",
      "current: 0.00019772541989850886 Qsa_next: 0.00019772541989850886 target: 0.00019772541989850886 new_value: 0.00019772541989850886\n",
      "current: 0.00019772541989850886 Qsa_next: 0.0 target: 0.0 new_value: 0.00019574816569952377\n",
      "Episode 4200/5000\n",
      "current: 0.00033574609237454285 Qsa_next: 0.0 target: 0.0 new_value: 0.00033238863145079744\n",
      "Episode 4300/5000\n",
      "current: 0.00012411212296879398 Qsa_next: 0.0 target: 0.0 new_value: 0.00012287100173910605\n",
      "Episode 4400/5000\n",
      "current: 0.00021691198662461932 Qsa_next: 0.00014306403317949066 target: 0.00014306403317949066 new_value: 0.00021617350709016804\n",
      "current: 0.00014306403317949066 Qsa_next: 0.0001380970582457303 target: 0.0001380970582457303 new_value: 0.00014301436343015306\n",
      "current: 0.0001380970582457303 Qsa_next: 0.00017659537268062934 target: 0.00017659537268062934 new_value: 0.0001384820413900793\n",
      "current: 0.00017659537268062934 Qsa_next: 0.00020423268531814188 target: 0.00020423268531814188 new_value: 0.00017687174580700447\n",
      "current: 0.00020423268531814188 Qsa_next: 0.00038957347002078487 target: 0.00038957347002078487 new_value: 0.0002060860931651683\n",
      "current: 0.00038957347002078487 Qsa_next: 0.00018101577741453593 target: 0.00018101577741453593 new_value: 0.00038748789309472236\n",
      "current: 0.00018101577741453593 Qsa_next: 0.00038748789309472236 target: 0.00038748789309472236 new_value: 0.0001830804985713378\n",
      "current: 0.00038748789309472236 Qsa_next: 0.0001830804985713378 target: 0.0001830804985713378 new_value: 0.0003854438191494885\n",
      "current: 0.0001830804985713378 Qsa_next: 0.0003854438191494885 target: 0.0003854438191494885 new_value: 0.0001851041317771193\n",
      "current: 0.0003854438191494885 Qsa_next: 0.00028963923039805747 target: 0.00028963923039805747 new_value: 0.0003844857732619742\n",
      "current: 0.00028963923039805747 Qsa_next: 0.0001851041317771193 target: 0.0001851041317771193 new_value: 0.0002885938794118481\n",
      "current: 0.0001851041317771193 Qsa_next: 0.00014301436343015306 target: 0.00014301436343015306 new_value: 0.00018468323409364965\n",
      "current: 0.00014301436343015306 Qsa_next: 0.0 target: 0.0 new_value: 0.00014158421979585154\n",
      "Episode 4500/5000\n",
      "current: 0.0002315122944518542 Qsa_next: 0.0002315122944518542 target: 0.0002315122944518542 new_value: 0.0002315122944518542\n",
      "current: 0.0002315122944518542 Qsa_next: 0.00015364566492915332 target: 0.00015364566492915332 new_value: 0.0002307336281566272\n",
      "current: 0.00015364566492915332 Qsa_next: 0.000190826379551303 target: 0.000190826379551303 new_value: 0.00015401747207537483\n",
      "current: 0.000190826379551303 Qsa_next: 0.0002307336281566272 target: 0.0002307336281566272 new_value: 0.00019122545203735622\n",
      "current: 0.0002307336281566272 Qsa_next: 0.0002307336281566272 target: 0.0002307336281566272 new_value: 0.0002307336281566272\n",
      "current: 0.0002307336281566272 Qsa_next: 0.00024458488198786295 target: 0.00024458488198786295 new_value: 0.00023087214069493955\n",
      "current: 0.00024458488198786295 Qsa_next: 0.00024458488198786295 target: 0.00024458488198786295 new_value: 0.00024458488198786295\n",
      "current: 0.00024458488198786295 Qsa_next: 0.00015401747207537483 target: 0.00015401747207537483 new_value: 0.00024367920788873808\n",
      "current: 0.00015401747207537483 Qsa_next: 0.000415387086735035 target: 0.000415387086735035 new_value: 0.00015663116822197144\n",
      "current: 0.000415387086735035 Qsa_next: 4.063255494756473e-05 target: 4.063255494756473e-05 new_value: 0.0004116395414171603\n",
      "current: 4.063255494756473e-05 Qsa_next: 2.733431474644794e-05 target: 2.733431474644794e-05 new_value: 4.049957254555356e-05\n",
      "current: 2.733431474644794e-05 Qsa_next: 1.6809842228187126e-05 target: 1.6809842228187126e-05 new_value: 2.7229070021265333e-05\n",
      "current: 1.6809842228187126e-05 Qsa_next: 0.0 target: 0.0 new_value: 1.6641743805905254e-05\n",
      "Episode 4600/5000\n",
      "current: 0.00042653754855717695 Qsa_next: 0.0 target: 0.0 new_value: 0.0004222721730716052\n",
      "Episode 4700/5000\n",
      "current: 0.00028014888639034846 Qsa_next: 0.00028014888639034846 target: 0.00028014888639034846 new_value: 0.00028014888639034846\n",
      "current: 0.00028014888639034846 Qsa_next: 0.00027471191564781074 target: 0.00027471191564781074 new_value: 0.0002800945166829231\n",
      "current: 0.00027471191564781074 Qsa_next: 0.00041145217008463423 target: 0.00041145217008463423 new_value: 0.00027607931819217897\n",
      "current: 0.00041145217008463423 Qsa_next: 0.0002495494219969733 target: 0.0002495494219969733 new_value: 0.00040983314260375765\n",
      "current: 0.0002495494219969733 Qsa_next: 0.0002211303086188749 target: 0.0002211303086188749 new_value: 0.0002492652308631923\n",
      "current: 0.0002211303086188749 Qsa_next: 0.00022720617828371766 target: 0.00022720617828371766 new_value: 0.0002211910673155233\n",
      "current: 0.00022720617828371766 Qsa_next: 0.0002800945166829231 target: 0.0002800945166829231 new_value: 0.00022773506166770972\n",
      "current: 0.0002800945166829231 Qsa_next: 0.00027607931819217897 target: 0.00027607931819217897 new_value: 0.00028005436469801567\n",
      "current: 0.00027607931819217897 Qsa_next: 0.00028005436469801567 target: 0.00028005436469801567 new_value: 0.00027611906865723736\n",
      "current: 0.00028005436469801567 Qsa_next: 0.00027611906865723736 target: 0.00027611906865723736 new_value: 0.0002800150117376079\n",
      "current: 0.00027611906865723736 Qsa_next: 0.00027611906865723736 target: 0.00027611906865723736 new_value: 0.00027611906865723736\n",
      "current: 0.00027611906865723736 Qsa_next: 0.00040983314260375765 target: 0.00040983314260375765 new_value: 0.00027745620939670254\n",
      "current: 0.00040983314260375765 Qsa_next: 0.0013367248015704765 target: 0.0013367248015704765 new_value: 0.0004191020591934248\n",
      "current: 0.0013367248015704765 Qsa_next: 0.004399201038863184 target: 0.004399201038863184 new_value: 0.0013673495639434036\n",
      "current: 0.004399201038863184 Qsa_next: 0.011104386549059873 target: 0.011104386549059873 new_value: 0.004466252893965151\n",
      "current: 0.011104386549059873 Qsa_next: 0.0014913547672739246 target: 0.0014913547672739246 new_value: 0.011008256231242014\n",
      "current: 0.0014913547672739246 Qsa_next: 0.011008256231242014 target: 0.011008256231242014 new_value: 0.0015865237819136055\n",
      "current: 0.011008256231242014 Qsa_next: 0.0 target: 0.0 new_value: 0.010898173668929595\n",
      "Episode 4800/5000\n",
      "current: 0.00031044432674928854 Qsa_next: 0.0002701679604044717 target: 0.0002701679604044717 new_value: 0.0003100415630858404\n",
      "current: 0.0002701679604044717 Qsa_next: 0.000239982402478269 target: 0.000239982402478269 new_value: 0.00026986610482520966\n",
      "current: 0.000239982402478269 Qsa_next: 0.000239982402478269 target: 0.000239982402478269 new_value: 0.000239982402478269\n",
      "current: 0.000239982402478269 Qsa_next: 0.0002514335733771113 target: 0.0002514335733771113 new_value: 0.00024009691418725742\n",
      "current: 0.0002514335733771113 Qsa_next: 0.0003100415630858404 target: 0.0003100415630858404 new_value: 0.0002520196532741986\n",
      "current: 0.0003100415630858404 Qsa_next: 0.0003100415630858404 target: 0.0003100415630858404 new_value: 0.0003100415630858404\n",
      "current: 0.0003100415630858404 Qsa_next: 0.00026986610482520966 target: 0.00026986610482520966 new_value: 0.00030963980850323404\n",
      "current: 0.00026986610482520966 Qsa_next: 0.0002520196532741986 target: 0.0002520196532741986 new_value: 0.00026968764030969953\n",
      "current: 0.0002520196532741986 Qsa_next: 0.00030963980850323404 target: 0.00030963980850323404 new_value: 0.00025259585482648893\n",
      "current: 0.00030963980850323404 Qsa_next: 0.0004842647118908341 target: 0.0004842647118908341 new_value: 0.00031138605753711004\n",
      "current: 0.0004842647118908341 Qsa_next: 0.00043169176427173287 target: 0.00043169176427173287 new_value: 0.00048373898241464307\n",
      "current: 0.00043169176427173287 Qsa_next: 0.0012524732986003877 target: 0.0012524732986003877 new_value: 0.0004398995796150194\n",
      "current: 0.0012524732986003877 Qsa_next: 0.000250961552518743 target: 0.000250961552518743 new_value: 0.0012424581811395713\n",
      "current: 0.000250961552518743 Qsa_next: 0.0004398995796150194 target: 0.0004398995796150194 new_value: 0.00025285093278970577\n",
      "current: 0.0004398995796150194 Qsa_next: 0.00027103437777796675 target: 0.00027103437777796675 new_value: 0.00043821092759664887\n",
      "current: 0.00027103437777796675 Qsa_next: 0.00031138605753711004 target: 0.00031138605753711004 new_value: 0.0002714378945755582\n",
      "current: 0.00031138605753711004 Qsa_next: 0.00026968764030969953 target: 0.00026968764030969953 new_value: 0.00031096907336483593\n",
      "current: 0.00026968764030969953 Qsa_next: 0.00025259585482648893 target: 0.00025259585482648893 new_value: 0.00026951672245486744\n",
      "current: 0.00025259585482648893 Qsa_next: 0.0003021829628918458 target: 0.0003021829628918458 new_value: 0.0002530917259071425\n",
      "current: 0.0003021829628918458 Qsa_next: 0.00031096907336483593 target: 0.00031096907336483593 new_value: 0.0003022708239965757\n",
      "current: 0.00031096907336483593 Qsa_next: 0.00026951672245486744 target: 0.00026951672245486744 new_value: 0.00031055454985573624\n",
      "current: 0.00026951672245486744 Qsa_next: 0.0002530917259071425 target: 0.0002530917259071425 new_value: 0.0002693524724893902\n",
      "current: 0.0002530917259071425 Qsa_next: 0.00048373898241464307 target: 0.00048373898241464307 new_value: 0.0002553981984722175\n",
      "current: 0.00048373898241464307 Qsa_next: 0.0002714378945755582 target: 0.0002714378945755582 new_value: 0.00048161597153625223\n",
      "current: 0.0002714378945755582 Qsa_next: 0.00048161597153625223 target: 0.00048161597153625223 new_value: 0.00027353967534516515\n",
      "current: 0.00048161597153625223 Qsa_next: 0.00027353967534516515 target: 0.00027353967534516515 new_value: 0.00047953520857434135\n",
      "current: 0.00027353967534516515 Qsa_next: 0.0002693524724893902 target: 0.0002693524724893902 new_value: 0.0002734978033166074\n",
      "current: 0.0002693524724893902 Qsa_next: 0.0006881526702791288 target: 0.0006881526702791288 new_value: 0.0002735404744672876\n",
      "current: 0.0006881526702791288 Qsa_next: 0.00269038965685776 target: 0.00269038965685776 new_value: 0.0007081750401449151\n",
      "current: 0.00269038965685776 Qsa_next: 0.0002013014614603979 target: 0.0002013014614603979 new_value: 0.0026654987749037866\n",
      "current: 0.0002013014614603979 Qsa_next: 7.002482419537085e-05 target: 7.002482419537085e-05 new_value: 0.00019998869508774762\n",
      "current: 7.002482419537085e-05 Qsa_next: 0.0004243615743924099 target: 0.0004243615743924099 new_value: 7.356819169734124e-05\n",
      "current: 0.0004243615743924099 Qsa_next: 7.356819169734124e-05 target: 7.356819169734124e-05 new_value: 0.0004208536405654592\n",
      "current: 7.356819169734124e-05 Qsa_next: 0.0004208536405654592 target: 0.0004208536405654592 new_value: 7.704104618602242e-05\n",
      "current: 0.0004208536405654592 Qsa_next: 0.0026654987749037866 target: 0.0026654987749037866 new_value: 0.00044330009190884245\n",
      "current: 0.0026654987749037866 Qsa_next: 0.00019998869508774762 target: 0.00019998869508774762 new_value: 0.0026408436741056263\n",
      "current: 0.00019998869508774762 Qsa_next: 7.704104618602242e-05 target: 7.704104618602242e-05 new_value: 0.00019875921859873038\n",
      "current: 7.704104618602242e-05 Qsa_next: 4.015723783597835e-05 target: 4.015723783597835e-05 new_value: 7.667220810252198e-05\n",
      "current: 4.015723783597835e-05 Qsa_next: 0.0 target: 0.0 new_value: 3.975566545761857e-05\n",
      "Episode 4900/5000\n",
      "current: 0.0003210569051701423 Qsa_next: 0.0002728147704996726 target: 0.0002728147704996726 new_value: 0.0003205744838234376\n",
      "current: 0.0002728147704996726 Qsa_next: 0.0003205744838234376 target: 0.0003205744838234376 new_value: 0.00027329236763291024\n",
      "current: 0.0003205744838234376 Qsa_next: 0.00027329236763291024 target: 0.00027329236763291024 new_value: 0.0003201016626615323\n",
      "current: 0.00027329236763291024 Qsa_next: 0.00033434955056701543 target: 0.00033434955056701543 new_value: 0.0002739029394622513\n",
      "current: 0.00033434955056701543 Qsa_next: 0.00033434955056701543 target: 0.00033434955056701543 new_value: 0.00033434955056701543\n",
      "current: 0.00033434955056701543 Qsa_next: 0.00033434955056701543 target: 0.00033434955056701543 new_value: 0.00033434955056701543\n",
      "current: 0.00033434955056701543 Qsa_next: 0.00034394879829716617 target: 0.00034394879829716617 new_value: 0.0003344455430443169\n",
      "current: 0.00034394879829716617 Qsa_next: 0.0004854269094469871 target: 0.0004854269094469871 new_value: 0.0003453635794086644\n",
      "current: 0.0004854269094469871 Qsa_next: 0.00030047461599882027 target: 0.00030047461599882027 new_value: 0.0004835773865125054\n",
      "current: 0.00030047461599882027 Qsa_next: 0.0003201016626615323 target: 0.0003201016626615323 new_value: 0.0003006708864654474\n",
      "current: 0.0003201016626615323 Qsa_next: 0.0 target: 0.0 new_value: 0.000316900646034917\n",
      "Episode 5000/5000\n",
      "current: 0.0003577212693705232 Qsa_next: 0.0008642784681712074 target: 0.0008642784681712074 new_value: 0.00036278684135853\n",
      "current: 0.0008642784681712074 Qsa_next: 0.0005968458184420707 target: 0.0005968458184420707 new_value: 0.0008616041416739161\n",
      "current: 0.0005968458184420707 Qsa_next: 0.0005968458184420707 target: 0.0005968458184420707 new_value: 0.0005968458184420707\n",
      "current: 0.0005968458184420707 Qsa_next: 0.003622400760711273 target: 0.003622400760711273 new_value: 0.0006271013678647627\n",
      "current: 0.003622400760711273 Qsa_next: 0.0 target: 0.0 new_value: 0.00358617675310416\n"
     ]
    },
    {
     "data": {
      "text/plain": "<Figure size 432x288 with 1 Axes>",
      "image/png": "[encoded data removed]"
     },
     "metadata": {},
     "output_type": "display_data"
    },
    {
     "name": "stdout",
     "output_type": "stream",
     "text": [
      "Best Average Reward over 1000 Episodes:  0.028\n",
      "Field positons:\n",
      "[ 0] [ 1] [ 2] [ 3]\n",
      "[ 4] [ 5] [ 6] [ 7]\n",
      "[ 8] [09] [10] [11]\n",
      "[12] [13] [14] [15]\n",
      "\n",
      "Field: Left        Down       Right      Up\n",
      "    0: [0.00036658 0.00053297 0.00036279 0.00036923]\n",
      "    1: [0.0003137  0.         0.0008616  0.00029001]\n",
      "    2: [2.19523416e-04 3.58617675e-03 9.28536464e-05 6.27101368e-04]\n",
      "    6: [0.         0.0190565  0.         0.00025419]\n",
      "    4: [0.00045978 0.00138822 0.         0.00033049]\n",
      "    3: [5.75745279e-04 0.00000000e+00 6.86102564e-05 3.16380065e-05]\n",
      "   10: [0.00257729 0.11796505 0.         0.00113689]\n",
      "   14: [0.01051799 0.07128434 0.63762798 0.00829868]\n",
      "   13: [0.         0.00613391 0.08705229 0.00177983]\n",
      "    9: [0.00069973 0.0112068  0.01481083 0.        ]\n",
      "    8: [0.00100125 0.         0.00434374 0.00030811]\n",
      "\n"
     ]
    }
   ]
  },
  {
   "cell_type": "code",
   "execution_count": 49,
   "outputs": [
    {
     "name": "stdout",
     "output_type": "stream",
     "text": [
      "\n",
      "Estimated Optimal Policy (UP = 0, RIGHT = 1, DOWN = 2, LEFT = 3, N/A = -1):\n",
      "[[ 1  2  1  0]\n",
      " [ 1 -1  1 -1]\n",
      " [ 2  2  1 -1]\n",
      " [-1  2  2 -1]]\n"
     ]
    }
   ],
   "source": [
    "# print the estimated optimal policy\n",
    "policy_sarsa = np.array([np.argmax(Q_sarsa[key]) if key in Q_sarsa else -1 for key in np.arange(16)]).reshape(4,4)\n",
    "#check_test.run_check('td_control_check', policy_sarsa)\n",
    "\n",
    "# -1 sind löcher oder Goal, da kommt man gar nicht hinein, daher gibt es keine state/action paar\n",
    "print(\"\\nEstimated Optimal Policy (UP = 0, RIGHT = 1, DOWN = 2, LEFT = 3, N/A (Final state) = -1):\")\n",
    "print(policy_sarsa)\n"
   ],
   "metadata": {
    "collapsed": false,
    "pycharm": {
     "name": "#%%\n"
    }
   }
  },
  {
   "cell_type": "code",
   "execution_count": 50,
   "outputs": [
    {
     "data": {
      "text/plain": "<Figure size 1080x360 with 1 Axes>",
      "image/png": "[encoded data removed]"
     },
     "metadata": {},
     "output_type": "display_data"
    }
   ],
   "source": [
    "# plot the estimated optimal state-value function\n",
    "V_sarsa = ([np.max(Q_sarsa[key]) if key in Q_sarsa else 0 for key in np.arange(16)])\n",
    "plot_values(V_sarsa)"
   ],
   "metadata": {
    "collapsed": false,
    "pycharm": {
     "name": "#%%\n"
    }
   }
  },
  {
   "cell_type": "code",
   "metadata": {
    "colab": {
     "base_uri": "https://localhost:8080/"
    },
    "id": "1enlPtArd39V",
    "outputId": "abd7eb97-92d3-4d47-c7ef-c4072c43e06a"
   },
   "source": [
    "helper.print_actions()\n",
    "print()\n",
    "\n",
    "print(\"Policy:\")\n",
    "policy_sarsa"
   ],
   "execution_count": 11,
   "outputs": [
    {
     "name": "stdout",
     "output_type": "stream",
     "text": [
      "Actions:\n",
      "[0] Left\n",
      "[1] Down\n",
      "[2] Right\n",
      "[3] Up\n",
      "\n",
      "Policy:\n"
     ]
    },
    {
     "data": {
      "text/plain": "array([[ 1,  2,  1,  0],\n       [ 1, -1,  1, -1],\n       [ 2,  2,  1, -1],\n       [-1,  2,  2, -1]], dtype=int64)"
     },
     "execution_count": 11,
     "metadata": {},
     "output_type": "execute_result"
    }
   ]
  },
  {
   "cell_type": "markdown",
   "metadata": {
    "id": "_mXn2tmm_tJm"
   },
   "source": [
    "## Part 2: TD Control: Q-learning (update_Q_sarsamax)\n",
    "\n",
    "In this section, you will write your own implementation of the Q-learning control algorithm.\n",
    "\n",
    "Your algorithm has four arguments:\n",
    "- `env`: This is an instance of an OpenAI Gym environment.\n",
    "- `num_episodes`: This is the number of episodes that are generated through agent-environment interaction.\n",
    "- `alpha`: This is the step-size parameter for the update step.\n",
    "- `gamma`: This is the discount rate.  It must be a value between 0 and 1, inclusive (default value: `1`).\n",
    "\n",
    "The algorithm returns as output:\n",
    "- `Q`: This is a dictionary (of one-dimensional arrays) where `Q[s][a]` is the estimated action value corresponding to state `s` and action `a`.\n",
    "\n",
    "Please complete the function in the code cell below.\n",
    "\n",
    "(_Feel free to define additional functions to help you to organize your code._)"
   ]
  },
  {
   "cell_type": "code",
   "metadata": {
    "id": "SX7rlrtX_tJm"
   },
   "source": [
    "def update_Q_sarsamax(alpha, gamma, Q, state, action, reward, next_state=None, plot=None):\n",
    "    \"\"\"Returns updated Q-value for the most recent experience.\"\"\"\n",
    "    current = Q[state][action]  # estimate in Q-table (for current state, action pair)\n",
    "    Qsa_next = np.max(Q[next_state]) if next_state is not None else 0  # value of next state \n",
    "    target = reward + (gamma * Qsa_next)               # construct TD target\n",
    "    new_value = current + (alpha * (target - current)) # get updated value\n",
    "\n",
    "    if plot:\n",
    "        print(\"current:\", current, \"Qsa_next:\", Qsa_next, \"target:\", target, \"new_value:\", new_value)\n",
    "\n",
    "    return new_value"
   ],
   "execution_count": 12,
   "outputs": []
  },
  {
   "cell_type": "code",
   "metadata": {
    "id": "XfnUaacN_tJn"
   },
   "source": [
    "def q_learning(env, num_episodes, alpha, gamma=0.9999, plot_every=1000):\n",
    "    \"\"\"Q-Learning - TD Control\n",
    "    \n",
    "    Params\n",
    "    ======\n",
    "        num_episodes (int): number of episodes to run the algorithm\n",
    "        alpha (float): learning rate\n",
    "        gamma (float): discount factor\n",
    "        plot_every (int): number of episodes to use when calculating average score\n",
    "    \"\"\"\n",
    "    nA = env.action_space.n                # number of actions\n",
    "    Q = defaultdict(lambda: np.zeros(nA))  # initialize empty dictionary of arrays\n",
    "    \n",
    "    # monitor performance\n",
    "    tmp_scores = deque(maxlen=plot_every)     # deque for keeping track of scores\n",
    "    avg_scores = deque(maxlen=num_episodes)   # average scores over every plot_every episodes\n",
    "\n",
    "    eps_decay = .99999\n",
    "    eps = 1.\n",
    "    eps_min = .05\n",
    "\n",
    "    for i_episode in range(1, num_episodes+1):\n",
    "        # monitor progress\n",
    "        plot = False\n",
    "        if i_episode % plot_every == 0:\n",
    "            print(\"\\rEpisode {}/{}\".format(i_episode, num_episodes), end=\"\")\n",
    "            sys.stdout.flush()\n",
    "            print()\n",
    "            plot = True\n",
    "        score = 0                                              # initialize score\n",
    "        state = env.reset()                                    # start episode\n",
    "\n",
    "        # eps = 1.0 / i_episode                                # epsilon divergiert zu schnell hier!\n",
    "        eps = max(eps*eps_decay, eps_min)                      # set the value of epsilon\n",
    "\n",
    "        while True:\n",
    "            action = epsilon_greedy(Q, state, nA, eps)         # epsilon-greedy action selection\n",
    "            next_state, reward, done, info = env.step(action)  # take action A, observe R, S'\n",
    "            score += reward                                    # add reward to agent's score\n",
    "            Q[state][action] = update_Q_sarsamax(alpha, gamma, Q, \\\n",
    "                                                 state, action, reward, next_state, plot=False)\n",
    "            state = next_state                                 # S <- S'\n",
    "            if done:\n",
    "                tmp_scores.append(score)                       # append score\n",
    "                break\n",
    "        if (i_episode % plot_every == 0):\n",
    "            avg_scores.append(np.mean(tmp_scores))\n",
    "            \n",
    "    # plot performance\n",
    "    plt.plot(np.linspace(0,num_episodes,len(avg_scores),endpoint=False), np.asarray(avg_scores))\n",
    "    plt.xlabel('Episode Number')\n",
    "    plt.ylabel('Average Reward (Over Next %d Episodes)' % plot_every)\n",
    "    plt.show()\n",
    "    # print best 100-episode performance\n",
    "    print(('Best Average Reward over %d Episodes: ' % plot_every), np.max(avg_scores))\n",
    "    return Q"
   ],
   "execution_count": 33,
   "outputs": []
  },
  {
   "cell_type": "markdown",
   "metadata": {
    "id": "Mby79Bpx_tJn"
   },
   "source": [
    "Use the next code cell to visualize the **_estimated_** optimal policy and the corresponding state-value function. \n",
    "\n",
    "If the code cell returns **PASSED**, then you have implemented the function correctly!  Feel free to change the `num_episodes` and `alpha` parameters that are supplied to the function.  However, if you'd like to ensure the accuracy of the unit test, please do not change the value of `gamma` from the default."
   ]
  },
  {
   "cell_type": "code",
   "metadata": {
    "id": "zIgItrge_tJp",
    "outputId": "0f8f6aac-8eef-4e28-9ab2-e5cb2a39f5d9"
   },
   "source": [
    "Q_sarsamax = q_learning(env, 50000, .01)"
   ],
   "execution_count": 34,
   "outputs": [
    {
     "name": "stdout",
     "output_type": "stream",
     "text": [
      "Episode 1000/50000\n",
      "Episode 2000/50000\n",
      "Episode 3000/50000\n",
      "Episode 4000/50000\n",
      "Episode 5000/50000\n",
      "Episode 6000/50000\n",
      "Episode 7000/50000\n",
      "Episode 8000/50000\n",
      "Episode 9000/50000\n",
      "Episode 10000/50000\n",
      "Episode 11000/50000\n",
      "Episode 12000/50000\n",
      "Episode 13000/50000\n",
      "Episode 14000/50000\n",
      "Episode 15000/50000\n",
      "Episode 16000/50000\n",
      "Episode 17000/50000\n",
      "Episode 18000/50000\n",
      "Episode 19000/50000\n",
      "Episode 20000/50000\n",
      "Episode 21000/50000\n",
      "Episode 22000/50000\n",
      "Episode 23000/50000\n",
      "Episode 24000/50000\n",
      "Episode 25000/50000\n",
      "Episode 26000/50000\n",
      "Episode 27000/50000\n",
      "Episode 28000/50000\n",
      "Episode 29000/50000\n",
      "Episode 30000/50000\n",
      "Episode 31000/50000\n",
      "Episode 32000/50000\n",
      "Episode 33000/50000\n",
      "Episode 34000/50000\n",
      "Episode 35000/50000\n",
      "Episode 36000/50000\n",
      "Episode 37000/50000\n",
      "Episode 38000/50000\n",
      "Episode 39000/50000\n",
      "Episode 40000/50000\n",
      "Episode 41000/50000\n",
      "Episode 42000/50000\n",
      "Episode 43000/50000\n",
      "Episode 44000/50000\n",
      "Episode 45000/50000\n",
      "Episode 46000/50000\n",
      "Episode 47000/50000\n",
      "Episode 48000/50000\n",
      "Episode 49000/50000\n",
      "Episode 50000/50000\n"
     ]
    },
    {
     "data": {
      "text/plain": "<Figure size 432x288 with 1 Axes>",
      "image/png": "[encoded data removed]"
     },
     "metadata": {},
     "output_type": "display_data"
    },
    {
     "name": "stdout",
     "output_type": "stream",
     "text": [
      "Best Average Reward over 1000 Episodes:  0.283\n"
     ]
    }
   ]
  },
  {
   "cell_type": "code",
   "execution_count": 38,
   "outputs": [
    {
     "name": "stdout",
     "output_type": "stream",
     "text": [
      "\n",
      "Estimated Optimal Policy (UP = 0, RIGHT = 1, DOWN = 2, LEFT = 3, N/A (Final state) = -1):\n",
      "[[2 2 1 0]\n",
      " [1 0 1 0]\n",
      " [2 2 1 0]\n",
      " [0 2 2 0]]\n"
     ]
    },
    {
     "data": {
      "text/plain": "<Figure size 1080x360 with 1 Axes>",
      "image/png": "[encoded data removed]"
     },
     "metadata": {},
     "output_type": "display_data"
    }
   ],
   "source": [
    "# print the estimated optimal policy\n",
    "policy_sarsamax = np.array([np.argmax(Q_sarsamax[key]) if key in Q_sarsamax else -1 for key in np.arange(16)]).reshape((4,4))\n",
    "# check_test.run_check('td_control_check', policy_sarsamax)\n",
    "print(\"\\nEstimated Optimal Policy (UP = 0, RIGHT = 1, DOWN = 2, LEFT = 3, N/A (Final state) = -1):\")\n",
    "print(policy_sarsamax)\n",
    "\n",
    "# plot the estimated optimal state-value function\n",
    "plot_values([np.max(Q_sarsamax[key]) if key in Q_sarsamax else 0 for key in np.arange(16)])"
   ],
   "metadata": {
    "collapsed": false,
    "pycharm": {
     "name": "#%%\n"
    }
   }
  },
  {
   "cell_type": "code",
   "source": [
    "helper.print_actions()\n",
    "print()\n",
    "\n",
    "print(\"Policy:\")\n",
    "policy_sarsamax\n"
   ],
   "metadata": {
    "collapsed": false,
    "pycharm": {
     "name": "#%%\n"
    }
   },
   "execution_count": 39,
   "outputs": [
    {
     "name": "stdout",
     "output_type": "stream",
     "text": [
      "Actions:\n",
      "[0] Left\n",
      "[1] Down\n",
      "[2] Right\n",
      "[3] Up\n",
      "\n",
      "Policy:\n"
     ]
    },
    {
     "data": {
      "text/plain": "array([[2, 2, 1, 0],\n       [1, 0, 1, 0],\n       [2, 2, 1, 0],\n       [0, 2, 2, 0]], dtype=int64)"
     },
     "execution_count": 39,
     "metadata": {},
     "output_type": "execute_result"
    }
   ]
  },
  {
   "cell_type": "markdown",
   "metadata": {
    "id": "v9uFC_Kd_tJp"
   },
   "source": [
    "### Part 3: TD Control: Expected Sarsa (update_Q_expsarsa)\n",
    "\n",
    "In this section, you will write your own implementation of the Expected Sarsa control algorithm.\n",
    "\n",
    "Your algorithm has four arguments:\n",
    "- `env`: This is an instance of an OpenAI Gym environment.\n",
    "- `num_episodes`: This is the number of episodes that are generated through agent-environment interaction.\n",
    "- `alpha`: This is the step-size parameter for the update step.\n",
    "- `gamma`: This is the discount rate.  It must be a value between 0 and 1, inclusive (default value: `1`).\n",
    "\n",
    "The algorithm returns as output:\n",
    "- `Q`: This is a dictionary (of one-dimensional arrays) where `Q[s][a]` is the estimated action value corresponding to state `s` and action `a`.\n",
    "\n",
    "Please complete the function in the code cell below.\n",
    "\n",
    "(_Feel free to define additional functions to help you to organize your code._)"
   ]
  },
  {
   "cell_type": "code",
   "metadata": {
    "id": "QuQG2Hyf_tJp"
   },
   "source": [
    "def update_Q_expsarsa(alpha, gamma, nA, eps, Q, state, action, reward, next_state=None):\n",
    "    \"\"\"Returns updated Q-value for the most recent experience.\"\"\"\n",
    "    current = Q[state][action]         # estimate in Q-table (for current state, action pair)\n",
    "    policy_s = np.ones(nA) * eps / nA  # current policy (for next state S')\n",
    "    policy_s[np.argmax(Q[next_state])] = 1 - eps + (eps / nA) # greedy action\n",
    "    Qsa_next = np.dot(Q[next_state], policy_s)         # get value of state at next time step\n",
    "    target = reward + (gamma * Qsa_next)               # construct target\n",
    "    new_value = current + (alpha * (target - current)) # get updated value \n",
    "    return new_value"
   ],
   "execution_count": 40,
   "outputs": []
  },
  {
   "cell_type": "code",
   "metadata": {
    "id": "oPaUHzAB_tJp"
   },
   "source": [
    "def expected_sarsa(env, num_episodes, alpha, gamma=1.0, plot_every=100):\n",
    "    \"\"\"Expected SARSA - TD Control\n",
    "    \n",
    "    Params\n",
    "    ======\n",
    "        num_episodes (int): number of episodes to run the algorithm\n",
    "        alpha (float): step-size parameters for the update step\n",
    "        gamma (float): discount factor\n",
    "        plot_every (int): number of episodes to use when calculating average score\n",
    "    \"\"\"\n",
    "    nA = env.action_space.n                # number of actions\n",
    "    Q = defaultdict(lambda: np.zeros(nA))  # initialize empty dictionary of arrays\n",
    "    \n",
    "    # monitor performance\n",
    "    tmp_scores = deque(maxlen=plot_every)     # deque for keeping track of scores\n",
    "    avg_scores = deque(maxlen=num_episodes)   # average scores over every plot_every episodes\n",
    "\n",
    "    eps_decay = .99999\n",
    "    eps = 1.\n",
    "    eps_min = .05\n",
    "\n",
    "    for i_episode in range(1, num_episodes+1):\n",
    "        # monitor progress\n",
    "        if i_episode % 100 == 0:\n",
    "            print(\"\\rEpisode {}/{}\".format(i_episode, num_episodes), end=\"\")\n",
    "            sys.stdout.flush()\n",
    "        \n",
    "        score = 0             # initialize score\n",
    "        state = env.reset()   # start episode\n",
    "        eps = max(eps*eps_decay, eps_min)                      # set the value of epsilon\n",
    "\n",
    "        while True:\n",
    "            action = epsilon_greedy(Q, state, nA, eps)         # epsilon-greedy action selection\n",
    "            next_state, reward, done, info = env.step(action)  # take action A, observe R, S'\n",
    "            score += reward                                    # add reward to agent's score\n",
    "            # update Q\n",
    "            Q[state][action] = update_Q_expsarsa(alpha, gamma, nA, eps, Q, \\\n",
    "                                                 state, action, reward, next_state)        \n",
    "            state = next_state              # S <- S'\n",
    "            if done:\n",
    "                tmp_scores.append(score)    # append score\n",
    "                break\n",
    "        if (i_episode % plot_every == 0):\n",
    "            avg_scores.append(np.mean(tmp_scores))\n",
    "            \n",
    "    # plot performance\n",
    "    plt.plot(np.linspace(0,num_episodes,len(avg_scores),endpoint=False), np.asarray(avg_scores))\n",
    "    plt.xlabel('Episode Number')\n",
    "    plt.ylabel('Average Reward (Over Next %d Episodes)' % plot_every)\n",
    "    plt.show()\n",
    "    # print best 100-episode performance\n",
    "    print(('Best Average Reward over %d Episodes: ' % plot_every), np.max(avg_scores))\n",
    "    return Q"
   ],
   "execution_count": 43,
   "outputs": []
  },
  {
   "cell_type": "markdown",
   "metadata": {
    "id": "-wXcyPVL_tJq"
   },
   "source": [
    "Use the next code cell to visualize the **_estimated_** optimal policy and the corresponding state-value function.  \n"
   ]
  },
  {
   "cell_type": "code",
   "metadata": {
    "id": "HBveqtTN_tJq",
    "outputId": "b46442e4-0033-4e1e-d2ab-664c89d378da"
   },
   "source": [
    "# obtain the estimated optimal policy and corresponding action-value function\n",
    "Q_expsarsa = expected_sarsa(env, 50000, 1)"
   ],
   "execution_count": 45,
   "outputs": [
    {
     "name": "stdout",
     "output_type": "stream",
     "text": [
      "Episode 50000/50000"
     ]
    },
    {
     "data": {
      "text/plain": "<Figure size 432x288 with 1 Axes>",
      "image/png": "[encoded data removed]"
     },
     "metadata": {},
     "output_type": "display_data"
    },
    {
     "name": "stdout",
     "output_type": "stream",
     "text": [
      "Best Average Reward over 100 Episodes:  0.36\n",
      "\n",
      "Estimated Optimal Policy (UP = 0, RIGHT = 1, DOWN = 2, LEFT = 3, N/A (Terminal State)= -1):\n",
      "[[ 1  2  1  0  1  0  1  0  2  1  1  0]\n",
      " [ 0  2  2  0 -1 -1 -1 -1 -1 -1 -1 -1]\n",
      " [-1 -1 -1 -1 -1 -1 -1 -1 -1 -1 -1 -1]\n",
      " [-1 -1 -1 -1 -1 -1 -1 -1 -1 -1 -1 -1]]\n"
     ]
    },
    {
     "ename": "ValueError",
     "evalue": "cannot reshape array of size 48 into shape (4,4)",
     "output_type": "error",
     "traceback": [
      "\u001B[1;31m---------------------------------------------------------------------------\u001B[0m",
      "\u001B[1;31mValueError\u001B[0m                                Traceback (most recent call last)",
      "\u001B[1;32m~\\AppData\\Local\\Temp/ipykernel_18956/3643681283.py\u001B[0m in \u001B[0;36m<module>\u001B[1;34m\u001B[0m\n\u001B[0;32m      9\u001B[0m \u001B[1;33m\u001B[0m\u001B[0m\n\u001B[0;32m     10\u001B[0m \u001B[1;31m# plot the estimated optimal state-value function\u001B[0m\u001B[1;33m\u001B[0m\u001B[1;33m\u001B[0m\u001B[1;33m\u001B[0m\u001B[0m\n\u001B[1;32m---> 11\u001B[1;33m \u001B[0mplot_values\u001B[0m\u001B[1;33m(\u001B[0m\u001B[1;33m[\u001B[0m\u001B[0mnp\u001B[0m\u001B[1;33m.\u001B[0m\u001B[0mmax\u001B[0m\u001B[1;33m(\u001B[0m\u001B[0mQ_expsarsa\u001B[0m\u001B[1;33m[\u001B[0m\u001B[0mkey\u001B[0m\u001B[1;33m]\u001B[0m\u001B[1;33m)\u001B[0m \u001B[1;32mif\u001B[0m \u001B[0mkey\u001B[0m \u001B[1;32min\u001B[0m \u001B[0mQ_expsarsa\u001B[0m \u001B[1;32melse\u001B[0m \u001B[1;36m0\u001B[0m \u001B[1;32mfor\u001B[0m \u001B[0mkey\u001B[0m \u001B[1;32min\u001B[0m \u001B[0mnp\u001B[0m\u001B[1;33m.\u001B[0m\u001B[0marange\u001B[0m\u001B[1;33m(\u001B[0m\u001B[1;36m48\u001B[0m\u001B[1;33m)\u001B[0m\u001B[1;33m]\u001B[0m\u001B[1;33m)\u001B[0m\u001B[1;33m\u001B[0m\u001B[1;33m\u001B[0m\u001B[0m\n\u001B[0m\u001B[0;32m     12\u001B[0m \u001B[1;33m\u001B[0m\u001B[0m\n\u001B[0;32m     13\u001B[0m \u001B[1;33m\u001B[0m\u001B[0m\n",
      "\u001B[1;32m~\\AppData\\Local\\Temp/ipykernel_18956/4094742771.py\u001B[0m in \u001B[0;36mplot_values\u001B[1;34m(V)\u001B[0m\n\u001B[0;32m      2\u001B[0m \u001B[1;32mdef\u001B[0m \u001B[0mplot_values\u001B[0m\u001B[1;33m(\u001B[0m\u001B[0mV\u001B[0m\u001B[1;33m)\u001B[0m\u001B[1;33m:\u001B[0m\u001B[1;33m\u001B[0m\u001B[1;33m\u001B[0m\u001B[0m\n\u001B[0;32m      3\u001B[0m     \u001B[1;31m# reshape the state-value function\u001B[0m\u001B[1;33m\u001B[0m\u001B[1;33m\u001B[0m\u001B[1;33m\u001B[0m\u001B[0m\n\u001B[1;32m----> 4\u001B[1;33m     \u001B[0mV\u001B[0m \u001B[1;33m=\u001B[0m \u001B[0mnp\u001B[0m\u001B[1;33m.\u001B[0m\u001B[0mreshape\u001B[0m\u001B[1;33m(\u001B[0m\u001B[0mV\u001B[0m\u001B[1;33m,\u001B[0m \u001B[1;33m(\u001B[0m\u001B[1;36m4\u001B[0m\u001B[1;33m,\u001B[0m\u001B[1;36m4\u001B[0m\u001B[1;33m)\u001B[0m\u001B[1;33m)\u001B[0m\u001B[1;33m\u001B[0m\u001B[1;33m\u001B[0m\u001B[0m\n\u001B[0m\u001B[0;32m      5\u001B[0m     \u001B[1;31m# plot the state-value function\u001B[0m\u001B[1;33m\u001B[0m\u001B[1;33m\u001B[0m\u001B[1;33m\u001B[0m\u001B[0m\n\u001B[0;32m      6\u001B[0m     \u001B[0mfig\u001B[0m \u001B[1;33m=\u001B[0m \u001B[0mplt\u001B[0m\u001B[1;33m.\u001B[0m\u001B[0mfigure\u001B[0m\u001B[1;33m(\u001B[0m\u001B[0mfigsize\u001B[0m\u001B[1;33m=\u001B[0m\u001B[1;33m(\u001B[0m\u001B[1;36m15\u001B[0m\u001B[1;33m,\u001B[0m\u001B[1;36m5\u001B[0m\u001B[1;33m)\u001B[0m\u001B[1;33m)\u001B[0m\u001B[1;33m\u001B[0m\u001B[1;33m\u001B[0m\u001B[0m\n",
      "\u001B[1;32m<__array_function__ internals>\u001B[0m in \u001B[0;36mreshape\u001B[1;34m(*args, **kwargs)\u001B[0m\n",
      "\u001B[1;32mD:\\dev\\software\\miniconda3\\lib\\site-packages\\numpy\\core\\fromnumeric.py\u001B[0m in \u001B[0;36mreshape\u001B[1;34m(a, newshape, order)\u001B[0m\n\u001B[0;32m    297\u001B[0m            [5, 6]])\n\u001B[0;32m    298\u001B[0m     \"\"\"\n\u001B[1;32m--> 299\u001B[1;33m     \u001B[1;32mreturn\u001B[0m \u001B[0m_wrapfunc\u001B[0m\u001B[1;33m(\u001B[0m\u001B[0ma\u001B[0m\u001B[1;33m,\u001B[0m \u001B[1;34m'reshape'\u001B[0m\u001B[1;33m,\u001B[0m \u001B[0mnewshape\u001B[0m\u001B[1;33m,\u001B[0m \u001B[0morder\u001B[0m\u001B[1;33m=\u001B[0m\u001B[0morder\u001B[0m\u001B[1;33m)\u001B[0m\u001B[1;33m\u001B[0m\u001B[1;33m\u001B[0m\u001B[0m\n\u001B[0m\u001B[0;32m    300\u001B[0m \u001B[1;33m\u001B[0m\u001B[0m\n\u001B[0;32m    301\u001B[0m \u001B[1;33m\u001B[0m\u001B[0m\n",
      "\u001B[1;32mD:\\dev\\software\\miniconda3\\lib\\site-packages\\numpy\\core\\fromnumeric.py\u001B[0m in \u001B[0;36m_wrapfunc\u001B[1;34m(obj, method, *args, **kwds)\u001B[0m\n\u001B[0;32m     53\u001B[0m     \u001B[0mbound\u001B[0m \u001B[1;33m=\u001B[0m \u001B[0mgetattr\u001B[0m\u001B[1;33m(\u001B[0m\u001B[0mobj\u001B[0m\u001B[1;33m,\u001B[0m \u001B[0mmethod\u001B[0m\u001B[1;33m,\u001B[0m \u001B[1;32mNone\u001B[0m\u001B[1;33m)\u001B[0m\u001B[1;33m\u001B[0m\u001B[1;33m\u001B[0m\u001B[0m\n\u001B[0;32m     54\u001B[0m     \u001B[1;32mif\u001B[0m \u001B[0mbound\u001B[0m \u001B[1;32mis\u001B[0m \u001B[1;32mNone\u001B[0m\u001B[1;33m:\u001B[0m\u001B[1;33m\u001B[0m\u001B[1;33m\u001B[0m\u001B[0m\n\u001B[1;32m---> 55\u001B[1;33m         \u001B[1;32mreturn\u001B[0m \u001B[0m_wrapit\u001B[0m\u001B[1;33m(\u001B[0m\u001B[0mobj\u001B[0m\u001B[1;33m,\u001B[0m \u001B[0mmethod\u001B[0m\u001B[1;33m,\u001B[0m \u001B[1;33m*\u001B[0m\u001B[0margs\u001B[0m\u001B[1;33m,\u001B[0m \u001B[1;33m**\u001B[0m\u001B[0mkwds\u001B[0m\u001B[1;33m)\u001B[0m\u001B[1;33m\u001B[0m\u001B[1;33m\u001B[0m\u001B[0m\n\u001B[0m\u001B[0;32m     56\u001B[0m \u001B[1;33m\u001B[0m\u001B[0m\n\u001B[0;32m     57\u001B[0m     \u001B[1;32mtry\u001B[0m\u001B[1;33m:\u001B[0m\u001B[1;33m\u001B[0m\u001B[1;33m\u001B[0m\u001B[0m\n",
      "\u001B[1;32mD:\\dev\\software\\miniconda3\\lib\\site-packages\\numpy\\core\\fromnumeric.py\u001B[0m in \u001B[0;36m_wrapit\u001B[1;34m(obj, method, *args, **kwds)\u001B[0m\n\u001B[0;32m     42\u001B[0m     \u001B[1;32mexcept\u001B[0m \u001B[0mAttributeError\u001B[0m\u001B[1;33m:\u001B[0m\u001B[1;33m\u001B[0m\u001B[1;33m\u001B[0m\u001B[0m\n\u001B[0;32m     43\u001B[0m         \u001B[0mwrap\u001B[0m \u001B[1;33m=\u001B[0m \u001B[1;32mNone\u001B[0m\u001B[1;33m\u001B[0m\u001B[1;33m\u001B[0m\u001B[0m\n\u001B[1;32m---> 44\u001B[1;33m     \u001B[0mresult\u001B[0m \u001B[1;33m=\u001B[0m \u001B[0mgetattr\u001B[0m\u001B[1;33m(\u001B[0m\u001B[0masarray\u001B[0m\u001B[1;33m(\u001B[0m\u001B[0mobj\u001B[0m\u001B[1;33m)\u001B[0m\u001B[1;33m,\u001B[0m \u001B[0mmethod\u001B[0m\u001B[1;33m)\u001B[0m\u001B[1;33m(\u001B[0m\u001B[1;33m*\u001B[0m\u001B[0margs\u001B[0m\u001B[1;33m,\u001B[0m \u001B[1;33m**\u001B[0m\u001B[0mkwds\u001B[0m\u001B[1;33m)\u001B[0m\u001B[1;33m\u001B[0m\u001B[1;33m\u001B[0m\u001B[0m\n\u001B[0m\u001B[0;32m     45\u001B[0m     \u001B[1;32mif\u001B[0m \u001B[0mwrap\u001B[0m\u001B[1;33m:\u001B[0m\u001B[1;33m\u001B[0m\u001B[1;33m\u001B[0m\u001B[0m\n\u001B[0;32m     46\u001B[0m         \u001B[1;32mif\u001B[0m \u001B[1;32mnot\u001B[0m \u001B[0misinstance\u001B[0m\u001B[1;33m(\u001B[0m\u001B[0mresult\u001B[0m\u001B[1;33m,\u001B[0m \u001B[0mmu\u001B[0m\u001B[1;33m.\u001B[0m\u001B[0mndarray\u001B[0m\u001B[1;33m)\u001B[0m\u001B[1;33m:\u001B[0m\u001B[1;33m\u001B[0m\u001B[1;33m\u001B[0m\u001B[0m\n",
      "\u001B[1;31mValueError\u001B[0m: cannot reshape array of size 48 into shape (4,4)"
     ]
    }
   ]
  },
  {
   "cell_type": "code",
   "execution_count": 47,
   "outputs": [
    {
     "name": "stdout",
     "output_type": "stream",
     "text": [
      "\n",
      "Estimated Optimal Policy (UP = 0, RIGHT = 1, DOWN = 2, LEFT = 3, N/A (Terminal State)= -1):\n",
      "[[1 2 1 0]\n",
      " [1 0 1 0]\n",
      " [2 1 1 0]\n",
      " [0 2 2 0]]\n"
     ]
    },
    {
     "data": {
      "text/plain": "<Figure size 1080x360 with 1 Axes>",
      "image/png": "[encoded data removed]"
     },
     "metadata": {},
     "output_type": "display_data"
    }
   ],
   "source": [
    "# print the estimated optimal policy\n",
    "policy_expsarsa = np.array([np.argmax(Q_expsarsa[key]) if key in Q_expsarsa else -1 for key in np.arange(16)]).reshape(4,4)\n",
    "\n",
    "# check_test.run_check('td_control_check', policy_expsarsa)\n",
    "print(\"\\nEstimated Optimal Policy (UP = 0, RIGHT = 1, DOWN = 2, LEFT = 3, N/A (Terminal State)= -1):\")\n",
    "print(policy_expsarsa)\n",
    "\n",
    "# plot the estimated optimal state-value function\n",
    "plot_values([np.max(Q_expsarsa[key]) if key in Q_expsarsa else 0 for key in np.arange(16)])"
   ],
   "metadata": {
    "collapsed": false,
    "pycharm": {
     "name": "#%%\n"
    }
   }
  },
  {
   "cell_type": "code",
   "execution_count": 48,
   "outputs": [
    {
     "name": "stdout",
     "output_type": "stream",
     "text": [
      "Actions:\n",
      "[0] Left\n",
      "[1] Down\n",
      "[2] Right\n",
      "[3] Up\n",
      "\n",
      "Policy:\n"
     ]
    },
    {
     "data": {
      "text/plain": "array([[2, 2, 1, 0],\n       [1, 0, 1, 0],\n       [2, 2, 1, 0],\n       [0, 2, 2, 0]], dtype=int64)"
     },
     "execution_count": 48,
     "metadata": {},
     "output_type": "execute_result"
    }
   ],
   "source": [
    "helper.print_actions()\n",
    "print()\n",
    "\n",
    "print(\"Policy:\")\n",
    "policy_sarsamax\n"
   ],
   "metadata": {
    "collapsed": false,
    "pycharm": {
     "name": "#%%\n"
    }
   }
  },
  {
   "cell_type": "markdown",
   "source": [
    "---\n",
    "__The end.__"
   ],
   "metadata": {
    "collapsed": false
   }
  }
 ]
}