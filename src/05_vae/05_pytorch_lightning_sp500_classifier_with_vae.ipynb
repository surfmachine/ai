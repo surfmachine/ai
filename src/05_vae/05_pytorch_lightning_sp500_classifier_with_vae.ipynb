{
 "nbformat": 4,
 "nbformat_minor": 0,
 "metadata": {
  "colab": {
   "name": "05 - VAE.ipynb",
   "provenance": [],
   "collapsed_sections": []
  },
  "kernelspec": {
   "name": "pycharm-ec18b53a",
   "language": "python",
   "display_name": "PyCharm (python-work)"
  },
  "language_info": {
   "name": "python"
  }
 },
 "cells": [
  {
   "cell_type": "markdown",
   "source": [
    "# Aufgabe S&P 500 Classifier with PyTorch Lightning and VAE\n",
    "27.11.2021, Thomas Iten\n",
    "\n",
    "**Part I: Variational Autoencoder (VAE)**\n",
    "1. SP500DataModule\n",
    "2. Variational Autoencoder (VAE)\n",
    "3. VAE Trainer\n",
    "4. VAE Training\n",
    "5. VAE Data Generation and Visualization\n",
    "\n",
    "**Part II: SP500 Classification with extended data samples**\n",
    "<ol start=\"6\">\n",
    "    <li>SP500VAEDataModule</li>\n",
    "    <li>SP500ClassifierModel</li>\n",
    "    <li>Train SP500ClassifierModel with extended data samples (SP500VAEDataModule)</li>\n",
    "    <li>Test SP500ClassifierModel with original data (SP500DataModule)</li>\n",
    "</ol>\n",
    "\n",
    "**Part III: SP500 Classification with augmented model**\n",
    "<ol start=\"10\">\n",
    "    <li>SP500VAEClassifierModel</li>\n",
    "    <li>Train SP500VAEClassifierModel with original data (SP500DataModule)</li>\n",
    "    <li>Test SP500VAEClassifierModel with original data (SP500DataModule)</li>\n",
    "    <li>Visualize with Tensorboard</li>\n",
    "</ol>"
   ],
   "metadata": {
    "collapsed": false,
    "pycharm": {
     "name": "#%% md\n"
    }
   }
  },
  {
   "cell_type": "markdown",
   "source": [
    "# Setup"
   ],
   "metadata": {
    "collapsed": false,
    "pycharm": {
     "name": "#%% md\n"
    }
   }
  },
  {
   "cell_type": "code",
   "metadata": {
    "colab": {
     "base_uri": "https://localhost:8080/",
     "height": 541
    },
    "id": "gUsxYCs7SuB_",
    "outputId": "f7f4da4e-e863-4449-f093-c2b99869d734"
   },
   "source": [
    "# ! pip install yfinance"
   ],
   "execution_count": 1,
   "outputs": []
  },
  {
   "cell_type": "code",
   "metadata": {
    "id": "2skwBkjVERIx"
   },
   "source": [
    "import os\n",
    "import datetime\n",
    "import time\n",
    "import numpy as np\n",
    "import pandas as pd\n",
    "import bs4 as bs\n",
    "import requests\n",
    "import yfinance as yf\n",
    "\n",
    "import torch\n",
    "import torch.utils.data\n",
    "import torch.utils.data as data_utils\n",
    "from torch import nn, optim\n",
    "from torch.nn import functional as F\n",
    "\n",
    "import matplotlib.pyplot as plt\n",
    "from __future__ import print_function\n",
    "\n",
    "import os, os.path, requests, datetime\n",
    "import numpy as np\n",
    "import pandas as pd\n",
    "import bs4 as bs\n",
    "import yfinance\n",
    "\n",
    "from torch.utils.data import DataLoader, TensorDataset\n",
    "from typing import Optional\n",
    "\n",
    "import torch, torchmetrics\n",
    "import pytorch_lightning as pl\n",
    "from torch import nn\n",
    "from torch.nn import functional as F\n",
    "from pytorch_lightning.callbacks.early_stopping import EarlyStopping\n",
    "from pytorch_lightning.callbacks import ModelCheckpoint\n",
    "\n",
    "import warnings\n",
    "warnings.filterwarnings('ignore')"
   ],
   "execution_count": 2,
   "outputs": []
  },
  {
   "cell_type": "markdown",
   "source": [
    "# Part I: Variational Autoencoder (VAE)\n",
    "\n",
    "\n",
    "## 1. SP500DataModule"
   ],
   "metadata": {
    "collapsed": false
   }
  },
  {
   "cell_type": "code",
   "metadata": {
    "id": "wuJMNHYiPpO4"
   },
   "source": [
    "class SP500DataModule(pl.LightningDataModule):\n",
    "    \"\"\"Data module for the 'Standard and Poor 500' company performance data.\"\"\"\n",
    "\n",
    "    URL = \"http://en.wikipedia.org/wiki/List_of_S%26P_500_companies\"\n",
    "\n",
    "    def __init__(self, batch_size=32, train_val_test_split=[80,10,10], spy_binary=True, path=\".\", force_download=False):\n",
    "        super().__init__()\n",
    "        # download properties\n",
    "        self.start = datetime.datetime(2010, 1, 1)\n",
    "        self.end = datetime.datetime.now()\n",
    "        self.fname = path + \"/sp500.csv\"\n",
    "        self.force_download = force_download\n",
    "        # prepare and transform properties\n",
    "        self.spy_binary = spy_binary\n",
    "        self.batch_size = batch_size\n",
    "        self.train_val_test_split = train_val_test_split\n",
    "        # data\n",
    "        self.data = None\n",
    "        self.train_dataset = None\n",
    "        self.val_dataset = None\n",
    "        self.test_dataset = None\n",
    "\n",
    "    def prepare_data(self):\n",
    "        \"\"\"Download and prepare the SP500 data.\"\"\"\n",
    "        df = self._download_sp500()\n",
    "        if self.spy_binary:\n",
    "            df.SPY = [1 if spy > 0 else 0 for spy in df.SPY]\n",
    "        self.data = df\n",
    "\n",
    "\n",
    "    def setup(self, stage: Optional[str] = None):\n",
    "        \"\"\"Setup the data according the stage 'fit' or 'test'. If the stage is none, setup the data for all stages.\"\"\"\n",
    "\n",
    "        # Split data into test, val and train dataframes\n",
    "        train_percent, val_percent, test_percent = self.train_val_test_split\n",
    "        rows = self.data.shape[0]\n",
    "        test_rows = int(test_percent * rows / 100)\n",
    "        val_rows = int(val_percent * rows / 100)\n",
    "        train_rows =  rows - test_rows - val_rows\n",
    "\n",
    "        print(\"Setup - define data split:\")\n",
    "        print(\"- Train rows : {0:04d} ( {1}%)\".format(train_rows, train_percent))\n",
    "        print(\"- Val   rows : {0:04d} ( {1}%)\".format(val_rows, val_percent))\n",
    "        print(\"- Test  rows : {0:04d} ( {1}%)\".format(test_rows, test_percent))\n",
    "        print(\"- Total rows : {0:04d} (100%)\".format(rows))\n",
    "\n",
    "        print(\"Setup - split and transform data for stage: {}\".format(stage))\n",
    "        if stage == \"fit\" or stage is None:\n",
    "            train_data = self.data.iloc[:train_rows]\n",
    "            val_data = self.data.iloc[train_rows:train_rows+val_rows]\n",
    "            print(\"- Train shape: {}\".format(train_data.shape))\n",
    "            print(\"- Val   shape: {}\".format(val_data.shape))\n",
    "            # transform data and assign properties to use in data loaders\n",
    "            self.train_dataset = self._transform_to_dataset(train_data)\n",
    "            self.val_dataset = self._transform_to_dataset(val_data)\n",
    "\n",
    "        if stage == \"test\" or stage is None:\n",
    "            test_data = self.data.iloc[train_rows+val_rows:]\n",
    "            print(\"- Test  shape: {}\".format(test_data.shape))\n",
    "            # transform data and assign properties to use in data loaders\n",
    "            self.test_dataset = self._transform_to_dataset(test_data)\n",
    "\n",
    "        print(\"- Total shape: {}\".format(self.data.shape))\n",
    "\n",
    "\n",
    "    def size(self):\n",
    "        return self.train_dataloader().dataset.tensors[0].data.shape[1]\n",
    "\n",
    "    def train_dataloader(self):\n",
    "        return DataLoader(self.train_dataset, batch_size=self.batch_size)\n",
    "\n",
    "    def val_dataloader(self):\n",
    "        return DataLoader(self.val_dataset, batch_size=self.batch_size)\n",
    "\n",
    "    def test_dataloader(self):\n",
    "        return DataLoader(self.test_dataset, batch_size=self.batch_size)\n",
    "\n",
    "    def _transform_to_dataset(self, df):\n",
    "\n",
    "        # Split labels and features\n",
    "        labels = df.SPY.values\n",
    "        features = df.iloc[:, :-1].values\n",
    "\n",
    "        # Convert to tensor\n",
    "        tensor_labels   = torch.tensor(labels).unsqueeze(1).float()\n",
    "        tensor_features = torch.tensor(features).float()\n",
    "\n",
    "        # Create tensor dataset\n",
    "        return TensorDataset(tensor_features, tensor_labels)\n",
    "\n",
    "    def _download_sp500(self) -> pd.DataFrame:\n",
    "        \"\"\"Download the SP500 data from the internet, save data to a csv file and return the result.\n",
    "\n",
    "        Notes:\n",
    "        - All further calls will serve the data from the csv file.\n",
    "        - To trigger a new download from the internet, set the force_download flag to True.\n",
    "        \"\"\"\n",
    "\n",
    "        # Load data from file\n",
    "        if os.path.isfile(self.fname) and not self.force_download:\n",
    "            print(\"Load SP500 from file:\", self.fname)\n",
    "            return pd.read_csv(self.fname, index_col=0, parse_dates=True)\n",
    "\n",
    "        # Download data\n",
    "        print(\"Download data from:\", SP500DataModule.URL)\n",
    "        resp = requests.get(SP500DataModule.URL)\n",
    "        soup = bs.BeautifulSoup(resp.text, 'lxml')\n",
    "        table = soup.find('table', {'class': 'wikitable sortable'})\n",
    "\n",
    "        tickers = []\n",
    "        for row in table.findAll('tr')[1:]:\n",
    "            ticker = row.findAll('td')[0].text\n",
    "            tickers.append(ticker)\n",
    "\n",
    "        tickers = [s.replace('\\n', '') for s in tickers]\n",
    "        data = yfinance.download(tickers, start=self.start, end=self.end)\n",
    "        df_data = data['Adj Close']\n",
    "\n",
    "        df_spy = yfinance.download(\"SPY\", start=self.start, end=self.end)\n",
    "        df_spy = df_spy.loc[:, ['Adj Close']]\n",
    "        df_spy.columns = ['SPY']\n",
    "\n",
    "        df = pd.concat([df_data, df_spy], axis=1)\n",
    "\n",
    "        # Prepare data\n",
    "        df.dropna(axis=0, how='all', inplace=True)\n",
    "        print(\"Dropping columns due to nans > 50%:\", df.loc[:, list((100 * (df.isnull().sum() / len(df.index)) > 50))].columns)\n",
    "        df = df.drop(df.loc[:, list((100 * (df.isnull().sum() / len(df.index)) > 50))].columns, 1)\n",
    "        df = df.ffill().bfill()\n",
    "        print(\"Any columns still contain nans:\", df.isnull().values.any())\n",
    "\n",
    "        df_returns = pd.DataFrame()\n",
    "        for name in df.columns:\n",
    "            df_returns[name] = np.log(df[name]).diff()\n",
    "\n",
    "        df_returns.dropna(axis=0, how='any', inplace=True)\n",
    "\n",
    "        # Save data and return result\n",
    "        print(\"Save data to file:\", self.fname)\n",
    "        df_returns.to_csv(self.fname)\n",
    "\n",
    "        self.data = df_returns\n",
    "        return self.data\n"
   ],
   "execution_count": 3,
   "outputs": []
  },
  {
   "cell_type": "markdown",
   "source": [
    "## 2. Variational Autoencoder (VAE)"
   ],
   "metadata": {
    "collapsed": false,
    "pycharm": {
     "name": "#%% md\n"
    }
   }
  },
  {
   "cell_type": "code",
   "metadata": {
    "id": "bop-tp0aEi-_"
   },
   "source": [
    "class VAE(nn.Module):\n",
    "    \"\"\" Variational Autoencoder (VAE)\"\"\"\n",
    "\n",
    "    def __init__(self, n_obs, path=\".\"):\n",
    "        super(VAE, self).__init__()\n",
    "        # Encoder                               # Die Paramter für mü und sigma können angepasst werden\n",
    "        self.fc1 = nn.Linear(n_obs, 400)        # (zum Beispiel 30, 50 anstelle von 20)\n",
    "        self.fc21 = nn.Linear(400, 20)          # - mü\n",
    "        self.fc22 = nn.Linear(400, 20)          # - sigma (log variance)\n",
    "        # Decoder\n",
    "        self.fc3 = nn.Linear(20, 400)\n",
    "        self.fc4 = nn.Linear(400, n_obs)\n",
    "        # save model\n",
    "        self.path  = path\n",
    "        self.fname = self.path + \"/vae_state_dict.pickle\"\n",
    "\n",
    "    def encode(self, x):\n",
    "        h1 = F.relu(self.fc1(x))\n",
    "        return self.fc21(h1), self.fc22(h1)\n",
    "\n",
    "                                                # Interessante Variante (wäre Prüfenswert):\n",
    "    def reparameterize(self, mu, logvar):       # - mü und sigma (logvar) sind unsere Gewichte\n",
    "        std = torch.exp(0.5*logvar)             # - std wird berechnet\n",
    "        eps = torch.randn_like(std)             # - epsilon ist random mit Standard Verteilung\n",
    "        return mu + eps*std                     # > Variante mit epsilon random + abhängig von sigma\n",
    "                                                # > Epsilon hätte Abhängigkeit ohne Back Propagation\n",
    "\n",
    "    def decode(self, z):\n",
    "        h3 = F.relu(self.fc3(z))                # Variante\n",
    "        return self.fc4(h3)                     # torch.sigmoid(self.fc4(h3))\n",
    "\n",
    "    def forward(self, x):\n",
    "        mu, logvar = self.encode(x.view(-1, x.shape[1]))\n",
    "        z = self.reparameterize(mu, logvar)\n",
    "        return self.decode(z), mu, logvar\n",
    "\n",
    "    def save_pickle(self):\n",
    "        if not os.path.isdir(self.path):\n",
    "            os.makedirs(self.path)\n",
    "        torch.save(self.state_dict(), self.fname)\n",
    "\n",
    "    def load_pickle(self):\n",
    "        if os.path.isfile(self.fname):\n",
    "            return self.load_state_dict(torch.load(self.fname))\n",
    "        return None\n"
   ],
   "execution_count": 4,
   "outputs": []
  },
  {
   "cell_type": "markdown",
   "source": [
    "## 3. VAE Trainer\n"
   ],
   "metadata": {
    "collapsed": false
   }
  },
  {
   "cell_type": "code",
   "metadata": {
    "id": "tBhemgbqO-0v"
   },
   "source": [
    "class VAETrainer():\n",
    "\n",
    "    def __init__ (self, datamodule):\n",
    "        super(VAETrainer, self).__init__()\n",
    "        # torch\n",
    "        torch.manual_seed(0)\n",
    "        # data loader\n",
    "        datamodule.prepare_data()\n",
    "        datamodule.setup()\n",
    "        self.train_loader = datamodule.train_dataloader()\n",
    "        self.test_loader  = datamodule.test_dataloader()\n",
    "        # size, model and optimizer\n",
    "        self.device    = torch.device(\"cuda\" if torch.cuda.is_available() else \"cpu\")\n",
    "        self.size      = datamodule.size()\n",
    "        self.model     = VAE(self.size).to(self.device)                     # size = number of objects\n",
    "        self.optimizer = optim.Adam(self.model.parameters(), lr=1e-3)\n",
    "\n",
    "    def loss_function(self, recon_x, x, mu, logvar):\n",
    "        \"\"\"\n",
    "        Loss besteht aus 2 Komponenten:\n",
    "        1.\tMSE: vergleicht absolute Grössen (Zahlendifferenz). Prüft, ob die Werte identisch sind.\n",
    "        2.\tKLD (Kullback-Leibler-Divergenz): prüft ob die Daten aus der gleichen Verteilung (vom gleichen Stamm) sind,\n",
    "            respektive den gleichen Gesetzmässigkeiten entsprechen.\n",
    "            Falls ja ist KLD 0. Falls nein, so steigt KLB Richtung 1.\n",
    "\n",
    "        KLD see Appendix B from VAE paper:\n",
    "        - Kingma and Welling. Auto-Encoding Variational Bayes. ICLR, 2014\n",
    "        - https://arxiv.org/abs/1312.6114\n",
    "        - Formula: 0.5 * sum(1 + log(sigma^2) - mu^2 - sigma^2)\n",
    "        \"\"\"\n",
    "        MSE = F.mse_loss(recon_x, x.view(-1, self.size), reduction='mean')\n",
    "        KLD = -0.5 * torch.sum(1 + logvar - mu.pow(2) - logvar.exp())\n",
    "        return MSE + KLD\n",
    "\n",
    "\n",
    "    def train(self, epoch):\n",
    "        self.model.train()\n",
    "        train_loss = 0\n",
    "        for batch_idx, data in enumerate(self.train_loader):\n",
    "            data = data[0].to(self.device)              # Nur Feature ohne Label, daher [0]\n",
    "            # torch.cat([data[0], data[1]], dim=1)      # Ansatz für Variante bei der Label mittrainiert werden soll\n",
    "                                                        # Muss am Schluss zu int gemacht werden\n",
    "            self.optimizer.zero_grad()\n",
    "            recon_batch, mu, logvar = self.model(data)\n",
    "            loss = self.loss_function(recon_batch, data, mu, logvar)\n",
    "            loss.backward()\n",
    "            train_loss += loss.item()\n",
    "            self.optimizer.step()\n",
    "            if batch_idx % 10 == 0: # ti: Log intervall definieren\n",
    "                print('Train Epoch: {} [{}/{} ({:.0f}%)]\\tLoss: {:.6f}'.format(\n",
    "                    epoch, batch_idx * len(data), len(self.train_loader.dataset),\n",
    "                           100. * batch_idx / len(self.train_loader),\n",
    "                           loss.item() / len(data)))\n",
    "        # show average loss per epoch\n",
    "        average_loss = train_loss / len(self.train_loader.dataset)\n",
    "        print('====> Epoch: {} Average loss: {:.4f}'.format(epoch, average_loss))\n",
    "\n",
    "    def test(self, epoch):\n",
    "        self.model.eval()\n",
    "        test_loss = 0\n",
    "        with torch.no_grad():\n",
    "            for i, data in enumerate(self.test_loader):\n",
    "                data = data[0].to(self.device) # ti: nur erstes Element\n",
    "                recon_batch, mu, logvar = self.model(data)\n",
    "                test_loss += self.loss_function(recon_batch, data, mu, logvar).item()\n",
    "        # show test loss per epoch\n",
    "        test_loss /= len(self.test_loader.dataset)\n",
    "        print('====> Test set loss: {:.4f}'.format(test_loss))\n",
    "        # Reconstruction + KL divergence losses summed over all elements and batch"
   ],
   "execution_count": 5,
   "outputs": []
  },
  {
   "cell_type": "markdown",
   "source": [
    "## 4. VAE Training"
   ],
   "metadata": {
    "collapsed": false,
    "pycharm": {
     "name": "#%% md\n"
    }
   }
  },
  {
   "cell_type": "code",
   "metadata": {
    "colab": {
     "base_uri": "https://localhost:8080/"
    },
    "id": "Zt3JCt8rPKQ9",
    "outputId": "40bfc856-b89a-47dc-ab8d-13c1729803c7"
   },
   "source": [
    "sp500_datamodule = SP500DataModule()\n",
    "vae_trainer = VAETrainer(sp500_datamodule)\n",
    "\n",
    "for epoch in range(1, 10):\n",
    "    vae_trainer.train(epoch)\n",
    "    vae_trainer.test(epoch)\n",
    "    #with torch.no_grad():\n",
    "    #    sample = torch.randn(64, 20).to(trainer.device)\n",
    "    #    sample = trainer.model.decode(sample).cpu()\n",
    "\n",
    "vae_trainer.model.save_pickle()"
   ],
   "execution_count": 6,
   "outputs": [
    {
     "name": "stdout",
     "output_type": "stream",
     "text": [
      "Load SP500 from file: ./sp500.csv\n",
      "Setup - define data split:\n",
      "- Train rows : 2392 ( 80%)\n",
      "- Val   rows : 0299 ( 10%)\n",
      "- Test  rows : 0299 ( 10%)\n",
      "- Total rows : 2990 (100%)\n",
      "Setup - split and transform data for stage: None\n",
      "- Train shape: (2392, 490)\n",
      "- Val   shape: (299, 490)\n",
      "- Test  shape: (299, 490)\n",
      "- Total shape: (2990, 490)\n",
      "Train Epoch: 1 [0/2392 (0%)]\tLoss: 0.010154\n",
      "Train Epoch: 1 [320/2392 (13%)]\tLoss: 0.001491\n",
      "Train Epoch: 1 [640/2392 (27%)]\tLoss: 0.000759\n",
      "Train Epoch: 1 [960/2392 (40%)]\tLoss: 0.000409\n",
      "Train Epoch: 1 [1280/2392 (53%)]\tLoss: 0.000311\n",
      "Train Epoch: 1 [1600/2392 (67%)]\tLoss: 0.000296\n",
      "Train Epoch: 1 [1920/2392 (80%)]\tLoss: 0.000218\n",
      "Train Epoch: 1 [2240/2392 (93%)]\tLoss: 0.000287\n",
      "====> Epoch: 1 Average loss: 0.0009\n",
      "====> Test set loss: 0.0003\n",
      "Train Epoch: 2 [0/2392 (0%)]\tLoss: 0.000256\n",
      "Train Epoch: 2 [320/2392 (13%)]\tLoss: 0.000180\n",
      "Train Epoch: 2 [640/2392 (27%)]\tLoss: 0.000191\n",
      "Train Epoch: 2 [960/2392 (40%)]\tLoss: 0.000142\n",
      "Train Epoch: 2 [1280/2392 (53%)]\tLoss: 0.000121\n",
      "Train Epoch: 2 [1600/2392 (67%)]\tLoss: 0.000134\n",
      "Train Epoch: 2 [1920/2392 (80%)]\tLoss: 0.000094\n",
      "Train Epoch: 2 [2240/2392 (93%)]\tLoss: 0.000136\n",
      "====> Epoch: 2 Average loss: 0.0002\n",
      "====> Test set loss: 0.0001\n",
      "Train Epoch: 3 [0/2392 (0%)]\tLoss: 0.000141\n",
      "Train Epoch: 3 [320/2392 (13%)]\tLoss: 0.000098\n",
      "Train Epoch: 3 [640/2392 (27%)]\tLoss: 0.000108\n",
      "Train Epoch: 3 [960/2392 (40%)]\tLoss: 0.000078\n",
      "Train Epoch: 3 [1280/2392 (53%)]\tLoss: 0.000071\n",
      "Train Epoch: 3 [1600/2392 (67%)]\tLoss: 0.000078\n",
      "Train Epoch: 3 [1920/2392 (80%)]\tLoss: 0.000057\n",
      "Train Epoch: 3 [2240/2392 (93%)]\tLoss: 0.000095\n",
      "====> Epoch: 3 Average loss: 0.0001\n",
      "====> Test set loss: 0.0001\n",
      "Train Epoch: 4 [0/2392 (0%)]\tLoss: 0.000082\n",
      "Train Epoch: 4 [320/2392 (13%)]\tLoss: 0.000059\n",
      "Train Epoch: 4 [640/2392 (27%)]\tLoss: 0.000069\n",
      "Train Epoch: 4 [960/2392 (40%)]\tLoss: 0.000051\n",
      "Train Epoch: 4 [1280/2392 (53%)]\tLoss: 0.000046\n",
      "Train Epoch: 4 [1600/2392 (67%)]\tLoss: 0.000053\n",
      "Train Epoch: 4 [1920/2392 (80%)]\tLoss: 0.000035\n",
      "Train Epoch: 4 [2240/2392 (93%)]\tLoss: 0.000064\n",
      "====> Epoch: 4 Average loss: 0.0001\n",
      "====> Test set loss: 0.0001\n",
      "Train Epoch: 5 [0/2392 (0%)]\tLoss: 0.000059\n",
      "Train Epoch: 5 [320/2392 (13%)]\tLoss: 0.000042\n",
      "Train Epoch: 5 [640/2392 (27%)]\tLoss: 0.000048\n",
      "Train Epoch: 5 [960/2392 (40%)]\tLoss: 0.000035\n",
      "Train Epoch: 5 [1280/2392 (53%)]\tLoss: 0.000035\n",
      "Train Epoch: 5 [1600/2392 (67%)]\tLoss: 0.000040\n",
      "Train Epoch: 5 [1920/2392 (80%)]\tLoss: 0.000029\n",
      "Train Epoch: 5 [2240/2392 (93%)]\tLoss: 0.000051\n",
      "====> Epoch: 5 Average loss: 0.0000\n",
      "====> Test set loss: 0.0001\n",
      "Train Epoch: 6 [0/2392 (0%)]\tLoss: 0.000043\n",
      "Train Epoch: 6 [320/2392 (13%)]\tLoss: 0.000032\n",
      "Train Epoch: 6 [640/2392 (27%)]\tLoss: 0.000037\n",
      "Train Epoch: 6 [960/2392 (40%)]\tLoss: 0.000029\n",
      "Train Epoch: 6 [1280/2392 (53%)]\tLoss: 0.000028\n",
      "Train Epoch: 6 [1600/2392 (67%)]\tLoss: 0.000032\n",
      "Train Epoch: 6 [1920/2392 (80%)]\tLoss: 0.000024\n",
      "Train Epoch: 6 [2240/2392 (93%)]\tLoss: 0.000040\n",
      "====> Epoch: 6 Average loss: 0.0000\n",
      "====> Test set loss: 0.0001\n",
      "Train Epoch: 7 [0/2392 (0%)]\tLoss: 0.000038\n",
      "Train Epoch: 7 [320/2392 (13%)]\tLoss: 0.000026\n",
      "Train Epoch: 7 [640/2392 (27%)]\tLoss: 0.000031\n",
      "Train Epoch: 7 [960/2392 (40%)]\tLoss: 0.000023\n",
      "Train Epoch: 7 [1280/2392 (53%)]\tLoss: 0.000024\n",
      "Train Epoch: 7 [1600/2392 (67%)]\tLoss: 0.000027\n",
      "Train Epoch: 7 [1920/2392 (80%)]\tLoss: 0.000021\n",
      "Train Epoch: 7 [2240/2392 (93%)]\tLoss: 0.000036\n",
      "====> Epoch: 7 Average loss: 0.0000\n",
      "====> Test set loss: 0.0000\n",
      "Train Epoch: 8 [0/2392 (0%)]\tLoss: 0.000031\n",
      "Train Epoch: 8 [320/2392 (13%)]\tLoss: 0.000023\n",
      "Train Epoch: 8 [640/2392 (27%)]\tLoss: 0.000027\n",
      "Train Epoch: 8 [960/2392 (40%)]\tLoss: 0.000020\n",
      "Train Epoch: 8 [1280/2392 (53%)]\tLoss: 0.000020\n",
      "Train Epoch: 8 [1600/2392 (67%)]\tLoss: 0.000024\n",
      "Train Epoch: 8 [1920/2392 (80%)]\tLoss: 0.000017\n",
      "Train Epoch: 8 [2240/2392 (93%)]\tLoss: 0.000032\n",
      "====> Epoch: 8 Average loss: 0.0000\n",
      "====> Test set loss: 0.0000\n",
      "Train Epoch: 9 [0/2392 (0%)]\tLoss: 0.000030\n",
      "Train Epoch: 9 [320/2392 (13%)]\tLoss: 0.000020\n",
      "Train Epoch: 9 [640/2392 (27%)]\tLoss: 0.000024\n",
      "Train Epoch: 9 [960/2392 (40%)]\tLoss: 0.000017\n",
      "Train Epoch: 9 [1280/2392 (53%)]\tLoss: 0.000018\n",
      "Train Epoch: 9 [1600/2392 (67%)]\tLoss: 0.000022\n",
      "Train Epoch: 9 [1920/2392 (80%)]\tLoss: 0.000016\n",
      "Train Epoch: 9 [2240/2392 (93%)]\tLoss: 0.000030\n",
      "====> Epoch: 9 Average loss: 0.0000\n",
      "====> Test set loss: 0.0000\n"
     ]
    }
   ]
  },
  {
   "cell_type": "markdown",
   "source": [
    "## 5. VAE Data Generation and Visualization"
   ],
   "metadata": {
    "collapsed": false
   }
  },
  {
   "cell_type": "markdown",
   "source": [
    "### Load model\n",
    "\n",
    "- Das Modell sind encoder und decoder zusammen (wir brauchen beides)\n",
    "- Dem Model werden nun die Featuers übergeben. Das Modell gibt zurück:\n",
    "  sample_feat, mü, sigma\n",
    "- Wir brauchen mü und sigma nicht. Die Daten (sample_feat) müssen gleich gross sein\n",
    "  wie die Features die wir eingeben. sample_feat.shape --> torch.size(1993,489)"
   ],
   "metadata": {
    "collapsed": false
   }
  },
  {
   "cell_type": "code",
   "source": [
    "vae_model = VAE(sp500_datamodule.size())\n",
    "vae_model.load_pickle()"
   ],
   "metadata": {
    "collapsed": false,
    "pycharm": {
     "name": "#%%\n"
    }
   },
   "execution_count": 7,
   "outputs": [
    {
     "data": {
      "text/plain": "<All keys matched successfully>"
     },
     "execution_count": 7,
     "metadata": {},
     "output_type": "execute_result"
    }
   ]
  },
  {
   "cell_type": "markdown",
   "source": [
    "### Allocate data (Original SP500 DataSet)\n",
    "\n",
    "train_loader.dataset.tensor enthält die Features und Labels\n",
    "- Featurs sind immer an Position [0]\n",
    "- Labels sind an Position [1]\n",
    "\n",
    "Man kann zum Beispiel den Shape ausgeben\n",
    "- train_loader.dataset.tensors[0].shape --> torch.size(1993,489)\n",
    "- train_loader.dataset.tensors[1].shape --> torch.size(1993,1)"
   ],
   "metadata": {
    "collapsed": false
   }
  },
  {
   "cell_type": "code",
   "metadata": {
    "colab": {
     "base_uri": "https://localhost:8080/"
    },
    "id": "VtaJ65eVRyzj",
    "outputId": "a6887f8b-4da0-432d-dd7b-41fac5469195"
   },
   "source": [
    "train_loader = sp500_datamodule.train_dataloader()\n",
    "test_loader  = sp500_datamodule.test_dataloader()\n",
    "\n",
    "print(\"Feature shape: {}\", train_loader.dataset.tensors[0].shape)\n",
    "print(\"Label shape  : {}\", train_loader.dataset.tensors[1].shape)"
   ],
   "execution_count": 8,
   "outputs": [
    {
     "name": "stdout",
     "output_type": "stream",
     "text": [
      "Feature shape: {} torch.Size([2392, 489])\n",
      "Label shape  : {} torch.Size([2392, 1])\n"
     ]
    }
   ]
  },
  {
   "cell_type": "markdown",
   "metadata": {
    "id": "Dxl8fX43mVI5",
    "pycharm": {
     "name": "#%% md\n"
    }
   },
   "source": [
    "### Generate new sample data\n",
    "- Wenn die Features und Labels zu den Samples appendet werden ist zu\n",
    "  beachten wo diese liegen. CPU oder GPU\n",
    "- Wenn man einen Mix macht muss man das überall anpassen.\n",
    "- Default ist CPU, dann geht dass.\n",
    "  Wenn wir auf GPU trainieren, würde es nicht gehen\n",
    "- In den Samples sind jetzt die Tensoren (Daten) drin (Features und Labels)"
   ]
  },
  {
   "cell_type": "code",
   "execution_count": 9,
   "outputs": [],
   "source": [
    "samples = []\n",
    "for i in range(100):                # Man kann jetzt richtig viele  Daten generien\n",
    "                                    # und auch anonymisieren!\n",
    "  with torch.no_grad():\n",
    "    sample_feat, _, _ = vae_model(train_loader.dataset.tensors[0])\n",
    "    sample_labels = train_loader.dataset.tensors[1]\n",
    "    new_data_sample = torch.cat([sample_feat, sample_labels], dim=1)\n",
    "    samples.append(new_data_sample.numpy())\n",
    "\n",
    "generated_np = np.vstack(samples)"
   ],
   "metadata": {
    "collapsed": false,
    "pycharm": {
     "name": "#%%\n"
    }
   }
  },
  {
   "cell_type": "markdown",
   "source": [
    "### Show generated samples"
   ],
   "metadata": {
    "collapsed": false
   }
  },
  {
   "cell_type": "code",
   "metadata": {
    "colab": {
     "base_uri": "https://localhost:8080/",
     "height": 444
    },
    "id": "DTnB0KeRyNah",
    "outputId": "8f676319-e490-4f67-bdfb-9501f7a169d1"
   },
   "source": [
    "generated_df = pd.DataFrame(generated_np)\n",
    "generated_df\n"
   ],
   "execution_count": 10,
   "outputs": [
    {
     "data": {
      "text/plain": "             0         1         2         3         4         5         6    \\\n0      -0.011653  0.015470 -0.006914  0.013655  0.009119 -0.020958  0.003790   \n1      -0.014290  0.013180 -0.028836 -0.007642 -0.014798  0.008813  0.006815   \n2       0.000285  0.009342  0.001885 -0.011000  0.007022  0.004747  0.003407   \n3       0.010673 -0.016490 -0.007390  0.001602  0.001330 -0.014099  0.019956   \n4      -0.003875  0.012943 -0.045891  0.007490  0.010026  0.007371  0.009923   \n...          ...       ...       ...       ...       ...       ...       ...   \n239195 -0.008162 -0.016053 -0.008407  0.002953  0.004560  0.002540 -0.003785   \n239196  0.009182 -0.003492 -0.031926  0.002392 -0.018793 -0.023827 -0.001044   \n239197 -0.001418 -0.018311  0.011483  0.023322  0.025636 -0.023102  0.001740   \n239198  0.011325 -0.020572  0.004177  0.006183 -0.016365 -0.008930 -0.001547   \n239199  0.030455 -0.013220 -0.000295 -0.028707 -0.001837  0.027814  0.009310   \n\n             7         8         9    ...       480       481       482  \\\n0       0.004509 -0.003615  0.016642  ... -0.019169  0.008474  0.030544   \n1       0.007534  0.014212 -0.013079  ... -0.010721 -0.024389  0.009019   \n2       0.012922 -0.013720 -0.015277  ... -0.013035 -0.005143 -0.001382   \n3      -0.018199 -0.008102 -0.020999  ... -0.022641 -0.035414  0.014318   \n4      -0.000910  0.023387 -0.003994  ... -0.042004  0.002619  0.020044   \n...          ...       ...       ...  ...       ...       ...       ...   \n239195 -0.003752  0.006502  0.012908  ... -0.005614 -0.025181  0.009647   \n239196  0.019828 -0.013035  0.004122  ... -0.016158 -0.003497  0.009215   \n239197  0.012530  0.048115  0.026004  ... -0.001022 -0.014729 -0.008987   \n239198  0.006603 -0.020364  0.001661  ... -0.005893  0.003972  0.011390   \n239199 -0.007105 -0.051928 -0.026264  ...  0.006324  0.024747 -0.031366   \n\n             483       484       485       486       487       488  489  \n0       0.028342 -0.015323  0.007714 -0.005794  0.000117  0.023572  1.0  \n1      -0.006053 -0.002905 -0.008290 -0.004506 -0.007830  0.002366  1.0  \n2      -0.003091  0.019470  0.024643 -0.009110 -0.001161  0.015146  1.0  \n3      -0.020342  0.018413  0.012526  0.002736 -0.019061  0.003080  1.0  \n4       0.004483 -0.025828  0.004298 -0.002268 -0.013497  0.014703  1.0  \n...          ...       ...       ...       ...       ...       ...  ...  \n239195  0.013938  0.014965  0.005226  0.002332 -0.000529  0.008820  1.0  \n239196  0.000990 -0.002107  0.026849 -0.009697 -0.010849  0.010476  1.0  \n239197 -0.006958  0.006516 -0.007015  0.000834  0.006865 -0.025998  1.0  \n239198  0.008293  0.009735  0.005635 -0.006039 -0.011798  0.021181  1.0  \n239199  0.009879 -0.013028  0.042048  0.008855  0.018863 -0.016798  0.0  \n\n[239200 rows x 490 columns]",
      "text/html": "<div>\n<style scoped>\n    .dataframe tbody tr th:only-of-type {\n        vertical-align: middle;\n    }\n\n    .dataframe tbody tr th {\n        vertical-align: top;\n    }\n\n    .dataframe thead th {\n        text-align: right;\n    }\n</style>\n<table border=\"1\" class=\"dataframe\">\n  <thead>\n    <tr style=\"text-align: right;\">\n      <th></th>\n      <th>0</th>\n      <th>1</th>\n      <th>2</th>\n      <th>3</th>\n      <th>4</th>\n      <th>5</th>\n      <th>6</th>\n      <th>7</th>\n      <th>8</th>\n      <th>9</th>\n      <th>...</th>\n      <th>480</th>\n      <th>481</th>\n      <th>482</th>\n      <th>483</th>\n      <th>484</th>\n      <th>485</th>\n      <th>486</th>\n      <th>487</th>\n      <th>488</th>\n      <th>489</th>\n    </tr>\n  </thead>\n  <tbody>\n    <tr>\n      <th>0</th>\n      <td>-0.011653</td>\n      <td>0.015470</td>\n      <td>-0.006914</td>\n      <td>0.013655</td>\n      <td>0.009119</td>\n      <td>-0.020958</td>\n      <td>0.003790</td>\n      <td>0.004509</td>\n      <td>-0.003615</td>\n      <td>0.016642</td>\n      <td>...</td>\n      <td>-0.019169</td>\n      <td>0.008474</td>\n      <td>0.030544</td>\n      <td>0.028342</td>\n      <td>-0.015323</td>\n      <td>0.007714</td>\n      <td>-0.005794</td>\n      <td>0.000117</td>\n      <td>0.023572</td>\n      <td>1.0</td>\n    </tr>\n    <tr>\n      <th>1</th>\n      <td>-0.014290</td>\n      <td>0.013180</td>\n      <td>-0.028836</td>\n      <td>-0.007642</td>\n      <td>-0.014798</td>\n      <td>0.008813</td>\n      <td>0.006815</td>\n      <td>0.007534</td>\n      <td>0.014212</td>\n      <td>-0.013079</td>\n      <td>...</td>\n      <td>-0.010721</td>\n      <td>-0.024389</td>\n      <td>0.009019</td>\n      <td>-0.006053</td>\n      <td>-0.002905</td>\n      <td>-0.008290</td>\n      <td>-0.004506</td>\n      <td>-0.007830</td>\n      <td>0.002366</td>\n      <td>1.0</td>\n    </tr>\n    <tr>\n      <th>2</th>\n      <td>0.000285</td>\n      <td>0.009342</td>\n      <td>0.001885</td>\n      <td>-0.011000</td>\n      <td>0.007022</td>\n      <td>0.004747</td>\n      <td>0.003407</td>\n      <td>0.012922</td>\n      <td>-0.013720</td>\n      <td>-0.015277</td>\n      <td>...</td>\n      <td>-0.013035</td>\n      <td>-0.005143</td>\n      <td>-0.001382</td>\n      <td>-0.003091</td>\n      <td>0.019470</td>\n      <td>0.024643</td>\n      <td>-0.009110</td>\n      <td>-0.001161</td>\n      <td>0.015146</td>\n      <td>1.0</td>\n    </tr>\n    <tr>\n      <th>3</th>\n      <td>0.010673</td>\n      <td>-0.016490</td>\n      <td>-0.007390</td>\n      <td>0.001602</td>\n      <td>0.001330</td>\n      <td>-0.014099</td>\n      <td>0.019956</td>\n      <td>-0.018199</td>\n      <td>-0.008102</td>\n      <td>-0.020999</td>\n      <td>...</td>\n      <td>-0.022641</td>\n      <td>-0.035414</td>\n      <td>0.014318</td>\n      <td>-0.020342</td>\n      <td>0.018413</td>\n      <td>0.012526</td>\n      <td>0.002736</td>\n      <td>-0.019061</td>\n      <td>0.003080</td>\n      <td>1.0</td>\n    </tr>\n    <tr>\n      <th>4</th>\n      <td>-0.003875</td>\n      <td>0.012943</td>\n      <td>-0.045891</td>\n      <td>0.007490</td>\n      <td>0.010026</td>\n      <td>0.007371</td>\n      <td>0.009923</td>\n      <td>-0.000910</td>\n      <td>0.023387</td>\n      <td>-0.003994</td>\n      <td>...</td>\n      <td>-0.042004</td>\n      <td>0.002619</td>\n      <td>0.020044</td>\n      <td>0.004483</td>\n      <td>-0.025828</td>\n      <td>0.004298</td>\n      <td>-0.002268</td>\n      <td>-0.013497</td>\n      <td>0.014703</td>\n      <td>1.0</td>\n    </tr>\n    <tr>\n      <th>...</th>\n      <td>...</td>\n      <td>...</td>\n      <td>...</td>\n      <td>...</td>\n      <td>...</td>\n      <td>...</td>\n      <td>...</td>\n      <td>...</td>\n      <td>...</td>\n      <td>...</td>\n      <td>...</td>\n      <td>...</td>\n      <td>...</td>\n      <td>...</td>\n      <td>...</td>\n      <td>...</td>\n      <td>...</td>\n      <td>...</td>\n      <td>...</td>\n      <td>...</td>\n      <td>...</td>\n    </tr>\n    <tr>\n      <th>239195</th>\n      <td>-0.008162</td>\n      <td>-0.016053</td>\n      <td>-0.008407</td>\n      <td>0.002953</td>\n      <td>0.004560</td>\n      <td>0.002540</td>\n      <td>-0.003785</td>\n      <td>-0.003752</td>\n      <td>0.006502</td>\n      <td>0.012908</td>\n      <td>...</td>\n      <td>-0.005614</td>\n      <td>-0.025181</td>\n      <td>0.009647</td>\n      <td>0.013938</td>\n      <td>0.014965</td>\n      <td>0.005226</td>\n      <td>0.002332</td>\n      <td>-0.000529</td>\n      <td>0.008820</td>\n      <td>1.0</td>\n    </tr>\n    <tr>\n      <th>239196</th>\n      <td>0.009182</td>\n      <td>-0.003492</td>\n      <td>-0.031926</td>\n      <td>0.002392</td>\n      <td>-0.018793</td>\n      <td>-0.023827</td>\n      <td>-0.001044</td>\n      <td>0.019828</td>\n      <td>-0.013035</td>\n      <td>0.004122</td>\n      <td>...</td>\n      <td>-0.016158</td>\n      <td>-0.003497</td>\n      <td>0.009215</td>\n      <td>0.000990</td>\n      <td>-0.002107</td>\n      <td>0.026849</td>\n      <td>-0.009697</td>\n      <td>-0.010849</td>\n      <td>0.010476</td>\n      <td>1.0</td>\n    </tr>\n    <tr>\n      <th>239197</th>\n      <td>-0.001418</td>\n      <td>-0.018311</td>\n      <td>0.011483</td>\n      <td>0.023322</td>\n      <td>0.025636</td>\n      <td>-0.023102</td>\n      <td>0.001740</td>\n      <td>0.012530</td>\n      <td>0.048115</td>\n      <td>0.026004</td>\n      <td>...</td>\n      <td>-0.001022</td>\n      <td>-0.014729</td>\n      <td>-0.008987</td>\n      <td>-0.006958</td>\n      <td>0.006516</td>\n      <td>-0.007015</td>\n      <td>0.000834</td>\n      <td>0.006865</td>\n      <td>-0.025998</td>\n      <td>1.0</td>\n    </tr>\n    <tr>\n      <th>239198</th>\n      <td>0.011325</td>\n      <td>-0.020572</td>\n      <td>0.004177</td>\n      <td>0.006183</td>\n      <td>-0.016365</td>\n      <td>-0.008930</td>\n      <td>-0.001547</td>\n      <td>0.006603</td>\n      <td>-0.020364</td>\n      <td>0.001661</td>\n      <td>...</td>\n      <td>-0.005893</td>\n      <td>0.003972</td>\n      <td>0.011390</td>\n      <td>0.008293</td>\n      <td>0.009735</td>\n      <td>0.005635</td>\n      <td>-0.006039</td>\n      <td>-0.011798</td>\n      <td>0.021181</td>\n      <td>1.0</td>\n    </tr>\n    <tr>\n      <th>239199</th>\n      <td>0.030455</td>\n      <td>-0.013220</td>\n      <td>-0.000295</td>\n      <td>-0.028707</td>\n      <td>-0.001837</td>\n      <td>0.027814</td>\n      <td>0.009310</td>\n      <td>-0.007105</td>\n      <td>-0.051928</td>\n      <td>-0.026264</td>\n      <td>...</td>\n      <td>0.006324</td>\n      <td>0.024747</td>\n      <td>-0.031366</td>\n      <td>0.009879</td>\n      <td>-0.013028</td>\n      <td>0.042048</td>\n      <td>0.008855</td>\n      <td>0.018863</td>\n      <td>-0.016798</td>\n      <td>0.0</td>\n    </tr>\n  </tbody>\n</table>\n<p>239200 rows × 490 columns</p>\n</div>"
     },
     "execution_count": 10,
     "metadata": {},
     "output_type": "execute_result"
    }
   ]
  },
  {
   "cell_type": "markdown",
   "metadata": {
    "id": "iavXwM8zzz0U",
    "pycharm": {
     "name": "#%% md\n"
    }
   },
   "source": [
    "### Visualization original and generated data"
   ]
  },
  {
   "cell_type": "code",
   "metadata": {
    "colab": {
     "base_uri": "https://localhost:8080/",
     "height": 284
    },
    "id": "Vt0MNaKw0SKh",
    "outputId": "a3c0a1de-aa3f-485c-80cc-e2f5c698bc61",
    "pycharm": {
     "name": "#%%\n"
    }
   },
   "source": [
    "orig = train_loader.dataset.tensors[0].detach().numpy()[0, :]  # Ohne den letzten Eintrag (Label)\n",
    "gen = generated_np[0, :-1]                                     # Ohne den letzten Eintrag (Label)\n",
    "\n",
    "plt.plot(orig)    # Die Daten etwas \"ran zoomen\" nur erste 100 anzeigen\n",
    "plt.plot(gen)\n"
   ],
   "execution_count": 11,
   "outputs": [
    {
     "data": {
      "text/plain": "[<matplotlib.lines.Line2D at 0x2482d770c10>]"
     },
     "execution_count": 11,
     "metadata": {},
     "output_type": "execute_result"
    },
    {
     "data": {
      "text/plain": "<Figure size 432x288 with 1 Axes>",
      "image/png": "[encoded data removed]"
     },
     "metadata": {
      "needs_background": "light"
     },
     "output_type": "display_data"
    }
   ]
  },
  {
   "cell_type": "markdown",
   "source": [
    "**Zoom in the first 100 records**"
   ],
   "metadata": {
    "collapsed": false,
    "pycharm": {
     "name": "#%% md\n"
    }
   }
  },
  {
   "cell_type": "code",
   "execution_count": 12,
   "outputs": [
    {
     "data": {
      "text/plain": "[<matplotlib.lines.Line2D at 0x2482d89b850>]"
     },
     "execution_count": 12,
     "metadata": {},
     "output_type": "execute_result"
    },
    {
     "data": {
      "text/plain": "<Figure size 432x288 with 1 Axes>",
      "image/png": "[encoded data removed]"
     },
     "metadata": {
      "needs_background": "light"
     },
     "output_type": "display_data"
    }
   ],
   "source": [
    "plt.plot(orig[:100])    # Die Daten etwas \"ran zoomen\" nur erste 100 anzeigen\n",
    "plt.plot(gen[:100])"
   ],
   "metadata": {
    "collapsed": false,
    "pycharm": {
     "name": "#%%\n"
    }
   }
  },
  {
   "cell_type": "markdown",
   "source": [
    "# Part II: SP500 Classification with extended data samples\n",
    "\n",
    "## 6. SP500VAEDataModule"
   ],
   "metadata": {
    "collapsed": false
   }
  },
  {
   "cell_type": "code",
   "source": [
    "class SP500VAEDataModule(pl.LightningDataModule):\n",
    "    \"\"\"Data module for the 'S&P 500' company performance data enhanced with VAE generated training samples.\"\"\"\n",
    "\n",
    "    def __init__(self, data, batch_size=32, train_val_test_split=[80,10,10]):\n",
    "        super().__init__()\n",
    "        # prepare and transform properties\n",
    "        self.batch_size = batch_size\n",
    "        self.train_val_test_split = train_val_test_split\n",
    "        # data\n",
    "        self.data = data\n",
    "        self.train_dataset = None\n",
    "        self.val_dataset = None\n",
    "        self.test_dataset = None\n",
    "\n",
    "\n",
    "    def prepare_data(self):\n",
    "        \"\"\"Download and prepare the data.\"\"\"\n",
    "        pass\n",
    "\n",
    "    def setup(self, stage: Optional[str] = None):\n",
    "        \"\"\"Setup the data according the stage 'fit' or 'test'. If the stage is none, setup the data for all stages.\"\"\"\n",
    "\n",
    "        # Split data into test, val and train dataframes\n",
    "        train_percent, val_percent, test_percent = self.train_val_test_split\n",
    "        rows = self.data.shape[0]\n",
    "        test_rows = int(test_percent * rows / 100)\n",
    "        val_rows = int(val_percent * rows / 100)\n",
    "        train_rows =  rows - test_rows - val_rows\n",
    "\n",
    "        print(\"Setup - define data split:\")\n",
    "        print(\"- Train rows : {0:04d} ( {1}%)\".format(train_rows, train_percent))\n",
    "        print(\"- Val   rows : {0:04d} ( {1}%)\".format(val_rows, val_percent))\n",
    "        print(\"- Test  rows : {0:04d} ( {1}%)\".format(test_rows, test_percent))\n",
    "        print(\"- Total rows : {0:04d} (100%)\".format(rows))\n",
    "\n",
    "        print(\"Setup - split and transform data for stage: {}\".format(stage))\n",
    "        if stage == \"fit\" or stage is None:\n",
    "            train_data = self.data.iloc[:train_rows]\n",
    "            val_data = self.data.iloc[train_rows:train_rows+val_rows]\n",
    "            print(\"- Train shape: {}\".format(train_data.shape))\n",
    "            print(\"- Val   shape: {}\".format(val_data.shape))\n",
    "            # transform data and assign properties to use in data loaders\n",
    "            self.train_dataset = self._transform_to_dataset(train_data)\n",
    "            self.val_dataset = self._transform_to_dataset(val_data)\n",
    "\n",
    "        if stage == \"test\" or stage is None:\n",
    "            test_data = self.data.iloc[train_rows+val_rows:]\n",
    "            print(\"- Test  shape: {}\".format(test_data.shape))\n",
    "            # transform data and assign properties to use in data loaders\n",
    "            self.test_dataset = self._transform_to_dataset(test_data)\n",
    "\n",
    "        print(\"- Total shape: {}\".format(self.data.shape))\n",
    "\n",
    "\n",
    "    def train_dataloader(self):\n",
    "        return DataLoader(self.train_dataset, batch_size=self.batch_size)\n",
    "\n",
    "    def val_dataloader(self):\n",
    "        return DataLoader(self.val_dataset, batch_size=self.batch_size)\n",
    "\n",
    "    def test_dataloader(self):\n",
    "        return DataLoader(self.test_dataset, batch_size=self.batch_size)\n",
    "\n",
    "    def _transform_to_dataset(self, df):\n",
    "\n",
    "        # Split labels and features\n",
    "        labels = df.SPY.values\n",
    "        features = df.iloc[:, :-1].values\n",
    "\n",
    "        # Convert to tensor\n",
    "        tensor_labels   = torch.tensor(labels).unsqueeze(1).float()\n",
    "        tensor_features = torch.tensor(features).float()\n",
    "\n",
    "        # Create tensor dataset\n",
    "        return TensorDataset(tensor_features, tensor_labels)"
   ],
   "metadata": {
    "collapsed": false,
    "pycharm": {
     "name": "#%%\n"
    }
   },
   "execution_count": 13,
   "outputs": []
  },
  {
   "cell_type": "markdown",
   "source": [
    "## 7. SP500ClassifierModel"
   ],
   "metadata": {
    "collapsed": false
   }
  },
  {
   "cell_type": "code",
   "execution_count": 14,
   "outputs": [],
   "source": [
    "class SP500ClassifierModel(pl.LightningModule):\n",
    "\n",
    "    def __init__(self, learning_rate=0.001):\n",
    "        super().__init__()\n",
    "        self.learning_rate = learning_rate\n",
    "        self.metric = torchmetrics.Accuracy()\n",
    "        # Model\n",
    "        self.linear_relu_stack = nn.Sequential(\n",
    "            nn.Linear(489, 512),\n",
    "            nn.Dropout(.5),\n",
    "            nn.ReLU(),\n",
    "            nn.Linear(512, 64),\n",
    "            nn.Dropout(.5),\n",
    "            nn.ReLU(),\n",
    "            nn.Linear(64, 32),\n",
    "            nn.Dropout(.5),\n",
    "            nn.ReLU(),\n",
    "            nn.Linear(32, 1)\n",
    "        )\n",
    "        # Loss\n",
    "        self.loss_fn = F.binary_cross_entropy_with_logits\n",
    "\n",
    "    def process_step(self, batch, batch_idx):\n",
    "        x, y = batch\n",
    "        pred = self.linear_relu_stack(x)\n",
    "        loss = self.loss_fn(pred, y)\n",
    "\n",
    "        # calculate accuracy\n",
    "        pred = (pred>0.5).int()\n",
    "        acc = self.metric(pred, y.int())\n",
    "\n",
    "        return loss, acc\n",
    "\n",
    "    def training_step(self, batch, batch_idx):\n",
    "        loss, acc = self.process_step(batch, batch_idx)\n",
    "        self.log('train_loss', loss)\n",
    "        self.log('train_accuracy', acc)\n",
    "        return loss\n",
    "\n",
    "    def validation_step(self, batch, batch_idx):\n",
    "        loss, acc = self.process_step(batch, batch_idx)\n",
    "        print(\"val_loss:\", loss)\n",
    "        self.log('val_accuracy', acc)\n",
    "        self.log('val_loss', loss)\n",
    "\n",
    "    def test_step(self, batch, batch_idx):\n",
    "        loss, acc = self.process_step(batch, batch_idx)\n",
    "        self.log('test_loss', loss)\n",
    "        self.log('test_accuracy', acc)\n",
    "\n",
    "    def configure_optimizers(self):\n",
    "        # Update params step: params = params - lr * grad\n",
    "        optimizer = torch.optim.Adam(self.parameters(), lr=self.learning_rate)\n",
    "        return optimizer"
   ],
   "metadata": {
    "collapsed": false,
    "pycharm": {
     "name": "#%%\n"
    }
   }
  },
  {
   "cell_type": "markdown",
   "source": [
    "## 8. Train SP500ClassifierModel with extended data samples (SP500VAEDataModule)\n",
    "\n",
    "### Merge Data\n",
    "\n",
    "**Original data**"
   ],
   "metadata": {
    "collapsed": false
   }
  },
  {
   "cell_type": "code",
   "execution_count": 15,
   "outputs": [
    {
     "data": {
      "text/plain": "                   A       AAL       AAP      AAPL      ABBV       ABC  \\\nDate                                                                     \n2010-01-04  0.007375 -0.014569 -0.002473  0.015445  0.000000  0.021253   \n2010-01-05 -0.010922  0.107246 -0.005962  0.001727  0.000000 -0.007160   \n2010-01-06 -0.003559 -0.042314  0.008682 -0.016034  0.000000 -0.009501   \n2010-01-07 -0.001297  0.029044 -0.000247 -0.001850  0.000000 -0.016166   \n2010-01-08 -0.000325 -0.019268  0.003945  0.006626  0.000000  0.010807   \n...              ...       ...       ...       ...       ...       ...   \n2021-11-10 -0.003322 -0.031488  0.010189 -0.019349  0.009812  0.008069   \n2021-11-11 -0.003081 -0.011189  0.015553 -0.000338 -0.001028  0.000080   \n2021-11-12  0.013076 -0.049986  0.002471  0.014235  0.002911  0.000878   \n2021-11-15 -0.019457  0.001477  0.011935  0.000067 -0.001112 -0.007367   \n2021-11-16  0.026086 -0.036076 -0.040881  0.006694  0.000428  0.003690   \n\n                ABMD       ABT       ACN      ADBE  ...      XLNX       XOM  \\\nDate                                                ...                       \n2010-01-04  0.001145  0.008668  0.013641  0.008393  ...  0.012689  0.013980   \n2010-01-05 -0.024321 -0.008112  0.006162  0.016313  ... -0.012689  0.003897   \n2010-01-06 -0.015358  0.005539  0.010574 -0.002124  ... -0.006807  0.008606   \n2010-01-07  0.000000  0.008250 -0.000935 -0.019595  ... -0.010095 -0.003147   \n2010-01-08 -0.020446  0.005099 -0.003986 -0.005436  ...  0.014505 -0.004020   \n...              ...       ...       ...       ...  ...       ...       ...   \n2021-11-10 -0.043423  0.010934 -0.007457 -0.031050  ... -0.035299 -0.019897   \n2021-11-11  0.002864 -0.004469  0.004022 -0.006710  ...  0.053570  0.001868   \n2021-11-12  0.011987  0.009386  0.013615  0.022188  ...  0.023760 -0.007648   \n2021-11-15 -0.035337  0.007678 -0.007517  0.003234  ...  0.006852  0.008581   \n2021-11-16  0.013685  0.011178  0.006169  0.019038  ...  0.010352  0.013042   \n\n                XRAY       XYL       YUM       ZBH      ZBRA      ZION  \\\nDate                                                                     \n2010-01-04  0.004539  0.000000  0.003426  0.015278  0.011224  0.038231   \n2010-01-05 -0.011959  0.000000 -0.003426  0.031165 -0.001745  0.034651   \n2010-01-06  0.006566  0.000000 -0.007174 -0.000323 -0.007717  0.083382   \n2010-01-07  0.013005  0.000000 -0.000288  0.022681 -0.025318  0.106160   \n2010-01-08  0.000000  0.000000  0.000288 -0.021228 -0.003256 -0.016320   \n...              ...       ...       ...       ...       ...       ...   \n2021-11-10 -0.000718 -0.009331 -0.003095 -0.003803 -0.023644 -0.001229   \n2021-11-11 -0.022868 -0.014929 -0.011030 -0.008854  0.005588  0.012523   \n2021-11-12  0.008410  0.001687  0.006409 -0.002339  0.011522 -0.006242   \n2021-11-15  0.000546 -0.008154  0.010881 -0.009487 -0.001827  0.013199   \n2021-11-16 -0.003828  0.008345  0.005907  0.009487  0.023620  0.005261   \n\n                 ZTS  SPY  \nDate                       \n2010-01-04  0.000000    1  \n2010-01-05  0.000000    1  \n2010-01-06  0.000000    1  \n2010-01-07  0.000000    1  \n2010-01-08  0.000000    1  \n...              ...  ...  \n2021-11-10 -0.016667    0  \n2021-11-11 -0.004118    1  \n2021-11-12  0.005364    1  \n2021-11-15 -0.003650    1  \n2021-11-16  0.021611    1  \n\n[2990 rows x 490 columns]",
      "text/html": "<div>\n<style scoped>\n    .dataframe tbody tr th:only-of-type {\n        vertical-align: middle;\n    }\n\n    .dataframe tbody tr th {\n        vertical-align: top;\n    }\n\n    .dataframe thead th {\n        text-align: right;\n    }\n</style>\n<table border=\"1\" class=\"dataframe\">\n  <thead>\n    <tr style=\"text-align: right;\">\n      <th></th>\n      <th>A</th>\n      <th>AAL</th>\n      <th>AAP</th>\n      <th>AAPL</th>\n      <th>ABBV</th>\n      <th>ABC</th>\n      <th>ABMD</th>\n      <th>ABT</th>\n      <th>ACN</th>\n      <th>ADBE</th>\n      <th>...</th>\n      <th>XLNX</th>\n      <th>XOM</th>\n      <th>XRAY</th>\n      <th>XYL</th>\n      <th>YUM</th>\n      <th>ZBH</th>\n      <th>ZBRA</th>\n      <th>ZION</th>\n      <th>ZTS</th>\n      <th>SPY</th>\n    </tr>\n    <tr>\n      <th>Date</th>\n      <th></th>\n      <th></th>\n      <th></th>\n      <th></th>\n      <th></th>\n      <th></th>\n      <th></th>\n      <th></th>\n      <th></th>\n      <th></th>\n      <th></th>\n      <th></th>\n      <th></th>\n      <th></th>\n      <th></th>\n      <th></th>\n      <th></th>\n      <th></th>\n      <th></th>\n      <th></th>\n      <th></th>\n    </tr>\n  </thead>\n  <tbody>\n    <tr>\n      <th>2010-01-04</th>\n      <td>0.007375</td>\n      <td>-0.014569</td>\n      <td>-0.002473</td>\n      <td>0.015445</td>\n      <td>0.000000</td>\n      <td>0.021253</td>\n      <td>0.001145</td>\n      <td>0.008668</td>\n      <td>0.013641</td>\n      <td>0.008393</td>\n      <td>...</td>\n      <td>0.012689</td>\n      <td>0.013980</td>\n      <td>0.004539</td>\n      <td>0.000000</td>\n      <td>0.003426</td>\n      <td>0.015278</td>\n      <td>0.011224</td>\n      <td>0.038231</td>\n      <td>0.000000</td>\n      <td>1</td>\n    </tr>\n    <tr>\n      <th>2010-01-05</th>\n      <td>-0.010922</td>\n      <td>0.107246</td>\n      <td>-0.005962</td>\n      <td>0.001727</td>\n      <td>0.000000</td>\n      <td>-0.007160</td>\n      <td>-0.024321</td>\n      <td>-0.008112</td>\n      <td>0.006162</td>\n      <td>0.016313</td>\n      <td>...</td>\n      <td>-0.012689</td>\n      <td>0.003897</td>\n      <td>-0.011959</td>\n      <td>0.000000</td>\n      <td>-0.003426</td>\n      <td>0.031165</td>\n      <td>-0.001745</td>\n      <td>0.034651</td>\n      <td>0.000000</td>\n      <td>1</td>\n    </tr>\n    <tr>\n      <th>2010-01-06</th>\n      <td>-0.003559</td>\n      <td>-0.042314</td>\n      <td>0.008682</td>\n      <td>-0.016034</td>\n      <td>0.000000</td>\n      <td>-0.009501</td>\n      <td>-0.015358</td>\n      <td>0.005539</td>\n      <td>0.010574</td>\n      <td>-0.002124</td>\n      <td>...</td>\n      <td>-0.006807</td>\n      <td>0.008606</td>\n      <td>0.006566</td>\n      <td>0.000000</td>\n      <td>-0.007174</td>\n      <td>-0.000323</td>\n      <td>-0.007717</td>\n      <td>0.083382</td>\n      <td>0.000000</td>\n      <td>1</td>\n    </tr>\n    <tr>\n      <th>2010-01-07</th>\n      <td>-0.001297</td>\n      <td>0.029044</td>\n      <td>-0.000247</td>\n      <td>-0.001850</td>\n      <td>0.000000</td>\n      <td>-0.016166</td>\n      <td>0.000000</td>\n      <td>0.008250</td>\n      <td>-0.000935</td>\n      <td>-0.019595</td>\n      <td>...</td>\n      <td>-0.010095</td>\n      <td>-0.003147</td>\n      <td>0.013005</td>\n      <td>0.000000</td>\n      <td>-0.000288</td>\n      <td>0.022681</td>\n      <td>-0.025318</td>\n      <td>0.106160</td>\n      <td>0.000000</td>\n      <td>1</td>\n    </tr>\n    <tr>\n      <th>2010-01-08</th>\n      <td>-0.000325</td>\n      <td>-0.019268</td>\n      <td>0.003945</td>\n      <td>0.006626</td>\n      <td>0.000000</td>\n      <td>0.010807</td>\n      <td>-0.020446</td>\n      <td>0.005099</td>\n      <td>-0.003986</td>\n      <td>-0.005436</td>\n      <td>...</td>\n      <td>0.014505</td>\n      <td>-0.004020</td>\n      <td>0.000000</td>\n      <td>0.000000</td>\n      <td>0.000288</td>\n      <td>-0.021228</td>\n      <td>-0.003256</td>\n      <td>-0.016320</td>\n      <td>0.000000</td>\n      <td>1</td>\n    </tr>\n    <tr>\n      <th>...</th>\n      <td>...</td>\n      <td>...</td>\n      <td>...</td>\n      <td>...</td>\n      <td>...</td>\n      <td>...</td>\n      <td>...</td>\n      <td>...</td>\n      <td>...</td>\n      <td>...</td>\n      <td>...</td>\n      <td>...</td>\n      <td>...</td>\n      <td>...</td>\n      <td>...</td>\n      <td>...</td>\n      <td>...</td>\n      <td>...</td>\n      <td>...</td>\n      <td>...</td>\n      <td>...</td>\n    </tr>\n    <tr>\n      <th>2021-11-10</th>\n      <td>-0.003322</td>\n      <td>-0.031488</td>\n      <td>0.010189</td>\n      <td>-0.019349</td>\n      <td>0.009812</td>\n      <td>0.008069</td>\n      <td>-0.043423</td>\n      <td>0.010934</td>\n      <td>-0.007457</td>\n      <td>-0.031050</td>\n      <td>...</td>\n      <td>-0.035299</td>\n      <td>-0.019897</td>\n      <td>-0.000718</td>\n      <td>-0.009331</td>\n      <td>-0.003095</td>\n      <td>-0.003803</td>\n      <td>-0.023644</td>\n      <td>-0.001229</td>\n      <td>-0.016667</td>\n      <td>0</td>\n    </tr>\n    <tr>\n      <th>2021-11-11</th>\n      <td>-0.003081</td>\n      <td>-0.011189</td>\n      <td>0.015553</td>\n      <td>-0.000338</td>\n      <td>-0.001028</td>\n      <td>0.000080</td>\n      <td>0.002864</td>\n      <td>-0.004469</td>\n      <td>0.004022</td>\n      <td>-0.006710</td>\n      <td>...</td>\n      <td>0.053570</td>\n      <td>0.001868</td>\n      <td>-0.022868</td>\n      <td>-0.014929</td>\n      <td>-0.011030</td>\n      <td>-0.008854</td>\n      <td>0.005588</td>\n      <td>0.012523</td>\n      <td>-0.004118</td>\n      <td>1</td>\n    </tr>\n    <tr>\n      <th>2021-11-12</th>\n      <td>0.013076</td>\n      <td>-0.049986</td>\n      <td>0.002471</td>\n      <td>0.014235</td>\n      <td>0.002911</td>\n      <td>0.000878</td>\n      <td>0.011987</td>\n      <td>0.009386</td>\n      <td>0.013615</td>\n      <td>0.022188</td>\n      <td>...</td>\n      <td>0.023760</td>\n      <td>-0.007648</td>\n      <td>0.008410</td>\n      <td>0.001687</td>\n      <td>0.006409</td>\n      <td>-0.002339</td>\n      <td>0.011522</td>\n      <td>-0.006242</td>\n      <td>0.005364</td>\n      <td>1</td>\n    </tr>\n    <tr>\n      <th>2021-11-15</th>\n      <td>-0.019457</td>\n      <td>0.001477</td>\n      <td>0.011935</td>\n      <td>0.000067</td>\n      <td>-0.001112</td>\n      <td>-0.007367</td>\n      <td>-0.035337</td>\n      <td>0.007678</td>\n      <td>-0.007517</td>\n      <td>0.003234</td>\n      <td>...</td>\n      <td>0.006852</td>\n      <td>0.008581</td>\n      <td>0.000546</td>\n      <td>-0.008154</td>\n      <td>0.010881</td>\n      <td>-0.009487</td>\n      <td>-0.001827</td>\n      <td>0.013199</td>\n      <td>-0.003650</td>\n      <td>1</td>\n    </tr>\n    <tr>\n      <th>2021-11-16</th>\n      <td>0.026086</td>\n      <td>-0.036076</td>\n      <td>-0.040881</td>\n      <td>0.006694</td>\n      <td>0.000428</td>\n      <td>0.003690</td>\n      <td>0.013685</td>\n      <td>0.011178</td>\n      <td>0.006169</td>\n      <td>0.019038</td>\n      <td>...</td>\n      <td>0.010352</td>\n      <td>0.013042</td>\n      <td>-0.003828</td>\n      <td>0.008345</td>\n      <td>0.005907</td>\n      <td>0.009487</td>\n      <td>0.023620</td>\n      <td>0.005261</td>\n      <td>0.021611</td>\n      <td>1</td>\n    </tr>\n  </tbody>\n</table>\n<p>2990 rows × 490 columns</p>\n</div>"
     },
     "execution_count": 15,
     "metadata": {},
     "output_type": "execute_result"
    }
   ],
   "source": [
    "original_df = sp500_datamodule.data\n",
    "original_df"
   ],
   "metadata": {
    "collapsed": false,
    "pycharm": {
     "name": "#%%\n"
    }
   }
  },
  {
   "cell_type": "markdown",
   "source": [
    "**Generated data**"
   ],
   "metadata": {
    "collapsed": false
   }
  },
  {
   "cell_type": "code",
   "source": [
    "# Rename label column name to 'SPY'\n",
    "generated_df.rename(columns={489: 'SPY'}, inplace=True)\n",
    "generated_df"
   ],
   "metadata": {
    "collapsed": false,
    "pycharm": {
     "name": "#%%\n"
    }
   },
   "execution_count": 16,
   "outputs": [
    {
     "data": {
      "text/plain": "               0         1         2         3         4         5         6  \\\n0      -0.011653  0.015470 -0.006914  0.013655  0.009119 -0.020958  0.003790   \n1      -0.014290  0.013180 -0.028836 -0.007642 -0.014798  0.008813  0.006815   \n2       0.000285  0.009342  0.001885 -0.011000  0.007022  0.004747  0.003407   \n3       0.010673 -0.016490 -0.007390  0.001602  0.001330 -0.014099  0.019956   \n4      -0.003875  0.012943 -0.045891  0.007490  0.010026  0.007371  0.009923   \n...          ...       ...       ...       ...       ...       ...       ...   \n239195 -0.008162 -0.016053 -0.008407  0.002953  0.004560  0.002540 -0.003785   \n239196  0.009182 -0.003492 -0.031926  0.002392 -0.018793 -0.023827 -0.001044   \n239197 -0.001418 -0.018311  0.011483  0.023322  0.025636 -0.023102  0.001740   \n239198  0.011325 -0.020572  0.004177  0.006183 -0.016365 -0.008930 -0.001547   \n239199  0.030455 -0.013220 -0.000295 -0.028707 -0.001837  0.027814  0.009310   \n\n               7         8         9  ...       480       481       482  \\\n0       0.004509 -0.003615  0.016642  ... -0.019169  0.008474  0.030544   \n1       0.007534  0.014212 -0.013079  ... -0.010721 -0.024389  0.009019   \n2       0.012922 -0.013720 -0.015277  ... -0.013035 -0.005143 -0.001382   \n3      -0.018199 -0.008102 -0.020999  ... -0.022641 -0.035414  0.014318   \n4      -0.000910  0.023387 -0.003994  ... -0.042004  0.002619  0.020044   \n...          ...       ...       ...  ...       ...       ...       ...   \n239195 -0.003752  0.006502  0.012908  ... -0.005614 -0.025181  0.009647   \n239196  0.019828 -0.013035  0.004122  ... -0.016158 -0.003497  0.009215   \n239197  0.012530  0.048115  0.026004  ... -0.001022 -0.014729 -0.008987   \n239198  0.006603 -0.020364  0.001661  ... -0.005893  0.003972  0.011390   \n239199 -0.007105 -0.051928 -0.026264  ...  0.006324  0.024747 -0.031366   \n\n             483       484       485       486       487       488  SPY  \n0       0.028342 -0.015323  0.007714 -0.005794  0.000117  0.023572  1.0  \n1      -0.006053 -0.002905 -0.008290 -0.004506 -0.007830  0.002366  1.0  \n2      -0.003091  0.019470  0.024643 -0.009110 -0.001161  0.015146  1.0  \n3      -0.020342  0.018413  0.012526  0.002736 -0.019061  0.003080  1.0  \n4       0.004483 -0.025828  0.004298 -0.002268 -0.013497  0.014703  1.0  \n...          ...       ...       ...       ...       ...       ...  ...  \n239195  0.013938  0.014965  0.005226  0.002332 -0.000529  0.008820  1.0  \n239196  0.000990 -0.002107  0.026849 -0.009697 -0.010849  0.010476  1.0  \n239197 -0.006958  0.006516 -0.007015  0.000834  0.006865 -0.025998  1.0  \n239198  0.008293  0.009735  0.005635 -0.006039 -0.011798  0.021181  1.0  \n239199  0.009879 -0.013028  0.042048  0.008855  0.018863 -0.016798  0.0  \n\n[239200 rows x 490 columns]",
      "text/html": "<div>\n<style scoped>\n    .dataframe tbody tr th:only-of-type {\n        vertical-align: middle;\n    }\n\n    .dataframe tbody tr th {\n        vertical-align: top;\n    }\n\n    .dataframe thead th {\n        text-align: right;\n    }\n</style>\n<table border=\"1\" class=\"dataframe\">\n  <thead>\n    <tr style=\"text-align: right;\">\n      <th></th>\n      <th>0</th>\n      <th>1</th>\n      <th>2</th>\n      <th>3</th>\n      <th>4</th>\n      <th>5</th>\n      <th>6</th>\n      <th>7</th>\n      <th>8</th>\n      <th>9</th>\n      <th>...</th>\n      <th>480</th>\n      <th>481</th>\n      <th>482</th>\n      <th>483</th>\n      <th>484</th>\n      <th>485</th>\n      <th>486</th>\n      <th>487</th>\n      <th>488</th>\n      <th>SPY</th>\n    </tr>\n  </thead>\n  <tbody>\n    <tr>\n      <th>0</th>\n      <td>-0.011653</td>\n      <td>0.015470</td>\n      <td>-0.006914</td>\n      <td>0.013655</td>\n      <td>0.009119</td>\n      <td>-0.020958</td>\n      <td>0.003790</td>\n      <td>0.004509</td>\n      <td>-0.003615</td>\n      <td>0.016642</td>\n      <td>...</td>\n      <td>-0.019169</td>\n      <td>0.008474</td>\n      <td>0.030544</td>\n      <td>0.028342</td>\n      <td>-0.015323</td>\n      <td>0.007714</td>\n      <td>-0.005794</td>\n      <td>0.000117</td>\n      <td>0.023572</td>\n      <td>1.0</td>\n    </tr>\n    <tr>\n      <th>1</th>\n      <td>-0.014290</td>\n      <td>0.013180</td>\n      <td>-0.028836</td>\n      <td>-0.007642</td>\n      <td>-0.014798</td>\n      <td>0.008813</td>\n      <td>0.006815</td>\n      <td>0.007534</td>\n      <td>0.014212</td>\n      <td>-0.013079</td>\n      <td>...</td>\n      <td>-0.010721</td>\n      <td>-0.024389</td>\n      <td>0.009019</td>\n      <td>-0.006053</td>\n      <td>-0.002905</td>\n      <td>-0.008290</td>\n      <td>-0.004506</td>\n      <td>-0.007830</td>\n      <td>0.002366</td>\n      <td>1.0</td>\n    </tr>\n    <tr>\n      <th>2</th>\n      <td>0.000285</td>\n      <td>0.009342</td>\n      <td>0.001885</td>\n      <td>-0.011000</td>\n      <td>0.007022</td>\n      <td>0.004747</td>\n      <td>0.003407</td>\n      <td>0.012922</td>\n      <td>-0.013720</td>\n      <td>-0.015277</td>\n      <td>...</td>\n      <td>-0.013035</td>\n      <td>-0.005143</td>\n      <td>-0.001382</td>\n      <td>-0.003091</td>\n      <td>0.019470</td>\n      <td>0.024643</td>\n      <td>-0.009110</td>\n      <td>-0.001161</td>\n      <td>0.015146</td>\n      <td>1.0</td>\n    </tr>\n    <tr>\n      <th>3</th>\n      <td>0.010673</td>\n      <td>-0.016490</td>\n      <td>-0.007390</td>\n      <td>0.001602</td>\n      <td>0.001330</td>\n      <td>-0.014099</td>\n      <td>0.019956</td>\n      <td>-0.018199</td>\n      <td>-0.008102</td>\n      <td>-0.020999</td>\n      <td>...</td>\n      <td>-0.022641</td>\n      <td>-0.035414</td>\n      <td>0.014318</td>\n      <td>-0.020342</td>\n      <td>0.018413</td>\n      <td>0.012526</td>\n      <td>0.002736</td>\n      <td>-0.019061</td>\n      <td>0.003080</td>\n      <td>1.0</td>\n    </tr>\n    <tr>\n      <th>4</th>\n      <td>-0.003875</td>\n      <td>0.012943</td>\n      <td>-0.045891</td>\n      <td>0.007490</td>\n      <td>0.010026</td>\n      <td>0.007371</td>\n      <td>0.009923</td>\n      <td>-0.000910</td>\n      <td>0.023387</td>\n      <td>-0.003994</td>\n      <td>...</td>\n      <td>-0.042004</td>\n      <td>0.002619</td>\n      <td>0.020044</td>\n      <td>0.004483</td>\n      <td>-0.025828</td>\n      <td>0.004298</td>\n      <td>-0.002268</td>\n      <td>-0.013497</td>\n      <td>0.014703</td>\n      <td>1.0</td>\n    </tr>\n    <tr>\n      <th>...</th>\n      <td>...</td>\n      <td>...</td>\n      <td>...</td>\n      <td>...</td>\n      <td>...</td>\n      <td>...</td>\n      <td>...</td>\n      <td>...</td>\n      <td>...</td>\n      <td>...</td>\n      <td>...</td>\n      <td>...</td>\n      <td>...</td>\n      <td>...</td>\n      <td>...</td>\n      <td>...</td>\n      <td>...</td>\n      <td>...</td>\n      <td>...</td>\n      <td>...</td>\n      <td>...</td>\n    </tr>\n    <tr>\n      <th>239195</th>\n      <td>-0.008162</td>\n      <td>-0.016053</td>\n      <td>-0.008407</td>\n      <td>0.002953</td>\n      <td>0.004560</td>\n      <td>0.002540</td>\n      <td>-0.003785</td>\n      <td>-0.003752</td>\n      <td>0.006502</td>\n      <td>0.012908</td>\n      <td>...</td>\n      <td>-0.005614</td>\n      <td>-0.025181</td>\n      <td>0.009647</td>\n      <td>0.013938</td>\n      <td>0.014965</td>\n      <td>0.005226</td>\n      <td>0.002332</td>\n      <td>-0.000529</td>\n      <td>0.008820</td>\n      <td>1.0</td>\n    </tr>\n    <tr>\n      <th>239196</th>\n      <td>0.009182</td>\n      <td>-0.003492</td>\n      <td>-0.031926</td>\n      <td>0.002392</td>\n      <td>-0.018793</td>\n      <td>-0.023827</td>\n      <td>-0.001044</td>\n      <td>0.019828</td>\n      <td>-0.013035</td>\n      <td>0.004122</td>\n      <td>...</td>\n      <td>-0.016158</td>\n      <td>-0.003497</td>\n      <td>0.009215</td>\n      <td>0.000990</td>\n      <td>-0.002107</td>\n      <td>0.026849</td>\n      <td>-0.009697</td>\n      <td>-0.010849</td>\n      <td>0.010476</td>\n      <td>1.0</td>\n    </tr>\n    <tr>\n      <th>239197</th>\n      <td>-0.001418</td>\n      <td>-0.018311</td>\n      <td>0.011483</td>\n      <td>0.023322</td>\n      <td>0.025636</td>\n      <td>-0.023102</td>\n      <td>0.001740</td>\n      <td>0.012530</td>\n      <td>0.048115</td>\n      <td>0.026004</td>\n      <td>...</td>\n      <td>-0.001022</td>\n      <td>-0.014729</td>\n      <td>-0.008987</td>\n      <td>-0.006958</td>\n      <td>0.006516</td>\n      <td>-0.007015</td>\n      <td>0.000834</td>\n      <td>0.006865</td>\n      <td>-0.025998</td>\n      <td>1.0</td>\n    </tr>\n    <tr>\n      <th>239198</th>\n      <td>0.011325</td>\n      <td>-0.020572</td>\n      <td>0.004177</td>\n      <td>0.006183</td>\n      <td>-0.016365</td>\n      <td>-0.008930</td>\n      <td>-0.001547</td>\n      <td>0.006603</td>\n      <td>-0.020364</td>\n      <td>0.001661</td>\n      <td>...</td>\n      <td>-0.005893</td>\n      <td>0.003972</td>\n      <td>0.011390</td>\n      <td>0.008293</td>\n      <td>0.009735</td>\n      <td>0.005635</td>\n      <td>-0.006039</td>\n      <td>-0.011798</td>\n      <td>0.021181</td>\n      <td>1.0</td>\n    </tr>\n    <tr>\n      <th>239199</th>\n      <td>0.030455</td>\n      <td>-0.013220</td>\n      <td>-0.000295</td>\n      <td>-0.028707</td>\n      <td>-0.001837</td>\n      <td>0.027814</td>\n      <td>0.009310</td>\n      <td>-0.007105</td>\n      <td>-0.051928</td>\n      <td>-0.026264</td>\n      <td>...</td>\n      <td>0.006324</td>\n      <td>0.024747</td>\n      <td>-0.031366</td>\n      <td>0.009879</td>\n      <td>-0.013028</td>\n      <td>0.042048</td>\n      <td>0.008855</td>\n      <td>0.018863</td>\n      <td>-0.016798</td>\n      <td>0.0</td>\n    </tr>\n  </tbody>\n</table>\n<p>239200 rows × 490 columns</p>\n</div>"
     },
     "execution_count": 16,
     "metadata": {},
     "output_type": "execute_result"
    }
   ]
  },
  {
   "cell_type": "markdown",
   "source": [
    "**Merged data**"
   ],
   "metadata": {
    "collapsed": false
   }
  },
  {
   "cell_type": "code",
   "execution_count": 17,
   "outputs": [
    {
     "data": {
      "text/plain": "               0         1         2         3         4         5         6  \\\n0      -0.011653  0.015470 -0.006914  0.013655  0.009119 -0.020958  0.003790   \n1      -0.014290  0.013180 -0.028836 -0.007642 -0.014798  0.008813  0.006815   \n2       0.000285  0.009342  0.001885 -0.011000  0.007022  0.004747  0.003407   \n3       0.010673 -0.016490 -0.007390  0.001602  0.001330 -0.014099  0.019956   \n4      -0.003875  0.012943 -0.045891  0.007490  0.010026  0.007371  0.009923   \n...          ...       ...       ...       ...       ...       ...       ...   \n242185 -0.003322 -0.031488  0.010189 -0.019349  0.009812  0.008069 -0.043423   \n242186 -0.003081 -0.011189  0.015553 -0.000338 -0.001028  0.000080  0.002864   \n242187  0.013076 -0.049986  0.002471  0.014235  0.002911  0.000878  0.011987   \n242188 -0.019457  0.001477  0.011935  0.000067 -0.001112 -0.007367 -0.035337   \n242189  0.026086 -0.036076 -0.040881  0.006694  0.000428  0.003690  0.013685   \n\n               7         8         9  ...       480       481       482  \\\n0       0.004509 -0.003615  0.016642  ... -0.019169  0.008474  0.030544   \n1       0.007534  0.014212 -0.013079  ... -0.010721 -0.024389  0.009019   \n2       0.012922 -0.013720 -0.015277  ... -0.013035 -0.005143 -0.001382   \n3      -0.018199 -0.008102 -0.020999  ... -0.022641 -0.035414  0.014318   \n4      -0.000910  0.023387 -0.003994  ... -0.042004  0.002619  0.020044   \n...          ...       ...       ...  ...       ...       ...       ...   \n242185  0.010934 -0.007457 -0.031050  ... -0.035299 -0.019897 -0.000718   \n242186 -0.004469  0.004022 -0.006710  ...  0.053570  0.001868 -0.022868   \n242187  0.009386  0.013615  0.022188  ...  0.023760 -0.007648  0.008410   \n242188  0.007678 -0.007517  0.003234  ...  0.006852  0.008581  0.000546   \n242189  0.011178  0.006169  0.019038  ...  0.010352  0.013042 -0.003828   \n\n             483       484       485       486       487       488  SPY  \n0       0.028342 -0.015323  0.007714 -0.005794  0.000117  0.023572  1.0  \n1      -0.006053 -0.002905 -0.008290 -0.004506 -0.007830  0.002366  1.0  \n2      -0.003091  0.019470  0.024643 -0.009110 -0.001161  0.015146  1.0  \n3      -0.020342  0.018413  0.012526  0.002736 -0.019061  0.003080  1.0  \n4       0.004483 -0.025828  0.004298 -0.002268 -0.013497  0.014703  1.0  \n...          ...       ...       ...       ...       ...       ...  ...  \n242185 -0.009331 -0.003095 -0.003803 -0.023644 -0.001229 -0.016667  0.0  \n242186 -0.014929 -0.011030 -0.008854  0.005588  0.012523 -0.004118  1.0  \n242187  0.001687  0.006409 -0.002339  0.011522 -0.006242  0.005364  1.0  \n242188 -0.008154  0.010881 -0.009487 -0.001827  0.013199 -0.003650  1.0  \n242189  0.008345  0.005907  0.009487  0.023620  0.005261  0.021611  1.0  \n\n[242190 rows x 490 columns]",
      "text/html": "<div>\n<style scoped>\n    .dataframe tbody tr th:only-of-type {\n        vertical-align: middle;\n    }\n\n    .dataframe tbody tr th {\n        vertical-align: top;\n    }\n\n    .dataframe thead th {\n        text-align: right;\n    }\n</style>\n<table border=\"1\" class=\"dataframe\">\n  <thead>\n    <tr style=\"text-align: right;\">\n      <th></th>\n      <th>0</th>\n      <th>1</th>\n      <th>2</th>\n      <th>3</th>\n      <th>4</th>\n      <th>5</th>\n      <th>6</th>\n      <th>7</th>\n      <th>8</th>\n      <th>9</th>\n      <th>...</th>\n      <th>480</th>\n      <th>481</th>\n      <th>482</th>\n      <th>483</th>\n      <th>484</th>\n      <th>485</th>\n      <th>486</th>\n      <th>487</th>\n      <th>488</th>\n      <th>SPY</th>\n    </tr>\n  </thead>\n  <tbody>\n    <tr>\n      <th>0</th>\n      <td>-0.011653</td>\n      <td>0.015470</td>\n      <td>-0.006914</td>\n      <td>0.013655</td>\n      <td>0.009119</td>\n      <td>-0.020958</td>\n      <td>0.003790</td>\n      <td>0.004509</td>\n      <td>-0.003615</td>\n      <td>0.016642</td>\n      <td>...</td>\n      <td>-0.019169</td>\n      <td>0.008474</td>\n      <td>0.030544</td>\n      <td>0.028342</td>\n      <td>-0.015323</td>\n      <td>0.007714</td>\n      <td>-0.005794</td>\n      <td>0.000117</td>\n      <td>0.023572</td>\n      <td>1.0</td>\n    </tr>\n    <tr>\n      <th>1</th>\n      <td>-0.014290</td>\n      <td>0.013180</td>\n      <td>-0.028836</td>\n      <td>-0.007642</td>\n      <td>-0.014798</td>\n      <td>0.008813</td>\n      <td>0.006815</td>\n      <td>0.007534</td>\n      <td>0.014212</td>\n      <td>-0.013079</td>\n      <td>...</td>\n      <td>-0.010721</td>\n      <td>-0.024389</td>\n      <td>0.009019</td>\n      <td>-0.006053</td>\n      <td>-0.002905</td>\n      <td>-0.008290</td>\n      <td>-0.004506</td>\n      <td>-0.007830</td>\n      <td>0.002366</td>\n      <td>1.0</td>\n    </tr>\n    <tr>\n      <th>2</th>\n      <td>0.000285</td>\n      <td>0.009342</td>\n      <td>0.001885</td>\n      <td>-0.011000</td>\n      <td>0.007022</td>\n      <td>0.004747</td>\n      <td>0.003407</td>\n      <td>0.012922</td>\n      <td>-0.013720</td>\n      <td>-0.015277</td>\n      <td>...</td>\n      <td>-0.013035</td>\n      <td>-0.005143</td>\n      <td>-0.001382</td>\n      <td>-0.003091</td>\n      <td>0.019470</td>\n      <td>0.024643</td>\n      <td>-0.009110</td>\n      <td>-0.001161</td>\n      <td>0.015146</td>\n      <td>1.0</td>\n    </tr>\n    <tr>\n      <th>3</th>\n      <td>0.010673</td>\n      <td>-0.016490</td>\n      <td>-0.007390</td>\n      <td>0.001602</td>\n      <td>0.001330</td>\n      <td>-0.014099</td>\n      <td>0.019956</td>\n      <td>-0.018199</td>\n      <td>-0.008102</td>\n      <td>-0.020999</td>\n      <td>...</td>\n      <td>-0.022641</td>\n      <td>-0.035414</td>\n      <td>0.014318</td>\n      <td>-0.020342</td>\n      <td>0.018413</td>\n      <td>0.012526</td>\n      <td>0.002736</td>\n      <td>-0.019061</td>\n      <td>0.003080</td>\n      <td>1.0</td>\n    </tr>\n    <tr>\n      <th>4</th>\n      <td>-0.003875</td>\n      <td>0.012943</td>\n      <td>-0.045891</td>\n      <td>0.007490</td>\n      <td>0.010026</td>\n      <td>0.007371</td>\n      <td>0.009923</td>\n      <td>-0.000910</td>\n      <td>0.023387</td>\n      <td>-0.003994</td>\n      <td>...</td>\n      <td>-0.042004</td>\n      <td>0.002619</td>\n      <td>0.020044</td>\n      <td>0.004483</td>\n      <td>-0.025828</td>\n      <td>0.004298</td>\n      <td>-0.002268</td>\n      <td>-0.013497</td>\n      <td>0.014703</td>\n      <td>1.0</td>\n    </tr>\n    <tr>\n      <th>...</th>\n      <td>...</td>\n      <td>...</td>\n      <td>...</td>\n      <td>...</td>\n      <td>...</td>\n      <td>...</td>\n      <td>...</td>\n      <td>...</td>\n      <td>...</td>\n      <td>...</td>\n      <td>...</td>\n      <td>...</td>\n      <td>...</td>\n      <td>...</td>\n      <td>...</td>\n      <td>...</td>\n      <td>...</td>\n      <td>...</td>\n      <td>...</td>\n      <td>...</td>\n      <td>...</td>\n    </tr>\n    <tr>\n      <th>242185</th>\n      <td>-0.003322</td>\n      <td>-0.031488</td>\n      <td>0.010189</td>\n      <td>-0.019349</td>\n      <td>0.009812</td>\n      <td>0.008069</td>\n      <td>-0.043423</td>\n      <td>0.010934</td>\n      <td>-0.007457</td>\n      <td>-0.031050</td>\n      <td>...</td>\n      <td>-0.035299</td>\n      <td>-0.019897</td>\n      <td>-0.000718</td>\n      <td>-0.009331</td>\n      <td>-0.003095</td>\n      <td>-0.003803</td>\n      <td>-0.023644</td>\n      <td>-0.001229</td>\n      <td>-0.016667</td>\n      <td>0.0</td>\n    </tr>\n    <tr>\n      <th>242186</th>\n      <td>-0.003081</td>\n      <td>-0.011189</td>\n      <td>0.015553</td>\n      <td>-0.000338</td>\n      <td>-0.001028</td>\n      <td>0.000080</td>\n      <td>0.002864</td>\n      <td>-0.004469</td>\n      <td>0.004022</td>\n      <td>-0.006710</td>\n      <td>...</td>\n      <td>0.053570</td>\n      <td>0.001868</td>\n      <td>-0.022868</td>\n      <td>-0.014929</td>\n      <td>-0.011030</td>\n      <td>-0.008854</td>\n      <td>0.005588</td>\n      <td>0.012523</td>\n      <td>-0.004118</td>\n      <td>1.0</td>\n    </tr>\n    <tr>\n      <th>242187</th>\n      <td>0.013076</td>\n      <td>-0.049986</td>\n      <td>0.002471</td>\n      <td>0.014235</td>\n      <td>0.002911</td>\n      <td>0.000878</td>\n      <td>0.011987</td>\n      <td>0.009386</td>\n      <td>0.013615</td>\n      <td>0.022188</td>\n      <td>...</td>\n      <td>0.023760</td>\n      <td>-0.007648</td>\n      <td>0.008410</td>\n      <td>0.001687</td>\n      <td>0.006409</td>\n      <td>-0.002339</td>\n      <td>0.011522</td>\n      <td>-0.006242</td>\n      <td>0.005364</td>\n      <td>1.0</td>\n    </tr>\n    <tr>\n      <th>242188</th>\n      <td>-0.019457</td>\n      <td>0.001477</td>\n      <td>0.011935</td>\n      <td>0.000067</td>\n      <td>-0.001112</td>\n      <td>-0.007367</td>\n      <td>-0.035337</td>\n      <td>0.007678</td>\n      <td>-0.007517</td>\n      <td>0.003234</td>\n      <td>...</td>\n      <td>0.006852</td>\n      <td>0.008581</td>\n      <td>0.000546</td>\n      <td>-0.008154</td>\n      <td>0.010881</td>\n      <td>-0.009487</td>\n      <td>-0.001827</td>\n      <td>0.013199</td>\n      <td>-0.003650</td>\n      <td>1.0</td>\n    </tr>\n    <tr>\n      <th>242189</th>\n      <td>0.026086</td>\n      <td>-0.036076</td>\n      <td>-0.040881</td>\n      <td>0.006694</td>\n      <td>0.000428</td>\n      <td>0.003690</td>\n      <td>0.013685</td>\n      <td>0.011178</td>\n      <td>0.006169</td>\n      <td>0.019038</td>\n      <td>...</td>\n      <td>0.010352</td>\n      <td>0.013042</td>\n      <td>-0.003828</td>\n      <td>0.008345</td>\n      <td>0.005907</td>\n      <td>0.009487</td>\n      <td>0.023620</td>\n      <td>0.005261</td>\n      <td>0.021611</td>\n      <td>1.0</td>\n    </tr>\n  </tbody>\n</table>\n<p>242190 rows × 490 columns</p>\n</div>"
     },
     "execution_count": 17,
     "metadata": {},
     "output_type": "execute_result"
    }
   ],
   "source": [
    "original_df.columns = generated_df.columns\n",
    "merged_df = generated_df.append(original_df, ignore_index=True)\n",
    "\n",
    "merged_df = merged_df.reset_index()\n",
    "del merged_df['index']\n",
    "\n",
    "merged_df"
   ],
   "metadata": {
    "collapsed": false,
    "pycharm": {
     "name": "#%%\n"
    }
   }
  },
  {
   "cell_type": "markdown",
   "source": [
    "### Train model"
   ],
   "metadata": {
    "collapsed": false
   }
  },
  {
   "cell_type": "code",
   "execution_count": 18,
   "outputs": [
    {
     "name": "stderr",
     "output_type": "stream",
     "text": [
      "GPU available: False, used: False\n",
      "TPU available: False, using: 0 TPU cores\n",
      "IPU available: False, using: 0 IPUs\n"
     ]
    },
    {
     "name": "stdout",
     "output_type": "stream",
     "text": [
      "Setup - define data split:\n",
      "- Train rows : 217971 ( 90%)\n",
      "- Val   rows : 24219 ( 10%)\n",
      "- Test  rows : 0000 ( 0%)\n",
      "- Total rows : 242190 (100%)\n",
      "Setup - split and transform data for stage: fit\n",
      "- Train shape: (217971, 490)\n",
      "- Val   shape: (24219, 490)\n",
      "- Total shape: (242190, 490)\n"
     ]
    },
    {
     "name": "stderr",
     "output_type": "stream",
     "text": [
      "\n",
      "  | Name              | Type       | Params\n",
      "-------------------------------------------------\n",
      "0 | metric            | Accuracy   | 0     \n",
      "1 | linear_relu_stack | Sequential | 285 K \n",
      "-------------------------------------------------\n",
      "285 K     Trainable params\n",
      "0         Non-trainable params\n",
      "285 K     Total params\n",
      "1.143     Total estimated model params size (MB)\n"
     ]
    },
    {
     "data": {
      "text/plain": "Validation sanity check: 0it [00:00, ?it/s]",
      "application/vnd.jupyter.widget-view+json": {
       "version_major": 2,
       "version_minor": 0,
       "model_id": "cc8e7b4773ab45e9a50c41e3fa5feac5"
      }
     },
     "metadata": {},
     "output_type": "display_data"
    },
    {
     "name": "stdout",
     "output_type": "stream",
     "text": [
      "val_loss: tensor(0.7020)\n",
      "val_loss: tensor(0.7023)\n"
     ]
    },
    {
     "data": {
      "text/plain": "Training: 0it [00:00, ?it/s]",
      "application/vnd.jupyter.widget-view+json": {
       "version_major": 2,
       "version_minor": 0,
       "model_id": "51f501f22a9e4a009ba6f5a80b61bcf1"
      }
     },
     "metadata": {},
     "output_type": "display_data"
    },
    {
     "data": {
      "text/plain": "Validating: 0it [00:00, ?it/s]",
      "application/vnd.jupyter.widget-view+json": {
       "version_major": 2,
       "version_minor": 0,
       "model_id": "1028a8318f81442ab2a5cb1997e55f52"
      }
     },
     "metadata": {},
     "output_type": "display_data"
    },
    {
     "name": "stdout",
     "output_type": "stream",
     "text": [
      "val_loss: tensor(0.6921)\n",
      "val_loss: tensor(0.6921)\n",
      "val_loss: tensor(0.6921)\n",
      "val_loss: tensor(0.6919)\n",
      "val_loss: tensor(0.6921)\n",
      "val_loss: tensor(0.6922)\n",
      "val_loss: tensor(0.6921)\n",
      "val_loss: tensor(0.6921)\n",
      "val_loss: tensor(0.6919)\n",
      "val_loss: tensor(0.6920)\n",
      "val_loss: tensor(0.6888)\n",
      "val_loss: tensor(0.6872)\n"
     ]
    },
    {
     "data": {
      "text/plain": "Validating: 0it [00:00, ?it/s]",
      "application/vnd.jupyter.widget-view+json": {
       "version_major": 2,
       "version_minor": 0,
       "model_id": "b64dfe0ca6394361bbfeccf3577a87b4"
      }
     },
     "metadata": {},
     "output_type": "display_data"
    },
    {
     "name": "stdout",
     "output_type": "stream",
     "text": [
      "val_loss: tensor(0.6883)\n",
      "val_loss: tensor(0.6880)\n",
      "val_loss: tensor(0.6880)\n",
      "val_loss: tensor(0.6868)\n",
      "val_loss: tensor(0.6880)\n",
      "val_loss: tensor(0.6886)\n",
      "val_loss: tensor(0.6875)\n",
      "val_loss: tensor(0.6883)\n",
      "val_loss: tensor(0.6875)\n",
      "val_loss: tensor(0.6877)\n",
      "val_loss: tensor(0.6787)\n",
      "val_loss: tensor(0.6753)\n"
     ]
    },
    {
     "data": {
      "text/plain": "Validating: 0it [00:00, ?it/s]",
      "application/vnd.jupyter.widget-view+json": {
       "version_major": 2,
       "version_minor": 0,
       "model_id": "b8595e29357540af81f1c23720ba9ec3"
      }
     },
     "metadata": {},
     "output_type": "display_data"
    },
    {
     "name": "stdout",
     "output_type": "stream",
     "text": [
      "val_loss: tensor(0.6882)\n",
      "val_loss: tensor(0.6879)\n",
      "val_loss: tensor(0.6878)\n",
      "val_loss: tensor(0.6866)\n",
      "val_loss: tensor(0.6879)\n",
      "val_loss: tensor(0.6885)\n",
      "val_loss: tensor(0.6873)\n",
      "val_loss: tensor(0.6882)\n",
      "val_loss: tensor(0.6874)\n",
      "val_loss: tensor(0.6876)\n",
      "val_loss: tensor(0.6789)\n",
      "val_loss: tensor(0.6757)\n"
     ]
    },
    {
     "data": {
      "text/plain": "Validating: 0it [00:00, ?it/s]",
      "application/vnd.jupyter.widget-view+json": {
       "version_major": 2,
       "version_minor": 0,
       "model_id": "47ce7666949a4f06bb7b5ce1402e3e71"
      }
     },
     "metadata": {},
     "output_type": "display_data"
    },
    {
     "name": "stdout",
     "output_type": "stream",
     "text": [
      "val_loss: tensor(0.6882)\n",
      "val_loss: tensor(0.6879)\n",
      "val_loss: tensor(0.6878)\n",
      "val_loss: tensor(0.6866)\n",
      "val_loss: tensor(0.6879)\n",
      "val_loss: tensor(0.6885)\n",
      "val_loss: tensor(0.6872)\n",
      "val_loss: tensor(0.6882)\n",
      "val_loss: tensor(0.6874)\n",
      "val_loss: tensor(0.6876)\n",
      "val_loss: tensor(0.6797)\n",
      "val_loss: tensor(0.6770)\n"
     ]
    },
    {
     "data": {
      "text/plain": "Validating: 0it [00:00, ?it/s]",
      "application/vnd.jupyter.widget-view+json": {
       "version_major": 2,
       "version_minor": 0,
       "model_id": "d68ec16cc5f94cbabffc649e744be3fb"
      }
     },
     "metadata": {},
     "output_type": "display_data"
    },
    {
     "name": "stdout",
     "output_type": "stream",
     "text": [
      "val_loss: tensor(0.6882)\n",
      "val_loss: tensor(0.6878)\n",
      "val_loss: tensor(0.6877)\n",
      "val_loss: tensor(0.6865)\n",
      "val_loss: tensor(0.6879)\n",
      "val_loss: tensor(0.6885)\n",
      "val_loss: tensor(0.6871)\n",
      "val_loss: tensor(0.6882)\n",
      "val_loss: tensor(0.6874)\n",
      "val_loss: tensor(0.6875)\n",
      "val_loss: tensor(0.6801)\n",
      "val_loss: tensor(0.6778)\n"
     ]
    },
    {
     "data": {
      "text/plain": "Validating: 0it [00:00, ?it/s]",
      "application/vnd.jupyter.widget-view+json": {
       "version_major": 2,
       "version_minor": 0,
       "model_id": "d91ff3e6404343f5a3aec0428b5360e3"
      }
     },
     "metadata": {},
     "output_type": "display_data"
    },
    {
     "name": "stdout",
     "output_type": "stream",
     "text": [
      "val_loss: tensor(0.6882)\n",
      "val_loss: tensor(0.6878)\n",
      "val_loss: tensor(0.6877)\n",
      "val_loss: tensor(0.6865)\n",
      "val_loss: tensor(0.6879)\n",
      "val_loss: tensor(0.6885)\n",
      "val_loss: tensor(0.6870)\n",
      "val_loss: tensor(0.6882)\n",
      "val_loss: tensor(0.6874)\n",
      "val_loss: tensor(0.6875)\n",
      "val_loss: tensor(0.6805)\n",
      "val_loss: tensor(0.6785)\n"
     ]
    },
    {
     "data": {
      "text/plain": "Validating: 0it [00:00, ?it/s]",
      "application/vnd.jupyter.widget-view+json": {
       "version_major": 2,
       "version_minor": 0,
       "model_id": "2f18bba2ea0e4bfcaea5f6d7ce3aa484"
      }
     },
     "metadata": {},
     "output_type": "display_data"
    },
    {
     "name": "stdout",
     "output_type": "stream",
     "text": [
      "val_loss: tensor(0.6882)\n",
      "val_loss: tensor(0.6878)\n",
      "val_loss: tensor(0.6876)\n",
      "val_loss: tensor(0.6864)\n",
      "val_loss: tensor(0.6879)\n",
      "val_loss: tensor(0.6885)\n",
      "val_loss: tensor(0.6869)\n",
      "val_loss: tensor(0.6882)\n",
      "val_loss: tensor(0.6874)\n",
      "val_loss: tensor(0.6874)\n",
      "val_loss: tensor(0.6806)\n",
      "val_loss: tensor(0.6790)\n"
     ]
    },
    {
     "data": {
      "text/plain": "Validating: 0it [00:00, ?it/s]",
      "application/vnd.jupyter.widget-view+json": {
       "version_major": 2,
       "version_minor": 0,
       "model_id": "ac57d41504ca47e782f72debbe1b9cc9"
      }
     },
     "metadata": {},
     "output_type": "display_data"
    },
    {
     "name": "stdout",
     "output_type": "stream",
     "text": [
      "val_loss: tensor(0.6882)\n",
      "val_loss: tensor(0.6878)\n",
      "val_loss: tensor(0.6876)\n",
      "val_loss: tensor(0.6865)\n",
      "val_loss: tensor(0.6879)\n",
      "val_loss: tensor(0.6885)\n",
      "val_loss: tensor(0.6869)\n",
      "val_loss: tensor(0.6883)\n",
      "val_loss: tensor(0.6874)\n",
      "val_loss: tensor(0.6875)\n",
      "val_loss: tensor(0.6812)\n",
      "val_loss: tensor(0.6799)\n"
     ]
    },
    {
     "data": {
      "text/plain": "Validating: 0it [00:00, ?it/s]",
      "application/vnd.jupyter.widget-view+json": {
       "version_major": 2,
       "version_minor": 0,
       "model_id": "ef822cd1319445c3ab6f6c7ebb2b4805"
      }
     },
     "metadata": {},
     "output_type": "display_data"
    },
    {
     "name": "stdout",
     "output_type": "stream",
     "text": [
      "val_loss: tensor(0.6883)\n",
      "val_loss: tensor(0.6879)\n",
      "val_loss: tensor(0.6875)\n",
      "val_loss: tensor(0.6865)\n",
      "val_loss: tensor(0.6879)\n",
      "val_loss: tensor(0.6886)\n",
      "val_loss: tensor(0.6869)\n",
      "val_loss: tensor(0.6883)\n",
      "val_loss: tensor(0.6875)\n",
      "val_loss: tensor(0.6875)\n",
      "val_loss: tensor(0.6817)\n",
      "val_loss: tensor(0.6808)\n"
     ]
    },
    {
     "data": {
      "text/plain": "Validating: 0it [00:00, ?it/s]",
      "application/vnd.jupyter.widget-view+json": {
       "version_major": 2,
       "version_minor": 0,
       "model_id": "48a114d86200444f8a7f1706be9abf79"
      }
     },
     "metadata": {},
     "output_type": "display_data"
    },
    {
     "name": "stdout",
     "output_type": "stream",
     "text": [
      "val_loss: tensor(0.6882)\n",
      "val_loss: tensor(0.6879)\n",
      "val_loss: tensor(0.6875)\n",
      "val_loss: tensor(0.6865)\n",
      "val_loss: tensor(0.6879)\n",
      "val_loss: tensor(0.6886)\n",
      "val_loss: tensor(0.6868)\n",
      "val_loss: tensor(0.6883)\n",
      "val_loss: tensor(0.6875)\n",
      "val_loss: tensor(0.6875)\n",
      "val_loss: tensor(0.6819)\n",
      "val_loss: tensor(0.6812)\n"
     ]
    },
    {
     "data": {
      "text/plain": "Validating: 0it [00:00, ?it/s]",
      "application/vnd.jupyter.widget-view+json": {
       "version_major": 2,
       "version_minor": 0,
       "model_id": "0a081aa4a22349abbf0f4009f4f08a19"
      }
     },
     "metadata": {},
     "output_type": "display_data"
    },
    {
     "name": "stdout",
     "output_type": "stream",
     "text": [
      "val_loss: tensor(0.6883)\n",
      "val_loss: tensor(0.6879)\n",
      "val_loss: tensor(0.6875)\n",
      "val_loss: tensor(0.6865)\n",
      "val_loss: tensor(0.6880)\n",
      "val_loss: tensor(0.6886)\n",
      "val_loss: tensor(0.6868)\n",
      "val_loss: tensor(0.6883)\n",
      "val_loss: tensor(0.6875)\n",
      "val_loss: tensor(0.6874)\n",
      "val_loss: tensor(0.6821)\n",
      "val_loss: tensor(0.6816)\n"
     ]
    },
    {
     "data": {
      "text/plain": "Validating: 0it [00:00, ?it/s]",
      "application/vnd.jupyter.widget-view+json": {
       "version_major": 2,
       "version_minor": 0,
       "model_id": "3fc5ba1327c04f8ab8d12048f3fd8d2c"
      }
     },
     "metadata": {},
     "output_type": "display_data"
    },
    {
     "name": "stdout",
     "output_type": "stream",
     "text": [
      "val_loss: tensor(0.6883)\n",
      "val_loss: tensor(0.6879)\n",
      "val_loss: tensor(0.6874)\n",
      "val_loss: tensor(0.6865)\n",
      "val_loss: tensor(0.6880)\n",
      "val_loss: tensor(0.6886)\n",
      "val_loss: tensor(0.6867)\n",
      "val_loss: tensor(0.6884)\n",
      "val_loss: tensor(0.6875)\n",
      "val_loss: tensor(0.6875)\n",
      "val_loss: tensor(0.6821)\n",
      "val_loss: tensor(0.6818)\n"
     ]
    }
   ],
   "source": [
    "epochs = 12\n",
    "batch_size = 2048\n",
    "learning_rate = 0.0001\n",
    "\n",
    "train_val_test_split=[90,10,0]\n",
    "gpus = 1 if torch.cuda.is_available() else 0\n",
    "progress_bar_refresh_rate=96\n",
    "\n",
    "sp500_vae_datamodule = SP500VAEDataModule(merged_df, batch_size=batch_size, train_val_test_split=train_val_test_split)\n",
    "model = SP500ClassifierModel(learning_rate=learning_rate)\n",
    "\n",
    "trainer = pl.Trainer(gpus=gpus, max_epochs=epochs, progress_bar_refresh_rate=progress_bar_refresh_rate)\n",
    "\n",
    "trainer.fit(model, sp500_vae_datamodule)\n"
   ],
   "metadata": {
    "collapsed": false,
    "pycharm": {
     "name": "#%%\n"
    }
   }
  },
  {
   "cell_type": "markdown",
   "source": [
    "## 9. Test SP500ClassifierModel with original data (SP500DataModule)\n",
    "For the test we use the **original S&P Data**."
   ],
   "metadata": {
    "collapsed": false
   }
  },
  {
   "cell_type": "code",
   "execution_count": 19,
   "outputs": [
    {
     "name": "stderr",
     "output_type": "stream",
     "text": [
      "Restoring states from the checkpoint path at D:\\dev\\workspace\\surfmachine\\ai\\src\\05_vae\\lightning_logs\\version_0\\checkpoints\\epoch=11-step=1283.ckpt\n",
      "Loaded model weights from checkpoint at D:\\dev\\workspace\\surfmachine\\ai\\src\\05_vae\\lightning_logs\\version_0\\checkpoints\\epoch=11-step=1283.ckpt\n"
     ]
    },
    {
     "data": {
      "text/plain": "Testing: 0it [00:00, ?it/s]",
      "application/vnd.jupyter.widget-view+json": {
       "version_major": 2,
       "version_minor": 0,
       "model_id": "4065dd3ab206481096b783c1a749e723"
      }
     },
     "metadata": {},
     "output_type": "display_data"
    },
    {
     "name": "stdout",
     "output_type": "stream",
     "text": [
      "--------------------------------------------------------------------------------\n",
      "DATALOADER:0 TEST RESULTS\n",
      "{'test_accuracy': 0.4214046895503998, 'test_loss': 0.6780058145523071}\n",
      "--------------------------------------------------------------------------------\n"
     ]
    },
    {
     "data": {
      "text/plain": "[{'test_loss': 0.6780058145523071, 'test_accuracy': 0.4214046895503998}]"
     },
     "execution_count": 19,
     "metadata": {},
     "output_type": "execute_result"
    }
   ],
   "source": [
    "trainer.test(datamodule=sp500_datamodule)\n"
   ],
   "metadata": {
    "collapsed": false,
    "pycharm": {
     "name": "#%%\n"
    }
   }
  },
  {
   "cell_type": "markdown",
   "source": [
    "# Part III: SP500 Classification with augmented model\n",
    "\n",
    "## 10. SP500VAEClassifierModel"
   ],
   "metadata": {
    "collapsed": false
   }
  },
  {
   "cell_type": "code",
   "source": [
    "class SP500VAEClassifierModel(pl.LightningModule):\n",
    "\n",
    "    def __init__(self, vae_model, learning_rate=0.001):\n",
    "        super().__init__()\n",
    "        self.learning_rate = learning_rate\n",
    "        self.metric = torchmetrics.Accuracy()\n",
    "        # Model\n",
    "        self.linear_relu_stack = nn.Sequential(\n",
    "            nn.Linear(489, 512),\n",
    "            nn.Dropout(.5),\n",
    "            nn.ReLU(),\n",
    "            nn.Linear(512, 64),\n",
    "            nn.Dropout(.5),\n",
    "            nn.ReLU(),\n",
    "            nn.Linear(64, 32),\n",
    "            nn.Dropout(.5),\n",
    "            nn.ReLU(),\n",
    "            nn.Linear(32, 1)\n",
    "        )\n",
    "        # Loss\n",
    "        self.loss_fn = F.binary_cross_entropy_with_logits\n",
    "        # VAE model\n",
    "        self.vae_model = vae_model\n",
    "\n",
    "\n",
    "    def process_step(self, batch, batch_idx, augmented=False, augmented_step=4):\n",
    "        x, y = batch\n",
    "        # calcultae pred (y-hat)\n",
    "        if augmented:\n",
    "            if batch_idx%augmented_step == 0:\n",
    "                x_augmented, _, _ = self.vae_model(x)\n",
    "                pred = self.linear_relu_stack(x_augmented)\n",
    "            else:\n",
    "                pred = self.linear_relu_stack(x)\n",
    "        else:\n",
    "            pred = self.linear_relu_stack(x)\n",
    "        # calculate loss\n",
    "        loss = self.loss_fn(pred, y)\n",
    "        # calculate accuracy\n",
    "        pred = (pred>0.5).int()\n",
    "        acc = self.metric(pred, y.int())\n",
    "\n",
    "        return loss, acc\n",
    "\n",
    "    def training_step(self, batch, batch_idx):\n",
    "        loss, acc = self.process_step(batch, batch_idx, augmented=True)\n",
    "        self.log('train_loss', loss)\n",
    "        self.log('train_accuracy', acc)\n",
    "        return loss\n",
    "\n",
    "    def validation_step(self, batch, batch_idx):\n",
    "        loss, acc = self.process_step(batch, batch_idx)\n",
    "        print(\"val_loss:\", loss)\n",
    "        self.log('val_accuracy', acc)\n",
    "        self.log('val_loss', loss)\n",
    "\n",
    "    def test_step(self, batch, batch_idx):\n",
    "        loss, acc = self.process_step(batch, batch_idx)\n",
    "        self.log('test_loss', loss)\n",
    "        self.log('test_accuracy', acc)\n",
    "\n",
    "    def configure_optimizers(self):\n",
    "        # Update params step: params = params - lr * grad\n",
    "        optimizer = torch.optim.Adam(self.parameters(), lr=self.learning_rate)\n",
    "        return optimizer"
   ],
   "metadata": {
    "collapsed": false,
    "pycharm": {
     "name": "#%%\n"
    }
   },
   "execution_count": 20,
   "outputs": []
  },
  {
   "cell_type": "markdown",
   "source": [
    "## 11. Train SP500VAEClassifierModel with original data (SP500DataModule)"
   ],
   "metadata": {
    "collapsed": false
   }
  },
  {
   "cell_type": "code",
   "source": [
    "epochs = 30\n",
    "batch_size = 48\n",
    "learning_rate = 0.0001\n",
    "\n",
    "train_val_test_split=[80,10,10]\n",
    "gpus = 1 if torch.cuda.is_available() else 0\n",
    "progress_bar_refresh_rate=16\n",
    "\n",
    "sp500_datamodule = SP500DataModule(batch_size=batch_size, train_val_test_split=train_val_test_split)\n",
    "model = SP500VAEClassifierModel(vae_model, learning_rate=learning_rate)\n",
    "\n",
    "trainer = pl.Trainer(gpus=gpus, max_epochs=epochs, progress_bar_refresh_rate=progress_bar_refresh_rate)\n",
    "\n",
    "trainer.fit(model, sp500_datamodule)"
   ],
   "metadata": {
    "collapsed": false,
    "pycharm": {
     "name": "#%%\n"
    }
   },
   "execution_count": 21,
   "outputs": [
    {
     "name": "stderr",
     "output_type": "stream",
     "text": [
      "GPU available: False, used: False\n",
      "TPU available: False, using: 0 TPU cores\n",
      "IPU available: False, using: 0 IPUs\n"
     ]
    },
    {
     "name": "stdout",
     "output_type": "stream",
     "text": [
      "Load SP500 from file: ./sp500.csv\n"
     ]
    },
    {
     "name": "stderr",
     "output_type": "stream",
     "text": [
      "\n",
      "  | Name              | Type       | Params\n",
      "-------------------------------------------------\n",
      "0 | metric            | Accuracy   | 0     \n",
      "1 | linear_relu_stack | Sequential | 285 K \n",
      "2 | vae_model         | VAE        | 416 K \n",
      "-------------------------------------------------\n",
      "702 K     Trainable params\n",
      "0         Non-trainable params\n",
      "702 K     Total params\n",
      "2.809     Total estimated model params size (MB)\n"
     ]
    },
    {
     "name": "stdout",
     "output_type": "stream",
     "text": [
      "Setup - define data split:\n",
      "- Train rows : 2392 ( 80%)\n",
      "- Val   rows : 0299 ( 10%)\n",
      "- Test  rows : 0299 ( 10%)\n",
      "- Total rows : 2990 (100%)\n",
      "Setup - split and transform data for stage: fit\n",
      "- Train shape: (2392, 490)\n",
      "- Val   shape: (299, 490)\n",
      "- Total shape: (2990, 490)\n"
     ]
    },
    {
     "data": {
      "text/plain": "Validation sanity check: 0it [00:00, ?it/s]",
      "application/vnd.jupyter.widget-view+json": {
       "version_major": 2,
       "version_minor": 0,
       "model_id": "9be04af684d741879c7360820d07943a"
      }
     },
     "metadata": {},
     "output_type": "display_data"
    },
    {
     "name": "stdout",
     "output_type": "stream",
     "text": [
      "val_loss: tensor(0.6982)\n",
      "val_loss: tensor(0.6982)\n"
     ]
    },
    {
     "data": {
      "text/plain": "Training: 0it [00:00, ?it/s]",
      "application/vnd.jupyter.widget-view+json": {
       "version_major": 2,
       "version_minor": 0,
       "model_id": "3752883eb47a4c8bbd9a1107e7168a34"
      }
     },
     "metadata": {},
     "output_type": "display_data"
    },
    {
     "data": {
      "text/plain": "Validating: 0it [00:00, ?it/s]",
      "application/vnd.jupyter.widget-view+json": {
       "version_major": 2,
       "version_minor": 0,
       "model_id": "b704185a57944b50ab17396a46fd0f17"
      }
     },
     "metadata": {},
     "output_type": "display_data"
    },
    {
     "name": "stdout",
     "output_type": "stream",
     "text": [
      "val_loss: tensor(0.6933)\n",
      "val_loss: tensor(0.6948)\n",
      "val_loss: tensor(0.6995)\n",
      "val_loss: tensor(0.6836)\n",
      "val_loss: tensor(0.6931)\n",
      "val_loss: tensor(0.7021)\n",
      "val_loss: tensor(0.6911)\n"
     ]
    },
    {
     "data": {
      "text/plain": "Validating: 0it [00:00, ?it/s]",
      "application/vnd.jupyter.widget-view+json": {
       "version_major": 2,
       "version_minor": 0,
       "model_id": "a8664a4a6b9f49de84d55dbf3150c413"
      }
     },
     "metadata": {},
     "output_type": "display_data"
    },
    {
     "name": "stdout",
     "output_type": "stream",
     "text": [
      "val_loss: tensor(0.6872)\n",
      "val_loss: tensor(0.6903)\n",
      "val_loss: tensor(0.6938)\n",
      "val_loss: tensor(0.6717)\n",
      "val_loss: tensor(0.6848)\n",
      "val_loss: tensor(0.6956)\n",
      "val_loss: tensor(0.6840)\n"
     ]
    },
    {
     "data": {
      "text/plain": "Validating: 0it [00:00, ?it/s]",
      "application/vnd.jupyter.widget-view+json": {
       "version_major": 2,
       "version_minor": 0,
       "model_id": "cf66690951fd494a8e45335c4d6f260a"
      }
     },
     "metadata": {},
     "output_type": "display_data"
    },
    {
     "name": "stdout",
     "output_type": "stream",
     "text": [
      "val_loss: tensor(0.6753)\n",
      "val_loss: tensor(0.6819)\n",
      "val_loss: tensor(0.6842)\n",
      "val_loss: tensor(0.6389)\n",
      "val_loss: tensor(0.6640)\n",
      "val_loss: tensor(0.6837)\n",
      "val_loss: tensor(0.6696)\n"
     ]
    },
    {
     "data": {
      "text/plain": "Validating: 0it [00:00, ?it/s]",
      "application/vnd.jupyter.widget-view+json": {
       "version_major": 2,
       "version_minor": 0,
       "model_id": "e71ecf82fa65432fa4f20368ab22257c"
      }
     },
     "metadata": {},
     "output_type": "display_data"
    },
    {
     "name": "stdout",
     "output_type": "stream",
     "text": [
      "val_loss: tensor(0.6551)\n",
      "val_loss: tensor(0.6686)\n",
      "val_loss: tensor(0.6700)\n",
      "val_loss: tensor(0.5782)\n",
      "val_loss: tensor(0.6305)\n",
      "val_loss: tensor(0.6672)\n",
      "val_loss: tensor(0.6419)\n"
     ]
    },
    {
     "data": {
      "text/plain": "Validating: 0it [00:00, ?it/s]",
      "application/vnd.jupyter.widget-view+json": {
       "version_major": 2,
       "version_minor": 0,
       "model_id": "320f116d120a479db605c02af1556059"
      }
     },
     "metadata": {},
     "output_type": "display_data"
    },
    {
     "name": "stdout",
     "output_type": "stream",
     "text": [
      "val_loss: tensor(0.6109)\n",
      "val_loss: tensor(0.6403)\n",
      "val_loss: tensor(0.6410)\n",
      "val_loss: tensor(0.4657)\n",
      "val_loss: tensor(0.5619)\n",
      "val_loss: tensor(0.6348)\n",
      "val_loss: tensor(0.5806)\n"
     ]
    },
    {
     "data": {
      "text/plain": "Validating: 0it [00:00, ?it/s]",
      "application/vnd.jupyter.widget-view+json": {
       "version_major": 2,
       "version_minor": 0,
       "model_id": "7ce49de2df074b708253a148f33e1ba2"
      }
     },
     "metadata": {},
     "output_type": "display_data"
    },
    {
     "name": "stdout",
     "output_type": "stream",
     "text": [
      "val_loss: tensor(0.5427)\n",
      "val_loss: tensor(0.5939)\n",
      "val_loss: tensor(0.5921)\n",
      "val_loss: tensor(0.3432)\n",
      "val_loss: tensor(0.4705)\n",
      "val_loss: tensor(0.5855)\n",
      "val_loss: tensor(0.4933)\n"
     ]
    },
    {
     "data": {
      "text/plain": "Validating: 0it [00:00, ?it/s]",
      "application/vnd.jupyter.widget-view+json": {
       "version_major": 2,
       "version_minor": 0,
       "model_id": "9090521a7f5f4b97a840209759a752b5"
      }
     },
     "metadata": {},
     "output_type": "display_data"
    },
    {
     "name": "stdout",
     "output_type": "stream",
     "text": [
      "val_loss: tensor(0.4593)\n",
      "val_loss: tensor(0.5315)\n",
      "val_loss: tensor(0.5220)\n",
      "val_loss: tensor(0.2364)\n",
      "val_loss: tensor(0.3749)\n",
      "val_loss: tensor(0.5191)\n",
      "val_loss: tensor(0.3970)\n"
     ]
    },
    {
     "data": {
      "text/plain": "Validating: 0it [00:00, ?it/s]",
      "application/vnd.jupyter.widget-view+json": {
       "version_major": 2,
       "version_minor": 0,
       "model_id": "8ec07b0cb2c04b479c15b7685c8722b8"
      }
     },
     "metadata": {},
     "output_type": "display_data"
    },
    {
     "name": "stdout",
     "output_type": "stream",
     "text": [
      "val_loss: tensor(0.3851)\n",
      "val_loss: tensor(0.4739)\n",
      "val_loss: tensor(0.4510)\n",
      "val_loss: tensor(0.1681)\n",
      "val_loss: tensor(0.3127)\n",
      "val_loss: tensor(0.4586)\n",
      "val_loss: tensor(0.3170)\n"
     ]
    },
    {
     "data": {
      "text/plain": "Validating: 0it [00:00, ?it/s]",
      "application/vnd.jupyter.widget-view+json": {
       "version_major": 2,
       "version_minor": 0,
       "model_id": "d8761ac95c9a4038ade62990134ea4f3"
      }
     },
     "metadata": {},
     "output_type": "display_data"
    },
    {
     "name": "stdout",
     "output_type": "stream",
     "text": [
      "val_loss: tensor(0.3209)\n",
      "val_loss: tensor(0.4206)\n",
      "val_loss: tensor(0.3805)\n",
      "val_loss: tensor(0.1205)\n",
      "val_loss: tensor(0.2803)\n",
      "val_loss: tensor(0.4061)\n",
      "val_loss: tensor(0.2496)\n"
     ]
    },
    {
     "data": {
      "text/plain": "Validating: 0it [00:00, ?it/s]",
      "application/vnd.jupyter.widget-view+json": {
       "version_major": 2,
       "version_minor": 0,
       "model_id": "11c54be6a2f54773ab791751c2993ef4"
      }
     },
     "metadata": {},
     "output_type": "display_data"
    },
    {
     "name": "stdout",
     "output_type": "stream",
     "text": [
      "val_loss: tensor(0.2778)\n",
      "val_loss: tensor(0.3816)\n",
      "val_loss: tensor(0.3262)\n",
      "val_loss: tensor(0.0913)\n",
      "val_loss: tensor(0.2772)\n",
      "val_loss: tensor(0.3764)\n",
      "val_loss: tensor(0.2062)\n"
     ]
    },
    {
     "data": {
      "text/plain": "Validating: 0it [00:00, ?it/s]",
      "application/vnd.jupyter.widget-view+json": {
       "version_major": 2,
       "version_minor": 0,
       "model_id": "a2969a737cab434582b9acb7a6644aa6"
      }
     },
     "metadata": {},
     "output_type": "display_data"
    },
    {
     "name": "stdout",
     "output_type": "stream",
     "text": [
      "val_loss: tensor(0.2485)\n",
      "val_loss: tensor(0.3543)\n",
      "val_loss: tensor(0.2821)\n",
      "val_loss: tensor(0.0713)\n",
      "val_loss: tensor(0.2903)\n",
      "val_loss: tensor(0.3597)\n",
      "val_loss: tensor(0.1773)\n"
     ]
    },
    {
     "data": {
      "text/plain": "Validating: 0it [00:00, ?it/s]",
      "application/vnd.jupyter.widget-view+json": {
       "version_major": 2,
       "version_minor": 0,
       "model_id": "baa95c2b10894908a56ba48f3b09b7b2"
      }
     },
     "metadata": {},
     "output_type": "display_data"
    },
    {
     "name": "stdout",
     "output_type": "stream",
     "text": [
      "val_loss: tensor(0.2338)\n",
      "val_loss: tensor(0.3388)\n",
      "val_loss: tensor(0.2552)\n",
      "val_loss: tensor(0.0598)\n",
      "val_loss: tensor(0.3079)\n",
      "val_loss: tensor(0.3568)\n",
      "val_loss: tensor(0.1644)\n"
     ]
    },
    {
     "data": {
      "text/plain": "Validating: 0it [00:00, ?it/s]",
      "application/vnd.jupyter.widget-view+json": {
       "version_major": 2,
       "version_minor": 0,
       "model_id": "e05c181fa4bf4b6497a51bfd2326310b"
      }
     },
     "metadata": {},
     "output_type": "display_data"
    },
    {
     "name": "stdout",
     "output_type": "stream",
     "text": [
      "val_loss: tensor(0.2244)\n",
      "val_loss: tensor(0.3301)\n",
      "val_loss: tensor(0.2351)\n",
      "val_loss: tensor(0.0510)\n",
      "val_loss: tensor(0.3297)\n",
      "val_loss: tensor(0.3637)\n",
      "val_loss: tensor(0.1583)\n"
     ]
    },
    {
     "data": {
      "text/plain": "Validating: 0it [00:00, ?it/s]",
      "application/vnd.jupyter.widget-view+json": {
       "version_major": 2,
       "version_minor": 0,
       "model_id": "6e143bcba4504dc8a3d7aff08668b806"
      }
     },
     "metadata": {},
     "output_type": "display_data"
    },
    {
     "name": "stdout",
     "output_type": "stream",
     "text": [
      "val_loss: tensor(0.2190)\n",
      "val_loss: tensor(0.3239)\n",
      "val_loss: tensor(0.2197)\n",
      "val_loss: tensor(0.0443)\n",
      "val_loss: tensor(0.3500)\n",
      "val_loss: tensor(0.3709)\n",
      "val_loss: tensor(0.1530)\n"
     ]
    },
    {
     "data": {
      "text/plain": "Validating: 0it [00:00, ?it/s]",
      "application/vnd.jupyter.widget-view+json": {
       "version_major": 2,
       "version_minor": 0,
       "model_id": "dad9641b41b94116a887180ed94d7d4e"
      }
     },
     "metadata": {},
     "output_type": "display_data"
    },
    {
     "name": "stdout",
     "output_type": "stream",
     "text": [
      "val_loss: tensor(0.2158)\n",
      "val_loss: tensor(0.3196)\n",
      "val_loss: tensor(0.2114)\n",
      "val_loss: tensor(0.0400)\n",
      "val_loss: tensor(0.3622)\n",
      "val_loss: tensor(0.3800)\n",
      "val_loss: tensor(0.1522)\n"
     ]
    },
    {
     "data": {
      "text/plain": "Validating: 0it [00:00, ?it/s]",
      "application/vnd.jupyter.widget-view+json": {
       "version_major": 2,
       "version_minor": 0,
       "model_id": "9b134726ec8b454ab92b6fa4bf57345f"
      }
     },
     "metadata": {},
     "output_type": "display_data"
    },
    {
     "name": "stdout",
     "output_type": "stream",
     "text": [
      "val_loss: tensor(0.2138)\n",
      "val_loss: tensor(0.3172)\n",
      "val_loss: tensor(0.2045)\n",
      "val_loss: tensor(0.0368)\n",
      "val_loss: tensor(0.3666)\n",
      "val_loss: tensor(0.3795)\n",
      "val_loss: tensor(0.1469)\n"
     ]
    },
    {
     "data": {
      "text/plain": "Validating: 0it [00:00, ?it/s]",
      "application/vnd.jupyter.widget-view+json": {
       "version_major": 2,
       "version_minor": 0,
       "model_id": "a31c4ca34b024677be33fad700575222"
      }
     },
     "metadata": {},
     "output_type": "display_data"
    },
    {
     "name": "stdout",
     "output_type": "stream",
     "text": [
      "val_loss: tensor(0.2122)\n",
      "val_loss: tensor(0.3146)\n",
      "val_loss: tensor(0.2011)\n",
      "val_loss: tensor(0.0342)\n",
      "val_loss: tensor(0.3745)\n",
      "val_loss: tensor(0.3905)\n",
      "val_loss: tensor(0.1496)\n"
     ]
    },
    {
     "data": {
      "text/plain": "Validating: 0it [00:00, ?it/s]",
      "application/vnd.jupyter.widget-view+json": {
       "version_major": 2,
       "version_minor": 0,
       "model_id": "d6ebd1d8b8ba44c7bd2b420674a650a4"
      }
     },
     "metadata": {},
     "output_type": "display_data"
    },
    {
     "name": "stdout",
     "output_type": "stream",
     "text": [
      "val_loss: tensor(0.2111)\n",
      "val_loss: tensor(0.3133)\n",
      "val_loss: tensor(0.1968)\n",
      "val_loss: tensor(0.0316)\n",
      "val_loss: tensor(0.3822)\n",
      "val_loss: tensor(0.3970)\n",
      "val_loss: tensor(0.1496)\n"
     ]
    },
    {
     "data": {
      "text/plain": "Validating: 0it [00:00, ?it/s]",
      "application/vnd.jupyter.widget-view+json": {
       "version_major": 2,
       "version_minor": 0,
       "model_id": "fc6fb2b446bb49748d0646d056bc5326"
      }
     },
     "metadata": {},
     "output_type": "display_data"
    },
    {
     "name": "stdout",
     "output_type": "stream",
     "text": [
      "val_loss: tensor(0.2103)\n",
      "val_loss: tensor(0.3115)\n",
      "val_loss: tensor(0.1908)\n",
      "val_loss: tensor(0.0292)\n",
      "val_loss: tensor(0.3859)\n",
      "val_loss: tensor(0.3953)\n",
      "val_loss: tensor(0.1422)\n"
     ]
    },
    {
     "data": {
      "text/plain": "Validating: 0it [00:00, ?it/s]",
      "application/vnd.jupyter.widget-view+json": {
       "version_major": 2,
       "version_minor": 0,
       "model_id": "eaf527f1784d4f3cbde13013381136d8"
      }
     },
     "metadata": {},
     "output_type": "display_data"
    },
    {
     "name": "stdout",
     "output_type": "stream",
     "text": [
      "val_loss: tensor(0.2087)\n",
      "val_loss: tensor(0.3092)\n",
      "val_loss: tensor(0.1881)\n",
      "val_loss: tensor(0.0275)\n",
      "val_loss: tensor(0.3877)\n",
      "val_loss: tensor(0.4001)\n",
      "val_loss: tensor(0.1419)\n"
     ]
    },
    {
     "data": {
      "text/plain": "Validating: 0it [00:00, ?it/s]",
      "application/vnd.jupyter.widget-view+json": {
       "version_major": 2,
       "version_minor": 0,
       "model_id": "c04c8a908e6e41328a6504697e802e0e"
      }
     },
     "metadata": {},
     "output_type": "display_data"
    },
    {
     "name": "stdout",
     "output_type": "stream",
     "text": [
      "val_loss: tensor(0.2078)\n",
      "val_loss: tensor(0.3085)\n",
      "val_loss: tensor(0.1854)\n",
      "val_loss: tensor(0.0256)\n",
      "val_loss: tensor(0.3928)\n",
      "val_loss: tensor(0.4074)\n",
      "val_loss: tensor(0.1410)\n"
     ]
    },
    {
     "data": {
      "text/plain": "Validating: 0it [00:00, ?it/s]",
      "application/vnd.jupyter.widget-view+json": {
       "version_major": 2,
       "version_minor": 0,
       "model_id": "a97be1da35ed456e9935f1cf5515a492"
      }
     },
     "metadata": {},
     "output_type": "display_data"
    },
    {
     "name": "stdout",
     "output_type": "stream",
     "text": [
      "val_loss: tensor(0.2082)\n",
      "val_loss: tensor(0.3092)\n",
      "val_loss: tensor(0.1794)\n",
      "val_loss: tensor(0.0237)\n",
      "val_loss: tensor(0.3965)\n",
      "val_loss: tensor(0.4038)\n",
      "val_loss: tensor(0.1327)\n"
     ]
    },
    {
     "data": {
      "text/plain": "Validating: 0it [00:00, ?it/s]",
      "application/vnd.jupyter.widget-view+json": {
       "version_major": 2,
       "version_minor": 0,
       "model_id": "190a21ee6716490c9a43a487aa3c79c7"
      }
     },
     "metadata": {},
     "output_type": "display_data"
    },
    {
     "name": "stdout",
     "output_type": "stream",
     "text": [
      "val_loss: tensor(0.2059)\n",
      "val_loss: tensor(0.3072)\n",
      "val_loss: tensor(0.1787)\n",
      "val_loss: tensor(0.0225)\n",
      "val_loss: tensor(0.3977)\n",
      "val_loss: tensor(0.4132)\n",
      "val_loss: tensor(0.1337)\n"
     ]
    },
    {
     "data": {
      "text/plain": "Validating: 0it [00:00, ?it/s]",
      "application/vnd.jupyter.widget-view+json": {
       "version_major": 2,
       "version_minor": 0,
       "model_id": "9cad73debc2843cdbd7b862d3dc5b133"
      }
     },
     "metadata": {},
     "output_type": "display_data"
    },
    {
     "name": "stdout",
     "output_type": "stream",
     "text": [
      "val_loss: tensor(0.2035)\n",
      "val_loss: tensor(0.3041)\n",
      "val_loss: tensor(0.1776)\n",
      "val_loss: tensor(0.0213)\n",
      "val_loss: tensor(0.3962)\n",
      "val_loss: tensor(0.4196)\n",
      "val_loss: tensor(0.1330)\n"
     ]
    },
    {
     "data": {
      "text/plain": "Validating: 0it [00:00, ?it/s]",
      "application/vnd.jupyter.widget-view+json": {
       "version_major": 2,
       "version_minor": 0,
       "model_id": "4e5ef0ab07f74e14a741c7fe77fdfcd5"
      }
     },
     "metadata": {},
     "output_type": "display_data"
    },
    {
     "name": "stdout",
     "output_type": "stream",
     "text": [
      "val_loss: tensor(0.2022)\n",
      "val_loss: tensor(0.3024)\n",
      "val_loss: tensor(0.1738)\n",
      "val_loss: tensor(0.0199)\n",
      "val_loss: tensor(0.3967)\n",
      "val_loss: tensor(0.4205)\n",
      "val_loss: tensor(0.1273)\n"
     ]
    },
    {
     "data": {
      "text/plain": "Validating: 0it [00:00, ?it/s]",
      "application/vnd.jupyter.widget-view+json": {
       "version_major": 2,
       "version_minor": 0,
       "model_id": "ddaa70a86893426e9ef61955bf3795f0"
      }
     },
     "metadata": {},
     "output_type": "display_data"
    },
    {
     "name": "stdout",
     "output_type": "stream",
     "text": [
      "val_loss: tensor(0.2008)\n",
      "val_loss: tensor(0.3006)\n",
      "val_loss: tensor(0.1749)\n",
      "val_loss: tensor(0.0191)\n",
      "val_loss: tensor(0.3967)\n",
      "val_loss: tensor(0.4296)\n",
      "val_loss: tensor(0.1279)\n"
     ]
    },
    {
     "data": {
      "text/plain": "Validating: 0it [00:00, ?it/s]",
      "application/vnd.jupyter.widget-view+json": {
       "version_major": 2,
       "version_minor": 0,
       "model_id": "d458863ba7e54493959fdaea75a8a0da"
      }
     },
     "metadata": {},
     "output_type": "display_data"
    },
    {
     "name": "stdout",
     "output_type": "stream",
     "text": [
      "val_loss: tensor(0.2028)\n",
      "val_loss: tensor(0.3012)\n",
      "val_loss: tensor(0.1680)\n",
      "val_loss: tensor(0.0174)\n",
      "val_loss: tensor(0.4036)\n",
      "val_loss: tensor(0.4252)\n",
      "val_loss: tensor(0.1178)\n"
     ]
    },
    {
     "data": {
      "text/plain": "Validating: 0it [00:00, ?it/s]",
      "application/vnd.jupyter.widget-view+json": {
       "version_major": 2,
       "version_minor": 0,
       "model_id": "b1a30addb82a419a9ae187bb8e815f6c"
      }
     },
     "metadata": {},
     "output_type": "display_data"
    },
    {
     "name": "stdout",
     "output_type": "stream",
     "text": [
      "val_loss: tensor(0.2010)\n",
      "val_loss: tensor(0.2991)\n",
      "val_loss: tensor(0.1658)\n",
      "val_loss: tensor(0.0166)\n",
      "val_loss: tensor(0.3985)\n",
      "val_loss: tensor(0.4234)\n",
      "val_loss: tensor(0.1150)\n"
     ]
    },
    {
     "data": {
      "text/plain": "Validating: 0it [00:00, ?it/s]",
      "application/vnd.jupyter.widget-view+json": {
       "version_major": 2,
       "version_minor": 0,
       "model_id": "75811d6f6dec4084b43deb468dc24ed2"
      }
     },
     "metadata": {},
     "output_type": "display_data"
    },
    {
     "name": "stdout",
     "output_type": "stream",
     "text": [
      "val_loss: tensor(0.2005)\n",
      "val_loss: tensor(0.2988)\n",
      "val_loss: tensor(0.1634)\n",
      "val_loss: tensor(0.0156)\n",
      "val_loss: tensor(0.3994)\n",
      "val_loss: tensor(0.4265)\n",
      "val_loss: tensor(0.1133)\n"
     ]
    },
    {
     "data": {
      "text/plain": "Validating: 0it [00:00, ?it/s]",
      "application/vnd.jupyter.widget-view+json": {
       "version_major": 2,
       "version_minor": 0,
       "model_id": "b34490a4acbc4487b4458b83cf2610f0"
      }
     },
     "metadata": {},
     "output_type": "display_data"
    },
    {
     "name": "stdout",
     "output_type": "stream",
     "text": [
      "val_loss: tensor(0.1984)\n",
      "val_loss: tensor(0.2976)\n",
      "val_loss: tensor(0.1643)\n",
      "val_loss: tensor(0.0149)\n",
      "val_loss: tensor(0.3996)\n",
      "val_loss: tensor(0.4390)\n",
      "val_loss: tensor(0.1165)\n"
     ]
    }
   ]
  },
  {
   "cell_type": "markdown",
   "source": [
    "## 12. Test SP500VAEClassifierModel with original data (SP500DataModule)"
   ],
   "metadata": {
    "collapsed": false
   }
  },
  {
   "cell_type": "code",
   "source": [
    "trainer.test(datamodule=sp500_datamodule)"
   ],
   "metadata": {
    "collapsed": false,
    "pycharm": {
     "name": "#%%\n"
    }
   },
   "execution_count": 22,
   "outputs": [
    {
     "name": "stderr",
     "output_type": "stream",
     "text": [
      "Restoring states from the checkpoint path at D:\\dev\\workspace\\surfmachine\\ai\\src\\05_vae\\lightning_logs\\version_1\\checkpoints\\epoch=29-step=1499.ckpt\n",
      "Loaded model weights from checkpoint at D:\\dev\\workspace\\surfmachine\\ai\\src\\05_vae\\lightning_logs\\version_1\\checkpoints\\epoch=29-step=1499.ckpt\n"
     ]
    },
    {
     "name": "stdout",
     "output_type": "stream",
     "text": [
      "Setup - define data split:\n",
      "- Train rows : 2392 ( 80%)\n",
      "- Val   rows : 0299 ( 10%)\n",
      "- Test  rows : 0299 ( 10%)\n",
      "- Total rows : 2990 (100%)\n",
      "Setup - split and transform data for stage: test\n",
      "- Test  shape: (299, 490)\n",
      "- Total shape: (2990, 490)\n"
     ]
    },
    {
     "data": {
      "text/plain": "Testing: 0it [00:00, ?it/s]",
      "application/vnd.jupyter.widget-view+json": {
       "version_major": 2,
       "version_minor": 0,
       "model_id": "3131c7a1e2d54644a0604a6b38441fe3"
      }
     },
     "metadata": {},
     "output_type": "display_data"
    },
    {
     "name": "stdout",
     "output_type": "stream",
     "text": [
      "--------------------------------------------------------------------------------\n",
      "DATALOADER:0 TEST RESULTS\n",
      "{'test_accuracy': 0.8528428077697754, 'test_loss': 0.3943193554878235}\n",
      "--------------------------------------------------------------------------------\n"
     ]
    },
    {
     "data": {
      "text/plain": "[{'test_loss': 0.3943193554878235, 'test_accuracy': 0.8528428077697754}]"
     },
     "execution_count": 22,
     "metadata": {},
     "output_type": "execute_result"
    }
   ]
  },
  {
   "cell_type": "markdown",
   "source": [
    "## 13. Visualize with Tensorboard\n",
    "\n",
    "Run the following commands in a terminal:<br />\n",
    "1. Change to folder with notebook\n",
    "2. Run command: tensorboard --logdir=./lightning_logs"
   ],
   "metadata": {
    "collapsed": false
   }
  },
  {
   "cell_type": "code",
   "execution_count": 23,
   "outputs": [
    {
     "data": {
      "text/plain": "Launching TensorBoard..."
     },
     "metadata": {},
     "output_type": "display_data"
    }
   ],
   "source": [
    "# Start tensorboard.\n",
    "%load_ext tensorboard\n",
    "%tensorboard --logdir lightning_logs/"
   ],
   "metadata": {
    "collapsed": false,
    "pycharm": {
     "name": "#%%\n"
    }
   }
  },
  {
   "cell_type": "markdown",
   "source": [
    "---\n",
    "The end."
   ],
   "metadata": {
    "collapsed": false
   }
  }
 ]
}