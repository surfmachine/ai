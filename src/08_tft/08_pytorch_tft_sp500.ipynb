{
 "cells": [
  {
   "cell_type": "markdown",
   "source": [
    "# Aufgabe 08 - Temporal Fusion Transformer with SP 500\n",
    "01.01.2022, Thomas Iten\n",
    "\n",
    "**Content**\n",
    "1. **Load data (with SP500 data module slightly adapted for time series support)**\n",
    "2. Extact feature columns\n",
    "3. Create TimeSeriesDataSet\n",
    "4. **Create baseline model and train**\n",
    "5. Train the Temporal Fusion Transformer\n",
    "6. Train the model\n",
    "7. Evaluate model performance with validation data\n",
    "8. **Evaluate model performance with test data**\n",
    "\n",
    "**References**\n",
    "- https://pytorch-forecasting.readthedocs.io/en/latest/tutorials/stallion.html\n",
    "- https://www.kaggle.com/utathya/future-volume-prediction"
   ],
   "metadata": {
    "collapsed": false
   }
  },
  {
   "cell_type": "markdown",
   "source": [
    "## 0. Setup"
   ],
   "metadata": {
    "collapsed": false
   }
  },
  {
   "cell_type": "code",
   "execution_count": 1,
   "outputs": [],
   "source": [
    "#\n",
    "# Imports\n",
    "#\n",
    "\n",
    "import os, os.path, requests, datetime\n",
    "import numpy as np\n",
    "import pandas as pd\n",
    "import bs4 as bs\n",
    "import yfinance\n",
    "import warnings\n",
    "import copy\n",
    "from pathlib import Path\n",
    "\n",
    "import torch\n",
    "import pytorch_lightning as pl\n",
    "import tensorflow as tf\n",
    "import tensorboard as tb\n",
    "import datetime\n",
    "#from datetime import datetime\n",
    "from typing import Optional\n",
    "\n",
    "from torch.utils.data import DataLoader, TensorDataset\n",
    "from pytorch_lightning.callbacks import EarlyStopping, LearningRateMonitor\n",
    "from pytorch_lightning.loggers import TensorBoardLogger\n",
    "from pytorch_forecasting import Baseline, TemporalFusionTransformer, TimeSeriesDataSet\n",
    "from pytorch_forecasting.data import GroupNormalizer\n",
    "from pytorch_forecasting.metrics import SMAPE, PoissonLoss, QuantileLoss\n",
    "from pytorch_forecasting.models.temporal_fusion_transformer.tuning import optimize_hyperparameters\n",
    "from pytorch_forecasting.models.rnn import RecurrentNetwork\n",
    "\n",
    "#\n",
    "# Settings\n",
    "#\n",
    "tf.io.gfile = tb.compat.tensorflow_stub.io.gfile\n",
    "warnings.filterwarnings(\"ignore\")                       # avoid printing out absolute paths\n"
   ],
   "metadata": {
    "collapsed": false,
    "pycharm": {
     "name": "#%%\n"
    }
   }
  },
  {
   "cell_type": "markdown",
   "source": [
    "## 1. Load data (with SP500 data module slightly adapted for time series support)"
   ],
   "metadata": {
    "collapsed": false
   }
  },
  {
   "cell_type": "markdown",
   "source": [
    "### Define data loader"
   ],
   "metadata": {
    "collapsed": false
   }
  },
  {
   "cell_type": "code",
   "execution_count": 2,
   "outputs": [],
   "source": [
    "class SP500DataModule(pl.LightningDataModule):\n",
    "    \"\"\"Data module for the 'Standard and Poor 500' company performance data, adapted for time series support.\n",
    "\n",
    "    NOTE:\n",
    "    To support the TFT task, the time_series flag has be introduced. By enabling this option,\n",
    "    the data will be enhanced with the a time index and group flag, to support the TimeSeriesDataSet format.\n",
    "    \"\"\"\n",
    "\n",
    "    URL = \"http://en.wikipedia.org/wiki/List_of_S%26P_500_companies\"\n",
    "\n",
    "    def __init__(self,\n",
    "                 batch_size=32,\n",
    "                 train_val_test_split=[80,10,10],\n",
    "                 spy_binary=True,\n",
    "                 time_series=False,\n",
    "                 path=\".\",\n",
    "                 force_download=False):\n",
    "        super().__init__()\n",
    "        # download properties\n",
    "        self.start = datetime.datetime(2010, 1, 1)\n",
    "        self.end = datetime.datetime.now()\n",
    "        self.fname = path + \"/sp500.csv\"\n",
    "        self.force_download = force_download\n",
    "        # prepare and transform properties\n",
    "        self.spy_binary = spy_binary\n",
    "        self.time_series = time_series\n",
    "        self.batch_size = batch_size\n",
    "        self.train_val_test_split = train_val_test_split\n",
    "        # data\n",
    "        self.data = None\n",
    "        self.train_dataset = None\n",
    "        self.val_dataset = None\n",
    "        self.test_dataset = None\n",
    "\n",
    "    def prepare_data(self):\n",
    "        \"\"\"Download and prepare the SP500 data.\"\"\"\n",
    "        df = self._download_sp500()\n",
    "        if self.spy_binary:\n",
    "            df.SPY = [1 if spy > 0 else 0 for spy in df.SPY]\n",
    "        self.data = df\n",
    "\n",
    "    def setup(self, stage: Optional[str] = None):\n",
    "        \"\"\"Setup the data according the stage 'fit' or 'test'. If the stage is none, setup the data for all stages.\"\"\"\n",
    "\n",
    "        # Split data into test, val and train dataframes\n",
    "        train_percent, val_percent, test_percent = self.train_val_test_split\n",
    "        rows = self.data.shape[0]\n",
    "        test_rows = int(test_percent * rows / 100)\n",
    "        val_rows = int(val_percent * rows / 100)\n",
    "        train_rows =  rows - test_rows - val_rows\n",
    "\n",
    "        print(\"Setup - define data split:\")\n",
    "        print(\"- Train rows : {0:04d} ( {1}%)\".format(train_rows, train_percent))\n",
    "        print(\"- Val   rows : {0:04d} ( {1}%)\".format(val_rows, val_percent))\n",
    "        print(\"- Test  rows : {0:04d} ( {1}%)\".format(test_rows, test_percent))\n",
    "        print(\"- Total rows : {0:04d} (100%)\".format(rows))\n",
    "\n",
    "        print(\"Setup - split and transform data for stage: {}\".format(stage))\n",
    "        if stage == \"fit\" or stage is None:\n",
    "            train_data = self.data.iloc[:train_rows]\n",
    "            val_data = self.data.iloc[train_rows:train_rows+val_rows]\n",
    "            print(\"- Train shape: {}\".format(train_data.shape))\n",
    "            print(\"- Val   shape: {}\".format(val_data.shape))\n",
    "            # transform data and assign properties to use in data loaders\n",
    "            self.train_dataset = self._transform(train_data)\n",
    "            self.val_dataset = self._transform(val_data)\n",
    "        if stage == \"test\" or stage is None:\n",
    "            test_data = self.data.iloc[train_rows+val_rows:]\n",
    "            print(\"- Test  shape: {}\".format(test_data.shape))\n",
    "            # transform data and assign properties to use in data loaders\n",
    "            self.test_dataset = self._transform(test_data)\n",
    "        print(\"- Total shape: {}\".format(self.data.shape))\n",
    "\n",
    "\n",
    "    def size(self):\n",
    "        return self.train_dataloader().dataset.tensors[0].data.shape[1]\n",
    "\n",
    "    def train_dataloader(self):\n",
    "        return DataLoader(self.train_dataset, batch_size=self.batch_size)\n",
    "\n",
    "    def val_dataloader(self):\n",
    "        return DataLoader(self.val_dataset, batch_size=self.batch_size)\n",
    "\n",
    "    def test_dataloader(self):\n",
    "        return DataLoader(self.test_dataset, batch_size=self.batch_size)\n",
    "\n",
    "    def _transform(self, df):\n",
    "        if self.time_series:\n",
    "            return self._transform_to_timeseries_df(df)\n",
    "        return self._transform_to_dataset(df)\n",
    "\n",
    "    def _transform_to_timeseries_df(self, df):\n",
    "        # create time index\n",
    "        df['date'] = df.index.to_pydatetime()\n",
    "        df[\"time_idx\"] = df[\"date\"].dt.year * 12 * 31 + df[\"date\"].dt.month * 31 + df[\"date\"].dt.day\n",
    "        df[\"time_idx\"] -= int(df[\"time_idx\"].min())\n",
    "        # create group (At least one groupt is used for the TimeSeriesDataSet)\n",
    "        df['group_id'] = 0\n",
    "        # return result\n",
    "        return df\n",
    "\n",
    "    def _transform_to_dataset(self, df):\n",
    "        # Split labels and features\n",
    "        labels = df.SPY.values\n",
    "        features = df.iloc[:, :-1].values\n",
    "        # Convert to tensor\n",
    "        tensor_labels   = torch.tensor(labels).unsqueeze(1).float()\n",
    "        tensor_features = torch.tensor(features).float()\n",
    "        # Create tensor dataset\n",
    "        return TensorDataset(tensor_features, tensor_labels)\n",
    "\n",
    "    def _download_sp500(self) -> pd.DataFrame:\n",
    "        \"\"\"Download the SP500 data from the internet, save data to a csv file and return the result.\n",
    "\n",
    "        Notes:\n",
    "        - All further calls will serve the data from the csv file.\n",
    "        - To trigger a new download from the internet, set the force_download flag to True.\n",
    "        \"\"\"\n",
    "\n",
    "        # Load data from file\n",
    "        if os.path.isfile(self.fname) and not self.force_download:\n",
    "            print(\"Load SP500 from file:\", self.fname)\n",
    "            return pd.read_csv(self.fname, index_col=0, parse_dates=True)\n",
    "\n",
    "        # Download data\n",
    "        print(\"Download data from:\", SP500DataModule.URL)\n",
    "        resp = requests.get(SP500DataModule.URL)\n",
    "        soup = bs.BeautifulSoup(resp.text, 'lxml')\n",
    "        table = soup.find('table', {'class': 'wikitable sortable'})\n",
    "\n",
    "        tickers = []\n",
    "        for row in table.findAll('tr')[1:]:\n",
    "            ticker = row.findAll('td')[0].text\n",
    "            tickers.append(ticker)\n",
    "\n",
    "        tickers = [s.replace('\\n', '') for s in tickers]\n",
    "        data = yfinance.download(tickers, start=self.start, end=self.end)\n",
    "        df_data = data['Adj Close']\n",
    "\n",
    "        df_spy = yfinance.download(\"SPY\", start=self.start, end=self.end)\n",
    "        df_spy = df_spy.loc[:, ['Adj Close']]\n",
    "        df_spy.columns = ['SPY']\n",
    "\n",
    "        df = pd.concat([df_data, df_spy], axis=1)\n",
    "\n",
    "        # Prepare data\n",
    "        df.dropna(axis=0, how='all', inplace=True)\n",
    "        print(\"Dropping columns due to nans > 50%:\", df.loc[:, list((100 * (df.isnull().sum() / len(df.index)) > 50))].columns)\n",
    "        df = df.drop(df.loc[:, list((100 * (df.isnull().sum() / len(df.index)) > 50))].columns, 1)\n",
    "        df = df.ffill().bfill()\n",
    "        print(\"Any columns still contain nans:\", df.isnull().values.any())\n",
    "\n",
    "        df_returns = pd.DataFrame()\n",
    "        for name in df.columns:\n",
    "            df_returns[name] = np.log(df[name]).diff()\n",
    "\n",
    "        df_returns.dropna(axis=0, how='any', inplace=True)\n",
    "\n",
    "        # Save data and return result\n",
    "        print(\"Save data to file:\", self.fname)\n",
    "        df_returns.to_csv(self.fname)\n",
    "\n",
    "        self.data = df_returns\n",
    "        return self.data\n"
   ],
   "metadata": {
    "collapsed": false,
    "pycharm": {
     "name": "#%%\n"
    }
   }
  },
  {
   "cell_type": "markdown",
   "source": [
    "### Load data"
   ],
   "metadata": {
    "collapsed": false
   }
  },
  {
   "cell_type": "code",
   "execution_count": 3,
   "outputs": [
    {
     "name": "stdout",
     "output_type": "stream",
     "text": [
      "Load SP500 from file: ./sp500.csv\n",
      "Setup - define data split:\n",
      "- Train rows : 2392 ( 80%)\n",
      "- Val   rows : 0299 ( 10%)\n",
      "- Test  rows : 0299 ( 10%)\n",
      "- Total rows : 2990 (100%)\n",
      "Setup - split and transform data for stage: None\n",
      "- Train shape: (2392, 490)\n",
      "- Val   shape: (299, 490)\n",
      "- Test  shape: (299, 490)\n",
      "- Total shape: (2990, 490)\n",
      "Data Type:\n",
      "<class 'pandas.core.frame.DataFrame'>\n",
      "Data\n"
     ]
    },
    {
     "data": {
      "text/plain": "                   A       AAL       AAP      AAPL  ABBV       ABC      ABMD  \\\nDate                                                                           \n2010-01-04  0.007375 -0.014569 -0.002473  0.015445   0.0  0.021253  0.001145   \n2010-01-05 -0.010922  0.107246 -0.005962  0.001727   0.0 -0.007160 -0.024321   \n2010-01-06 -0.003559 -0.042314  0.008682 -0.016034   0.0 -0.009501 -0.015358   \n2010-01-07 -0.001297  0.029044 -0.000247 -0.001850   0.0 -0.016166  0.000000   \n2010-01-08 -0.000325 -0.019268  0.003945  0.006626   0.0  0.010807 -0.020446   \n\n                 ABT       ACN      ADBE  ...  XYL       YUM       ZBH  \\\nDate                                      ...                            \n2010-01-04  0.008668  0.013641  0.008393  ...  0.0  0.003426  0.015278   \n2010-01-05 -0.008112  0.006162  0.016313  ...  0.0 -0.003426  0.031165   \n2010-01-06  0.005539  0.010574 -0.002124  ...  0.0 -0.007174 -0.000323   \n2010-01-07  0.008250 -0.000935 -0.019595  ...  0.0 -0.000288  0.022681   \n2010-01-08  0.005099 -0.003986 -0.005436  ...  0.0  0.000288 -0.021228   \n\n                ZBRA      ZION  ZTS       SPY       date  time_idx  group_id  \nDate                                                                          \n2010-01-04  0.011224  0.038231  0.0  0.016817 2010-01-04         0         0  \n2010-01-05 -0.001745  0.034651  0.0  0.002644 2010-01-05         1         0  \n2010-01-06 -0.007717  0.083382  0.0  0.000704 2010-01-06         2         0  \n2010-01-07 -0.025318  0.106160  0.0  0.004212 2010-01-07         3         0  \n2010-01-08 -0.003256 -0.016320  0.0  0.003322 2010-01-08         4         0  \n\n[5 rows x 493 columns]",
      "text/html": "<div>\n<style scoped>\n    .dataframe tbody tr th:only-of-type {\n        vertical-align: middle;\n    }\n\n    .dataframe tbody tr th {\n        vertical-align: top;\n    }\n\n    .dataframe thead th {\n        text-align: right;\n    }\n</style>\n<table border=\"1\" class=\"dataframe\">\n  <thead>\n    <tr style=\"text-align: right;\">\n      <th></th>\n      <th>A</th>\n      <th>AAL</th>\n      <th>AAP</th>\n      <th>AAPL</th>\n      <th>ABBV</th>\n      <th>ABC</th>\n      <th>ABMD</th>\n      <th>ABT</th>\n      <th>ACN</th>\n      <th>ADBE</th>\n      <th>...</th>\n      <th>XYL</th>\n      <th>YUM</th>\n      <th>ZBH</th>\n      <th>ZBRA</th>\n      <th>ZION</th>\n      <th>ZTS</th>\n      <th>SPY</th>\n      <th>date</th>\n      <th>time_idx</th>\n      <th>group_id</th>\n    </tr>\n    <tr>\n      <th>Date</th>\n      <th></th>\n      <th></th>\n      <th></th>\n      <th></th>\n      <th></th>\n      <th></th>\n      <th></th>\n      <th></th>\n      <th></th>\n      <th></th>\n      <th></th>\n      <th></th>\n      <th></th>\n      <th></th>\n      <th></th>\n      <th></th>\n      <th></th>\n      <th></th>\n      <th></th>\n      <th></th>\n      <th></th>\n    </tr>\n  </thead>\n  <tbody>\n    <tr>\n      <th>2010-01-04</th>\n      <td>0.007375</td>\n      <td>-0.014569</td>\n      <td>-0.002473</td>\n      <td>0.015445</td>\n      <td>0.0</td>\n      <td>0.021253</td>\n      <td>0.001145</td>\n      <td>0.008668</td>\n      <td>0.013641</td>\n      <td>0.008393</td>\n      <td>...</td>\n      <td>0.0</td>\n      <td>0.003426</td>\n      <td>0.015278</td>\n      <td>0.011224</td>\n      <td>0.038231</td>\n      <td>0.0</td>\n      <td>0.016817</td>\n      <td>2010-01-04</td>\n      <td>0</td>\n      <td>0</td>\n    </tr>\n    <tr>\n      <th>2010-01-05</th>\n      <td>-0.010922</td>\n      <td>0.107246</td>\n      <td>-0.005962</td>\n      <td>0.001727</td>\n      <td>0.0</td>\n      <td>-0.007160</td>\n      <td>-0.024321</td>\n      <td>-0.008112</td>\n      <td>0.006162</td>\n      <td>0.016313</td>\n      <td>...</td>\n      <td>0.0</td>\n      <td>-0.003426</td>\n      <td>0.031165</td>\n      <td>-0.001745</td>\n      <td>0.034651</td>\n      <td>0.0</td>\n      <td>0.002644</td>\n      <td>2010-01-05</td>\n      <td>1</td>\n      <td>0</td>\n    </tr>\n    <tr>\n      <th>2010-01-06</th>\n      <td>-0.003559</td>\n      <td>-0.042314</td>\n      <td>0.008682</td>\n      <td>-0.016034</td>\n      <td>0.0</td>\n      <td>-0.009501</td>\n      <td>-0.015358</td>\n      <td>0.005539</td>\n      <td>0.010574</td>\n      <td>-0.002124</td>\n      <td>...</td>\n      <td>0.0</td>\n      <td>-0.007174</td>\n      <td>-0.000323</td>\n      <td>-0.007717</td>\n      <td>0.083382</td>\n      <td>0.0</td>\n      <td>0.000704</td>\n      <td>2010-01-06</td>\n      <td>2</td>\n      <td>0</td>\n    </tr>\n    <tr>\n      <th>2010-01-07</th>\n      <td>-0.001297</td>\n      <td>0.029044</td>\n      <td>-0.000247</td>\n      <td>-0.001850</td>\n      <td>0.0</td>\n      <td>-0.016166</td>\n      <td>0.000000</td>\n      <td>0.008250</td>\n      <td>-0.000935</td>\n      <td>-0.019595</td>\n      <td>...</td>\n      <td>0.0</td>\n      <td>-0.000288</td>\n      <td>0.022681</td>\n      <td>-0.025318</td>\n      <td>0.106160</td>\n      <td>0.0</td>\n      <td>0.004212</td>\n      <td>2010-01-07</td>\n      <td>3</td>\n      <td>0</td>\n    </tr>\n    <tr>\n      <th>2010-01-08</th>\n      <td>-0.000325</td>\n      <td>-0.019268</td>\n      <td>0.003945</td>\n      <td>0.006626</td>\n      <td>0.0</td>\n      <td>0.010807</td>\n      <td>-0.020446</td>\n      <td>0.005099</td>\n      <td>-0.003986</td>\n      <td>-0.005436</td>\n      <td>...</td>\n      <td>0.0</td>\n      <td>0.000288</td>\n      <td>-0.021228</td>\n      <td>-0.003256</td>\n      <td>-0.016320</td>\n      <td>0.0</td>\n      <td>0.003322</td>\n      <td>2010-01-08</td>\n      <td>4</td>\n      <td>0</td>\n    </tr>\n  </tbody>\n</table>\n<p>5 rows × 493 columns</p>\n</div>"
     },
     "execution_count": 3,
     "metadata": {},
     "output_type": "execute_result"
    }
   ],
   "source": [
    "dm = SP500DataModule(spy_binary=False, time_series=True)\n",
    "dm.prepare_data()\n",
    "dm.setup()\n",
    "\n",
    "data = dm.train_dataset\n",
    "\n",
    "print(\"Data Type:\")\n",
    "print(type(data))\n",
    "\n",
    "print(\"Data\")\n",
    "data.head()"
   ],
   "metadata": {
    "collapsed": false,
    "pycharm": {
     "name": "#%%\n"
    }
   }
  },
  {
   "cell_type": "markdown",
   "source": [
    "## 2. Extact feature columns"
   ],
   "metadata": {
    "collapsed": false
   }
  },
  {
   "cell_type": "code",
   "execution_count": 4,
   "outputs": [
    {
     "name": "stdout",
     "output_type": "stream",
     "text": [
      "['A', 'AAL', 'AAP', 'AAPL', 'ABBV', 'ABC', 'ABMD', 'ABT', 'ACN', 'ADBE', 'ADI', 'ADM', 'ADP', 'ADSK', 'AEE', 'AEP', 'AES', 'AFL', 'AIG', 'AIZ', 'AJG', 'AKAM', 'ALB', 'ALGN', 'ALK', 'ALL', 'ALLE', 'AMAT', 'AMCR', 'AMD', 'AME', 'AMGN', 'AMP', 'AMT', 'AMZN', 'ANET', 'ANSS', 'ANTM', 'AON', 'AOS', 'APA', 'APD', 'APH', 'APTV', 'ARE', 'ATO', 'ATVI', 'AVB', 'AVGO', 'AVY', 'AWK', 'AXP', 'AZO', 'BA', 'BAC', 'BAX', 'BBWI', 'BBY', 'BDX', 'BEN', 'BIIB', 'BIO', 'BK', 'BKNG', 'BKR', 'BLK', 'BLL', 'BMY', 'BR', 'BRO', 'BSX', 'BWA', 'BXP', 'C', 'CAG', 'CAH', 'CAT', 'CB', 'CBOE', 'CBRE', 'CCI', 'CCL', 'CDNS', 'CDW', 'CE', 'CERN', 'CF', 'CFG', 'CHD', 'CHRW', 'CHTR', 'CI', 'CINF', 'CL', 'CLX', 'CMA', 'CMCSA', 'CME', 'CMG', 'CMI', 'CMS', 'CNC', 'CNP', 'COF', 'COO', 'COP', 'COST', 'CPB', 'CPRT', 'CRL', 'CRM', 'CSCO', 'CSX', 'CTAS', 'CTLT', 'CTRA', 'CTSH', 'CTXS', 'CVS', 'CVX', 'CZR', 'D', 'DAL', 'DD', 'DE', 'DFS', 'DG', 'DGX', 'DHI', 'DHR', 'DIS', 'DISCA', 'DISCK', 'DISH', 'DLR', 'DLTR', 'DOV', 'DPZ', 'DRE', 'DRI', 'DTE', 'DUK', 'DVA', 'DVN', 'DXC', 'DXCM', 'EA', 'EBAY', 'ECL', 'ED', 'EFX', 'EIX', 'EL', 'EMN', 'EMR', 'ENPH', 'EOG', 'EQIX', 'EQR', 'ES', 'ESS', 'ETN', 'ETR', 'ETSY', 'EVRG', 'EW', 'EXC', 'EXPD', 'EXPE', 'EXR', 'F', 'FANG', 'FAST', 'FB', 'FBHS', 'FCX', 'FDX', 'FE', 'FFIV', 'FIS', 'FISV', 'FITB', 'FLT', 'FMC', 'FRC', 'FRT', 'FTNT', 'GD', 'GE', 'GILD', 'GIS', 'GL', 'GLW', 'GM', 'GNRC', 'GOOG', 'GOOGL', 'GPC', 'GPN', 'GPS', 'GRMN', 'GS', 'GWW', 'HAL', 'HAS', 'HBAN', 'HBI', 'HCA', 'HD', 'HES', 'HIG', 'HII', 'HLT', 'HOLX', 'HON', 'HPE', 'HPQ', 'HRL', 'HSIC', 'HST', 'HSY', 'HUM', 'IBM', 'ICE', 'IDXX', 'IEX', 'IFF', 'ILMN', 'INCY', 'INFO', 'INTC', 'INTU', 'IP', 'IPG', 'IPGP', 'IQV', 'IRM', 'ISRG', 'IT', 'ITW', 'IVZ', 'J', 'JBHT', 'JCI', 'JKHY', 'JNJ', 'JNPR', 'JPM', 'K', 'KEY', 'KEYS', 'KHC', 'KIM', 'KLAC', 'KMB', 'KMI', 'KMX', 'KO', 'KR', 'KSU', 'L', 'LDOS', 'LEG', 'LEN', 'LH', 'LHX', 'LIN', 'LKQ', 'LLY', 'LMT', 'LNC', 'LNT', 'LOW', 'LRCX', 'LUMN', 'LUV', 'LVS', 'LYB', 'LYV', 'MA', 'MAA', 'MAR', 'MAS', 'MCD', 'MCHP', 'MCK', 'MCO', 'MDLZ', 'MDT', 'MET', 'MGM', 'MHK', 'MKC', 'MKTX', 'MLM', 'MMC', 'MMM', 'MNST', 'MO', 'MOS', 'MPC', 'MPWR', 'MRK', 'MRO', 'MS', 'MSCI', 'MSFT', 'MSI', 'MTB', 'MTCH', 'MTD', 'MU', 'NCLH', 'NDAQ', 'NEE', 'NEM', 'NFLX', 'NI', 'NKE', 'NLOK', 'NLSN', 'NOC', 'NOW', 'NRG', 'NSC', 'NTAP', 'NTRS', 'NUE', 'NVDA', 'NVR', 'NWL', 'NWS', 'NWSA', 'NXPI', 'O', 'ODFL', 'OKE', 'OMC', 'ORCL', 'ORLY', 'OXY', 'PAYC', 'PAYX', 'PBCT', 'PCAR', 'PEAK', 'PEG', 'PENN', 'PEP', 'PFE', 'PFG', 'PG', 'PGR', 'PH', 'PHM', 'PKG', 'PKI', 'PLD', 'PM', 'PNC', 'PNR', 'PNW', 'POOL', 'PPG', 'PPL', 'PRU', 'PSA', 'PSX', 'PTC', 'PVH', 'PWR', 'PXD', 'PYPL', 'QCOM', 'QRVO', 'RCL', 'RE', 'REG', 'REGN', 'RF', 'RHI', 'RJF', 'RL', 'RMD', 'ROK', 'ROL', 'ROP', 'ROST', 'RSG', 'RTX', 'SBAC', 'SBUX', 'SCHW', 'SEE', 'SHW', 'SIVB', 'SJM', 'SLB', 'SNA', 'SNPS', 'SO', 'SPG', 'SPGI', 'SRE', 'STE', 'STT', 'STX', 'STZ', 'SWK', 'SWKS', 'SYF', 'SYK', 'SYY', 'T', 'TAP', 'TDG', 'TDY', 'TECH', 'TEL', 'TER', 'TFC', 'TFX', 'TGT', 'TJX', 'TMO', 'TMUS', 'TPR', 'TRMB', 'TROW', 'TRV', 'TSCO', 'TSLA', 'TSN', 'TT', 'TTWO', 'TWTR', 'TXN', 'TXT', 'TYL', 'UAA', 'UAL', 'UDR', 'UHS', 'ULTA', 'UNH', 'UNP', 'UPS', 'URI', 'USB', 'V', 'VFC', 'VIAC', 'VLO', 'VMC', 'VNO', 'VRSK', 'VRSN', 'VRTX', 'VTR', 'VTRS', 'VZ', 'WAB', 'WAT', 'WBA', 'WDC', 'WEC', 'WELL', 'WFC', 'WHR', 'WLTW', 'WM', 'WMB', 'WMT', 'WRB', 'WRK', 'WST', 'WU', 'WY', 'WYNN', 'XEL', 'XLNX', 'XOM', 'XRAY', 'XYL', 'YUM', 'ZBH', 'ZBRA', 'ZION', 'ZTS']\n"
     ]
    }
   ],
   "source": [
    "features_columns = list(data.columns.values[:-4])\n",
    "print(features_columns, sep=\"\")\n"
   ],
   "metadata": {
    "collapsed": false,
    "pycharm": {
     "name": "#%%\n"
    }
   }
  },
  {
   "cell_type": "markdown",
   "source": [
    "## 3. Create TimeSeriesDataSet"
   ],
   "metadata": {
    "collapsed": false
   }
  },
  {
   "cell_type": "code",
   "execution_count": 5,
   "outputs": [],
   "source": [
    "# Max. number of timesteps for prediction\n",
    "max_prediction_length = 6\n",
    "\n",
    "# Max. number of timesteps for training\n",
    "max_encoder_length    = 24\n",
    "\n",
    "# Training cutoff: total - perdiction,\n",
    "training_cutoff = data[\"time_idx\"].max() - max_prediction_length\n",
    "\n",
    "def create_time_series_data_set(data):\n",
    "    return TimeSeriesDataSet(\n",
    "        data[lambda x: x.time_idx <= training_cutoff],\n",
    "        time_idx=\"time_idx\",                            # Zeit Index\n",
    "        group_ids=[\"group_id\"],\n",
    "        target=\"SPY\",\n",
    "        # group_ids=[\"agency\", \"sku\"],                  # Preprocessing: Normaliserung und Encoding je Gruppe.\n",
    "                                                    # Es kann variert werden zwischen min und max\n",
    "        min_encoder_length=max_encoder_length // 2,     # Keep encoder length long (as it is in the validation set)\n",
    "        max_encoder_length=max_encoder_length,          #\n",
    "\n",
    "        min_prediction_length=1,                        # Er kann auch weniger TimeSteps prediction, wenn zu wenig Daten vorhanden sind\n",
    "        max_prediction_length=max_prediction_length,\n",
    "\n",
    "        # statics\n",
    "        # static_categoricals=[\"agency\", \"sku\"],\n",
    "        # static_reals=[\"avg_population_2017\", \"avg_yearly_household_income_2017\"],\n",
    "\n",
    "        # time varying known (Planwerte) (es wird ein LSTM je Kategorie gebaut und verwendet)\n",
    "        # time_varying_known_categoricals=[\"special_days\", \"month\"],  # known (Plan Werte)\n",
    "        # variable_groups={\"special_days\": special_days},             # group of categorical variables can be treated as one variable\n",
    "\n",
    "        # time_varying_known_reals=[\"time_idx\", \"price_regular\", \"discount_in_percent\"],\n",
    "        time_varying_known_reals=[\"time_idx\"],\n",
    "\n",
    "        # time varying unknown (es wird ein LSTM je Kategorie gebaut und verwendet)\n",
    "        time_varying_unknown_categoricals=[],\n",
    "        time_varying_unknown_reals=features_columns,\n",
    "\n",
    "        # target_normalizer=GroupNormalizer(                          # TODO ti: auskommentiern wenn log target verwendet wird\n",
    "        #     groups=[\"agency\", \"sku\"], transformation=\"softplus\"     # Use softplus and normalize by group\n",
    "        # ),                                                          # Normalisieurung 8 -> 1,22 zurück 8.5 != exp(8)\n",
    "\n",
    "        # variablen die zusätzlich erstellt werden durch netzwerk\n",
    "        add_relative_time_idx=True,\n",
    "        add_target_scales=True,\n",
    "        add_encoder_length=True,\n",
    "        allow_missing_timesteps=True\n",
    ")\n",
    "\n",
    "training = create_time_series_data_set(data)\n",
    "\n",
    "# Create validation set (predict=True)\n",
    "# Which means to predict the last max_prediction_length points in time for each series\n",
    "validation = TimeSeriesDataSet.from_dataset(training, data, predict=True, stop_randomization=True)\n",
    "\n",
    "\n",
    "# create dataloaders for model\n",
    "batch_size = 128  # set this between 32 to 128\n",
    "\n",
    "# create data loaders\n",
    "train_dataloader = training.to_dataloader  (train=True,  batch_size=batch_size, num_workers=0)\n",
    "val_dataloader   = validation.to_dataloader(train=False, batch_size=batch_size * 10, num_workers=0)\n"
   ],
   "metadata": {
    "collapsed": false,
    "pycharm": {
     "name": "#%%\n"
    }
   }
  },
  {
   "cell_type": "markdown",
   "source": [
    "To learn more about the :py:class:`~pytorch_forecasting.data.timeseries.TimeSeriesDataSet`, visit its documentation or the :ref:`tutorial explaining how to pass datasets to models <passing-data>`."
   ],
   "metadata": {
    "collapsed": false
   }
  },
  {
   "cell_type": "markdown",
   "source": [
    "## 4. Create baseline model"
   ],
   "metadata": {
    "collapsed": false
   }
  },
  {
   "cell_type": "code",
   "execution_count": 6,
   "outputs": [
    {
     "data": {
      "text/plain": "0.003061520168557763"
     },
     "execution_count": 6,
     "metadata": {},
     "output_type": "execute_result"
    }
   ],
   "source": [
    "# calculate baseline mean absolute error, i.e. predict next value as the last available value from the history\n",
    "\n",
    "actuals = torch.cat([y for x, (y, weight) in iter(val_dataloader)])\n",
    "baseline_predictions = Baseline().predict(val_dataloader)\n",
    "(actuals - baseline_predictions).abs().mean().item()"
   ],
   "metadata": {
    "collapsed": false,
    "pycharm": {
     "name": "#%%\n"
    }
   }
  },
  {
   "cell_type": "markdown",
   "source": [
    "## 5. Train the Temporal Fusion Transformer"
   ],
   "metadata": {
    "collapsed": false
   }
  },
  {
   "cell_type": "markdown",
   "source": [
    "### Find optimal learning rate"
   ],
   "metadata": {
    "collapsed": false
   }
  },
  {
   "cell_type": "markdown",
   "source": [
    "Prior to training, you can identify the optimal learning rate with the [PyTorch Lightning learning rate finder](https://pytorch-lightning.readthedocs.io/en/latest/lr_finder.html)."
   ],
   "metadata": {
    "collapsed": false
   }
  },
  {
   "cell_type": "code",
   "execution_count": 7,
   "outputs": [
    {
     "name": "stderr",
     "output_type": "stream",
     "text": [
      "Global seed set to 42\n",
      "GPU available: False, used: False\n",
      "TPU available: False, using: 0 TPU cores\n",
      "IPU available: False, using: 0 IPUs\n"
     ]
    },
    {
     "name": "stdout",
     "output_type": "stream",
     "text": [
      "Number of parameters in network: 358.9k\n"
     ]
    }
   ],
   "source": [
    "# configure network and trainer\n",
    "pl.seed_everything(42)\n",
    "trainer = pl.Trainer(\n",
    "    gpus=0,\n",
    "    # clipping gradients is a hyperparameter and important to prevent divergance\n",
    "    # of the gradient for recurrent neural networks\n",
    "    gradient_clip_val=0.1,\n",
    ")\n",
    "\n",
    "tft = TemporalFusionTransformer.from_dataset(\n",
    "    training,\n",
    "    # not meaningful for finding the learning rate but otherwise very important\n",
    "    learning_rate=0.03,            # Guter Bereich: 0.01 ... 0.03 / RangerOptimzer ist Top\n",
    "    hidden_size=16,                # most important hyperparameter apart from learning rate\n",
    "    attention_head_size=1,         # number of attention heads. Set to up to 4 for large datasets\n",
    "    dropout=0.1,                   # between 0.1 and 0.3 are good values\n",
    "    hidden_continuous_size=8,      # set to <= hidden_size\n",
    "    output_size=7,                 # 7 quantiles by default\n",
    "    loss=QuantileLoss(),           # Quantile loss für quantile predictions\n",
    "    reduce_on_plateau_patience=4,  # reduce learning rate if no improvement in validation loss after x epochs\n",
    ")\n",
    "print(f\"Number of parameters in network: {tft.size()/1e3:.1f}k\")"
   ],
   "metadata": {
    "collapsed": false,
    "pycharm": {
     "name": "#%%\n"
    }
   }
  },
  {
   "cell_type": "code",
   "execution_count": 8,
   "outputs": [
    {
     "name": "stderr",
     "output_type": "stream",
     "text": [
      "Global seed set to 42\n"
     ]
    },
    {
     "data": {
      "text/plain": "Finding best initial lr:   0%|          | 0/100 [00:00<?, ?it/s]",
      "application/vnd.jupyter.widget-view+json": {
       "version_major": 2,
       "version_minor": 0,
       "model_id": "d677b047e1fb49f695885216c7f640ed"
      }
     },
     "metadata": {},
     "output_type": "display_data"
    },
    {
     "name": "stderr",
     "output_type": "stream",
     "text": [
      "Restoring states from the checkpoint path at D:\\dev\\workspace\\surfmachine\\ai\\src\\08_tft\\lr_find_temp_model_342839e7-3f72-4c19-b5b9-e16487619cb9.ckpt\n"
     ]
    },
    {
     "name": "stdout",
     "output_type": "stream",
     "text": [
      "suggested learning rate: 0.07943282347242808\n"
     ]
    },
    {
     "data": {
      "text/plain": "<Figure size 432x288 with 1 Axes>",
      "image/png": "[encoded data removed]"
     },
     "metadata": {
      "needs_background": "light"
     },
     "output_type": "display_data"
    }
   ],
   "source": [
    "# find optimal learning rate\n",
    "res = trainer.tuner.lr_find(\n",
    "    tft,\n",
    "    train_dataloader=train_dataloader,\n",
    "    val_dataloaders=val_dataloader,\n",
    "    max_lr=10.0,\n",
    "    min_lr=1e-6,\n",
    ")\n",
    "\n",
    "print(f\"suggested learning rate: {res.suggestion()}\")\n",
    "fig = res.plot(show=True, suggest=True)\n",
    "fig.show()"
   ],
   "metadata": {
    "collapsed": false,
    "pycharm": {
     "name": "#%%\n"
    }
   }
  },
  {
   "cell_type": "markdown",
   "source": [
    "## 6. Train the model"
   ],
   "metadata": {
    "collapsed": false
   }
  },
  {
   "cell_type": "code",
   "execution_count": 9,
   "outputs": [
    {
     "name": "stderr",
     "output_type": "stream",
     "text": [
      "GPU available: False, used: False\n",
      "TPU available: False, using: 0 TPU cores\n",
      "IPU available: False, using: 0 IPUs\n"
     ]
    },
    {
     "name": "stdout",
     "output_type": "stream",
     "text": [
      "Number of parameters in network: 358.9k\n"
     ]
    }
   ],
   "source": [
    "# configure network and trainer\n",
    "early_stop_callback = EarlyStopping(\n",
    "    monitor=\"val_loss\",\n",
    "    min_delta=1e-4,\n",
    "    patience=10,            # Abbruch wenn 10x nicht verbessert\n",
    "    verbose=False,\n",
    "    mode=\"min\")\n",
    "lr_logger = LearningRateMonitor()  # log the learning rate\n",
    "logger = TensorBoardLogger(\"lightning_logs\")  # logging results to a tensorboard\n",
    "\n",
    "trainer = pl.Trainer(\n",
    "    max_epochs=1, # 30\n",
    "    gpus=0,\n",
    "    weights_summary=\"top\",\n",
    "    gradient_clip_val=0.1,\n",
    "    limit_train_batches=30,  # coment in for training, running valiation every 30 batches\n",
    "    # fast_dev_run=True,  # !! Zeigt Feature Importance und weiteres! comment in to check that networkor dataset has no serious bugs\n",
    "    callbacks=[lr_logger, early_stop_callback],\n",
    "    logger=logger,\n",
    ")\n",
    "\n",
    "\n",
    "tft = TemporalFusionTransformer.from_dataset(\n",
    "    training,\n",
    "    learning_rate=0.03,\n",
    "    hidden_size=16,\n",
    "    attention_head_size=1,\n",
    "    dropout=0.1,\n",
    "    hidden_continuous_size=8,\n",
    "    output_size=7,  # 7 quantiles by default\n",
    "    loss=QuantileLoss(),\n",
    "    log_interval=10,  # uncomment for learning rate finder and otherwise, e.g. to 10 for logging every 10 batches\n",
    "    reduce_on_plateau_patience=4,\n",
    ")\n",
    "print(f\"Number of parameters in network: {tft.size()/1e3:.1f}k\")"
   ],
   "metadata": {
    "collapsed": false,
    "pycharm": {
     "name": "#%%\n"
    }
   }
  },
  {
   "cell_type": "markdown",
   "source": [
    "Training takes a couple of minutes on my Macbook but for larger networks and datasets, it can take hours. The training speed is here mostly determined by overhead and choosing a larger `batch_size` or `hidden_size` (i.e. network size) does not slow does training linearly making training on large datasets feasible. During training, we can monitor the tensorboard which can be spun up with `tensorboard --logdir=lightning_logs`. For example, we can monitor examples predictions on the training and validation set."
   ],
   "metadata": {
    "collapsed": false
   }
  },
  {
   "cell_type": "code",
   "execution_count": 10,
   "outputs": [
    {
     "name": "stderr",
     "output_type": "stream",
     "text": [
      "\n",
      "   | Name                               | Type                            | Params\n",
      "----------------------------------------------------------------------------------------\n",
      "0  | loss                               | QuantileLoss                    | 0     \n",
      "1  | logging_metrics                    | ModuleList                      | 0     \n",
      "2  | input_embeddings                   | MultiEmbedding                  | 0     \n",
      "3  | prescalers                         | ModuleDict                      | 7.9 K \n",
      "4  | static_variable_selection          | VariableSelectionNetwork        | 1.7 K \n",
      "5  | encoder_variable_selection         | VariableSelectionNetwork        | 341 K \n",
      "6  | decoder_variable_selection         | VariableSelectionNetwork        | 1.2 K \n",
      "7  | static_context_variable_selection  | GatedResidualNetwork            | 1.1 K \n",
      "8  | static_context_initial_hidden_lstm | GatedResidualNetwork            | 1.1 K \n",
      "9  | static_context_initial_cell_lstm   | GatedResidualNetwork            | 1.1 K \n",
      "10 | static_context_enrichment          | GatedResidualNetwork            | 1.1 K \n",
      "11 | lstm_encoder                       | LSTM                            | 2.2 K \n",
      "12 | lstm_decoder                       | LSTM                            | 2.2 K \n",
      "13 | post_lstm_gate_encoder             | GatedLinearUnit                 | 544   \n",
      "14 | post_lstm_add_norm_encoder         | AddNorm                         | 32    \n",
      "15 | static_enrichment                  | GatedResidualNetwork            | 1.4 K \n",
      "16 | multihead_attn                     | InterpretableMultiHeadAttention | 1.1 K \n",
      "17 | post_attn_gate_norm                | GateAddNorm                     | 576   \n",
      "18 | pos_wise_ff                        | GatedResidualNetwork            | 1.1 K \n",
      "19 | pre_output_gate_norm               | GateAddNorm                     | 576   \n",
      "20 | output_layer                       | Linear                          | 119   \n",
      "----------------------------------------------------------------------------------------\n",
      "358 K     Trainable params\n",
      "0         Non-trainable params\n",
      "358 K     Total params\n",
      "1.435     Total estimated model params size (MB)\n"
     ]
    },
    {
     "data": {
      "text/plain": "Validation sanity check: 0it [00:00, ?it/s]",
      "application/vnd.jupyter.widget-view+json": {
       "version_major": 2,
       "version_minor": 0,
       "model_id": "8e61250f2f53455db665cd8f1c9be6fc"
      }
     },
     "metadata": {},
     "output_type": "display_data"
    },
    {
     "name": "stderr",
     "output_type": "stream",
     "text": [
      "Global seed set to 42\n"
     ]
    },
    {
     "data": {
      "text/plain": "Training: 0it [00:00, ?it/s]",
      "application/vnd.jupyter.widget-view+json": {
       "version_major": 2,
       "version_minor": 0,
       "model_id": "509f15a8aa474c45b2bb94f836289c27"
      }
     },
     "metadata": {},
     "output_type": "display_data"
    },
    {
     "data": {
      "text/plain": "Validating: 0it [00:00, ?it/s]",
      "application/vnd.jupyter.widget-view+json": {
       "version_major": 2,
       "version_minor": 0,
       "model_id": "dad50bf85fb74b7a95eca29280beee86"
      }
     },
     "metadata": {},
     "output_type": "display_data"
    }
   ],
   "source": [
    "# fit network\n",
    "trainer.fit(\n",
    "    tft,\n",
    "    train_dataloader=train_dataloader,\n",
    "    val_dataloaders=val_dataloader,\n",
    ")"
   ],
   "metadata": {
    "collapsed": false,
    "pycharm": {
     "name": "#%%\n"
    }
   }
  },
  {
   "cell_type": "markdown",
   "source": [
    "### Hyperparameter tuning"
   ],
   "metadata": {
    "collapsed": false
   }
  },
  {
   "cell_type": "raw",
   "source": [
    "Hyperparamter tuning with [optuna](https://optuna.org/) is directly build into pytorch-forecasting. For example, we can use the \n",
    ":py:func:`~pytorch_forecasting.models.temporal_fusion_transformer.tuning.optimize_hyperparameters` function to optimize the TFT's hyperparameters.\n",
    "\n",
    ".. code-block:: python\n",
    "\n",
    "    import pickle\n",
    "    \n",
    "    from pytorch_forecasting.models.temporal_fusion_transformer.tuning import optimize_hyperparameters\n",
    "\n",
    "    # create study\n",
    "    study = optimize_hyperparameters(\n",
    "        train_dataloader,\n",
    "        val_dataloader,\n",
    "        model_path=\"optuna_test\",\n",
    "        n_trials=200,\n",
    "        max_epochs=50,\n",
    "        gradient_clip_val_range=(0.01, 1.0),\n",
    "        hidden_size_range=(8, 128),\n",
    "        hidden_continuous_size_range=(8, 128),\n",
    "        attention_head_size_range=(1, 4),\n",
    "        learning_rate_range=(0.001, 0.1),\n",
    "        dropout_range=(0.1, 0.3),\n",
    "        trainer_kwargs=dict(limit_train_batches=30),\n",
    "        reduce_on_plateau_patience=4,\n",
    "        use_learning_rate_finder=False,  # use Optuna to find ideal learning rate or use in-built learning rate finder\n",
    "    )\n",
    "\n",
    "    # save study results - also we can resume tuning at a later point in time\n",
    "    with open(\"test_study.pkl\", \"wb\") as fout:\n",
    "        pickle.dump(study, fout)\n",
    "\n",
    "    # show best hyperparameters\n",
    "    print(study.best_trial.params)\n"
   ],
   "metadata": {
    "collapsed": false
   }
  },
  {
   "cell_type": "markdown",
   "source": [
    "## 7. Evaluate model performance with validation data\n"
   ],
   "metadata": {
    "collapsed": false
   }
  },
  {
   "cell_type": "markdown",
   "source": [
    "### Load best tft\n",
    "PyTorch Lightning automatically checkpoints training and thus, we can easily retrieve the best model and load it."
   ],
   "metadata": {
    "collapsed": false
   }
  },
  {
   "cell_type": "code",
   "execution_count": 11,
   "outputs": [],
   "source": [
    "# load the best model according to the validation loss\n",
    "# (given that we use early stopping, this is not necessarily the last epoch)\n",
    "best_model_path = trainer.checkpoint_callback.best_model_path\n",
    "best_tft = TemporalFusionTransformer.load_from_checkpoint(best_model_path)\n"
   ],
   "metadata": {
    "collapsed": false,
    "pycharm": {
     "name": "#%%\n"
    }
   }
  },
  {
   "cell_type": "markdown",
   "source": [
    "### Calcualte mean absolute error on validation set\n",
    "\n",
    "After training, we can make predictions with :py:meth:`~pytorch_forecasting.models.base_model.BaseModel.predict`.\n",
    "- The method allows very fine-grained control over what it returns so that, for example, you can easily match\n",
    "  predictions to your pandas dataframe.\n",
    "- See its documentation for details."
   ],
   "metadata": {
    "collapsed": false
   }
  },
  {
   "cell_type": "code",
   "execution_count": 12,
   "outputs": [
    {
     "data": {
      "text/plain": "tensor(0.0067)"
     },
     "execution_count": 12,
     "metadata": {},
     "output_type": "execute_result"
    }
   ],
   "source": [
    "actuals = torch.cat([y[0] for x, y in iter(val_dataloader)])\n",
    "predictions = best_tft.predict(val_dataloader)\n",
    "(actuals - predictions).abs().mean()"
   ],
   "metadata": {
    "collapsed": false,
    "pycharm": {
     "name": "#%%\n"
    }
   }
  },
  {
   "cell_type": "markdown",
   "source": [
    "## 8. Evaluate model performance with test data"
   ],
   "metadata": {
    "collapsed": false
   }
  },
  {
   "cell_type": "markdown",
   "source": [
    "### Create test data loader"
   ],
   "metadata": {
    "collapsed": false,
    "pycharm": {
     "name": "#%% md\n"
    }
   }
  },
  {
   "cell_type": "code",
   "execution_count": 13,
   "outputs": [],
   "source": [
    "test_data = dm.test_dataset\n",
    "ts = create_time_series_data_set(test_data)\n",
    "test = TimeSeriesDataSet.from_dataset(ts, test_data, predict=True, stop_randomization=True)\n",
    "test_dataloader  = test.to_dataloader(train=False, batch_size=batch_size * 10, num_workers=0)"
   ],
   "metadata": {
    "collapsed": false,
    "pycharm": {
     "name": "#%%\n"
    }
   }
  },
  {
   "cell_type": "markdown",
   "source": [
    "### Calcualte mean absolute error on test set\n"
   ],
   "metadata": {
    "collapsed": false
   }
  },
  {
   "cell_type": "code",
   "execution_count": 14,
   "outputs": [
    {
     "data": {
      "text/plain": "tensor(0.0056)"
     },
     "execution_count": 14,
     "metadata": {},
     "output_type": "execute_result"
    }
   ],
   "source": [
    "actuals = torch.cat([y[0] for x, y in iter(test_dataloader)])\n",
    "predictions = best_tft.predict(test_dataloader)\n",
    "(actuals - predictions).abs().mean()\n"
   ],
   "metadata": {
    "collapsed": false,
    "pycharm": {
     "name": "#%%\n"
    }
   }
  },
  {
   "cell_type": "markdown",
   "source": [
    "_The end._"
   ],
   "metadata": {
    "collapsed": false
   }
  }
 ],
 "metadata": {
  "kernelspec": {
   "name": "pycharm-ec18b53a",
   "language": "python",
   "display_name": "PyCharm (python-work)"
  },
  "language_info": {
   "codemirror_mode": {
    "name": "ipython",
    "version": 3
   },
   "file_extension": ".py",
   "mimetype": "text/x-python",
   "name": "python",
   "nbconvert_exporter": "python",
   "pygments_lexer": "ipython3",
   "version": "3.8.3"
  },
  "colab": {
   "name": "stallion.ipynb",
   "provenance": []
  }
 },
 "nbformat": 4,
 "nbformat_minor": 0
}