{
 "nbformat": 4,
 "nbformat_minor": 0,
 "metadata": {
  "colab": {
   "name": "How to build environment.ipynb",
   "provenance": []
  },
  "kernelspec": {
   "name": "pycharm-ec18b53a",
   "language": "python",
   "display_name": "PyCharm (python-work)"
  },
  "language_info": {
   "name": "python"
  }
 },
 "cells": [
  {
   "cell_type": "markdown",
   "source": [
    "# Aufgabe 11 - Trading Environment Setup\n",
    "22.01.2022, Thomas Iten\n",
    "\n",
    "**Content**\n",
    "0. Setup\n",
    "1. Load S&P 500 Dataset\n",
    "2. Define Trading Environment\n",
    "3. Create Trading Environment and visualize some state values\n",
    "4. Test some random actions and visualize the rewards"
   ],
   "metadata": {
    "collapsed": false,
    "pycharm": {
     "name": "#%% md\n"
    }
   }
  },
  {
   "cell_type": "markdown",
   "source": [
    "## 0. Setup"
   ],
   "metadata": {
    "collapsed": false
   }
  },
  {
   "cell_type": "code",
   "execution_count": 1,
   "metadata": {
    "id": "wBZ6b2xTMwSU"
   },
   "outputs": [],
   "source": [
    "import random\n",
    "import numpy as np\n",
    "import gym\n",
    "import matplotlib.pyplot as plt\n",
    "plt.style.use('seaborn-whitegrid')\n",
    "\n",
    "from dataset import SP500DataSet\n",
    "from env import TradingEnv"
   ]
  },
  {
   "cell_type": "markdown",
   "source": [
    "## 1. Load S&P 500 Dataset"
   ],
   "metadata": {
    "collapsed": false
   }
  },
  {
   "cell_type": "code",
   "execution_count": 2,
   "outputs": [
    {
     "name": "stdout",
     "output_type": "stream",
     "text": [
      "Load SP500 from file: ./sp500.csv\n",
      "Define data splits:\n",
      "- Train rows : 2542 ( 85%)\n",
      "- Val   rows : 0000 ( 0%)\n",
      "- Test  rows : 0448 ( 15%)\n",
      "- Total rows : 2990 (100%)\n",
      "\n",
      "Define data shapes:\n",
      "- Train shape: (2542, 490)\n",
      "- Val   shape: (0, 490)\n",
      "- Test  shape: (448, 490)\n",
      "- Total shape: (2990, 490)\n"
     ]
    }
   ],
   "source": [
    "ds = SP500DataSet()\n",
    "df_train, df_test = ds.get_train_test()"
   ],
   "metadata": {
    "collapsed": false,
    "pycharm": {
     "name": "#%%\n"
    }
   }
  },
  {
   "cell_type": "markdown",
   "source": [
    "### Head of train data"
   ],
   "metadata": {
    "collapsed": false
   }
  },
  {
   "cell_type": "code",
   "source": [
    "df_train.head()"
   ],
   "metadata": {
    "collapsed": false,
    "pycharm": {
     "name": "#%%\n"
    }
   },
   "execution_count": 3,
   "outputs": [
    {
     "data": {
      "text/plain": "                   A       AAL       AAP      AAPL  ABBV       ABC      ABMD  \\\nDate                                                                           \n2010-01-04  0.007375 -0.014569 -0.002473  0.015445   0.0  0.021253  0.001145   \n2010-01-05 -0.010922  0.107246 -0.005962  0.001727   0.0 -0.007160 -0.024321   \n2010-01-06 -0.003559 -0.042314  0.008682 -0.016034   0.0 -0.009501 -0.015358   \n2010-01-07 -0.001297  0.029044 -0.000247 -0.001850   0.0 -0.016166  0.000000   \n2010-01-08 -0.000325 -0.019268  0.003945  0.006626   0.0  0.010807 -0.020446   \n\n                 ABT       ACN      ADBE  ...      XLNX       XOM      XRAY  \\\nDate                                      ...                                 \n2010-01-04  0.008668  0.013641  0.008393  ...  0.012689  0.013980  0.004539   \n2010-01-05 -0.008112  0.006162  0.016313  ... -0.012689  0.003897 -0.011959   \n2010-01-06  0.005539  0.010574 -0.002124  ... -0.006807  0.008606  0.006566   \n2010-01-07  0.008250 -0.000935 -0.019595  ... -0.010095 -0.003147  0.013005   \n2010-01-08  0.005099 -0.003986 -0.005436  ...  0.014505 -0.004020  0.000000   \n\n            XYL       YUM       ZBH      ZBRA      ZION  ZTS       SPY  \nDate                                                                    \n2010-01-04  0.0  0.003426  0.015278  0.011224  0.038231  0.0  0.016817  \n2010-01-05  0.0 -0.003426  0.031165 -0.001745  0.034651  0.0  0.002644  \n2010-01-06  0.0 -0.007174 -0.000323 -0.007717  0.083382  0.0  0.000704  \n2010-01-07  0.0 -0.000288  0.022681 -0.025318  0.106160  0.0  0.004212  \n2010-01-08  0.0  0.000288 -0.021228 -0.003256 -0.016320  0.0  0.003322  \n\n[5 rows x 490 columns]",
      "text/html": "<div>\n<style scoped>\n    .dataframe tbody tr th:only-of-type {\n        vertical-align: middle;\n    }\n\n    .dataframe tbody tr th {\n        vertical-align: top;\n    }\n\n    .dataframe thead th {\n        text-align: right;\n    }\n</style>\n<table border=\"1\" class=\"dataframe\">\n  <thead>\n    <tr style=\"text-align: right;\">\n      <th></th>\n      <th>A</th>\n      <th>AAL</th>\n      <th>AAP</th>\n      <th>AAPL</th>\n      <th>ABBV</th>\n      <th>ABC</th>\n      <th>ABMD</th>\n      <th>ABT</th>\n      <th>ACN</th>\n      <th>ADBE</th>\n      <th>...</th>\n      <th>XLNX</th>\n      <th>XOM</th>\n      <th>XRAY</th>\n      <th>XYL</th>\n      <th>YUM</th>\n      <th>ZBH</th>\n      <th>ZBRA</th>\n      <th>ZION</th>\n      <th>ZTS</th>\n      <th>SPY</th>\n    </tr>\n    <tr>\n      <th>Date</th>\n      <th></th>\n      <th></th>\n      <th></th>\n      <th></th>\n      <th></th>\n      <th></th>\n      <th></th>\n      <th></th>\n      <th></th>\n      <th></th>\n      <th></th>\n      <th></th>\n      <th></th>\n      <th></th>\n      <th></th>\n      <th></th>\n      <th></th>\n      <th></th>\n      <th></th>\n      <th></th>\n      <th></th>\n    </tr>\n  </thead>\n  <tbody>\n    <tr>\n      <th>2010-01-04</th>\n      <td>0.007375</td>\n      <td>-0.014569</td>\n      <td>-0.002473</td>\n      <td>0.015445</td>\n      <td>0.0</td>\n      <td>0.021253</td>\n      <td>0.001145</td>\n      <td>0.008668</td>\n      <td>0.013641</td>\n      <td>0.008393</td>\n      <td>...</td>\n      <td>0.012689</td>\n      <td>0.013980</td>\n      <td>0.004539</td>\n      <td>0.0</td>\n      <td>0.003426</td>\n      <td>0.015278</td>\n      <td>0.011224</td>\n      <td>0.038231</td>\n      <td>0.0</td>\n      <td>0.016817</td>\n    </tr>\n    <tr>\n      <th>2010-01-05</th>\n      <td>-0.010922</td>\n      <td>0.107246</td>\n      <td>-0.005962</td>\n      <td>0.001727</td>\n      <td>0.0</td>\n      <td>-0.007160</td>\n      <td>-0.024321</td>\n      <td>-0.008112</td>\n      <td>0.006162</td>\n      <td>0.016313</td>\n      <td>...</td>\n      <td>-0.012689</td>\n      <td>0.003897</td>\n      <td>-0.011959</td>\n      <td>0.0</td>\n      <td>-0.003426</td>\n      <td>0.031165</td>\n      <td>-0.001745</td>\n      <td>0.034651</td>\n      <td>0.0</td>\n      <td>0.002644</td>\n    </tr>\n    <tr>\n      <th>2010-01-06</th>\n      <td>-0.003559</td>\n      <td>-0.042314</td>\n      <td>0.008682</td>\n      <td>-0.016034</td>\n      <td>0.0</td>\n      <td>-0.009501</td>\n      <td>-0.015358</td>\n      <td>0.005539</td>\n      <td>0.010574</td>\n      <td>-0.002124</td>\n      <td>...</td>\n      <td>-0.006807</td>\n      <td>0.008606</td>\n      <td>0.006566</td>\n      <td>0.0</td>\n      <td>-0.007174</td>\n      <td>-0.000323</td>\n      <td>-0.007717</td>\n      <td>0.083382</td>\n      <td>0.0</td>\n      <td>0.000704</td>\n    </tr>\n    <tr>\n      <th>2010-01-07</th>\n      <td>-0.001297</td>\n      <td>0.029044</td>\n      <td>-0.000247</td>\n      <td>-0.001850</td>\n      <td>0.0</td>\n      <td>-0.016166</td>\n      <td>0.000000</td>\n      <td>0.008250</td>\n      <td>-0.000935</td>\n      <td>-0.019595</td>\n      <td>...</td>\n      <td>-0.010095</td>\n      <td>-0.003147</td>\n      <td>0.013005</td>\n      <td>0.0</td>\n      <td>-0.000288</td>\n      <td>0.022681</td>\n      <td>-0.025318</td>\n      <td>0.106160</td>\n      <td>0.0</td>\n      <td>0.004212</td>\n    </tr>\n    <tr>\n      <th>2010-01-08</th>\n      <td>-0.000325</td>\n      <td>-0.019268</td>\n      <td>0.003945</td>\n      <td>0.006626</td>\n      <td>0.0</td>\n      <td>0.010807</td>\n      <td>-0.020446</td>\n      <td>0.005099</td>\n      <td>-0.003986</td>\n      <td>-0.005436</td>\n      <td>...</td>\n      <td>0.014505</td>\n      <td>-0.004020</td>\n      <td>0.000000</td>\n      <td>0.0</td>\n      <td>0.000288</td>\n      <td>-0.021228</td>\n      <td>-0.003256</td>\n      <td>-0.016320</td>\n      <td>0.0</td>\n      <td>0.003322</td>\n    </tr>\n  </tbody>\n</table>\n<p>5 rows × 490 columns</p>\n</div>"
     },
     "execution_count": 3,
     "metadata": {},
     "output_type": "execute_result"
    }
   ]
  },
  {
   "cell_type": "markdown",
   "source": [
    "### Head of test data"
   ],
   "metadata": {
    "collapsed": false
   }
  },
  {
   "cell_type": "code",
   "execution_count": 4,
   "outputs": [
    {
     "data": {
      "text/plain": "                   A       AAL       AAP      AAPL      ABBV       ABC  \\\nDate                                                                     \n2020-02-10  0.015036  0.014343 -0.017071  0.004738  0.026306  0.017894   \n2020-02-11  0.007787  0.035822  0.010884 -0.006052  0.013106  0.010310   \n2020-02-12  0.003988  0.020893  0.016590  0.023470  0.018474  0.012714   \n2020-02-13  0.000468 -0.012550  0.002602 -0.007147 -0.025268 -0.008848   \n2020-02-14  0.004086 -0.030024 -0.008052  0.000246 -0.013728 -0.001694   \n\n                ABMD       ABT       ACN      ADBE  ...      XLNX       XOM  \\\nDate                                                ...                       \n2020-02-10 -0.071112  0.004882  0.004574  0.010624  ...  0.013631 -0.010617   \n2020-02-11  0.009946  0.009805 -0.001931 -0.001948  ...  0.043808  0.009461   \n2020-02-12 -0.051826 -0.004271 -0.000707  0.013476  ...  0.009699  0.012151   \n2020-02-13 -0.012902 -0.001240  0.001932  0.001468  ... -0.008371 -0.005565   \n2020-02-14  0.014578  0.010990 -0.000141  0.012803  ... -0.002658 -0.004606   \n\n                XRAY       XYL       YUM       ZBH      ZBRA      ZION  \\\nDate                                                                     \n2020-02-10  0.006111  0.017891  0.008101  0.011634  0.005204 -0.012625   \n2020-02-11  0.009528  0.017577  0.011405  0.006740 -0.002982  0.013706   \n2020-02-12  0.000172  0.021433  0.012322 -0.003711  0.016727  0.003694   \n2020-02-13  0.001722 -0.023613  0.001525  0.000189 -0.076978  0.007131   \n2020-02-14 -0.004484  0.012444  0.002377  0.010466  0.023090 -0.003883   \n\n                 ZTS       SPY  \nDate                            \n2020-02-10  0.025939  0.007438  \n2020-02-11  0.010329  0.001732  \n2020-02-12 -0.007317  0.006422  \n2020-02-13  0.013615 -0.001068  \n2020-02-14 -0.005327  0.001601  \n\n[5 rows x 490 columns]",
      "text/html": "<div>\n<style scoped>\n    .dataframe tbody tr th:only-of-type {\n        vertical-align: middle;\n    }\n\n    .dataframe tbody tr th {\n        vertical-align: top;\n    }\n\n    .dataframe thead th {\n        text-align: right;\n    }\n</style>\n<table border=\"1\" class=\"dataframe\">\n  <thead>\n    <tr style=\"text-align: right;\">\n      <th></th>\n      <th>A</th>\n      <th>AAL</th>\n      <th>AAP</th>\n      <th>AAPL</th>\n      <th>ABBV</th>\n      <th>ABC</th>\n      <th>ABMD</th>\n      <th>ABT</th>\n      <th>ACN</th>\n      <th>ADBE</th>\n      <th>...</th>\n      <th>XLNX</th>\n      <th>XOM</th>\n      <th>XRAY</th>\n      <th>XYL</th>\n      <th>YUM</th>\n      <th>ZBH</th>\n      <th>ZBRA</th>\n      <th>ZION</th>\n      <th>ZTS</th>\n      <th>SPY</th>\n    </tr>\n    <tr>\n      <th>Date</th>\n      <th></th>\n      <th></th>\n      <th></th>\n      <th></th>\n      <th></th>\n      <th></th>\n      <th></th>\n      <th></th>\n      <th></th>\n      <th></th>\n      <th></th>\n      <th></th>\n      <th></th>\n      <th></th>\n      <th></th>\n      <th></th>\n      <th></th>\n      <th></th>\n      <th></th>\n      <th></th>\n      <th></th>\n    </tr>\n  </thead>\n  <tbody>\n    <tr>\n      <th>2020-02-10</th>\n      <td>0.015036</td>\n      <td>0.014343</td>\n      <td>-0.017071</td>\n      <td>0.004738</td>\n      <td>0.026306</td>\n      <td>0.017894</td>\n      <td>-0.071112</td>\n      <td>0.004882</td>\n      <td>0.004574</td>\n      <td>0.010624</td>\n      <td>...</td>\n      <td>0.013631</td>\n      <td>-0.010617</td>\n      <td>0.006111</td>\n      <td>0.017891</td>\n      <td>0.008101</td>\n      <td>0.011634</td>\n      <td>0.005204</td>\n      <td>-0.012625</td>\n      <td>0.025939</td>\n      <td>0.007438</td>\n    </tr>\n    <tr>\n      <th>2020-02-11</th>\n      <td>0.007787</td>\n      <td>0.035822</td>\n      <td>0.010884</td>\n      <td>-0.006052</td>\n      <td>0.013106</td>\n      <td>0.010310</td>\n      <td>0.009946</td>\n      <td>0.009805</td>\n      <td>-0.001931</td>\n      <td>-0.001948</td>\n      <td>...</td>\n      <td>0.043808</td>\n      <td>0.009461</td>\n      <td>0.009528</td>\n      <td>0.017577</td>\n      <td>0.011405</td>\n      <td>0.006740</td>\n      <td>-0.002982</td>\n      <td>0.013706</td>\n      <td>0.010329</td>\n      <td>0.001732</td>\n    </tr>\n    <tr>\n      <th>2020-02-12</th>\n      <td>0.003988</td>\n      <td>0.020893</td>\n      <td>0.016590</td>\n      <td>0.023470</td>\n      <td>0.018474</td>\n      <td>0.012714</td>\n      <td>-0.051826</td>\n      <td>-0.004271</td>\n      <td>-0.000707</td>\n      <td>0.013476</td>\n      <td>...</td>\n      <td>0.009699</td>\n      <td>0.012151</td>\n      <td>0.000172</td>\n      <td>0.021433</td>\n      <td>0.012322</td>\n      <td>-0.003711</td>\n      <td>0.016727</td>\n      <td>0.003694</td>\n      <td>-0.007317</td>\n      <td>0.006422</td>\n    </tr>\n    <tr>\n      <th>2020-02-13</th>\n      <td>0.000468</td>\n      <td>-0.012550</td>\n      <td>0.002602</td>\n      <td>-0.007147</td>\n      <td>-0.025268</td>\n      <td>-0.008848</td>\n      <td>-0.012902</td>\n      <td>-0.001240</td>\n      <td>0.001932</td>\n      <td>0.001468</td>\n      <td>...</td>\n      <td>-0.008371</td>\n      <td>-0.005565</td>\n      <td>0.001722</td>\n      <td>-0.023613</td>\n      <td>0.001525</td>\n      <td>0.000189</td>\n      <td>-0.076978</td>\n      <td>0.007131</td>\n      <td>0.013615</td>\n      <td>-0.001068</td>\n    </tr>\n    <tr>\n      <th>2020-02-14</th>\n      <td>0.004086</td>\n      <td>-0.030024</td>\n      <td>-0.008052</td>\n      <td>0.000246</td>\n      <td>-0.013728</td>\n      <td>-0.001694</td>\n      <td>0.014578</td>\n      <td>0.010990</td>\n      <td>-0.000141</td>\n      <td>0.012803</td>\n      <td>...</td>\n      <td>-0.002658</td>\n      <td>-0.004606</td>\n      <td>-0.004484</td>\n      <td>0.012444</td>\n      <td>0.002377</td>\n      <td>0.010466</td>\n      <td>0.023090</td>\n      <td>-0.003883</td>\n      <td>-0.005327</td>\n      <td>0.001601</td>\n    </tr>\n  </tbody>\n</table>\n<p>5 rows × 490 columns</p>\n</div>"
     },
     "execution_count": 4,
     "metadata": {},
     "output_type": "execute_result"
    }
   ],
   "source": [
    "df_test.head()"
   ],
   "metadata": {
    "collapsed": false,
    "pycharm": {
     "name": "#%%\n"
    }
   }
  },
  {
   "cell_type": "markdown",
   "source": [
    "## 2. Define Trading Environment\n"
   ],
   "metadata": {
    "collapsed": false
   }
  },
  {
   "cell_type": "code",
   "source": [
    "class TradingEnv(gym.Env):\n",
    "    \"\"\"The S&P 500 Trading Environment.\"\"\"\n",
    "\n",
    "    INITIAL_IDX = 0\n",
    "    INITIAL_CASH = 10_000\n",
    "    INITIAL_PORTFOLIO_VALUE = 0\n",
    "\n",
    "    ACTIONS = [\"sell\", \"hold\", \"buy\"]\n",
    "\n",
    "    def __init__(self, df_train, df_test, play=False):\n",
    "        # df and starting index\n",
    "        self.df = df_test if play else df_train\n",
    "        self.current_idx = TradingEnv.INITIAL_IDX\n",
    "\n",
    "        # cash and portfolio\n",
    "        self.cash = TradingEnv.INITIAL_CASH\n",
    "        self.portfolio_value = TradingEnv.INITIAL_PORTFOLIO_VALUE\n",
    "\n",
    "        # target stocks and stock values\n",
    "        self.stocks = ['AAPL', 'MSFT', 'AMZN', 'NFLX', 'XOM', 'JPM', 'T'] # target stocks\n",
    "        self.stock_values = np.zeros(len(self.stocks))\n",
    "\n",
    "        # number, states and rewards\n",
    "        self.n = len(self.df)\n",
    "        self.states = self.df.loc[:, ~self.df.columns.isin(self.stocks)].to_numpy()\n",
    "        self.rewards = self.df[self.stocks].to_numpy()\n",
    "\n",
    "        # last step data\n",
    "        self.last_step = None\n",
    "\n",
    "\n",
    "    def reset(self):\n",
    "        self.current_idx = TradingEnv.INITIAL_IDX\n",
    "        self.cash = TradingEnv.INITIAL_CASH\n",
    "        self.portfolio_value = TradingEnv.INITIAL_PORTFOLIO_VALUE\n",
    "        self.stock_values = np.zeros(len(self.stocks))\n",
    "        state = self.states[self.current_idx]\n",
    "        state = np.array(state).reshape(1, -1)\n",
    "        self.last_step = None\n",
    "        return state\n",
    "\n",
    "\n",
    "    def step(self, action):\n",
    "        \"\"\"\n",
    "        Run the give action, take a step forward and return the next state with the reward and done flag.\n",
    "\n",
    "        The actions calculates the difference between the mean value of the next states and the current states.\n",
    "\n",
    "        The reward is then calculated according the following table:\n",
    "\n",
    "            Action      Difference   Rise    Reward\n",
    "            sell        positive     True    -10\n",
    "            sell        negative     False   +10\n",
    "            buy         positive     True    +20\n",
    "            buy         negative     False   -10\n",
    "            hold        n/a          n/a       0\n",
    "\n",
    "        :param action: [\"sell\", \"hold\", \"buy\"]\n",
    "        :return: next_state, reward, done\n",
    "        \"\"\"\n",
    "\n",
    "        # check valid state\n",
    "        if self.current_idx >= self.n:\n",
    "            raise Exception(\"Episode already done\")\n",
    "\n",
    "        # check valid actions\n",
    "        if action not in TradingEnv.ACTIONS:\n",
    "            raise Exception(\"Invalid action: \" + action)\n",
    "\n",
    "        # apply action and calculate mean values before and after\n",
    "        mean = np.mean(self.states[self.current_idx])\n",
    "        self.current_idx += 1                               # apply action\n",
    "        next_mean = np.mean(self.states[self.current_idx])\n",
    "\n",
    "        # calculate done\n",
    "        done = (self.current_idx == self.n - 1)\n",
    "        if done:\n",
    "            next_state = None\n",
    "            reward = 0\n",
    "        else:\n",
    "            # calculate reward\n",
    "            reward = 0\n",
    "            rise = (next_mean - mean) > 0\n",
    "\n",
    "            if action == \"sell\":\n",
    "                reward = -10 if rise else +10\n",
    "            elif action == \"buy\":\n",
    "                reward = +20 if rise else -10\n",
    "\n",
    "            # calculate next step\n",
    "            next_state = self.states[self.current_idx]\n",
    "            next_state = np.array(next_state).reshape(1, -1)\n",
    "\n",
    "        # save last step data\n",
    "        self.last_step = {\"action\": action, \"rise\": rise, \"reward\": reward, \"done\": done}\n",
    "\n",
    "        # return results\n",
    "        return next_state, reward, done\n",
    "\n",
    "\n",
    "    def render(self):\n",
    "        # Currently we just render the data of the last step\n",
    "        print(self.last_step[\"action\"] + \":\",\n",
    "              \"vaules rised=\" + str(self.last_step[\"rise\"]),\n",
    "              \"reward=\" + str(self.last_step[\"reward\"]),\n",
    "              \"done=\" + str(self.last_step[\"done\"]))\n",
    "\n",
    "    def render_state_mean_values(self, start=0, n=None):\n",
    "        means = []\n",
    "        steps = []\n",
    "        stop = len(self.states) if n is None else n\n",
    "        for i in range(start, stop):\n",
    "            mean = np.mean(self.states[i])\n",
    "            means.append(mean)\n",
    "            steps.append(i)\n",
    "        self.plot(steps, means, title=\"State values\", xlabel=\"Step\", ylabel=\"Mean\")\n",
    "\n",
    "\n",
    "    def plot(self, x, y, title=\"\", xlabel=\"\", ylabel=\"\"):\n",
    "        \"\"\"Simple plot function.\n",
    "        Further details see: https://jakevdp.github.io/PythonDataScienceHandbook/04.01-simple-line-plots.html\n",
    "        \"\"\"\n",
    "        fig = plt.figure()\n",
    "        ax = plt.axes()\n",
    "        ax.plot(x, y);\n",
    "        plt.title(title)\n",
    "        plt.xlabel(xlabel)\n",
    "        plt.ylabel(ylabel)\n",
    "        plt.show()\n"
   ],
   "metadata": {
    "collapsed": false,
    "pycharm": {
     "name": "#%%\n"
    }
   },
   "execution_count": 5,
   "outputs": []
  },
  {
   "cell_type": "markdown",
   "source": [
    "## 3. Create Trading Environment and visualize some state values\n",
    "\n",
    "### Create and reset"
   ],
   "metadata": {
    "collapsed": false
   }
  },
  {
   "cell_type": "code",
   "execution_count": 6,
   "outputs": [
    {
     "data": {
      "text/plain": "array([[ 0.00737545, -0.01456873, -0.00247324,  0.        ,  0.02125287,\n         0.00114485,  0.00866754,  0.01364148,  0.00839321,  0.00284574,\n         0.00509727,  0.0002332 ,  0.01018021, -0.00682148,  0.00430202,\n         0.02668797,  0.02814075, -0.00300636,  0.02280443, -0.00802816,\n         0.02263069,  0.04620776,  0.03744933,  0.00892984,  0.0122418 ,\n         0.        ,  0.02549719,  0.        ,  0.00206393,  0.00937   ,\n         0.02012503,  0.02693917,  0.00576882,  0.        ,  0.02678935,\n         0.02473873, -0.01048757,  0.02772921,  0.0258341 ,  0.02557686,\n        -0.00521038,  0.        , -0.01157691,  0.0040733 ,  0.01695708,\n        -0.01114456,  0.0306887 ,  0.00981706,  0.01065298,  0.00982326,\n        -0.00025314,  0.03717213,  0.04098146, -0.00666833,  0.00363169,\n         0.01833015, -0.00330252,  0.02484303,  0.00261339,  0.01451169,\n         0.01137592,  0.02509345,  0.01860078,  0.02710578,  0.01516517,\n         0.0149372 ,  0.00574597,  0.00222347,  0.00111052,  0.01671671,\n         0.00044674,  0.02682688,  0.00259986,  0.00895488,  0.02700515,\n        -0.02267638,  0.        ,  0.01825534,  0.01449468,  0.01160785,\n         0.0214707 ,  0.        ,  0.03549964,  0.02195527,  0.01160908,\n         0.        ,  0.01461521,  0.01033338,  0.        ,  0.03071132,\n         0.0098597 ,  0.00848544,  0.00702447,  0.03096617,  0.01215354,\n         0.01901659, -0.00363645,  0.0232769 ,  0.00826699,  0.02472721,\n         0.00068952,  0.01834855, -0.00975343,  0.02913847,  0.00404794,\n         0.00206855, -0.00575105, -0.00356821,  0.01413313,  0.03084762,\n         0.00760184,  0.01219992,  0.        ,  0.05880116,  0.03191415,\n         0.02913156,  0.02362446,  0.02653151,  0.        ,  0.00102711,\n        -0.01415933,  0.05458074,  0.03577258, -0.00682148,  0.02856699,\n         0.01283575,  0.02632899, -0.00066491, -0.00559692,  0.01070225,\n         0.01012954,  0.0195477 , -0.00258895, -0.00269512,  0.01786354,\n         0.03517337, -0.00494269, -0.00199834, -0.00114752, -0.01404321,\n         0.01988935,  0.04092033,  0.00364354,  0.05894679,  0.02228505,\n         0.01560238,  0.01491761, -0.00110134,  0.01860192, -0.00028732,\n         0.00371506,  0.02475729,  0.01745215,  0.        ,  0.03116384,\n         0.03161868, -0.0113128 , -0.00077567, -0.01238987,  0.01094272,\n         0.00378096,  0.        ,  0.00550976,  0.00711339,  0.00020452,\n         0.00887617,  0.00349161,  0.02901265,  0.02761481,  0.        ,\n         0.00932233,  0.        ,  0.        ,  0.03872266,  0.        ,\n         0.00686583,  0.01888786,  0.01608154,  0.0194062 ,  0.03724634,\n         0.        ,  0.01883121,  0.        , -0.01024148,  0.02417887,\n         0.01485196,  0.02092938,  0.00069265,  0.00127042,  0.02168162,\n         0.01286384,  0.        ,  0.        ,  0.01086047,  0.01086055,\n         0.00446853, -0.02234218, -0.01569865,  0.04708226,  0.02480301,\n         0.00422502,  0.03782651,  0.01486095,  0.00818583,  0.02417674,\n         0.        , -0.00902818,  0.04302749,  0.02546859,  0.        ,\n         0.        ,  0.0298935 ,  0.02891454,  0.        ,  0.01808433,\n        -0.00443087,  0.0156563 ,  0.01277151,  0.01194289,  0.03997385,\n         0.01177143,  0.00506242,  0.01171781,  0.01592369,  0.02092731,\n        -0.00424633,  0.04191913,  0.        ,  0.02325687,  0.00260003,\n         0.01482612,  0.02012146,  0.03754114,  0.        ,  0.00569592,\n         0.01744575,  0.035932  ,  0.01201321, -0.00640589,  0.02208854,\n         0.02418556,  0.01640106,  0.03022089,  0.0041831 ,  0.01894212,\n        -0.00697902,  0.06791121,  0.        ,  0.        ,  0.00956196,\n         0.02079977,  0.0087517 ,  0.        , -0.01119649,  0.0007015 ,\n        -0.00243858,  0.01075627,  0.02257693,  0.00893562,  0.0053783 ,\n         0.01861989,  0.02023753,  0.01627055,  0.01544508,  0.00509168,\n         0.00307548,  0.01971132,  0.03940589,  0.00296978, -0.00988194,\n         0.01694288,  0.01235103, -0.02211517,  0.1065644 ,  0.        ,\n         0.06922782,  0.00335437, -0.00186583,  0.01384854,  0.03416696,\n         0.00543034,  0.0044654 ,  0.01366628,  0.01738556,  0.00915546,\n        -0.00182044,  0.0265194 ,  0.06474409,  0.01480588,  0.00469444,\n         0.02064856,  0.024962  , -0.00955641,  0.00422494,  0.02265808,\n         0.00811818,  0.0326119 ,  0.        ,  0.00125047,  0.01278035,\n         0.02810844,  0.0433052 ,  0.00564432,  0.02670196,  0.00179234,\n         0.00146359,  0.00617199,  0.0270918 ,  0.        ,  0.02096926,\n         0.00810808,  0.02381051,  0.00841693, -0.01095734,  0.02810865,\n         0.        ,  0.01774695,  0.        ,  0.01095238,  0.0032376 ,\n        -0.00496069,  0.00247795,  0.02414406, -0.01022356,  0.00275395,\n         0.01257842,  0.        ,  0.        ,  0.        ,  0.0073064 ,\n        -0.04701625,  0.02240767,  0.01193406,  0.01296092,  0.00991919,\n         0.02128391,  0.        ,  0.00585732,  0.00298917,  0.00933068,\n        -0.015509  ,  0.01136389,  0.02038664,  0.00721073,  0.03987582,\n         0.03915658,  0.00804889,  0.00222141,  0.01180855,  0.02371674,\n         0.01637988,  0.00242486, -0.00707028,  0.02378627,  0.01354686,\n         0.03288977,  0.00816798,  0.0135347 ,  0.03458436,  0.00494044,\n         0.03959975, -0.01633908,  0.        ,  0.0199946 ,  0.01027139,\n         0.019012  ,  0.05669695,  0.        ,  0.01459229,  0.        ,\n         0.02036077, -0.00268826, -0.00830604,  0.01843932,  0.02427742,\n         0.01448489,  0.02081685,  0.00713677,  0.00989908,  0.01583815,\n         0.01697138,  0.00324105, -0.0004685 ,  0.01298494,  0.0314826 ,\n         0.02913797, -0.00043342,  0.04975155,  0.00729316,  0.00032428,\n         0.03119345,  0.00693922,  0.03056255,  0.01409789,  0.00715566,\n        -0.00210324, -0.01108906,  0.0029797 , -0.00143005,  0.01137618,\n         0.02091004,  0.03776078,  0.01185645,  0.02302922,  0.04344021,\n         0.        ,  0.03491972,  0.00571023,  0.01668872,  0.03943105,\n         0.02928541,  0.0017484 ,  0.01936342,  0.02120872,  0.01719491,\n         0.02925801,  0.00371451, -0.01405154, -0.00399181,  0.04359656,\n        -0.0060403 ,  0.01769953,  0.02136653, -0.00100344,  0.00696053,\n         0.        , -0.00244774,  0.01416892,  0.03423312,  0.        ,\n        -0.00192036,  0.01215344,  0.01939874,  0.02927036, -0.00855701,\n        -0.01408933,  0.0210876 ,  0.03729158,  0.03386864,  0.02305015,\n         0.01402012,  0.02317479,  0.01630357,  0.00774483,  0.00191017,\n         0.01413448,  0.06584401,  0.00113858,  0.0011431 , -0.01430245,\n         0.02041722,  0.03192379, -0.00895621,  0.01561262,  0.00451753,\n         0.02131855, -0.00534022,  0.01567128,  0.0248303 , -0.00200863,\n        -0.00633762,  0.01215274,  0.01586639,  0.01467603,  0.01029902,\n         0.02483109,  0.01448726, -0.00529008,  0.        ,  0.00686392,\n         0.01265163,  0.02608218,  0.09385723, -0.00661934,  0.01268854,\n         0.00453939,  0.        ,  0.00342611,  0.01527773,  0.01122424,\n         0.03823107,  0.        ,  0.01681739]])"
     },
     "execution_count": 6,
     "metadata": {},
     "output_type": "execute_result"
    }
   ],
   "source": [
    "env = TradingEnv(df_train, df_test)\n",
    "env.reset()"
   ],
   "metadata": {
    "collapsed": false,
    "pycharm": {
     "name": "#%%\n"
    }
   }
  },
  {
   "cell_type": "markdown",
   "source": [
    "### Visualize the first 100 state mean values"
   ],
   "metadata": {
    "collapsed": false
   }
  },
  {
   "cell_type": "code",
   "source": [
    "env.render_state_mean_values(n=100)\n"
   ],
   "metadata": {
    "collapsed": false,
    "pycharm": {
     "name": "#%%\n"
    }
   },
   "execution_count": 7,
   "outputs": [
    {
     "data": {
      "text/plain": "<Figure size 432x288 with 1 Axes>",
      "image/png": "[encoded data removed]"
     },
     "metadata": {},
     "output_type": "display_data"
    }
   ]
  },
  {
   "cell_type": "markdown",
   "source": [
    "## 4. Test some random actions and visualize the rewards\n",
    "\n",
    "### Test some random actions"
   ],
   "metadata": {
    "collapsed": false
   }
  },
  {
   "cell_type": "code",
   "execution_count": 8,
   "outputs": [
    {
     "name": "stdout",
     "output_type": "stream",
     "text": [
      "Actions:\n",
      "sell: vaules rised=False reward=10 done=False\n",
      "buy: vaules rised=False reward=-10 done=False\n",
      "buy: vaules rised=True reward=20 done=False\n",
      "buy: vaules rised=False reward=-10 done=False\n",
      "sell: vaules rised=False reward=10 done=False\n",
      "buy: vaules rised=False reward=-10 done=False\n",
      "buy: vaules rised=True reward=20 done=False\n",
      "hold: vaules rised=False reward=0 done=False\n",
      "sell: vaules rised=False reward=10 done=False\n",
      "sell: vaules rised=True reward=-10 done=False\n",
      "buy: vaules rised=False reward=-10 done=False\n",
      "buy: vaules rised=False reward=-10 done=False\n",
      "sell: vaules rised=False reward=10 done=False\n",
      "buy: vaules rised=True reward=20 done=False\n",
      "buy: vaules rised=False reward=-10 done=False\n",
      "hold: vaules rised=True reward=0 done=False\n",
      "buy: vaules rised=False reward=-10 done=False\n",
      "sell: vaules rised=True reward=-10 done=False\n",
      "buy: vaules rised=True reward=20 done=False\n",
      "hold: vaules rised=False reward=0 done=False\n",
      "hold: vaules rised=False reward=0 done=False\n",
      "hold: vaules rised=False reward=0 done=False\n",
      "sell: vaules rised=True reward=-10 done=False\n",
      "buy: vaules rised=False reward=-10 done=False\n"
     ]
    }
   ],
   "source": [
    "# test some actions\n",
    "n=24\n",
    "rewards = []\n",
    "\n",
    "print(\"Actions:\")\n",
    "for _ in range(n):\n",
    "    action = TradingEnv.ACTIONS[random.randint(0,2)]\n",
    "    next_state, reward, done = env.step(action)\n",
    "    rewards.append(reward)\n",
    "    env.render()\n"
   ],
   "metadata": {
    "collapsed": false,
    "pycharm": {
     "name": "#%%\n"
    }
   }
  },
  {
   "cell_type": "markdown",
   "source": [
    "### Visualize the rewards\n"
   ],
   "metadata": {
    "collapsed": false
   }
  },
  {
   "cell_type": "code",
   "source": [
    "env.plot(range(0,n), rewards, title=\"Rewards\", xlabel=\"Step\", ylabel=\"Reward\")\n"
   ],
   "metadata": {
    "collapsed": false,
    "pycharm": {
     "name": "#%%\n"
    }
   },
   "execution_count": 9,
   "outputs": [
    {
     "data": {
      "text/plain": "<Figure size 432x288 with 1 Axes>",
      "image/png": "[encoded data removed]"
     },
     "metadata": {},
     "output_type": "display_data"
    }
   ]
  },
  {
   "cell_type": "markdown",
   "source": [
    "---\n",
    "__The end.__\n",
    "\n"
   ],
   "metadata": {
    "id": "GNFXYTTvPin0",
    "pycharm": {
     "name": "#%% md\n"
    }
   }
  }
 ]
}