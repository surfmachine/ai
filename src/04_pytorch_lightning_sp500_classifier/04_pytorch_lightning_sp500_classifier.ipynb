{
 "cells": [
  {
   "cell_type": "markdown",
   "metadata": {
    "collapsed": true,
    "pycharm": {
     "name": "#%% md\n"
    }
   },
   "source": [
    "# Aufgabe 04 - S&P 500 Classifier with PyTorch Lightning\n",
    "20.11.2021, Thomas Iten\n",
    "\n",
    "**Inhalt**\n",
    "\n",
    "1. SP500DataModule (derived from LightningDataModule)\n",
    "2. SP500ClassifierModel\n",
    "3. Train and test\n",
    "4. Run learning finder variation 1: auto_lr_find=True\n",
    "5. Run learning finder variation 2: trainer.tuner.lr_find\n",
    "6. Train with early stop and test\n",
    "7. Visualize with Tensorboard"
   ]
  },
  {
   "cell_type": "markdown",
   "source": [
    "## Imports"
   ],
   "metadata": {
    "collapsed": false
   }
  },
  {
   "cell_type": "code",
   "source": [
    "import os, os.path, requests, datetime\n",
    "import numpy as np\n",
    "import pandas as pd\n",
    "import bs4 as bs\n",
    "import yfinance\n",
    "\n",
    "from torch.utils.data import DataLoader, TensorDataset\n",
    "from typing import Optional\n",
    "\n",
    "import torch, torchmetrics\n",
    "import pytorch_lightning as pl\n",
    "from torch import nn\n",
    "from torch.nn import functional as F\n",
    "from pytorch_lightning.callbacks.early_stopping import EarlyStopping\n",
    "from pytorch_lightning.callbacks import ModelCheckpoint\n",
    "\n",
    "import warnings\n",
    "warnings.filterwarnings('ignore')"
   ],
   "metadata": {
    "collapsed": false,
    "pycharm": {
     "name": "#%%\n"
    }
   },
   "execution_count": 10,
   "outputs": []
  },
  {
   "cell_type": "markdown",
   "source": [
    "## 1. SP500DataModule"
   ],
   "metadata": {
    "collapsed": false
   }
  },
  {
   "cell_type": "code",
   "source": [
    "class SP500DataModule(pl.LightningDataModule):\n",
    "    \"\"\"Data module for the 'Standard and Poor 500' company performance data.\n",
    "\n",
    "    Usage:\n",
    "    (1) The recommended way to use a DataModule is as follows:\n",
    "        dm = SP500DataModule()\n",
    "        model = Model()\n",
    "        trainer.fit(model, dm)\n",
    "        trainer.test(datamodule=dm)\n",
    "\n",
    "    (2) If you need information from the dataset to build your model, then run prepare_data() and setup() manually\n",
    "        (Lightning ensures the method runs on the correct devices):\n",
    "\n",
    "        dm = SP500DataModule()\n",
    "        dm.prepare_data()\n",
    "        dm.setup(stage=\"fit\")\n",
    "\n",
    "        model = Model(num_classes=dm.num_classes, width=dm.width, vocab=dm.vocab)\n",
    "        trainer.fit(model, dm)\n",
    "\n",
    "        dm.setup(stage=\"test\")\n",
    "        trainer.test(datamodule=dm)\n",
    "\n",
    "    Further details see:\n",
    "    - https://pytorch-lightning.readthedocs.io/en/latest/starter/introduction_guide.html\n",
    "    - https://pytorch-lightning.readthedocs.io/en/latest/extensions/datamodules.html\n",
    "    \"\"\"\n",
    "    URL = \"http://en.wikipedia.org/wiki/List_of_S%26P_500_companies\"\n",
    "\n",
    "\n",
    "    def __init__(self, batch_size=32, train_val_test_split=[75,15,10], spy_binary=True, path=\"data\", force_download=False):\n",
    "        super().__init__()\n",
    "        # download properties\n",
    "        self.start = datetime.datetime(2010, 1, 1)\n",
    "        self.end = datetime.datetime.now()\n",
    "        self.fname = path + \"/sp500.csv\"\n",
    "        self.force_download = force_download\n",
    "        # prepare and transform properties\n",
    "        self.spy_binary = spy_binary\n",
    "        self.batch_size = batch_size\n",
    "        self.train_val_test_split = train_val_test_split\n",
    "        # data\n",
    "        self.data = None\n",
    "        self.train_dataset = None\n",
    "        self.val_dataset = None\n",
    "        self.test_dataset = None\n",
    "\n",
    "\n",
    "    def prepare_data(self):\n",
    "        \"\"\"Download and prepare the SP500 data.\"\"\"\n",
    "        df = self._download_sp500()\n",
    "        if self.spy_binary:\n",
    "            df.SPY = [1 if spy > 0 else 0 for spy in df.SPY]\n",
    "        self.data = df\n",
    "\n",
    "\n",
    "    def setup(self, stage: Optional[str] = None):\n",
    "        \"\"\"Setup the data according the stage 'fit' or 'test'. If the stage is none, setup the data for all stages.\"\"\"\n",
    "\n",
    "        # Split data into test, val and train dataframes\n",
    "        train_percent, val_percent, test_percent = self.train_val_test_split\n",
    "        rows = self.data.shape[0]\n",
    "        test_rows = int(test_percent * rows / 100)\n",
    "        val_rows = int(val_percent * rows / 100)\n",
    "        train_rows =  rows - test_rows - val_rows\n",
    "\n",
    "        print(\"Setup - define data split:\")\n",
    "        print(\"- Train rows : {0:04d} ( {1}%)\".format(train_rows, train_percent))\n",
    "        print(\"- Val   rows : {0:04d} ( {1}%)\".format(val_rows, val_percent))\n",
    "        print(\"- Test  rows : {0:04d} ( {1}%)\".format(test_rows, test_percent))\n",
    "        print(\"- Total rows : {0:04d} (100%)\".format(rows))\n",
    "\n",
    "        print(\"Setup - split and transform data for stage: {}\".format(stage))\n",
    "        if stage == \"fit\" or stage is None:\n",
    "            train_data = self.data.iloc[:train_rows]\n",
    "            val_data = self.data.iloc[train_rows:train_rows+val_rows]\n",
    "            print(\"- Train shape: {}\".format(train_data.shape))\n",
    "            print(\"- Val   shape: {}\".format(val_data.shape))\n",
    "            # transform data and assign properties to use in data loaders\n",
    "            self.train_dataset = self._transform_to_dataset(train_data)\n",
    "            self.val_dataset = self._transform_to_dataset(val_data)\n",
    "\n",
    "        if stage == \"test\" or stage is None:\n",
    "            test_data = self.data.iloc[train_rows+val_rows:]\n",
    "            print(\"- Test  shape: {}\".format(test_data.shape))\n",
    "            # transform data and assign properties to use in data loaders\n",
    "            self.test_dataset = self._transform_to_dataset(test_data)\n",
    "\n",
    "        print(\"- Total shape: {}\".format(self.data.shape))\n",
    "\n",
    "\n",
    "    def train_dataloader(self):\n",
    "        return DataLoader(self.train_dataset, batch_size=self.batch_size)\n",
    "\n",
    "    def val_dataloader(self):\n",
    "        return DataLoader(self.val_dataset, batch_size=self.batch_size)\n",
    "\n",
    "    def test_dataloader(self):\n",
    "        return DataLoader(self.test_dataset, batch_size=self.batch_size)\n",
    "\n",
    "    def _transform_to_dataset(self, df):\n",
    "\n",
    "        # Split labels and features\n",
    "        labels = df.SPY.values\n",
    "        features = df.iloc[:, :-1].values\n",
    "\n",
    "        # Convert to tensor\n",
    "        tensor_labels   = torch.tensor(labels).unsqueeze(1).float()\n",
    "        tensor_features = torch.tensor(features).float()\n",
    "\n",
    "        # Create tensor dataset\n",
    "        return TensorDataset(tensor_features, tensor_labels)\n",
    "\n",
    "    def _download_sp500(self) -> pd.DataFrame:\n",
    "        \"\"\"Download the SP500 data from the internet, save data to a csv file and return the result.\n",
    "\n",
    "        Notes:\n",
    "        - All further calls will serve the data from the csv file.\n",
    "        - To trigger a new download from the internet, set the force_download flag to True.\n",
    "        \"\"\"\n",
    "\n",
    "        # Load data from file\n",
    "        if os.path.isfile(self.fname) and not self.force_download:\n",
    "            print(\"Load SP500 from file:\", self.fname)\n",
    "            return pd.read_csv(self.fname, index_col=0, parse_dates=True)\n",
    "\n",
    "        # Download data\n",
    "        print(\"Download data from:\", SP500DataModule.URL)\n",
    "        resp = requests.get(SP500DataModule.URL)\n",
    "        soup = bs.BeautifulSoup(resp.text, 'lxml')\n",
    "        table = soup.find('table', {'class': 'wikitable sortable'})\n",
    "\n",
    "        tickers = []\n",
    "        for row in table.findAll('tr')[1:]:\n",
    "            ticker = row.findAll('td')[0].text\n",
    "            tickers.append(ticker)\n",
    "\n",
    "        tickers = [s.replace('\\n', '') for s in tickers]\n",
    "        data = yfinance.download(tickers, start=self.start, end=self.end)\n",
    "        df_data = data['Adj Close']\n",
    "\n",
    "        df_spy = yfinance.download(\"SPY\", start=self.start, end=self.end)\n",
    "        df_spy = df_spy.loc[:, ['Adj Close']]\n",
    "        df_spy.columns = ['SPY']\n",
    "\n",
    "        df = pd.concat([df_data, df_spy], axis=1)\n",
    "\n",
    "        # Prepare data\n",
    "        df.dropna(axis=0, how='all', inplace=True)\n",
    "        print(\"Dropping columns due to nans > 50%:\", df.loc[:, list((100 * (df.isnull().sum() / len(df.index)) > 50))].columns)\n",
    "        df = df.drop(df.loc[:, list((100 * (df.isnull().sum() / len(df.index)) > 50))].columns, 1)\n",
    "        df = df.ffill().bfill()\n",
    "        print(\"Any columns still contain nans:\", df.isnull().values.any())\n",
    "\n",
    "        df_returns = pd.DataFrame()\n",
    "        for name in df.columns:\n",
    "            df_returns[name] = np.log(df[name]).diff()\n",
    "\n",
    "        df_returns.dropna(axis=0, how='any', inplace=True)\n",
    "\n",
    "        # Save data and return result\n",
    "        print(\"Save data to file:\", self.fname)\n",
    "        df_returns.to_csv(self.fname)\n",
    "\n",
    "        self.data = df_returns\n",
    "        return self.data\n"
   ],
   "metadata": {
    "collapsed": false,
    "pycharm": {
     "name": "#%%\n"
    }
   },
   "execution_count": 11,
   "outputs": []
  },
  {
   "cell_type": "markdown",
   "source": [
    "## 2. SP500ClassifierModel"
   ],
   "metadata": {
    "collapsed": false
   }
  },
  {
   "cell_type": "code",
   "source": [
    "class SP500ClassifierModel(pl.LightningModule):\n",
    "\n",
    "    def __init__(self, learning_rate=0.001):\n",
    "        super().__init__()\n",
    "        self.learning_rate = learning_rate\n",
    "        self.metric = torchmetrics.Accuracy()\n",
    "        #\n",
    "        # Model experiments\n",
    "        #\n",
    "        self.linear_relu_stack = nn.Sequential(\n",
    "            nn.Linear(489, 512),\n",
    "            nn.Dropout(.5),\n",
    "            nn.ReLU(),\n",
    "            nn.Linear(512, 64),\n",
    "            nn.Dropout(.5),\n",
    "            nn.ReLU(),\n",
    "            nn.Linear(64, 32),\n",
    "            nn.Dropout(.5),\n",
    "            nn.ReLU(),\n",
    "            nn.Linear(32, 1)\n",
    "        )\n",
    "        # Model experiment 3\n",
    "        # self.linear_relu_stack = nn.Sequential(\n",
    "        #     nn.Linear(489, 512),\n",
    "        #     nn.ReLU(),\n",
    "        #     nn.Linear(512, 64),\n",
    "        #     nn.ReLU(),\n",
    "        #     nn.Linear(64, 32),\n",
    "        #     nn.ReLU(),\n",
    "        #     nn.Linear(32, 1)\n",
    "        # )\n",
    "        # Model experiment 2\n",
    "        # self.linear_relu_stack = nn.Sequential(\n",
    "        #     nn.Linear(489 , 512),\n",
    "        #     nn.ReLU(),\n",
    "        #     nn.Linear(512, 512),\n",
    "        #     nn.ReLU(),\n",
    "        #     nn.Linear(512, 64),\n",
    "        #     nn.ReLU(),\n",
    "        #     nn.Linear(64, 32),\n",
    "        #     nn.ReLU(),\n",
    "        #     nn.Linear(32, 1))\n",
    "        # Model experiment 1\n",
    "        # self.linear_relu_stack = nn.Sequential(\n",
    "        #     nn.Linear(489, 512),\n",
    "        #     nn.Dropout(.5),\n",
    "        #     nn.ReLU(),\n",
    "        #     nn.Linear(512, 64),\n",
    "        #     nn.Dropout(.5),\n",
    "        #     nn.ReLU(),\n",
    "        #     nn.Linear(64, 32),\n",
    "        #     nn.Dropout(.5),\n",
    "        #     nn.ReLU(),\n",
    "        #     nn.Linear(32, 1)\n",
    "        # )\n",
    "        #\n",
    "        # Loss experiments\n",
    "        #\n",
    "        self.loss_fn = F.binary_cross_entropy_with_logits\n",
    "        # Loss experiemnt 1\n",
    "        # self.loss_fn = nn.BCEWithLogitsLoss()\n",
    "\n",
    "    def process_step(self, batch, batch_idx):\n",
    "        x, y = batch\n",
    "        pred = self.linear_relu_stack(x)\n",
    "        loss = self.loss_fn(pred, y)\n",
    "\n",
    "        # calculate accuracy\n",
    "        pred = (pred>0.5).int()\n",
    "        acc = self.metric(pred, y.int())\n",
    "\n",
    "        return loss, acc\n",
    "\n",
    "    def training_step(self, batch, batch_idx):\n",
    "        loss, acc = self.process_step(batch, batch_idx)\n",
    "        self.log('train_loss', loss)\n",
    "        self.log('train_accuracy', acc)\n",
    "        return loss\n",
    "\n",
    "    def validation_step(self, batch, batch_idx):\n",
    "        loss, acc = self.process_step(batch, batch_idx)\n",
    "        print(\"val_loss:\", loss)\n",
    "        self.log('val_accuracy', acc)\n",
    "        self.log('val_loss', loss)\n",
    "\n",
    "    def test_step(self, batch, batch_idx):\n",
    "        loss, acc = self.process_step(batch, batch_idx)\n",
    "        self.log('test_loss', loss)\n",
    "        self.log('test_accuracy', acc)\n",
    "\n",
    "    def configure_optimizers(self):\n",
    "        # Update params step: params = params - lr * grad\n",
    "        optimizer = torch.optim.Adam(self.parameters(), lr=self.learning_rate)\n",
    "        return optimizer"
   ],
   "metadata": {
    "collapsed": false,
    "pycharm": {
     "name": "#%%\n"
    }
   },
   "execution_count": 12,
   "outputs": []
  },
  {
   "cell_type": "markdown",
   "source": [
    "## 3. Train and test\n",
    "\n",
    "### 3.1 Parameters"
   ],
   "metadata": {
    "collapsed": false
   }
  },
  {
   "cell_type": "code",
   "source": [
    "epochs = 30\n",
    "batch_size = 48\n",
    "learning_rate = 0.0001\n",
    "\n",
    "train_val_test_split=[80,10,10]\n",
    "gpus = 1 if torch.cuda.is_available() else 0\n",
    "progress_bar_refresh_rate=16\n"
   ],
   "metadata": {
    "collapsed": false,
    "pycharm": {
     "name": "#%%\n"
    }
   },
   "execution_count": 13,
   "outputs": []
  },
  {
   "cell_type": "markdown",
   "source": [
    "### 3.2 Train model"
   ],
   "metadata": {
    "collapsed": false
   }
  },
  {
   "cell_type": "code",
   "execution_count": 14,
   "outputs": [
    {
     "name": "stderr",
     "output_type": "stream",
     "text": [
      "GPU available: False, used: False\n",
      "TPU available: False, using: 0 TPU cores\n",
      "IPU available: False, using: 0 IPUs\n"
     ]
    },
    {
     "name": "stdout",
     "output_type": "stream",
     "text": [
      "Load SP500 from file: data/sp500.csv\n"
     ]
    },
    {
     "name": "stderr",
     "output_type": "stream",
     "text": [
      "\n",
      "  | Name              | Type       | Params\n",
      "-------------------------------------------------\n",
      "0 | metric            | Accuracy   | 0     \n",
      "1 | linear_relu_stack | Sequential | 285 K \n",
      "-------------------------------------------------\n",
      "285 K     Trainable params\n",
      "0         Non-trainable params\n",
      "285 K     Total params\n",
      "1.143     Total estimated model params size (MB)\n"
     ]
    },
    {
     "name": "stdout",
     "output_type": "stream",
     "text": [
      "Setup - define data split:\n",
      "- Train rows : 2392 ( 80%)\n",
      "- Val   rows : 0299 ( 10%)\n",
      "- Test  rows : 0299 ( 10%)\n",
      "- Total rows : 2990 (100%)\n",
      "Setup - split and transform data for stage: fit\n",
      "- Train shape: (2392, 490)\n",
      "- Val   shape: (299, 490)\n",
      "- Total shape: (2990, 490)\n"
     ]
    },
    {
     "data": {
      "text/plain": "Validation sanity check: 0it [00:00, ?it/s]",
      "application/vnd.jupyter.widget-view+json": {
       "version_major": 2,
       "version_minor": 0,
       "model_id": "75ed9c5f5e0446e594d083789ffc9437"
      }
     },
     "metadata": {},
     "output_type": "display_data"
    },
    {
     "name": "stdout",
     "output_type": "stream",
     "text": [
      "val_loss: tensor(0.6876)\n",
      "val_loss: tensor(0.6875)\n"
     ]
    },
    {
     "data": {
      "text/plain": "Training: 0it [00:00, ?it/s]",
      "application/vnd.jupyter.widget-view+json": {
       "version_major": 2,
       "version_minor": 0,
       "model_id": "707b14b35dc548778b17922b45943bfc"
      }
     },
     "metadata": {},
     "output_type": "display_data"
    },
    {
     "data": {
      "text/plain": "Validating: 0it [00:00, ?it/s]",
      "application/vnd.jupyter.widget-view+json": {
       "version_major": 2,
       "version_minor": 0,
       "model_id": "d7482e651af7426f80b73ca7eabf973b"
      }
     },
     "metadata": {},
     "output_type": "display_data"
    },
    {
     "name": "stdout",
     "output_type": "stream",
     "text": [
      "val_loss: tensor(0.6802)\n",
      "val_loss: tensor(0.6828)\n",
      "val_loss: tensor(0.6722)\n",
      "val_loss: tensor(0.6783)\n",
      "val_loss: tensor(0.6690)\n",
      "val_loss: tensor(0.6621)\n",
      "val_loss: tensor(0.6799)\n"
     ]
    },
    {
     "data": {
      "text/plain": "Validating: 0it [00:00, ?it/s]",
      "application/vnd.jupyter.widget-view+json": {
       "version_major": 2,
       "version_minor": 0,
       "model_id": "6e07b962bf4d4243afeeb95c5a132e53"
      }
     },
     "metadata": {},
     "output_type": "display_data"
    },
    {
     "name": "stdout",
     "output_type": "stream",
     "text": [
      "val_loss: tensor(0.6587)\n",
      "val_loss: tensor(0.6685)\n",
      "val_loss: tensor(0.6568)\n",
      "val_loss: tensor(0.6255)\n",
      "val_loss: tensor(0.6358)\n",
      "val_loss: tensor(0.6430)\n",
      "val_loss: tensor(0.6524)\n"
     ]
    },
    {
     "data": {
      "text/plain": "Validating: 0it [00:00, ?it/s]",
      "application/vnd.jupyter.widget-view+json": {
       "version_major": 2,
       "version_minor": 0,
       "model_id": "e5288b1e737e4076bd3a1058c38f4d0d"
      }
     },
     "metadata": {},
     "output_type": "display_data"
    },
    {
     "name": "stdout",
     "output_type": "stream",
     "text": [
      "val_loss: tensor(0.6048)\n",
      "val_loss: tensor(0.6305)\n",
      "val_loss: tensor(0.6172)\n",
      "val_loss: tensor(0.4841)\n",
      "val_loss: tensor(0.5518)\n",
      "val_loss: tensor(0.5989)\n",
      "val_loss: tensor(0.5816)\n"
     ]
    },
    {
     "data": {
      "text/plain": "Validating: 0it [00:00, ?it/s]",
      "application/vnd.jupyter.widget-view+json": {
       "version_major": 2,
       "version_minor": 0,
       "model_id": "a6590307f43242d589b7196eec3d08e3"
      }
     },
     "metadata": {},
     "output_type": "display_data"
    },
    {
     "name": "stdout",
     "output_type": "stream",
     "text": [
      "val_loss: tensor(0.4875)\n",
      "val_loss: tensor(0.5491)\n",
      "val_loss: tensor(0.5318)\n",
      "val_loss: tensor(0.2726)\n",
      "val_loss: tensor(0.3894)\n",
      "val_loss: tensor(0.5071)\n",
      "val_loss: tensor(0.4309)\n"
     ]
    },
    {
     "data": {
      "text/plain": "Validating: 0it [00:00, ?it/s]",
      "application/vnd.jupyter.widget-view+json": {
       "version_major": 2,
       "version_minor": 0,
       "model_id": "5a3331a5e42c43dea2d20dad547af851"
      }
     },
     "metadata": {},
     "output_type": "display_data"
    },
    {
     "name": "stdout",
     "output_type": "stream",
     "text": [
      "val_loss: tensor(0.3447)\n",
      "val_loss: tensor(0.4406)\n",
      "val_loss: tensor(0.4077)\n",
      "val_loss: tensor(0.1360)\n",
      "val_loss: tensor(0.2778)\n",
      "val_loss: tensor(0.4094)\n",
      "val_loss: tensor(0.2756)\n"
     ]
    },
    {
     "data": {
      "text/plain": "Validating: 0it [00:00, ?it/s]",
      "application/vnd.jupyter.widget-view+json": {
       "version_major": 2,
       "version_minor": 0,
       "model_id": "31759f8ebc6047e696b03ff32ec2302c"
      }
     },
     "metadata": {},
     "output_type": "display_data"
    },
    {
     "name": "stdout",
     "output_type": "stream",
     "text": [
      "val_loss: tensor(0.2566)\n",
      "val_loss: tensor(0.3642)\n",
      "val_loss: tensor(0.3087)\n",
      "val_loss: tensor(0.0788)\n",
      "val_loss: tensor(0.2830)\n",
      "val_loss: tensor(0.3753)\n",
      "val_loss: tensor(0.2021)\n"
     ]
    },
    {
     "data": {
      "text/plain": "Validating: 0it [00:00, ?it/s]",
      "application/vnd.jupyter.widget-view+json": {
       "version_major": 2,
       "version_minor": 0,
       "model_id": "0f6d10385fc64bc290b0e18b6ce0ecf3"
      }
     },
     "metadata": {},
     "output_type": "display_data"
    },
    {
     "name": "stdout",
     "output_type": "stream",
     "text": [
      "val_loss: tensor(0.2199)\n",
      "val_loss: tensor(0.3294)\n",
      "val_loss: tensor(0.2514)\n",
      "val_loss: tensor(0.0546)\n",
      "val_loss: tensor(0.3257)\n",
      "val_loss: tensor(0.3810)\n",
      "val_loss: tensor(0.1772)\n"
     ]
    },
    {
     "data": {
      "text/plain": "Validating: 0it [00:00, ?it/s]",
      "application/vnd.jupyter.widget-view+json": {
       "version_major": 2,
       "version_minor": 0,
       "model_id": "fd29e945696f4fada73c4bdb9325b6e2"
      }
     },
     "metadata": {},
     "output_type": "display_data"
    },
    {
     "name": "stdout",
     "output_type": "stream",
     "text": [
      "val_loss: tensor(0.2073)\n",
      "val_loss: tensor(0.3181)\n",
      "val_loss: tensor(0.2231)\n",
      "val_loss: tensor(0.0424)\n",
      "val_loss: tensor(0.3722)\n",
      "val_loss: tensor(0.4075)\n",
      "val_loss: tensor(0.1738)\n"
     ]
    },
    {
     "data": {
      "text/plain": "Validating: 0it [00:00, ?it/s]",
      "application/vnd.jupyter.widget-view+json": {
       "version_major": 2,
       "version_minor": 0,
       "model_id": "44a7659950204bde9027d08fc57003e1"
      }
     },
     "metadata": {},
     "output_type": "display_data"
    },
    {
     "name": "stdout",
     "output_type": "stream",
     "text": [
      "val_loss: tensor(0.2043)\n",
      "val_loss: tensor(0.3175)\n",
      "val_loss: tensor(0.2095)\n",
      "val_loss: tensor(0.0361)\n",
      "val_loss: tensor(0.4068)\n",
      "val_loss: tensor(0.4323)\n",
      "val_loss: tensor(0.1769)\n"
     ]
    },
    {
     "data": {
      "text/plain": "Validating: 0it [00:00, ?it/s]",
      "application/vnd.jupyter.widget-view+json": {
       "version_major": 2,
       "version_minor": 0,
       "model_id": "7fe15f4ebe564b779b4f053e87043b98"
      }
     },
     "metadata": {},
     "output_type": "display_data"
    },
    {
     "name": "stdout",
     "output_type": "stream",
     "text": [
      "val_loss: tensor(0.2020)\n",
      "val_loss: tensor(0.3158)\n",
      "val_loss: tensor(0.1967)\n",
      "val_loss: tensor(0.0304)\n",
      "val_loss: tensor(0.4256)\n",
      "val_loss: tensor(0.4389)\n",
      "val_loss: tensor(0.1704)\n"
     ]
    },
    {
     "data": {
      "text/plain": "Validating: 0it [00:00, ?it/s]",
      "application/vnd.jupyter.widget-view+json": {
       "version_major": 2,
       "version_minor": 0,
       "model_id": "27df37db0b0543f18b13474f39439feb"
      }
     },
     "metadata": {},
     "output_type": "display_data"
    },
    {
     "name": "stdout",
     "output_type": "stream",
     "text": [
      "val_loss: tensor(0.2019)\n",
      "val_loss: tensor(0.3162)\n",
      "val_loss: tensor(0.1913)\n",
      "val_loss: tensor(0.0274)\n",
      "val_loss: tensor(0.4423)\n",
      "val_loss: tensor(0.4568)\n",
      "val_loss: tensor(0.1726)\n"
     ]
    },
    {
     "data": {
      "text/plain": "Validating: 0it [00:00, ?it/s]",
      "application/vnd.jupyter.widget-view+json": {
       "version_major": 2,
       "version_minor": 0,
       "model_id": "a47fe151bef649989fbce3753a8eedbd"
      }
     },
     "metadata": {},
     "output_type": "display_data"
    },
    {
     "name": "stdout",
     "output_type": "stream",
     "text": [
      "val_loss: tensor(0.2021)\n",
      "val_loss: tensor(0.3144)\n",
      "val_loss: tensor(0.1843)\n",
      "val_loss: tensor(0.0243)\n",
      "val_loss: tensor(0.4533)\n",
      "val_loss: tensor(0.4626)\n",
      "val_loss: tensor(0.1670)\n"
     ]
    },
    {
     "data": {
      "text/plain": "Validating: 0it [00:00, ?it/s]",
      "application/vnd.jupyter.widget-view+json": {
       "version_major": 2,
       "version_minor": 0,
       "model_id": "fc3eb204a3aa4cc8a2a13705b223c7ac"
      }
     },
     "metadata": {},
     "output_type": "display_data"
    },
    {
     "name": "stdout",
     "output_type": "stream",
     "text": [
      "val_loss: tensor(0.2016)\n",
      "val_loss: tensor(0.3140)\n",
      "val_loss: tensor(0.1820)\n",
      "val_loss: tensor(0.0224)\n",
      "val_loss: tensor(0.4625)\n",
      "val_loss: tensor(0.4790)\n",
      "val_loss: tensor(0.1663)\n"
     ]
    },
    {
     "data": {
      "text/plain": "Validating: 0it [00:00, ?it/s]",
      "application/vnd.jupyter.widget-view+json": {
       "version_major": 2,
       "version_minor": 0,
       "model_id": "871e0cf070014b6ab780fb3d7f78c904"
      }
     },
     "metadata": {},
     "output_type": "display_data"
    },
    {
     "name": "stdout",
     "output_type": "stream",
     "text": [
      "val_loss: tensor(0.2031)\n",
      "val_loss: tensor(0.3143)\n",
      "val_loss: tensor(0.1749)\n",
      "val_loss: tensor(0.0197)\n",
      "val_loss: tensor(0.4722)\n",
      "val_loss: tensor(0.4810)\n",
      "val_loss: tensor(0.1572)\n"
     ]
    },
    {
     "data": {
      "text/plain": "Validating: 0it [00:00, ?it/s]",
      "application/vnd.jupyter.widget-view+json": {
       "version_major": 2,
       "version_minor": 0,
       "model_id": "39d2fdf597e3402da04e1926850083a4"
      }
     },
     "metadata": {},
     "output_type": "display_data"
    },
    {
     "name": "stdout",
     "output_type": "stream",
     "text": [
      "val_loss: tensor(0.2031)\n",
      "val_loss: tensor(0.3147)\n",
      "val_loss: tensor(0.1702)\n",
      "val_loss: tensor(0.0179)\n",
      "val_loss: tensor(0.4762)\n",
      "val_loss: tensor(0.4867)\n",
      "val_loss: tensor(0.1506)\n"
     ]
    },
    {
     "data": {
      "text/plain": "Validating: 0it [00:00, ?it/s]",
      "application/vnd.jupyter.widget-view+json": {
       "version_major": 2,
       "version_minor": 0,
       "model_id": "e82a622d46674cd5a838018f8519a6c4"
      }
     },
     "metadata": {},
     "output_type": "display_data"
    },
    {
     "name": "stdout",
     "output_type": "stream",
     "text": [
      "val_loss: tensor(0.2036)\n",
      "val_loss: tensor(0.3161)\n",
      "val_loss: tensor(0.1649)\n",
      "val_loss: tensor(0.0160)\n",
      "val_loss: tensor(0.4813)\n",
      "val_loss: tensor(0.4883)\n",
      "val_loss: tensor(0.1421)\n"
     ]
    },
    {
     "data": {
      "text/plain": "Validating: 0it [00:00, ?it/s]",
      "application/vnd.jupyter.widget-view+json": {
       "version_major": 2,
       "version_minor": 0,
       "model_id": "ea22a01dbcc94c28a06da563980062b4"
      }
     },
     "metadata": {},
     "output_type": "display_data"
    },
    {
     "name": "stdout",
     "output_type": "stream",
     "text": [
      "val_loss: tensor(0.2021)\n",
      "val_loss: tensor(0.3131)\n",
      "val_loss: tensor(0.1619)\n",
      "val_loss: tensor(0.0148)\n",
      "val_loss: tensor(0.4812)\n",
      "val_loss: tensor(0.4920)\n",
      "val_loss: tensor(0.1371)\n"
     ]
    },
    {
     "data": {
      "text/plain": "Validating: 0it [00:00, ?it/s]",
      "application/vnd.jupyter.widget-view+json": {
       "version_major": 2,
       "version_minor": 0,
       "model_id": "30b780992c5b47d196e49ba9f6ea6547"
      }
     },
     "metadata": {},
     "output_type": "display_data"
    },
    {
     "name": "stdout",
     "output_type": "stream",
     "text": [
      "val_loss: tensor(0.2008)\n",
      "val_loss: tensor(0.3116)\n",
      "val_loss: tensor(0.1560)\n",
      "val_loss: tensor(0.0134)\n",
      "val_loss: tensor(0.4806)\n",
      "val_loss: tensor(0.4871)\n",
      "val_loss: tensor(0.1266)\n"
     ]
    },
    {
     "data": {
      "text/plain": "Validating: 0it [00:00, ?it/s]",
      "application/vnd.jupyter.widget-view+json": {
       "version_major": 2,
       "version_minor": 0,
       "model_id": "9b7e9b2ca733463fb5637ebfdb13c6f8"
      }
     },
     "metadata": {},
     "output_type": "display_data"
    },
    {
     "name": "stdout",
     "output_type": "stream",
     "text": [
      "val_loss: tensor(0.1985)\n",
      "val_loss: tensor(0.3093)\n",
      "val_loss: tensor(0.1567)\n",
      "val_loss: tensor(0.0128)\n",
      "val_loss: tensor(0.4841)\n",
      "val_loss: tensor(0.5031)\n",
      "val_loss: tensor(0.1322)\n"
     ]
    },
    {
     "data": {
      "text/plain": "Validating: 0it [00:00, ?it/s]",
      "application/vnd.jupyter.widget-view+json": {
       "version_major": 2,
       "version_minor": 0,
       "model_id": "d2aeb56607ca4ebb867670db32bafff3"
      }
     },
     "metadata": {},
     "output_type": "display_data"
    },
    {
     "name": "stdout",
     "output_type": "stream",
     "text": [
      "val_loss: tensor(0.1970)\n",
      "val_loss: tensor(0.3094)\n",
      "val_loss: tensor(0.1540)\n",
      "val_loss: tensor(0.0120)\n",
      "val_loss: tensor(0.4857)\n",
      "val_loss: tensor(0.5088)\n",
      "val_loss: tensor(0.1273)\n"
     ]
    },
    {
     "data": {
      "text/plain": "Validating: 0it [00:00, ?it/s]",
      "application/vnd.jupyter.widget-view+json": {
       "version_major": 2,
       "version_minor": 0,
       "model_id": "f778f4f74fb441f19253c1368ae53200"
      }
     },
     "metadata": {},
     "output_type": "display_data"
    },
    {
     "name": "stdout",
     "output_type": "stream",
     "text": [
      "val_loss: tensor(0.1959)\n",
      "val_loss: tensor(0.3091)\n",
      "val_loss: tensor(0.1519)\n",
      "val_loss: tensor(0.0110)\n",
      "val_loss: tensor(0.4885)\n",
      "val_loss: tensor(0.5176)\n",
      "val_loss: tensor(0.1224)\n"
     ]
    },
    {
     "data": {
      "text/plain": "Validating: 0it [00:00, ?it/s]",
      "application/vnd.jupyter.widget-view+json": {
       "version_major": 2,
       "version_minor": 0,
       "model_id": "c717c6cdc0b54c31958271bde41e4769"
      }
     },
     "metadata": {},
     "output_type": "display_data"
    },
    {
     "name": "stdout",
     "output_type": "stream",
     "text": [
      "val_loss: tensor(0.1955)\n",
      "val_loss: tensor(0.3086)\n",
      "val_loss: tensor(0.1448)\n",
      "val_loss: tensor(0.0099)\n",
      "val_loss: tensor(0.4881)\n",
      "val_loss: tensor(0.5099)\n",
      "val_loss: tensor(0.1065)\n"
     ]
    },
    {
     "data": {
      "text/plain": "Validating: 0it [00:00, ?it/s]",
      "application/vnd.jupyter.widget-view+json": {
       "version_major": 2,
       "version_minor": 0,
       "model_id": "894b8ab98fd344179cc8807569caab43"
      }
     },
     "metadata": {},
     "output_type": "display_data"
    },
    {
     "name": "stdout",
     "output_type": "stream",
     "text": [
      "val_loss: tensor(0.1934)\n",
      "val_loss: tensor(0.3073)\n",
      "val_loss: tensor(0.1440)\n",
      "val_loss: tensor(0.0093)\n",
      "val_loss: tensor(0.4899)\n",
      "val_loss: tensor(0.5201)\n",
      "val_loss: tensor(0.1048)\n"
     ]
    },
    {
     "data": {
      "text/plain": "Validating: 0it [00:00, ?it/s]",
      "application/vnd.jupyter.widget-view+json": {
       "version_major": 2,
       "version_minor": 0,
       "model_id": "426832cff5cb4f6ba3280d22f4a64de4"
      }
     },
     "metadata": {},
     "output_type": "display_data"
    },
    {
     "name": "stdout",
     "output_type": "stream",
     "text": [
      "val_loss: tensor(0.1932)\n",
      "val_loss: tensor(0.3044)\n",
      "val_loss: tensor(0.1354)\n",
      "val_loss: tensor(0.0085)\n",
      "val_loss: tensor(0.4873)\n",
      "val_loss: tensor(0.5051)\n",
      "val_loss: tensor(0.0904)\n"
     ]
    },
    {
     "data": {
      "text/plain": "Validating: 0it [00:00, ?it/s]",
      "application/vnd.jupyter.widget-view+json": {
       "version_major": 2,
       "version_minor": 0,
       "model_id": "c3cef2c2c434453d918353927aa107e2"
      }
     },
     "metadata": {},
     "output_type": "display_data"
    },
    {
     "name": "stdout",
     "output_type": "stream",
     "text": [
      "val_loss: tensor(0.1909)\n",
      "val_loss: tensor(0.3019)\n",
      "val_loss: tensor(0.1341)\n",
      "val_loss: tensor(0.0080)\n",
      "val_loss: tensor(0.4872)\n",
      "val_loss: tensor(0.5117)\n",
      "val_loss: tensor(0.0867)\n"
     ]
    },
    {
     "data": {
      "text/plain": "Validating: 0it [00:00, ?it/s]",
      "application/vnd.jupyter.widget-view+json": {
       "version_major": 2,
       "version_minor": 0,
       "model_id": "a305ae6576a94259934a2326184ddbf2"
      }
     },
     "metadata": {},
     "output_type": "display_data"
    },
    {
     "name": "stdout",
     "output_type": "stream",
     "text": [
      "val_loss: tensor(0.1915)\n",
      "val_loss: tensor(0.3019)\n",
      "val_loss: tensor(0.1335)\n",
      "val_loss: tensor(0.0077)\n",
      "val_loss: tensor(0.4929)\n",
      "val_loss: tensor(0.5231)\n",
      "val_loss: tensor(0.0875)\n"
     ]
    },
    {
     "data": {
      "text/plain": "Validating: 0it [00:00, ?it/s]",
      "application/vnd.jupyter.widget-view+json": {
       "version_major": 2,
       "version_minor": 0,
       "model_id": "2b1406c3dc604f00b6d6b163a28e48ff"
      }
     },
     "metadata": {},
     "output_type": "display_data"
    },
    {
     "name": "stdout",
     "output_type": "stream",
     "text": [
      "val_loss: tensor(0.1918)\n",
      "val_loss: tensor(0.3006)\n",
      "val_loss: tensor(0.1309)\n",
      "val_loss: tensor(0.0072)\n",
      "val_loss: tensor(0.4956)\n",
      "val_loss: tensor(0.5245)\n",
      "val_loss: tensor(0.0840)\n"
     ]
    },
    {
     "data": {
      "text/plain": "Validating: 0it [00:00, ?it/s]",
      "application/vnd.jupyter.widget-view+json": {
       "version_major": 2,
       "version_minor": 0,
       "model_id": "ad206356331e41f9bbfaae8b61cea2ca"
      }
     },
     "metadata": {},
     "output_type": "display_data"
    },
    {
     "name": "stdout",
     "output_type": "stream",
     "text": [
      "val_loss: tensor(0.1928)\n",
      "val_loss: tensor(0.3026)\n",
      "val_loss: tensor(0.1258)\n",
      "val_loss: tensor(0.0066)\n",
      "val_loss: tensor(0.5010)\n",
      "val_loss: tensor(0.5235)\n",
      "val_loss: tensor(0.0727)\n"
     ]
    },
    {
     "data": {
      "text/plain": "Validating: 0it [00:00, ?it/s]",
      "application/vnd.jupyter.widget-view+json": {
       "version_major": 2,
       "version_minor": 0,
       "model_id": "61aa4803442c4e18a61664f199213b99"
      }
     },
     "metadata": {},
     "output_type": "display_data"
    },
    {
     "name": "stdout",
     "output_type": "stream",
     "text": [
      "val_loss: tensor(0.1908)\n",
      "val_loss: tensor(0.3005)\n",
      "val_loss: tensor(0.1234)\n",
      "val_loss: tensor(0.0061)\n",
      "val_loss: tensor(0.4996)\n",
      "val_loss: tensor(0.5273)\n",
      "val_loss: tensor(0.0667)\n"
     ]
    },
    {
     "data": {
      "text/plain": "Validating: 0it [00:00, ?it/s]",
      "application/vnd.jupyter.widget-view+json": {
       "version_major": 2,
       "version_minor": 0,
       "model_id": "0fcf64d580874f2ca69d38bb61ec6594"
      }
     },
     "metadata": {},
     "output_type": "display_data"
    },
    {
     "name": "stdout",
     "output_type": "stream",
     "text": [
      "val_loss: tensor(0.1913)\n",
      "val_loss: tensor(0.3009)\n",
      "val_loss: tensor(0.1221)\n",
      "val_loss: tensor(0.0057)\n",
      "val_loss: tensor(0.5049)\n",
      "val_loss: tensor(0.5340)\n",
      "val_loss: tensor(0.0631)\n"
     ]
    }
   ],
   "source": [
    "datamodule = SP500DataModule(batch_size=batch_size, train_val_test_split=train_val_test_split)\n",
    "model = SP500ClassifierModel(learning_rate=learning_rate)\n",
    "\n",
    "trainer = pl.Trainer(gpus=gpus, max_epochs=epochs, progress_bar_refresh_rate=progress_bar_refresh_rate)\n",
    "\n",
    "trainer.fit(model, datamodule)\n"
   ],
   "metadata": {
    "collapsed": false,
    "pycharm": {
     "name": "#%%\n"
    }
   }
  },
  {
   "cell_type": "markdown",
   "source": [
    "### 3.3 Test model"
   ],
   "metadata": {
    "collapsed": false
   }
  },
  {
   "cell_type": "code",
   "execution_count": 15,
   "outputs": [
    {
     "name": "stderr",
     "output_type": "stream",
     "text": [
      "Restoring states from the checkpoint path at D:\\dev\\workspace\\surfmachine\\ai\\src\\04_pytorch_lightning_sp500_classifier\\lightning_logs\\version_0\\checkpoints\\epoch=29-step=1499.ckpt\n",
      "Loaded model weights from checkpoint at D:\\dev\\workspace\\surfmachine\\ai\\src\\04_pytorch_lightning_sp500_classifier\\lightning_logs\\version_0\\checkpoints\\epoch=29-step=1499.ckpt\n"
     ]
    },
    {
     "name": "stdout",
     "output_type": "stream",
     "text": [
      "Setup - define data split:\n",
      "- Train rows : 2392 ( 80%)\n",
      "- Val   rows : 0299 ( 10%)\n",
      "- Test  rows : 0299 ( 10%)\n",
      "- Total rows : 2990 (100%)\n",
      "Setup - split and transform data for stage: test\n",
      "- Test  shape: (299, 490)\n",
      "- Total shape: (2990, 490)\n"
     ]
    },
    {
     "data": {
      "text/plain": "Testing: 0it [00:00, ?it/s]",
      "application/vnd.jupyter.widget-view+json": {
       "version_major": 2,
       "version_minor": 0,
       "model_id": "cdd353082cb040de9c61a57bded32e80"
      }
     },
     "metadata": {},
     "output_type": "display_data"
    },
    {
     "name": "stdout",
     "output_type": "stream",
     "text": [
      "--------------------------------------------------------------------------------\n",
      "DATALOADER:0 TEST RESULTS\n",
      "{'test_accuracy': 0.8528428077697754, 'test_loss': 0.47850874066352844}\n",
      "--------------------------------------------------------------------------------\n"
     ]
    },
    {
     "data": {
      "text/plain": "[{'test_loss': 0.47850874066352844, 'test_accuracy': 0.8528428077697754}]"
     },
     "execution_count": 15,
     "metadata": {},
     "output_type": "execute_result"
    }
   ],
   "source": [
    "result = trainer.test(datamodule=datamodule)\n",
    "\n",
    "print(result[0]['test_accuracy'])\n",
    "print(result[0]['test_loss'])\n",
    "print(result)\n"
   ],
   "metadata": {
    "collapsed": false,
    "pycharm": {
     "name": "#%%\n"
    }
   }
  },
  {
   "cell_type": "markdown",
   "source": [
    "## 4. Run learning finder variation 1: auto_lr_find=True"
   ],
   "metadata": {
    "collapsed": false
   }
  },
  {
   "cell_type": "code",
   "execution_count": 16,
   "outputs": [
    {
     "name": "stderr",
     "output_type": "stream",
     "text": [
      "GPU available: False, used: False\n",
      "TPU available: False, using: 0 TPU cores\n",
      "IPU available: False, using: 0 IPUs\n"
     ]
    },
    {
     "name": "stdout",
     "output_type": "stream",
     "text": [
      "Load SP500 from file: data/sp500.csv\n",
      "Setup - define data split:\n",
      "- Train rows : 2392 ( 80%)\n",
      "- Val   rows : 0299 ( 10%)\n",
      "- Test  rows : 0299 ( 10%)\n",
      "- Total rows : 2990 (100%)\n",
      "Setup - split and transform data for stage: fit\n",
      "- Train shape: (2392, 490)\n",
      "- Val   shape: (299, 490)\n",
      "- Total shape: (2990, 490)\n",
      "val_loss: tensor(0.6950)\n",
      "val_loss: tensor(0.6950)\n"
     ]
    },
    {
     "data": {
      "text/plain": "Finding best initial lr:   0%|          | 0/100 [00:00<?, ?it/s]",
      "application/vnd.jupyter.widget-view+json": {
       "version_major": 2,
       "version_minor": 0,
       "model_id": "499c16b6639844139ef3c5cbcf942b30"
      }
     },
     "metadata": {},
     "output_type": "display_data"
    },
    {
     "name": "stdout",
     "output_type": "stream",
     "text": [
      "val_loss: tensor(0.6942)\n",
      "val_loss: tensor(0.6945)\n",
      "val_loss: tensor(0.6966)\n",
      "val_loss: tensor(0.6905)\n",
      "val_loss: tensor(0.6946)\n",
      "val_loss: tensor(0.6980)\n",
      "val_loss: tensor(0.6936)\n"
     ]
    },
    {
     "name": "stderr",
     "output_type": "stream",
     "text": [
      "Restoring states from the checkpoint path at D:\\dev\\workspace\\surfmachine\\ai\\src\\04_pytorch_lightning_sp500_classifier\\lr_find_temp_model_759c7dd5-0550-4979-a6bb-c3bd54e45563.ckpt\n",
      "Learning rate set to 0.01445439770745928\n"
     ]
    },
    {
     "name": "stdout",
     "output_type": "stream",
     "text": [
      "val_loss: tensor(0.7013)\n",
      "val_loss: tensor(0.7013)\n",
      "val_loss: tensor(0.6500)\n",
      "val_loss: tensor(0.7527)\n",
      "val_loss: tensor(0.6757)\n",
      "val_loss: tensor(0.6115)\n",
      "val_loss: tensor(0.7118)\n"
     ]
    },
    {
     "data": {
      "text/plain": "{'lr_find': <pytorch_lightning.tuner.lr_finder._LRFinder at 0x2188fcf9100>}"
     },
     "execution_count": 16,
     "metadata": {},
     "output_type": "execute_result"
    }
   ],
   "source": [
    "datamodule = SP500DataModule(batch_size=batch_size, train_val_test_split=train_val_test_split)\n",
    "model = SP500ClassifierModel(learning_rate=learning_rate)\n",
    "\n",
    "trainer = pl.Trainer(gpus=gpus, max_epochs=epochs, progress_bar_refresh_rate=progress_bar_refresh_rate, auto_lr_find=True)\n",
    "\n",
    "trainer.tune(model, datamodule)\n"
   ],
   "metadata": {
    "collapsed": false,
    "pycharm": {
     "name": "#%%\n"
    }
   }
  },
  {
   "cell_type": "markdown",
   "source": [
    "## 5. Run learning finder variation 2: trainer.tuner.lr_find"
   ],
   "metadata": {
    "collapsed": false
   }
  },
  {
   "cell_type": "code",
   "execution_count": 17,
   "outputs": [
    {
     "name": "stderr",
     "output_type": "stream",
     "text": [
      "GPU available: False, used: False\n",
      "TPU available: False, using: 0 TPU cores\n",
      "IPU available: False, using: 0 IPUs\n"
     ]
    },
    {
     "name": "stdout",
     "output_type": "stream",
     "text": [
      "Load SP500 from file: data/sp500.csv\n",
      "Setup - define data split:\n",
      "- Train rows : 2392 ( 80%)\n",
      "- Val   rows : 0299 ( 10%)\n",
      "- Test  rows : 0299 ( 10%)\n",
      "- Total rows : 2990 (100%)\n",
      "Setup - split and transform data for stage: fit\n",
      "- Train shape: (2392, 490)\n",
      "- Val   shape: (299, 490)\n",
      "- Total shape: (2990, 490)\n",
      "val_loss: tensor(0.6895)\n",
      "val_loss: tensor(0.6894)\n"
     ]
    },
    {
     "data": {
      "text/plain": "Finding best initial lr:   0%|          | 0/100 [00:00<?, ?it/s]",
      "application/vnd.jupyter.widget-view+json": {
       "version_major": 2,
       "version_minor": 0,
       "model_id": "682723b16aea4d78bd232fa7fe1a6274"
      }
     },
     "metadata": {},
     "output_type": "display_data"
    },
    {
     "name": "stdout",
     "output_type": "stream",
     "text": [
      "val_loss: tensor(0.6889)\n",
      "val_loss: tensor(0.6891)\n",
      "val_loss: tensor(0.6832)\n",
      "val_loss: tensor(0.6934)\n",
      "val_loss: tensor(0.6853)\n",
      "val_loss: tensor(0.6786)\n",
      "val_loss: tensor(0.6899)\n"
     ]
    },
    {
     "name": "stderr",
     "output_type": "stream",
     "text": [
      "Restoring states from the checkpoint path at D:\\dev\\workspace\\surfmachine\\ai\\src\\04_pytorch_lightning_sp500_classifier\\lr_find_temp_model_a1c86bc9-4986-4b5f-9131-8eff09644061.ckpt\n"
     ]
    },
    {
     "name": "stdout",
     "output_type": "stream",
     "text": [
      "val_loss: tensor(0.8337)\n",
      "val_loss: tensor(0.8337)\n",
      "val_loss: tensor(0.9044)\n",
      "val_loss: tensor(0.7629)\n",
      "val_loss: tensor(0.8690)\n",
      "val_loss: tensor(0.9574)\n",
      "val_loss: tensor(0.8192)\n",
      "{'lr': [1e-08, 1.4454397707459274e-08, 1.7378008287493753e-08, 2.0892961308540398e-08, 2.51188643150958e-08, 3.019951720402016e-08, 3.630780547701014e-08, 4.36515832240166e-08, 5.248074602497726e-08, 6.309573444801934e-08, 7.585775750291837e-08, 9.120108393559096e-08, 1.0964781961431852e-07, 1.3182567385564074e-07, 1.5848931924611133e-07, 1.9054607179632475e-07, 2.2908676527677735e-07, 2.7542287033381663e-07, 3.311311214825911e-07, 3.9810717055349735e-07, 4.786300923226383e-07, 5.75439937337157e-07, 6.918309709189366e-07, 8.317637711026709e-07, 1e-06, 1.2022644346174132e-06, 1.445439770745928e-06, 1.7378008287493761e-06, 2.089296130854039e-06, 2.5118864315095797e-06, 3.0199517204020163e-06, 3.630780547701014e-06, 4.365158322401661e-06, 5.248074602497728e-06, 6.3095734448019305e-06, 7.585775750291836e-06, 9.120108393559096e-06, 1.0964781961431852e-05, 1.3182567385564076e-05, 1.584893192461114e-05, 1.9054607179632464e-05, 2.2908676527677725e-05, 2.7542287033381663e-05, 3.311311214825911e-05, 3.9810717055349735e-05, 4.786300923226385e-05, 5.7543993733715664e-05, 6.918309709189363e-05, 8.317637711026709e-05, 0.0001, 0.00012022644346174131, 0.0001445439770745928, 0.00017378008287493763, 0.0002089296130854041, 0.0002511886431509582, 0.0003019951720402019, 0.000363078054770101, 0.0004365158322401656, 0.0005248074602497723, 0.000630957344480193, 0.0007585775750291836, 0.0009120108393559097, 0.0010964781961431851, 0.0013182567385564075, 0.001584893192461114, 0.0019054607179632484, 0.0022908676527677745, 0.002754228703338169, 0.003311311214825908, 0.003981071705534969, 0.00478630092322638, 0.005754399373371567, 0.006918309709189364, 0.008317637711026709, 0.01, 0.012022644346174132, 0.01445439770745928, 0.017378008287493765, 0.02089296130854041, 0.025118864315095822, 0.030199517204020192, 0.036307805477010104, 0.04365158322401657, 0.05248074602497723, 0.0630957344480193, 0.07585775750291836, 0.09120108393559097, 0.10964781961431852, 0.13182567385564073, 0.15848931924611143, 0.19054607179632482, 0.2290867652767775, 0.2754228703338169, 0.3311311214825908, 0.3981071705534969, 0.47863009232263803, 0.5754399373371567, 0.6918309709189363, 0.8317637711026709, 1.0], 'loss': [0.6813592910766602, 0.6857070585693967, 0.6879662855387281, 0.6905007477432893, 0.689278554626618, 0.6877647844179381, 0.6875740185425556, 0.6885508066455334, 0.6890226711029204, 0.6896219969248825, 0.6891017594359757, 0.6892563832704558, 0.6896045121551815, 0.6897722520428926, 0.6899621524170774, 0.6898025934251583, 0.6897242378688474, 0.6895332638082073, 0.6895133255992757, 0.6891755757826261, 0.6892510900711112, 0.6889456913237284, 0.6888051249028793, 0.6885750231516471, 0.6888407298133727, 0.688754084610093, 0.6888220886300633, 0.689218092836982, 0.6895117560431133, 0.6897677739701473, 0.6898414421826765, 0.6898677221774676, 0.6896458062060887, 0.6898243465094067, 0.6896708588562008, 0.6897957066136193, 0.689820726888501, 0.6899754805070525, 0.6901224780600037, 0.6901899629098054, 0.6897813061306558, 0.6896729057618485, 0.6896490267301827, 0.6898106329393556, 0.689732921210257, 0.6898056365865198, 0.6899648182781228, 0.6898030507911309, 0.6897121681038647, 0.6896661777442289, 0.689420139480932, 0.6895067516994778, 0.6896422679516577, 0.689794074491158, 0.6895367633643033, 0.689362819215887, 0.6893706567612524, 0.6894119902829394, 0.6894224516533052, 0.6894756232111335, 0.6891974856876476, 0.6891807899369035, 0.6891796706492228, 0.6890390205851581, 0.6889339576552952, 0.6886878792496375, 0.6881245744893872, 0.6872173109526769, 0.6864640833962747, 0.6850555917247827, 0.6834990370855977, 0.6804127313668787, 0.6752321971723267, 0.6689306732780823, 0.658557191865741, 0.6491684560365084, 0.6363723622976349, 0.6273632650825002, 0.623806465092256, 0.6281727784555688, 0.6336420821808648, 0.6418377526801057, 0.634793774886078, 0.6264001718639576, 0.6219234774149762, 0.6187645973517041, 0.6099098648727347, 0.6024986085769578, 0.6185947882121615, 0.6823796494937319, 0.7071513408119652, 0.7415811477613068, 0.8136037129023236, 0.82408414502409, 0.8470825201686509, 0.9486560532936346, 0.958730672762635, 0.9506649571996847, 1.4534254454400957, 1.4373129521777428]}\n",
      "0.012022644346174132\n"
     ]
    },
    {
     "data": {
      "text/plain": "<Figure size 432x288 with 1 Axes>",
      "image/png": "[encoded data removed]"
     },
     "metadata": {
      "needs_background": "light"
     },
     "output_type": "display_data"
    }
   ],
   "source": [
    "datamodule = SP500DataModule(batch_size=batch_size, train_val_test_split=train_val_test_split)\n",
    "model = SP500ClassifierModel(learning_rate=learning_rate)\n",
    "\n",
    "trainer = pl.Trainer(min_epochs=5)\n",
    "lr_finder = trainer.tuner.lr_find(model, datamodule)\n",
    "\n",
    "# Results can be found in\n",
    "print(lr_finder.results)\n",
    "\n",
    "# Plot with\n",
    "fig = lr_finder.plot(suggest=True)\n",
    "fig.show()\n",
    "\n",
    "# Pick point based on plot, or get suggestion\n",
    "new_lr = lr_finder.suggestion()\n",
    "print(new_lr)\n",
    "\n",
    "# update hparams of the model\n",
    "model.hparams.lr = new_lr\n"
   ],
   "metadata": {
    "collapsed": false,
    "pycharm": {
     "name": "#%%\n"
    }
   }
  },
  {
   "cell_type": "markdown",
   "source": [
    "## 6. Train with early stop and test"
   ],
   "metadata": {
    "collapsed": false
   }
  },
  {
   "cell_type": "code",
   "execution_count": 18,
   "outputs": [
    {
     "name": "stderr",
     "output_type": "stream",
     "text": [
      "GPU available: False, used: False\n",
      "TPU available: False, using: 0 TPU cores\n",
      "IPU available: False, using: 0 IPUs\n",
      "\n",
      "  | Name              | Type       | Params\n",
      "-------------------------------------------------\n",
      "0 | metric            | Accuracy   | 0     \n",
      "1 | linear_relu_stack | Sequential | 285 K \n",
      "-------------------------------------------------\n",
      "285 K     Trainable params\n",
      "0         Non-trainable params\n",
      "285 K     Total params\n",
      "1.143     Total estimated model params size (MB)\n"
     ]
    },
    {
     "data": {
      "text/plain": "Validation sanity check: 0it [00:00, ?it/s]",
      "application/vnd.jupyter.widget-view+json": {
       "version_major": 2,
       "version_minor": 0,
       "model_id": "94e09ad56abf4a9c8b664ff4e7a49c64"
      }
     },
     "metadata": {},
     "output_type": "display_data"
    },
    {
     "name": "stdout",
     "output_type": "stream",
     "text": [
      "val_loss: tensor(0.6895)\n",
      "val_loss: tensor(0.6894)\n"
     ]
    },
    {
     "data": {
      "text/plain": "Training: 0it [00:00, ?it/s]",
      "application/vnd.jupyter.widget-view+json": {
       "version_major": 2,
       "version_minor": 0,
       "model_id": "d48fa4371514480ba31899a8a3b9689a"
      }
     },
     "metadata": {},
     "output_type": "display_data"
    },
    {
     "data": {
      "text/plain": "Validating: 0it [00:00, ?it/s]",
      "application/vnd.jupyter.widget-view+json": {
       "version_major": 2,
       "version_minor": 0,
       "model_id": "45d162a7a24d4386af7a6219d321ce89"
      }
     },
     "metadata": {},
     "output_type": "display_data"
    },
    {
     "name": "stdout",
     "output_type": "stream",
     "text": [
      "val_loss: tensor(0.6835)\n",
      "val_loss: tensor(0.6855)\n",
      "val_loss: tensor(0.6790)\n",
      "val_loss: tensor(0.6804)\n",
      "val_loss: tensor(0.6756)\n",
      "val_loss: tensor(0.6724)\n",
      "val_loss: tensor(0.6828)\n"
     ]
    },
    {
     "data": {
      "text/plain": "Validating: 0it [00:00, ?it/s]",
      "application/vnd.jupyter.widget-view+json": {
       "version_major": 2,
       "version_minor": 0,
       "model_id": "fc96c180521f47fa9e1d4c18c0329b9c"
      }
     },
     "metadata": {},
     "output_type": "display_data"
    },
    {
     "name": "stdout",
     "output_type": "stream",
     "text": [
      "val_loss: tensor(0.6682)\n",
      "val_loss: tensor(0.6750)\n",
      "val_loss: tensor(0.6674)\n",
      "val_loss: tensor(0.6471)\n",
      "val_loss: tensor(0.6528)\n",
      "val_loss: tensor(0.6577)\n",
      "val_loss: tensor(0.6639)\n"
     ]
    },
    {
     "data": {
      "text/plain": "Validating: 0it [00:00, ?it/s]",
      "application/vnd.jupyter.widget-view+json": {
       "version_major": 2,
       "version_minor": 0,
       "model_id": "45b4356388e044d298fa0605a99f3d92"
      }
     },
     "metadata": {},
     "output_type": "display_data"
    },
    {
     "name": "stdout",
     "output_type": "stream",
     "text": [
      "val_loss: tensor(0.6364)\n",
      "val_loss: tensor(0.6521)\n",
      "val_loss: tensor(0.6425)\n",
      "val_loss: tensor(0.5582)\n",
      "val_loss: tensor(0.6031)\n",
      "val_loss: tensor(0.6309)\n",
      "val_loss: tensor(0.6228)\n"
     ]
    },
    {
     "data": {
      "text/plain": "Validating: 0it [00:00, ?it/s]",
      "application/vnd.jupyter.widget-view+json": {
       "version_major": 2,
       "version_minor": 0,
       "model_id": "d43195afa1444d52ba208eae9f20a835"
      }
     },
     "metadata": {},
     "output_type": "display_data"
    },
    {
     "name": "stdout",
     "output_type": "stream",
     "text": [
      "val_loss: tensor(0.5610)\n",
      "val_loss: tensor(0.6007)\n",
      "val_loss: tensor(0.5897)\n",
      "val_loss: tensor(0.3806)\n",
      "val_loss: tensor(0.4812)\n",
      "val_loss: tensor(0.5689)\n",
      "val_loss: tensor(0.5235)\n"
     ]
    },
    {
     "data": {
      "text/plain": "Validating: 0it [00:00, ?it/s]",
      "application/vnd.jupyter.widget-view+json": {
       "version_major": 2,
       "version_minor": 0,
       "model_id": "d95e816f0fd645ae91fa9bb33f968454"
      }
     },
     "metadata": {},
     "output_type": "display_data"
    },
    {
     "name": "stdout",
     "output_type": "stream",
     "text": [
      "val_loss: tensor(0.4293)\n",
      "val_loss: tensor(0.5065)\n",
      "val_loss: tensor(0.4863)\n",
      "val_loss: tensor(0.2039)\n",
      "val_loss: tensor(0.3273)\n",
      "val_loss: tensor(0.4670)\n",
      "val_loss: tensor(0.3640)\n"
     ]
    },
    {
     "data": {
      "text/plain": "Validating: 0it [00:00, ?it/s]",
      "application/vnd.jupyter.widget-view+json": {
       "version_major": 2,
       "version_minor": 0,
       "model_id": "bfb8be1020c24624b7145101ef6e192e"
      }
     },
     "metadata": {},
     "output_type": "display_data"
    },
    {
     "name": "stdout",
     "output_type": "stream",
     "text": [
      "val_loss: tensor(0.3062)\n",
      "val_loss: tensor(0.4076)\n",
      "val_loss: tensor(0.3668)\n",
      "val_loss: tensor(0.1094)\n",
      "val_loss: tensor(0.2678)\n",
      "val_loss: tensor(0.3878)\n",
      "val_loss: tensor(0.2406)\n"
     ]
    },
    {
     "data": {
      "text/plain": "Validating: 0it [00:00, ?it/s]",
      "application/vnd.jupyter.widget-view+json": {
       "version_major": 2,
       "version_minor": 0,
       "model_id": "0f415fd4d29c429eb1ab73305ac54706"
      }
     },
     "metadata": {},
     "output_type": "display_data"
    },
    {
     "name": "stdout",
     "output_type": "stream",
     "text": [
      "val_loss: tensor(0.2428)\n",
      "val_loss: tensor(0.3501)\n",
      "val_loss: tensor(0.2870)\n",
      "val_loss: tensor(0.0698)\n",
      "val_loss: tensor(0.2927)\n",
      "val_loss: tensor(0.3704)\n",
      "val_loss: tensor(0.1918)\n"
     ]
    },
    {
     "data": {
      "text/plain": "Validating: 0it [00:00, ?it/s]",
      "application/vnd.jupyter.widget-view+json": {
       "version_major": 2,
       "version_minor": 0,
       "model_id": "1a0a014001f645d888f9936c2f56e6b2"
      }
     },
     "metadata": {},
     "output_type": "display_data"
    },
    {
     "name": "stdout",
     "output_type": "stream",
     "text": [
      "val_loss: tensor(0.2172)\n",
      "val_loss: tensor(0.3264)\n",
      "val_loss: tensor(0.2413)\n",
      "val_loss: tensor(0.0511)\n",
      "val_loss: tensor(0.3376)\n",
      "val_loss: tensor(0.3814)\n",
      "val_loss: tensor(0.1744)\n"
     ]
    },
    {
     "data": {
      "text/plain": "Validating: 0it [00:00, ?it/s]",
      "application/vnd.jupyter.widget-view+json": {
       "version_major": 2,
       "version_minor": 0,
       "model_id": "f5f0cee44afc4c34b14fb50ce9b893c6"
      }
     },
     "metadata": {},
     "output_type": "display_data"
    },
    {
     "name": "stdout",
     "output_type": "stream",
     "text": [
      "val_loss: tensor(0.2090)\n",
      "val_loss: tensor(0.3197)\n",
      "val_loss: tensor(0.2181)\n",
      "val_loss: tensor(0.0412)\n",
      "val_loss: tensor(0.3803)\n",
      "val_loss: tensor(0.4066)\n",
      "val_loss: tensor(0.1726)\n"
     ]
    },
    {
     "data": {
      "text/plain": "Validating: 0it [00:00, ?it/s]",
      "application/vnd.jupyter.widget-view+json": {
       "version_major": 2,
       "version_minor": 0,
       "model_id": "0f9925576e294eb78120658005dc976d"
      }
     },
     "metadata": {},
     "output_type": "display_data"
    },
    {
     "name": "stdout",
     "output_type": "stream",
     "text": [
      "val_loss: tensor(0.2072)\n",
      "val_loss: tensor(0.3190)\n",
      "val_loss: tensor(0.2055)\n",
      "val_loss: tensor(0.0350)\n",
      "val_loss: tensor(0.4118)\n",
      "val_loss: tensor(0.4278)\n",
      "val_loss: tensor(0.1754)\n"
     ]
    },
    {
     "data": {
      "text/plain": "Validating: 0it [00:00, ?it/s]",
      "application/vnd.jupyter.widget-view+json": {
       "version_major": 2,
       "version_minor": 0,
       "model_id": "ecaf74e056f74c1faf2a46792773f4e8"
      }
     },
     "metadata": {},
     "output_type": "display_data"
    },
    {
     "name": "stdout",
     "output_type": "stream",
     "text": [
      "val_loss: tensor(0.2075)\n",
      "val_loss: tensor(0.3212)\n",
      "val_loss: tensor(0.1965)\n",
      "val_loss: tensor(0.0306)\n",
      "val_loss: tensor(0.4360)\n",
      "val_loss: tensor(0.4433)\n",
      "val_loss: tensor(0.1747)\n"
     ]
    },
    {
     "data": {
      "text/plain": "Validating: 0it [00:00, ?it/s]",
      "application/vnd.jupyter.widget-view+json": {
       "version_major": 2,
       "version_minor": 0,
       "model_id": "5f79fccfd5d141c8b4bee5c2df10cb6a"
      }
     },
     "metadata": {},
     "output_type": "display_data"
    },
    {
     "name": "stdout",
     "output_type": "stream",
     "text": [
      "val_loss: tensor(0.2062)\n",
      "val_loss: tensor(0.3201)\n",
      "val_loss: tensor(0.1914)\n",
      "val_loss: tensor(0.0276)\n",
      "val_loss: tensor(0.4448)\n",
      "val_loss: tensor(0.4506)\n",
      "val_loss: tensor(0.1700)\n"
     ]
    },
    {
     "data": {
      "text/plain": "Validating: 0it [00:00, ?it/s]",
      "application/vnd.jupyter.widget-view+json": {
       "version_major": 2,
       "version_minor": 0,
       "model_id": "074029912a3d4f9091bea81d03f55f22"
      }
     },
     "metadata": {},
     "output_type": "display_data"
    },
    {
     "name": "stdout",
     "output_type": "stream",
     "text": [
      "val_loss: tensor(0.2048)\n",
      "val_loss: tensor(0.3208)\n",
      "val_loss: tensor(0.1884)\n",
      "val_loss: tensor(0.0248)\n",
      "val_loss: tensor(0.4553)\n",
      "val_loss: tensor(0.4689)\n",
      "val_loss: tensor(0.1706)\n"
     ]
    },
    {
     "data": {
      "text/plain": "Validating: 0it [00:00, ?it/s]",
      "application/vnd.jupyter.widget-view+json": {
       "version_major": 2,
       "version_minor": 0,
       "model_id": "cc10075f30cd425d8886f7ea8e8ee2fd"
      }
     },
     "metadata": {},
     "output_type": "display_data"
    },
    {
     "name": "stdout",
     "output_type": "stream",
     "text": [
      "val_loss: tensor(0.2039)\n",
      "val_loss: tensor(0.3203)\n",
      "val_loss: tensor(0.1853)\n",
      "val_loss: tensor(0.0225)\n",
      "val_loss: tensor(0.4653)\n",
      "val_loss: tensor(0.4833)\n",
      "val_loss: tensor(0.1695)\n"
     ]
    },
    {
     "data": {
      "text/plain": "Validating: 0it [00:00, ?it/s]",
      "application/vnd.jupyter.widget-view+json": {
       "version_major": 2,
       "version_minor": 0,
       "model_id": "63a7e79ab95240b387363f892a4f602b"
      }
     },
     "metadata": {},
     "output_type": "display_data"
    },
    {
     "name": "stdout",
     "output_type": "stream",
     "text": [
      "val_loss: tensor(0.2035)\n",
      "val_loss: tensor(0.3200)\n",
      "val_loss: tensor(0.1783)\n",
      "val_loss: tensor(0.0200)\n",
      "val_loss: tensor(0.4686)\n",
      "val_loss: tensor(0.4804)\n",
      "val_loss: tensor(0.1562)\n"
     ]
    },
    {
     "data": {
      "text/plain": "Validating: 0it [00:00, ?it/s]",
      "application/vnd.jupyter.widget-view+json": {
       "version_major": 2,
       "version_minor": 0,
       "model_id": "55a47f119049419583036ee4496e8c82"
      }
     },
     "metadata": {},
     "output_type": "display_data"
    },
    {
     "name": "stdout",
     "output_type": "stream",
     "text": [
      "val_loss: tensor(0.2037)\n",
      "val_loss: tensor(0.3208)\n",
      "val_loss: tensor(0.1730)\n",
      "val_loss: tensor(0.0178)\n",
      "val_loss: tensor(0.4747)\n",
      "val_loss: tensor(0.4841)\n",
      "val_loss: tensor(0.1493)\n"
     ]
    },
    {
     "data": {
      "text/plain": "Validating: 0it [00:00, ?it/s]",
      "application/vnd.jupyter.widget-view+json": {
       "version_major": 2,
       "version_minor": 0,
       "model_id": "149a3456302f46258689b35008c8b0c2"
      }
     },
     "metadata": {},
     "output_type": "display_data"
    },
    {
     "name": "stdout",
     "output_type": "stream",
     "text": [
      "val_loss: tensor(0.2020)\n",
      "val_loss: tensor(0.3210)\n",
      "val_loss: tensor(0.1761)\n",
      "val_loss: tensor(0.0174)\n",
      "val_loss: tensor(0.4786)\n",
      "val_loss: tensor(0.5062)\n",
      "val_loss: tensor(0.1573)\n"
     ]
    },
    {
     "data": {
      "text/plain": "Validating: 0it [00:00, ?it/s]",
      "application/vnd.jupyter.widget-view+json": {
       "version_major": 2,
       "version_minor": 0,
       "model_id": "50fa07e1b18f452e8f64c8d40c42099f"
      }
     },
     "metadata": {},
     "output_type": "display_data"
    },
    {
     "name": "stdout",
     "output_type": "stream",
     "text": [
      "val_loss: tensor(0.2011)\n",
      "val_loss: tensor(0.3174)\n",
      "val_loss: tensor(0.1676)\n",
      "val_loss: tensor(0.0151)\n",
      "val_loss: tensor(0.4756)\n",
      "val_loss: tensor(0.4941)\n",
      "val_loss: tensor(0.1387)\n"
     ]
    },
    {
     "data": {
      "text/plain": "Validating: 0it [00:00, ?it/s]",
      "application/vnd.jupyter.widget-view+json": {
       "version_major": 2,
       "version_minor": 0,
       "model_id": "a13fcf43a4334adf8283bb279ea6c719"
      }
     },
     "metadata": {},
     "output_type": "display_data"
    },
    {
     "name": "stdout",
     "output_type": "stream",
     "text": [
      "val_loss: tensor(0.2002)\n",
      "val_loss: tensor(0.3167)\n",
      "val_loss: tensor(0.1649)\n",
      "val_loss: tensor(0.0139)\n",
      "val_loss: tensor(0.4782)\n",
      "val_loss: tensor(0.5005)\n",
      "val_loss: tensor(0.1336)\n"
     ]
    },
    {
     "data": {
      "text/plain": "Validating: 0it [00:00, ?it/s]",
      "application/vnd.jupyter.widget-view+json": {
       "version_major": 2,
       "version_minor": 0,
       "model_id": "4e08581bd48b4ee6bc047e0af0216006"
      }
     },
     "metadata": {},
     "output_type": "display_data"
    },
    {
     "name": "stderr",
     "output_type": "stream",
     "text": [
      "Restoring states from the checkpoint path at D:\\dev\\workspace\\surfmachine\\ai\\src\\04_pytorch_lightning_sp500_classifier\\models\\sp500-epoch=16-val_accuracy=0.90.ckpt\n",
      "Loaded model weights from checkpoint at D:\\dev\\workspace\\surfmachine\\ai\\src\\04_pytorch_lightning_sp500_classifier\\models\\sp500-epoch=16-val_accuracy=0.90.ckpt\n"
     ]
    },
    {
     "name": "stdout",
     "output_type": "stream",
     "text": [
      "val_loss: tensor(0.1985)\n",
      "val_loss: tensor(0.3145)\n",
      "val_loss: tensor(0.1617)\n",
      "val_loss: tensor(0.0129)\n",
      "val_loss: tensor(0.4770)\n",
      "val_loss: tensor(0.5011)\n",
      "val_loss: tensor(0.1311)\n",
      "Setup - define data split:\n",
      "- Train rows : 2392 ( 80%)\n",
      "- Val   rows : 0299 ( 10%)\n",
      "- Test  rows : 0299 ( 10%)\n",
      "- Total rows : 2990 (100%)\n",
      "Setup - split and transform data for stage: test\n",
      "- Test  shape: (299, 490)\n",
      "- Total shape: (2990, 490)\n"
     ]
    },
    {
     "data": {
      "text/plain": "Testing: 0it [00:00, ?it/s]",
      "application/vnd.jupyter.widget-view+json": {
       "version_major": 2,
       "version_minor": 0,
       "model_id": "78a4fe9a249d47ca8175dee2eec20995"
      }
     },
     "metadata": {},
     "output_type": "display_data"
    },
    {
     "name": "stdout",
     "output_type": "stream",
     "text": [
      "--------------------------------------------------------------------------------\n",
      "DATALOADER:0 TEST RESULTS\n",
      "{'test_accuracy': 0.8461538553237915, 'test_loss': 0.42619502544403076}\n",
      "--------------------------------------------------------------------------------\n"
     ]
    },
    {
     "data": {
      "text/plain": "[{'test_loss': 0.42619502544403076, 'test_accuracy': 0.8461538553237915}]"
     },
     "execution_count": 18,
     "metadata": {},
     "output_type": "execute_result"
    }
   ],
   "source": [
    "early_stop_callback = EarlyStopping(monitor=\"val_accuracy\", min_delta=0.00, patience=3, verbose=False, mode=\"max\")\n",
    "\n",
    "# saves a file like: my/path/sample-mnist-epoch=02-val_loss=0.32.ckpt\n",
    "if not os.path.exists('models'):\n",
    "    os.makedirs('models')\n",
    "\n",
    "checkpoint_callback = ModelCheckpoint(\n",
    "    monitor=\"val_accuracy\",\n",
    "    dirpath=\"models\",\n",
    "    filename=\"sp500-{epoch:02d}-{val_accuracy:.2f}\",\n",
    "    save_top_k = 5,\n",
    "    mode=\"max\"\n",
    ")\n",
    "\n",
    "trainer = pl.Trainer(callbacks=[early_stop_callback, checkpoint_callback], progress_bar_refresh_rate=progress_bar_refresh_rate, max_epochs=epochs)\n",
    "\n",
    "trainer.fit(model, datamodule)\n",
    "trainer.test(datamodule=datamodule)\n"
   ],
   "metadata": {
    "collapsed": false,
    "pycharm": {
     "name": "#%%\n"
    }
   }
  },
  {
   "cell_type": "markdown",
   "source": [
    "## 7. Visualize with Tensorboard\n",
    "\n",
    "Run the following commands in a terminal:<br />\n",
    "1. Change to folder with notebook\n",
    "2. Run command: tensorboard --logdir=./lightning_logs"
   ],
   "metadata": {
    "collapsed": false
   }
  },
  {
   "cell_type": "code",
   "execution_count": 19,
   "outputs": [
    {
     "data": {
      "text/plain": "Launching TensorBoard..."
     },
     "metadata": {},
     "output_type": "display_data"
    }
   ],
   "source": [
    "# Start tensorboard.\n",
    "%load_ext tensorboard\n",
    "%tensorboard --logdir lightning_logs/\n"
   ],
   "metadata": {
    "collapsed": false,
    "pycharm": {
     "name": "#%%\n"
    }
   }
  },
  {
   "cell_type": "markdown",
   "source": [
    "---\n",
    "The end."
   ],
   "metadata": {
    "collapsed": false
   }
  }
 ],
 "metadata": {
  "kernelspec": {
   "name": "pycharm-ec18b53a",
   "language": "python",
   "display_name": "PyCharm (python-work)"
  },
  "language_info": {
   "codemirror_mode": {
    "name": "ipython",
    "version": 2
   },
   "file_extension": ".py",
   "mimetype": "text/x-python",
   "name": "python",
   "nbconvert_exporter": "python",
   "pygments_lexer": "ipython2",
   "version": "2.7.6"
  }
 },
 "nbformat": 4,
 "nbformat_minor": 0
}