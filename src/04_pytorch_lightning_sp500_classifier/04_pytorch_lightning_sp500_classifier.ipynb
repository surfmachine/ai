{
 "cells": [
  {
   "cell_type": "markdown",
   "metadata": {
    "collapsed": true,
    "pycharm": {
     "name": "#%% md\n"
    }
   },
   "source": [
    "# Aufgabe S&P 500 Classifier with PyTorch Lightning\n",
    "20.11.2021, Thomas Iten\n",
    "\n",
    "**Inhalt**\n",
    "\n",
    "1. SP500DataModule (derived from LightningDataModule)\n",
    "2. SP500ClassifierModel\n",
    "3. Train and test\n",
    "4. Run learning finder variation 1: auto_lr_find=True\n",
    "5. Run learning finder variation 2: trainer.tuner.lr_find\n",
    "6. Train with early stop and test\n"
   ]
  },
  {
   "cell_type": "markdown",
   "source": [
    "## Imports"
   ],
   "metadata": {
    "collapsed": false
   }
  },
  {
   "cell_type": "code",
   "source": [
    "import os, os.path, requests, datetime\n",
    "import numpy as np\n",
    "import pandas as pd\n",
    "import bs4 as bs\n",
    "import yfinance\n",
    "\n",
    "from torch.utils.data import DataLoader, TensorDataset\n",
    "from typing import Optional\n",
    "\n",
    "import torch, torchmetrics\n",
    "import pytorch_lightning as pl\n",
    "from torch import nn\n",
    "from torch.nn import functional as F\n",
    "from pytorch_lightning.callbacks.early_stopping import EarlyStopping\n",
    "from pytorch_lightning.callbacks import ModelCheckpoint\n",
    "\n",
    "import warnings\n",
    "warnings.filterwarnings('ignore')"
   ],
   "metadata": {
    "collapsed": false,
    "pycharm": {
     "name": "#%%\n"
    }
   },
   "execution_count": 1,
   "outputs": []
  },
  {
   "cell_type": "markdown",
   "source": [
    "## 1. SP500DataModule"
   ],
   "metadata": {
    "collapsed": false
   }
  },
  {
   "cell_type": "code",
   "source": [
    "class SP500DataModule(pl.LightningDataModule):\n",
    "    \"\"\"Data module for the 'Standard and Poor 500' company performance data.\n",
    "\n",
    "    Usage:\n",
    "    (1) The recommended way to use a DataModule is as follows:\n",
    "        dm = SP500DataModule()\n",
    "        model = Model()\n",
    "        trainer.fit(model, dm)\n",
    "        trainer.test(datamodule=dm)\n",
    "\n",
    "    (2) If you need information from the dataset to build your model, then run prepare_data() and setup() manually\n",
    "        (Lightning ensures the method runs on the correct devices):\n",
    "\n",
    "        dm = SP500DataModule()\n",
    "        dm.prepare_data()\n",
    "        dm.setup(stage=\"fit\")\n",
    "\n",
    "        model = Model(num_classes=dm.num_classes, width=dm.width, vocab=dm.vocab)\n",
    "        trainer.fit(model, dm)\n",
    "\n",
    "        dm.setup(stage=\"test\")\n",
    "        trainer.test(datamodule=dm)\n",
    "\n",
    "    Further details see:\n",
    "    - https://pytorch-lightning.readthedocs.io/en/latest/starter/introduction_guide.html\n",
    "    - https://pytorch-lightning.readthedocs.io/en/latest/extensions/datamodules.html\n",
    "    \"\"\"\n",
    "    URL = \"http://en.wikipedia.org/wiki/List_of_S%26P_500_companies\"\n",
    "\n",
    "\n",
    "    def __init__(self, batch_size=32, train_val_test_split=[75,15,10], spy_binary=True, path=\"data\", force_download=False):\n",
    "        super().__init__()\n",
    "        # download properties\n",
    "        self.start = datetime.datetime(2010, 1, 1)\n",
    "        self.end = datetime.datetime.now()\n",
    "        self.fname = path + \"/sp500.csv\"\n",
    "        self.force_download = force_download\n",
    "        # prepare and transform properties\n",
    "        self.spy_binary = spy_binary\n",
    "        self.batch_size = batch_size\n",
    "        self.train_val_test_split = train_val_test_split\n",
    "        # data\n",
    "        self.data = None\n",
    "        self.train_dataset = None\n",
    "        self.val_dataset = None\n",
    "        self.test_dataset = None\n",
    "\n",
    "\n",
    "    def prepare_data(self):\n",
    "        \"\"\"Download and prepare the SP500 data.\"\"\"\n",
    "        df = self._download_sp500()\n",
    "        if self.spy_binary:\n",
    "            df.SPY = [1 if spy > 0 else 0 for spy in df.SPY]\n",
    "        self.data = df\n",
    "\n",
    "\n",
    "    def setup(self, stage: Optional[str] = None):\n",
    "        \"\"\"Setup the data according the stage 'fit' or 'test'. If the stage is none, setup the data for all stages.\"\"\"\n",
    "\n",
    "        # Split data into test, val and train dataframes\n",
    "        train_percent, val_percent, test_percent = self.train_val_test_split\n",
    "        rows = self.data.shape[0]\n",
    "        test_rows = int(test_percent * rows / 100)\n",
    "        val_rows = int(val_percent * rows / 100)\n",
    "        train_rows =  rows - test_rows - val_rows\n",
    "\n",
    "        print(\"Setup - define data split:\")\n",
    "        print(\"- Train rows : {0:04d} ( {1}%)\".format(train_rows, train_percent))\n",
    "        print(\"- Val   rows : {0:04d} ( {1}%)\".format(val_rows, val_percent))\n",
    "        print(\"- Test  rows : {0:04d} ( {1}%)\".format(test_rows, test_percent))\n",
    "        print(\"- Total rows : {0:04d} (100%)\".format(rows))\n",
    "\n",
    "        print(\"Setup - split and transform data for stage: {}\".format(stage))\n",
    "        if stage == \"fit\" or stage is None:\n",
    "            train_data = self.data.iloc[:train_rows]\n",
    "            val_data = self.data.iloc[train_rows:train_rows+val_rows]\n",
    "            print(\"- Train shape: {}\".format(train_data.shape))\n",
    "            print(\"- Val   shape: {}\".format(val_data.shape))\n",
    "            # transform data and assign properties to use in data loaders\n",
    "            self.train_dataset = self._transform_to_dataset(train_data)\n",
    "            self.val_dataset = self._transform_to_dataset(val_data)\n",
    "\n",
    "        if stage == \"test\" or stage is None:\n",
    "            test_data = self.data.iloc[train_rows+val_rows:]\n",
    "            print(\"- Test  shape: {}\".format(test_data.shape))\n",
    "            # transform data and assign properties to use in data loaders\n",
    "            self.test_dataset = self._transform_to_dataset(test_data)\n",
    "\n",
    "        print(\"- Total shape: {}\".format(self.data.shape))\n",
    "\n",
    "\n",
    "    def train_dataloader(self):\n",
    "        return DataLoader(self.train_dataset, batch_size=self.batch_size)\n",
    "\n",
    "    def val_dataloader(self):\n",
    "        return DataLoader(self.val_dataset, batch_size=self.batch_size)\n",
    "\n",
    "    def test_dataloader(self):\n",
    "        return DataLoader(self.test_dataset, batch_size=self.batch_size)\n",
    "\n",
    "    def _transform_to_dataset(self, df):\n",
    "\n",
    "        # Split labels and features\n",
    "        labels = df.SPY.values\n",
    "        features = df.iloc[:, :-1].values\n",
    "\n",
    "        # Convert to tensor\n",
    "        tensor_labels   = torch.tensor(labels).unsqueeze(1).float()\n",
    "        tensor_features = torch.tensor(features).float()\n",
    "\n",
    "        # Create tensor dataset\n",
    "        return TensorDataset(tensor_features, tensor_labels)\n",
    "\n",
    "    def _download_sp500(self) -> pd.DataFrame:\n",
    "        \"\"\"Download the SP500 data from the internet, save data to a csv file and return the result.\n",
    "\n",
    "        Notes:\n",
    "        - All further calls will serve the data from the csv file.\n",
    "        - To trigger a new download from the internet, set the force_download flag to True.\n",
    "        \"\"\"\n",
    "\n",
    "        # Load data from file\n",
    "        if os.path.isfile(self.fname) and not self.force_download:\n",
    "            print(\"Load SP500 from file:\", self.fname)\n",
    "            return pd.read_csv(self.fname, index_col=0, parse_dates=True)\n",
    "\n",
    "        # Download data\n",
    "        print(\"Download data from:\", SP500DataModule.URL)\n",
    "        resp = requests.get(SP500DataModule.URL)\n",
    "        soup = bs.BeautifulSoup(resp.text, 'lxml')\n",
    "        table = soup.find('table', {'class': 'wikitable sortable'})\n",
    "\n",
    "        tickers = []\n",
    "        for row in table.findAll('tr')[1:]:\n",
    "            ticker = row.findAll('td')[0].text\n",
    "            tickers.append(ticker)\n",
    "\n",
    "        tickers = [s.replace('\\n', '') for s in tickers]\n",
    "        data = yfinance.download(tickers, start=self.start, end=self.end)\n",
    "        df_data = data['Adj Close']\n",
    "\n",
    "        df_spy = yfinance.download(\"SPY\", start=self.start, end=self.end)\n",
    "        df_spy = df_spy.loc[:, ['Adj Close']]\n",
    "        df_spy.columns = ['SPY']\n",
    "\n",
    "        df = pd.concat([df_data, df_spy], axis=1)\n",
    "\n",
    "        # Prepare data\n",
    "        df.dropna(axis=0, how='all', inplace=True)\n",
    "        print(\"Dropping columns due to nans > 50%:\", df.loc[:, list((100 * (df.isnull().sum() / len(df.index)) > 50))].columns)\n",
    "        df = df.drop(df.loc[:, list((100 * (df.isnull().sum() / len(df.index)) > 50))].columns, 1)\n",
    "        df = df.ffill().bfill()\n",
    "        print(\"Any columns still contain nans:\", df.isnull().values.any())\n",
    "\n",
    "        df_returns = pd.DataFrame()\n",
    "        for name in df.columns:\n",
    "            df_returns[name] = np.log(df[name]).diff()\n",
    "\n",
    "        df_returns.dropna(axis=0, how='any', inplace=True)\n",
    "\n",
    "        # Save data and return result\n",
    "        print(\"Save data to file:\", self.fname)\n",
    "        df_returns.to_csv(self.fname)\n",
    "\n",
    "        self.data = df_returns\n",
    "        return self.data\n"
   ],
   "metadata": {
    "collapsed": false,
    "pycharm": {
     "name": "#%%\n"
    }
   },
   "execution_count": 2,
   "outputs": []
  },
  {
   "cell_type": "markdown",
   "source": [
    "## 2. SP500ClassifierModel"
   ],
   "metadata": {
    "collapsed": false
   }
  },
  {
   "cell_type": "code",
   "source": [
    "class SP500ClassifierModel(pl.LightningModule):\n",
    "\n",
    "    def __init__(self, learning_rate=0.001):\n",
    "        super().__init__()\n",
    "        self.learning_rate = learning_rate\n",
    "        self.metric = torchmetrics.Accuracy()\n",
    "        #\n",
    "        # Model experiments\n",
    "        #\n",
    "        self.linear_relu_stack = nn.Sequential(\n",
    "            nn.Linear(489, 512),\n",
    "            nn.Dropout(.5),\n",
    "            nn.ReLU(),\n",
    "            nn.Linear(512, 64),\n",
    "            nn.Dropout(.5),\n",
    "            nn.ReLU(),\n",
    "            nn.Linear(64, 32),\n",
    "            nn.Dropout(.5),\n",
    "            nn.ReLU(),\n",
    "            nn.Linear(32, 1)\n",
    "        )\n",
    "        # Model experiment 3\n",
    "        # self.linear_relu_stack = nn.Sequential(\n",
    "        #     nn.Linear(489, 512),\n",
    "        #     nn.ReLU(),\n",
    "        #     nn.Linear(512, 64),\n",
    "        #     nn.ReLU(),\n",
    "        #     nn.Linear(64, 32),\n",
    "        #     nn.ReLU(),\n",
    "        #     nn.Linear(32, 1)\n",
    "        # )\n",
    "        # Model experiment 2\n",
    "        # self.linear_relu_stack = nn.Sequential(\n",
    "        #     nn.Linear(489 , 512),\n",
    "        #     nn.ReLU(),\n",
    "        #     nn.Linear(512, 512),\n",
    "        #     nn.ReLU(),\n",
    "        #     nn.Linear(512, 64),\n",
    "        #     nn.ReLU(),\n",
    "        #     nn.Linear(64, 32),\n",
    "        #     nn.ReLU(),\n",
    "        #     nn.Linear(32, 1))\n",
    "        # Model experiment 1\n",
    "        # self.linear_relu_stack = nn.Sequential(\n",
    "        #     nn.Linear(489, 512),\n",
    "        #     nn.Dropout(.5),\n",
    "        #     nn.ReLU(),\n",
    "        #     nn.Linear(512, 64),\n",
    "        #     nn.Dropout(.5),\n",
    "        #     nn.ReLU(),\n",
    "        #     nn.Linear(64, 32),\n",
    "        #     nn.Dropout(.5),\n",
    "        #     nn.ReLU(),\n",
    "        #     nn.Linear(32, 1)\n",
    "        # )\n",
    "        #\n",
    "        # Loss experiments\n",
    "        #\n",
    "        self.loss_fn = F.binary_cross_entropy_with_logits\n",
    "        # Loss experiemnt 1\n",
    "        # self.loss_fn = nn.BCEWithLogitsLoss()\n",
    "\n",
    "    def process_step(self, batch, batch_idx):\n",
    "        x, y = batch\n",
    "        pred = self.linear_relu_stack(x)\n",
    "        loss = self.loss_fn(pred, y)\n",
    "\n",
    "        # calculate accuracy\n",
    "        pred = (pred>0.5).int()\n",
    "        acc = self.metric(pred, y.int())\n",
    "\n",
    "        return loss, acc\n",
    "\n",
    "    def training_step(self, batch, batch_idx):\n",
    "        loss, acc = self.process_step(batch, batch_idx)\n",
    "        self.log('train_loss', loss)\n",
    "        self.log('train_accuracy', acc)\n",
    "        return loss\n",
    "\n",
    "    def validation_step(self, batch, batch_idx):\n",
    "        loss, acc = self.process_step(batch, batch_idx)\n",
    "        print(\"val_loss:\", loss)\n",
    "        self.log('val_accuracy', acc)\n",
    "        self.log('val_loss', loss)\n",
    "\n",
    "    def test_step(self, batch, batch_idx):\n",
    "        loss, acc = self.process_step(batch, batch_idx)\n",
    "        self.log('test_loss', loss)\n",
    "        self.log('test_accuracy', acc)\n",
    "\n",
    "    def configure_optimizers(self):\n",
    "        # Update params step: params = params - lr * grad\n",
    "        optimizer = torch.optim.Adam(self.parameters(), lr=self.learning_rate)\n",
    "        return optimizer"
   ],
   "metadata": {
    "collapsed": false,
    "pycharm": {
     "name": "#%%\n"
    }
   },
   "execution_count": 3,
   "outputs": []
  },
  {
   "cell_type": "markdown",
   "source": [
    "## 3. Train and test\n",
    "\n",
    "### 3.1 Parameters"
   ],
   "metadata": {
    "collapsed": false
   }
  },
  {
   "cell_type": "code",
   "source": [
    "epochs = 30\n",
    "batch_size = 48\n",
    "learning_rate = 0.0001\n",
    "\n",
    "train_val_test_split=[80,10,10]\n",
    "gpus = 1 if torch.cuda.is_available() else 0\n",
    "progress_bar_refresh_rate=16\n"
   ],
   "metadata": {
    "collapsed": false,
    "pycharm": {
     "name": "#%%\n"
    }
   },
   "execution_count": 4,
   "outputs": []
  },
  {
   "cell_type": "markdown",
   "source": [
    "### 3.2 Train model"
   ],
   "metadata": {
    "collapsed": false
   }
  },
  {
   "cell_type": "code",
   "execution_count": 5,
   "outputs": [
    {
     "name": "stderr",
     "output_type": "stream",
     "text": [
      "GPU available: False, used: False\n",
      "TPU available: False, using: 0 TPU cores\n",
      "IPU available: False, using: 0 IPUs\n"
     ]
    },
    {
     "name": "stdout",
     "output_type": "stream",
     "text": [
      "Load SP500 from file: data/sp500.csv\n",
      "Setup - define data split:\n",
      "- Train rows : 2392 ( 80%)\n",
      "- Val   rows : 0299 ( 10%)\n",
      "- Test  rows : 0299 ( 10%)\n",
      "- Total rows : 2990 (100%)\n",
      "Setup - split and transform data for stage: fit\n",
      "- Train shape: (2392, 490)\n",
      "- Val   shape: (299, 490)\n",
      "- Total shape: (2990, 490)\n"
     ]
    },
    {
     "name": "stderr",
     "output_type": "stream",
     "text": [
      "\n",
      "  | Name              | Type       | Params\n",
      "-------------------------------------------------\n",
      "0 | metric            | Accuracy   | 0     \n",
      "1 | linear_relu_stack | Sequential | 285 K \n",
      "-------------------------------------------------\n",
      "285 K     Trainable params\n",
      "0         Non-trainable params\n",
      "285 K     Total params\n",
      "1.143     Total estimated model params size (MB)\n"
     ]
    },
    {
     "data": {
      "text/plain": "Validation sanity check: 0it [00:00, ?it/s]",
      "application/vnd.jupyter.widget-view+json": {
       "version_major": 2,
       "version_minor": 0,
       "model_id": "4c7091aaeed54c9c805928c576b262ef"
      }
     },
     "metadata": {},
     "output_type": "display_data"
    },
    {
     "name": "stdout",
     "output_type": "stream",
     "text": [
      "val_loss: tensor(0.6899)\n",
      "val_loss: tensor(0.6900)\n"
     ]
    },
    {
     "data": {
      "text/plain": "Training: 0it [00:00, ?it/s]",
      "application/vnd.jupyter.widget-view+json": {
       "version_major": 2,
       "version_minor": 0,
       "model_id": "43e083c7f23641ed80bdd4ad74263010"
      }
     },
     "metadata": {},
     "output_type": "display_data"
    },
    {
     "data": {
      "text/plain": "Validating: 0it [00:00, ?it/s]",
      "application/vnd.jupyter.widget-view+json": {
       "version_major": 2,
       "version_minor": 0,
       "model_id": "628172d023ec4a90b4e7c1fc5d34fbdc"
      }
     },
     "metadata": {},
     "output_type": "display_data"
    },
    {
     "name": "stdout",
     "output_type": "stream",
     "text": [
      "val_loss: tensor(0.6848)\n",
      "val_loss: tensor(0.6866)\n",
      "val_loss: tensor(0.6809)\n",
      "val_loss: tensor(0.6812)\n",
      "val_loss: tensor(0.6777)\n",
      "val_loss: tensor(0.6752)\n",
      "val_loss: tensor(0.6845)\n"
     ]
    },
    {
     "data": {
      "text/plain": "Validating: 0it [00:00, ?it/s]",
      "application/vnd.jupyter.widget-view+json": {
       "version_major": 2,
       "version_minor": 0,
       "model_id": "5440166bd3fe431a9ef365a2ea225182"
      }
     },
     "metadata": {},
     "output_type": "display_data"
    },
    {
     "name": "stdout",
     "output_type": "stream",
     "text": [
      "val_loss: tensor(0.6674)\n",
      "val_loss: tensor(0.6751)\n",
      "val_loss: tensor(0.6673)\n",
      "val_loss: tensor(0.6400)\n",
      "val_loss: tensor(0.6472)\n",
      "val_loss: tensor(0.6564)\n",
      "val_loss: tensor(0.6635)\n"
     ]
    },
    {
     "data": {
      "text/plain": "Validating: 0it [00:00, ?it/s]",
      "application/vnd.jupyter.widget-view+json": {
       "version_major": 2,
       "version_minor": 0,
       "model_id": "92bcc6ec1acf422eb8e51d528ce280bd"
      }
     },
     "metadata": {},
     "output_type": "display_data"
    },
    {
     "name": "stdout",
     "output_type": "stream",
     "text": [
      "val_loss: tensor(0.6127)\n",
      "val_loss: tensor(0.6369)\n",
      "val_loss: tensor(0.6237)\n",
      "val_loss: tensor(0.5075)\n",
      "val_loss: tensor(0.5491)\n",
      "val_loss: tensor(0.5987)\n",
      "val_loss: tensor(0.5978)\n"
     ]
    },
    {
     "data": {
      "text/plain": "Validating: 0it [00:00, ?it/s]",
      "application/vnd.jupyter.widget-view+json": {
       "version_major": 2,
       "version_minor": 0,
       "model_id": "517e5d75dfa247c688ec325e9efa0d04"
      }
     },
     "metadata": {},
     "output_type": "display_data"
    },
    {
     "name": "stdout",
     "output_type": "stream",
     "text": [
      "val_loss: tensor(0.4822)\n",
      "val_loss: tensor(0.5419)\n",
      "val_loss: tensor(0.5129)\n",
      "val_loss: tensor(0.2993)\n",
      "val_loss: tensor(0.3738)\n",
      "val_loss: tensor(0.4656)\n",
      "val_loss: tensor(0.4379)\n"
     ]
    },
    {
     "data": {
      "text/plain": "Validating: 0it [00:00, ?it/s]",
      "application/vnd.jupyter.widget-view+json": {
       "version_major": 2,
       "version_minor": 0,
       "model_id": "07c6d1a6e9cd4455a88681b1250f4324"
      }
     },
     "metadata": {},
     "output_type": "display_data"
    },
    {
     "name": "stdout",
     "output_type": "stream",
     "text": [
      "val_loss: tensor(0.3437)\n",
      "val_loss: tensor(0.4312)\n",
      "val_loss: tensor(0.3794)\n",
      "val_loss: tensor(0.1456)\n",
      "val_loss: tensor(0.2818)\n",
      "val_loss: tensor(0.3499)\n",
      "val_loss: tensor(0.2669)\n"
     ]
    },
    {
     "data": {
      "text/plain": "Validating: 0it [00:00, ?it/s]",
      "application/vnd.jupyter.widget-view+json": {
       "version_major": 2,
       "version_minor": 0,
       "model_id": "65030df784cc406eb185f74b687cfa49"
      }
     },
     "metadata": {},
     "output_type": "display_data"
    },
    {
     "name": "stdout",
     "output_type": "stream",
     "text": [
      "val_loss: tensor(0.2615)\n",
      "val_loss: tensor(0.3582)\n",
      "val_loss: tensor(0.2837)\n",
      "val_loss: tensor(0.0772)\n",
      "val_loss: tensor(0.2922)\n",
      "val_loss: tensor(0.3154)\n",
      "val_loss: tensor(0.1827)\n"
     ]
    },
    {
     "data": {
      "text/plain": "Validating: 0it [00:00, ?it/s]",
      "application/vnd.jupyter.widget-view+json": {
       "version_major": 2,
       "version_minor": 0,
       "model_id": "c5a93d7fcf3d4f9287fded59eb0475b8"
      }
     },
     "metadata": {},
     "output_type": "display_data"
    },
    {
     "name": "stdout",
     "output_type": "stream",
     "text": [
      "val_loss: tensor(0.2280)\n",
      "val_loss: tensor(0.3269)\n",
      "val_loss: tensor(0.2364)\n",
      "val_loss: tensor(0.0529)\n",
      "val_loss: tensor(0.3411)\n",
      "val_loss: tensor(0.3354)\n",
      "val_loss: tensor(0.1653)\n"
     ]
    },
    {
     "data": {
      "text/plain": "Validating: 0it [00:00, ?it/s]",
      "application/vnd.jupyter.widget-view+json": {
       "version_major": 2,
       "version_minor": 0,
       "model_id": "fe6dd5e55444470b9563206b77b3d3c6"
      }
     },
     "metadata": {},
     "output_type": "display_data"
    },
    {
     "name": "stdout",
     "output_type": "stream",
     "text": [
      "val_loss: tensor(0.2166)\n",
      "val_loss: tensor(0.3171)\n",
      "val_loss: tensor(0.2147)\n",
      "val_loss: tensor(0.0426)\n",
      "val_loss: tensor(0.3851)\n",
      "val_loss: tensor(0.3656)\n",
      "val_loss: tensor(0.1672)\n"
     ]
    },
    {
     "data": {
      "text/plain": "Validating: 0it [00:00, ?it/s]",
      "application/vnd.jupyter.widget-view+json": {
       "version_major": 2,
       "version_minor": 0,
       "model_id": "f7d4967cbb2f40d1a46790cb8b0075ab"
      }
     },
     "metadata": {},
     "output_type": "display_data"
    },
    {
     "name": "stdout",
     "output_type": "stream",
     "text": [
      "val_loss: tensor(0.2133)\n",
      "val_loss: tensor(0.3169)\n",
      "val_loss: tensor(0.1999)\n",
      "val_loss: tensor(0.0358)\n",
      "val_loss: tensor(0.4187)\n",
      "val_loss: tensor(0.3894)\n",
      "val_loss: tensor(0.1699)\n"
     ]
    },
    {
     "data": {
      "text/plain": "Validating: 0it [00:00, ?it/s]",
      "application/vnd.jupyter.widget-view+json": {
       "version_major": 2,
       "version_minor": 0,
       "model_id": "15e328e6ab7a4c74820df733e4aa9a74"
      }
     },
     "metadata": {},
     "output_type": "display_data"
    },
    {
     "name": "stdout",
     "output_type": "stream",
     "text": [
      "val_loss: tensor(0.2110)\n",
      "val_loss: tensor(0.3168)\n",
      "val_loss: tensor(0.1909)\n",
      "val_loss: tensor(0.0312)\n",
      "val_loss: tensor(0.4360)\n",
      "val_loss: tensor(0.4056)\n",
      "val_loss: tensor(0.1698)\n"
     ]
    },
    {
     "data": {
      "text/plain": "Validating: 0it [00:00, ?it/s]",
      "application/vnd.jupyter.widget-view+json": {
       "version_major": 2,
       "version_minor": 0,
       "model_id": "555503ec1e134c10915204b2631265c7"
      }
     },
     "metadata": {},
     "output_type": "display_data"
    },
    {
     "name": "stdout",
     "output_type": "stream",
     "text": [
      "val_loss: tensor(0.2104)\n",
      "val_loss: tensor(0.3189)\n",
      "val_loss: tensor(0.1876)\n",
      "val_loss: tensor(0.0288)\n",
      "val_loss: tensor(0.4536)\n",
      "val_loss: tensor(0.4268)\n",
      "val_loss: tensor(0.1746)\n"
     ]
    },
    {
     "data": {
      "text/plain": "Validating: 0it [00:00, ?it/s]",
      "application/vnd.jupyter.widget-view+json": {
       "version_major": 2,
       "version_minor": 0,
       "model_id": "5dbea0eee13a4f51bf83460b4ec2cc62"
      }
     },
     "metadata": {},
     "output_type": "display_data"
    },
    {
     "name": "stdout",
     "output_type": "stream",
     "text": [
      "val_loss: tensor(0.2098)\n",
      "val_loss: tensor(0.3202)\n",
      "val_loss: tensor(0.1858)\n",
      "val_loss: tensor(0.0268)\n",
      "val_loss: tensor(0.4641)\n",
      "val_loss: tensor(0.4429)\n",
      "val_loss: tensor(0.1767)\n"
     ]
    },
    {
     "data": {
      "text/plain": "Validating: 0it [00:00, ?it/s]",
      "application/vnd.jupyter.widget-view+json": {
       "version_major": 2,
       "version_minor": 0,
       "model_id": "09df0bbb1c0b49e0a916028f51842a88"
      }
     },
     "metadata": {},
     "output_type": "display_data"
    },
    {
     "name": "stdout",
     "output_type": "stream",
     "text": [
      "val_loss: tensor(0.2085)\n",
      "val_loss: tensor(0.3195)\n",
      "val_loss: tensor(0.1784)\n",
      "val_loss: tensor(0.0238)\n",
      "val_loss: tensor(0.4664)\n",
      "val_loss: tensor(0.4419)\n",
      "val_loss: tensor(0.1697)\n"
     ]
    },
    {
     "data": {
      "text/plain": "Validating: 0it [00:00, ?it/s]",
      "application/vnd.jupyter.widget-view+json": {
       "version_major": 2,
       "version_minor": 0,
       "model_id": "4551a1e9d414490dae77447578e6c24b"
      }
     },
     "metadata": {},
     "output_type": "display_data"
    },
    {
     "name": "stdout",
     "output_type": "stream",
     "text": [
      "val_loss: tensor(0.2074)\n",
      "val_loss: tensor(0.3193)\n",
      "val_loss: tensor(0.1739)\n",
      "val_loss: tensor(0.0216)\n",
      "val_loss: tensor(0.4734)\n",
      "val_loss: tensor(0.4501)\n",
      "val_loss: tensor(0.1659)\n"
     ]
    },
    {
     "data": {
      "text/plain": "Validating: 0it [00:00, ?it/s]",
      "application/vnd.jupyter.widget-view+json": {
       "version_major": 2,
       "version_minor": 0,
       "model_id": "9c5795ee77ca4caaa893ef10aa1ecd22"
      }
     },
     "metadata": {},
     "output_type": "display_data"
    },
    {
     "name": "stdout",
     "output_type": "stream",
     "text": [
      "val_loss: tensor(0.2056)\n",
      "val_loss: tensor(0.3191)\n",
      "val_loss: tensor(0.1720)\n",
      "val_loss: tensor(0.0201)\n",
      "val_loss: tensor(0.4768)\n",
      "val_loss: tensor(0.4592)\n",
      "val_loss: tensor(0.1644)\n"
     ]
    },
    {
     "data": {
      "text/plain": "Validating: 0it [00:00, ?it/s]",
      "application/vnd.jupyter.widget-view+json": {
       "version_major": 2,
       "version_minor": 0,
       "model_id": "55077749c66b4fe880a340a498dcf12e"
      }
     },
     "metadata": {},
     "output_type": "display_data"
    },
    {
     "name": "stdout",
     "output_type": "stream",
     "text": [
      "val_loss: tensor(0.2038)\n",
      "val_loss: tensor(0.3171)\n",
      "val_loss: tensor(0.1692)\n",
      "val_loss: tensor(0.0185)\n",
      "val_loss: tensor(0.4767)\n",
      "val_loss: tensor(0.4658)\n",
      "val_loss: tensor(0.1604)\n"
     ]
    },
    {
     "data": {
      "text/plain": "Validating: 0it [00:00, ?it/s]",
      "application/vnd.jupyter.widget-view+json": {
       "version_major": 2,
       "version_minor": 0,
       "model_id": "bb8ca1f6d1a441a58f95ae022cc8c84d"
      }
     },
     "metadata": {},
     "output_type": "display_data"
    },
    {
     "name": "stdout",
     "output_type": "stream",
     "text": [
      "val_loss: tensor(0.2022)\n",
      "val_loss: tensor(0.3159)\n",
      "val_loss: tensor(0.1652)\n",
      "val_loss: tensor(0.0168)\n",
      "val_loss: tensor(0.4765)\n",
      "val_loss: tensor(0.4671)\n",
      "val_loss: tensor(0.1557)\n"
     ]
    },
    {
     "data": {
      "text/plain": "Validating: 0it [00:00, ?it/s]",
      "application/vnd.jupyter.widget-view+json": {
       "version_major": 2,
       "version_minor": 0,
       "model_id": "bf1973c97a674b298fcb12f8caa20e0c"
      }
     },
     "metadata": {},
     "output_type": "display_data"
    },
    {
     "name": "stdout",
     "output_type": "stream",
     "text": [
      "val_loss: tensor(0.2021)\n",
      "val_loss: tensor(0.3157)\n",
      "val_loss: tensor(0.1606)\n",
      "val_loss: tensor(0.0152)\n",
      "val_loss: tensor(0.4812)\n",
      "val_loss: tensor(0.4718)\n",
      "val_loss: tensor(0.1471)\n"
     ]
    },
    {
     "data": {
      "text/plain": "Validating: 0it [00:00, ?it/s]",
      "application/vnd.jupyter.widget-view+json": {
       "version_major": 2,
       "version_minor": 0,
       "model_id": "a4c9eb7a200d4774aad9574cff71dda3"
      }
     },
     "metadata": {},
     "output_type": "display_data"
    },
    {
     "name": "stdout",
     "output_type": "stream",
     "text": [
      "val_loss: tensor(0.2016)\n",
      "val_loss: tensor(0.3165)\n",
      "val_loss: tensor(0.1587)\n",
      "val_loss: tensor(0.0142)\n",
      "val_loss: tensor(0.4845)\n",
      "val_loss: tensor(0.4814)\n",
      "val_loss: tensor(0.1457)\n"
     ]
    },
    {
     "data": {
      "text/plain": "Validating: 0it [00:00, ?it/s]",
      "application/vnd.jupyter.widget-view+json": {
       "version_major": 2,
       "version_minor": 0,
       "model_id": "3e2057e7162944be83bc1316d6a1acac"
      }
     },
     "metadata": {},
     "output_type": "display_data"
    },
    {
     "name": "stdout",
     "output_type": "stream",
     "text": [
      "val_loss: tensor(0.2003)\n",
      "val_loss: tensor(0.3150)\n",
      "val_loss: tensor(0.1561)\n",
      "val_loss: tensor(0.0131)\n",
      "val_loss: tensor(0.4848)\n",
      "val_loss: tensor(0.4850)\n",
      "val_loss: tensor(0.1419)\n"
     ]
    },
    {
     "data": {
      "text/plain": "Validating: 0it [00:00, ?it/s]",
      "application/vnd.jupyter.widget-view+json": {
       "version_major": 2,
       "version_minor": 0,
       "model_id": "31e73518007a4d1d995fd77a8807a94e"
      }
     },
     "metadata": {},
     "output_type": "display_data"
    },
    {
     "name": "stdout",
     "output_type": "stream",
     "text": [
      "val_loss: tensor(0.2003)\n",
      "val_loss: tensor(0.3138)\n",
      "val_loss: tensor(0.1492)\n",
      "val_loss: tensor(0.0116)\n",
      "val_loss: tensor(0.4867)\n",
      "val_loss: tensor(0.4813)\n",
      "val_loss: tensor(0.1295)\n"
     ]
    },
    {
     "data": {
      "text/plain": "Validating: 0it [00:00, ?it/s]",
      "application/vnd.jupyter.widget-view+json": {
       "version_major": 2,
       "version_minor": 0,
       "model_id": "1ac93b3e3bf54ed3a37d7eaf58e7a333"
      }
     },
     "metadata": {},
     "output_type": "display_data"
    },
    {
     "name": "stdout",
     "output_type": "stream",
     "text": [
      "val_loss: tensor(0.1962)\n",
      "val_loss: tensor(0.3120)\n",
      "val_loss: tensor(0.1528)\n",
      "val_loss: tensor(0.0115)\n",
      "val_loss: tensor(0.4897)\n",
      "val_loss: tensor(0.4991)\n",
      "val_loss: tensor(0.1390)\n"
     ]
    },
    {
     "data": {
      "text/plain": "Validating: 0it [00:00, ?it/s]",
      "application/vnd.jupyter.widget-view+json": {
       "version_major": 2,
       "version_minor": 0,
       "model_id": "5995ba68bb2644ab802dddf00a878c4e"
      }
     },
     "metadata": {},
     "output_type": "display_data"
    },
    {
     "name": "stdout",
     "output_type": "stream",
     "text": [
      "val_loss: tensor(0.1957)\n",
      "val_loss: tensor(0.3095)\n",
      "val_loss: tensor(0.1464)\n",
      "val_loss: tensor(0.0101)\n",
      "val_loss: tensor(0.4897)\n",
      "val_loss: tensor(0.4973)\n",
      "val_loss: tensor(0.1252)\n"
     ]
    },
    {
     "data": {
      "text/plain": "Validating: 0it [00:00, ?it/s]",
      "application/vnd.jupyter.widget-view+json": {
       "version_major": 2,
       "version_minor": 0,
       "model_id": "cc93b092b6324578b1ff4dba906916dd"
      }
     },
     "metadata": {},
     "output_type": "display_data"
    },
    {
     "name": "stdout",
     "output_type": "stream",
     "text": [
      "val_loss: tensor(0.1971)\n",
      "val_loss: tensor(0.3093)\n",
      "val_loss: tensor(0.1395)\n",
      "val_loss: tensor(0.0089)\n",
      "val_loss: tensor(0.4936)\n",
      "val_loss: tensor(0.4970)\n",
      "val_loss: tensor(0.1114)\n"
     ]
    },
    {
     "data": {
      "text/plain": "Validating: 0it [00:00, ?it/s]",
      "application/vnd.jupyter.widget-view+json": {
       "version_major": 2,
       "version_minor": 0,
       "model_id": "bebe9f2771b44026a19f0b1aaea0289e"
      }
     },
     "metadata": {},
     "output_type": "display_data"
    },
    {
     "name": "stdout",
     "output_type": "stream",
     "text": [
      "val_loss: tensor(0.1962)\n",
      "val_loss: tensor(0.3056)\n",
      "val_loss: tensor(0.1338)\n",
      "val_loss: tensor(0.0082)\n",
      "val_loss: tensor(0.4925)\n",
      "val_loss: tensor(0.4940)\n",
      "val_loss: tensor(0.1006)\n"
     ]
    },
    {
     "data": {
      "text/plain": "Validating: 0it [00:00, ?it/s]",
      "application/vnd.jupyter.widget-view+json": {
       "version_major": 2,
       "version_minor": 0,
       "model_id": "152fa4d6bb784e749085e56c5b314c20"
      }
     },
     "metadata": {},
     "output_type": "display_data"
    },
    {
     "name": "stdout",
     "output_type": "stream",
     "text": [
      "val_loss: tensor(0.1953)\n",
      "val_loss: tensor(0.3040)\n",
      "val_loss: tensor(0.1297)\n",
      "val_loss: tensor(0.0077)\n",
      "val_loss: tensor(0.4929)\n",
      "val_loss: tensor(0.4943)\n",
      "val_loss: tensor(0.0922)\n"
     ]
    },
    {
     "data": {
      "text/plain": "Validating: 0it [00:00, ?it/s]",
      "application/vnd.jupyter.widget-view+json": {
       "version_major": 2,
       "version_minor": 0,
       "model_id": "e70ac163252a45bb83d8d94e8ddea543"
      }
     },
     "metadata": {},
     "output_type": "display_data"
    },
    {
     "name": "stdout",
     "output_type": "stream",
     "text": [
      "val_loss: tensor(0.1920)\n",
      "val_loss: tensor(0.3015)\n",
      "val_loss: tensor(0.1291)\n",
      "val_loss: tensor(0.0071)\n",
      "val_loss: tensor(0.4940)\n",
      "val_loss: tensor(0.5051)\n",
      "val_loss: tensor(0.0877)\n"
     ]
    },
    {
     "data": {
      "text/plain": "Validating: 0it [00:00, ?it/s]",
      "application/vnd.jupyter.widget-view+json": {
       "version_major": 2,
       "version_minor": 0,
       "model_id": "1f7fd00e78fa4f41961405b6cceb86c0"
      }
     },
     "metadata": {},
     "output_type": "display_data"
    },
    {
     "name": "stdout",
     "output_type": "stream",
     "text": [
      "val_loss: tensor(0.1923)\n",
      "val_loss: tensor(0.3005)\n",
      "val_loss: tensor(0.1241)\n",
      "val_loss: tensor(0.0066)\n",
      "val_loss: tensor(0.4981)\n",
      "val_loss: tensor(0.5031)\n",
      "val_loss: tensor(0.0809)\n"
     ]
    },
    {
     "data": {
      "text/plain": "Validating: 0it [00:00, ?it/s]",
      "application/vnd.jupyter.widget-view+json": {
       "version_major": 2,
       "version_minor": 0,
       "model_id": "86347cad118a4f6cb18d091ac9bba6d3"
      }
     },
     "metadata": {},
     "output_type": "display_data"
    },
    {
     "name": "stdout",
     "output_type": "stream",
     "text": [
      "val_loss: tensor(0.1930)\n",
      "val_loss: tensor(0.3017)\n",
      "val_loss: tensor(0.1184)\n",
      "val_loss: tensor(0.0060)\n",
      "val_loss: tensor(0.5012)\n",
      "val_loss: tensor(0.4998)\n",
      "val_loss: tensor(0.0703)\n"
     ]
    },
    {
     "data": {
      "text/plain": "Validating: 0it [00:00, ?it/s]",
      "application/vnd.jupyter.widget-view+json": {
       "version_major": 2,
       "version_minor": 0,
       "model_id": "4dd72dc96d0246a0a3bf9b9f6f55580a"
      }
     },
     "metadata": {},
     "output_type": "display_data"
    },
    {
     "name": "stdout",
     "output_type": "stream",
     "text": [
      "val_loss: tensor(0.1899)\n",
      "val_loss: tensor(0.2978)\n",
      "val_loss: tensor(0.1181)\n",
      "val_loss: tensor(0.0057)\n",
      "val_loss: tensor(0.5000)\n",
      "val_loss: tensor(0.5060)\n",
      "val_loss: tensor(0.0725)\n"
     ]
    }
   ],
   "source": [
    "datamodule = SP500DataModule(batch_size=batch_size, train_val_test_split=train_val_test_split)\n",
    "model = SP500ClassifierModel(learning_rate=learning_rate)\n",
    "\n",
    "trainer = pl.Trainer(gpus=gpus, max_epochs=epochs, progress_bar_refresh_rate=progress_bar_refresh_rate)\n",
    "\n",
    "trainer.fit(model, datamodule)\n"
   ],
   "metadata": {
    "collapsed": false,
    "pycharm": {
     "name": "#%%\n"
    }
   }
  },
  {
   "cell_type": "markdown",
   "source": [
    "### 3.3 Test model"
   ],
   "metadata": {
    "collapsed": false
   }
  },
  {
   "cell_type": "code",
   "execution_count": 6,
   "outputs": [
    {
     "name": "stderr",
     "output_type": "stream",
     "text": [
      "Restoring states from the checkpoint path at D:\\dev\\workspace\\surfmachine\\ai\\src\\04_pytorch_lightning_sp500_classifier\\lightning_logs\\version_2\\checkpoints\\epoch=29-step=1499.ckpt\n",
      "Loaded model weights from checkpoint at D:\\dev\\workspace\\surfmachine\\ai\\src\\04_pytorch_lightning_sp500_classifier\\lightning_logs\\version_2\\checkpoints\\epoch=29-step=1499.ckpt\n"
     ]
    },
    {
     "name": "stdout",
     "output_type": "stream",
     "text": [
      "Setup - define data split:\n",
      "- Train rows : 2392 ( 80%)\n",
      "- Val   rows : 0299 ( 10%)\n",
      "- Test  rows : 0299 ( 10%)\n",
      "- Total rows : 2990 (100%)\n",
      "Setup - split and transform data for stage: test\n",
      "- Test  shape: (299, 490)\n",
      "- Total shape: (2990, 490)\n"
     ]
    },
    {
     "data": {
      "text/plain": "Testing: 0it [00:00, ?it/s]",
      "application/vnd.jupyter.widget-view+json": {
       "version_major": 2,
       "version_minor": 0,
       "model_id": "971b8be33d5541739b52c01bc54863c9"
      }
     },
     "metadata": {},
     "output_type": "display_data"
    },
    {
     "name": "stdout",
     "output_type": "stream",
     "text": [
      "--------------------------------------------------------------------------------\n",
      "DATALOADER:0 TEST RESULTS\n",
      "{'test_accuracy': 0.8528428077697754, 'test_loss': 0.47495007514953613}\n",
      "--------------------------------------------------------------------------------\n"
     ]
    },
    {
     "data": {
      "text/plain": "[{'test_loss': 0.47495007514953613, 'test_accuracy': 0.8528428077697754}]"
     },
     "execution_count": 6,
     "metadata": {},
     "output_type": "execute_result"
    }
   ],
   "source": [
    "trainer.test(datamodule=datamodule)\n"
   ],
   "metadata": {
    "collapsed": false,
    "pycharm": {
     "name": "#%%\n"
    }
   }
  },
  {
   "cell_type": "markdown",
   "source": [
    "## 4. Run learning finder variation 1: auto_lr_find=True"
   ],
   "metadata": {
    "collapsed": false
   }
  },
  {
   "cell_type": "code",
   "execution_count": 7,
   "outputs": [
    {
     "name": "stderr",
     "output_type": "stream",
     "text": [
      "GPU available: False, used: False\n",
      "TPU available: False, using: 0 TPU cores\n",
      "IPU available: False, using: 0 IPUs\n"
     ]
    },
    {
     "name": "stdout",
     "output_type": "stream",
     "text": [
      "Load SP500 from file: data/sp500.csv\n",
      "Setup - define data split:\n",
      "- Train rows : 2392 ( 80%)\n",
      "- Val   rows : 0299 ( 10%)\n",
      "- Test  rows : 0299 ( 10%)\n",
      "- Total rows : 2990 (100%)\n",
      "Setup - split and transform data for stage: fit\n",
      "- Train shape: (2392, 490)\n",
      "- Val   shape: (299, 490)\n",
      "- Total shape: (2990, 490)\n",
      "val_loss: tensor(0.7052)\n",
      "val_loss: tensor(0.7053)\n"
     ]
    },
    {
     "data": {
      "text/plain": "Finding best initial lr:   0%|          | 0/100 [00:00<?, ?it/s]",
      "application/vnd.jupyter.widget-view+json": {
       "version_major": 2,
       "version_minor": 0,
       "model_id": "4d7f5d7987a9475faeb24f2846aed071"
      }
     },
     "metadata": {},
     "output_type": "display_data"
    },
    {
     "name": "stdout",
     "output_type": "stream",
     "text": [
      "val_loss: tensor(0.7041)\n",
      "val_loss: tensor(0.7045)\n",
      "val_loss: tensor(0.7166)\n",
      "val_loss: tensor(0.6903)\n",
      "val_loss: tensor(0.7094)\n",
      "val_loss: tensor(0.7254)\n",
      "val_loss: tensor(0.7013)\n"
     ]
    },
    {
     "name": "stderr",
     "output_type": "stream",
     "text": [
      "Restoring states from the checkpoint path at D:\\dev\\workspace\\surfmachine\\ai\\src\\04_pytorch_lightning_sp500_classifier\\lr_find_temp_model_d5ef2a7c-9982-429d-a25f-9a5483a53bf2.ckpt\n",
      "Learning rate set to 0.01445439770745928\n"
     ]
    },
    {
     "name": "stdout",
     "output_type": "stream",
     "text": [
      "val_loss: tensor(224.0790)\n",
      "val_loss: tensor(118.3708)\n",
      "val_loss: tensor(124.5415)\n",
      "val_loss: tensor(302.0559)\n",
      "val_loss: tensor(94.2377)\n",
      "val_loss: tensor(92.2275)\n",
      "val_loss: tensor(243.7720)\n"
     ]
    },
    {
     "data": {
      "text/plain": "{'lr_find': <pytorch_lightning.tuner.lr_finder._LRFinder at 0x2188e1fe8e0>}"
     },
     "execution_count": 7,
     "metadata": {},
     "output_type": "execute_result"
    }
   ],
   "source": [
    "datamodule = SP500DataModule(batch_size=batch_size, train_val_test_split=train_val_test_split)\n",
    "model = SP500ClassifierModel(learning_rate=learning_rate)\n",
    "\n",
    "trainer = pl.Trainer(gpus=gpus, max_epochs=epochs, progress_bar_refresh_rate=progress_bar_refresh_rate, auto_lr_find=True)\n",
    "\n",
    "trainer.tune(model, datamodule)\n"
   ],
   "metadata": {
    "collapsed": false,
    "pycharm": {
     "name": "#%%\n"
    }
   }
  },
  {
   "cell_type": "markdown",
   "source": [
    "## 5. Run learning finder variation 2: trainer.tuner.lr_find"
   ],
   "metadata": {
    "collapsed": false
   }
  },
  {
   "cell_type": "code",
   "execution_count": 8,
   "outputs": [
    {
     "name": "stderr",
     "output_type": "stream",
     "text": [
      "GPU available: False, used: False\n",
      "TPU available: False, using: 0 TPU cores\n",
      "IPU available: False, using: 0 IPUs\n"
     ]
    },
    {
     "name": "stdout",
     "output_type": "stream",
     "text": [
      "Load SP500 from file: data/sp500.csv\n",
      "Setup - define data split:\n",
      "- Train rows : 2392 ( 80%)\n",
      "- Val   rows : 0299 ( 10%)\n",
      "- Test  rows : 0299 ( 10%)\n",
      "- Total rows : 2990 (100%)\n",
      "Setup - split and transform data for stage: fit\n",
      "- Train shape: (2392, 490)\n",
      "- Val   shape: (299, 490)\n",
      "- Total shape: (2990, 490)\n",
      "val_loss: tensor(0.7045)\n",
      "val_loss: tensor(0.7044)\n"
     ]
    },
    {
     "data": {
      "text/plain": "Finding best initial lr:   0%|          | 0/100 [00:00<?, ?it/s]",
      "application/vnd.jupyter.widget-view+json": {
       "version_major": 2,
       "version_minor": 0,
       "model_id": "272868e66b054a728bd83d2d7703e2d2"
      }
     },
     "metadata": {},
     "output_type": "display_data"
    },
    {
     "name": "stdout",
     "output_type": "stream",
     "text": [
      "val_loss: tensor(0.7038)\n",
      "val_loss: tensor(0.7040)\n",
      "val_loss: tensor(0.7155)\n",
      "val_loss: tensor(0.6914)\n",
      "val_loss: tensor(0.7091)\n",
      "val_loss: tensor(0.7241)\n",
      "val_loss: tensor(0.7013)\n"
     ]
    },
    {
     "name": "stderr",
     "output_type": "stream",
     "text": [
      "Restoring states from the checkpoint path at D:\\dev\\workspace\\surfmachine\\ai\\src\\04_pytorch_lightning_sp500_classifier\\lr_find_temp_model_c4a88dbd-2f74-4a65-89cf-dd11218c78c8.ckpt\n"
     ]
    },
    {
     "name": "stdout",
     "output_type": "stream",
     "text": [
      "val_loss: tensor(0.6866)\n",
      "val_loss: tensor(0.6866)\n",
      "val_loss: tensor(0.6740)\n",
      "val_loss: tensor(0.6991)\n",
      "val_loss: tensor(0.6803)\n",
      "val_loss: tensor(0.6646)\n",
      "val_loss: tensor(0.6891)\n",
      "{'lr': [1e-08, 1.4454397707459274e-08, 1.7378008287493753e-08, 2.0892961308540398e-08, 2.51188643150958e-08, 3.019951720402016e-08, 3.630780547701014e-08, 4.36515832240166e-08, 5.248074602497726e-08, 6.309573444801934e-08, 7.585775750291837e-08, 9.120108393559096e-08, 1.0964781961431852e-07, 1.3182567385564074e-07, 1.5848931924611133e-07, 1.9054607179632475e-07, 2.2908676527677735e-07, 2.7542287033381663e-07, 3.311311214825911e-07, 3.9810717055349735e-07, 4.786300923226383e-07, 5.75439937337157e-07, 6.918309709189366e-07, 8.317637711026709e-07, 1e-06, 1.2022644346174132e-06, 1.445439770745928e-06, 1.7378008287493761e-06, 2.089296130854039e-06, 2.5118864315095797e-06, 3.0199517204020163e-06, 3.630780547701014e-06, 4.365158322401661e-06, 5.248074602497728e-06, 6.3095734448019305e-06, 7.585775750291836e-06, 9.120108393559096e-06, 1.0964781961431852e-05, 1.3182567385564076e-05, 1.584893192461114e-05, 1.9054607179632464e-05, 2.2908676527677725e-05, 2.7542287033381663e-05, 3.311311214825911e-05, 3.9810717055349735e-05, 4.786300923226385e-05, 5.7543993733715664e-05, 6.918309709189363e-05, 8.317637711026709e-05, 0.0001, 0.00012022644346174131, 0.0001445439770745928, 0.00017378008287493763, 0.0002089296130854041, 0.0002511886431509582, 0.0003019951720402019, 0.000363078054770101, 0.0004365158322401656, 0.0005248074602497723, 0.000630957344480193, 0.0007585775750291836, 0.0009120108393559097, 0.0010964781961431851, 0.0013182567385564075, 0.001584893192461114, 0.0019054607179632484, 0.0022908676527677745, 0.002754228703338169, 0.003311311214825908, 0.003981071705534969, 0.00478630092322638, 0.005754399373371567, 0.006918309709189364, 0.008317637711026709, 0.01, 0.012022644346174132, 0.01445439770745928, 0.017378008287493765, 0.02089296130854041, 0.025118864315095822, 0.030199517204020192, 0.036307805477010104, 0.04365158322401657, 0.05248074602497723, 0.0630957344480193, 0.07585775750291836, 0.09120108393559097, 0.10964781961431852, 0.13182567385564073, 0.15848931924611143, 0.19054607179632482, 0.2290867652767775, 0.2754228703338169, 0.3311311214825908, 0.3981071705534969, 0.47863009232263803, 0.5754399373371567, 0.6918309709189363, 0.8317637711026709, 1.0], 'loss': [0.7257024645805359, 0.7146638047815566, 0.7087417533082742, 0.7036256341667191, 0.7076423772479206, 0.7098278288623718, 0.7084116863118755, 0.7067712802400887, 0.7051613961858655, 0.7040990724388915, 0.7048322248664987, 0.7045697199037271, 0.7039319070779685, 0.7043443976274798, 0.7036806477188121, 0.7038257123069556, 0.7042580516033197, 0.7044903139638077, 0.7046352078373249, 0.7048422005707771, 0.7044077961861315, 0.7046015394849479, 0.705267874215541, 0.705860661981586, 0.7053807593762466, 0.7053847202479475, 0.7053242786194851, 0.7047480831202374, 0.7042872689024277, 0.7036395385622284, 0.703149845283505, 0.7027105596226196, 0.7030104166350567, 0.7026326211822705, 0.7027096994414583, 0.70245505055171, 0.702538015434048, 0.702587565585546, 0.7022492790405044, 0.7022935049227655, 0.7031760200589131, 0.7033732226664332, 0.7034050431036455, 0.7032707320921577, 0.7032725488558588, 0.7032509922505942, 0.7025988373781732, 0.7030142772662957, 0.7031556416184696, 0.7032244657058239, 0.7037886063880894, 0.7037140387038652, 0.7035174653124291, 0.703007515146555, 0.70349256287788, 0.7039770641218324, 0.7039058018339188, 0.7035540079970749, 0.7032274584426038, 0.7028496764682481, 0.7030123800617588, 0.7028217106972638, 0.702383598792761, 0.7023347263569555, 0.7020907841338105, 0.7018779118733386, 0.7016290507929605, 0.700905701809172, 0.6999713920280852, 0.69831291242861, 0.6962064291692173, 0.6909698872326282, 0.6836731591976197, 0.674133746810143, 0.6612548381711721, 0.6532900609874854, 0.639999205877104, 0.6308578899874543, 0.6196795223855514, 0.6147544754972716, 0.6288811352341825, 0.6289633135390578, 0.6709394562720994, 0.6806461642069427, 0.6711513998294536, 0.6837996245943045, 0.680527931551902, 0.6754707589885534, 0.6714692826768676, 0.672181285485419, 0.6681150960889217, 0.7045470924446701, 0.7137525122536857, 0.7545474112491553, 0.8059120052665157, 0.8877227153826242, 1.0790249205242686, 1.2535598245079929, 1.2793103922424705, 1.2644942238965815]}\n",
      "0.01445439770745928\n"
     ]
    },
    {
     "data": {
      "text/plain": "<Figure size 432x288 with 1 Axes>",
      "image/png": "[encoded data removed]"
     },
     "metadata": {
      "needs_background": "light"
     },
     "output_type": "display_data"
    }
   ],
   "source": [
    "datamodule = SP500DataModule(batch_size=batch_size, train_val_test_split=train_val_test_split)\n",
    "model = SP500ClassifierModel(learning_rate=learning_rate)\n",
    "\n",
    "trainer = pl.Trainer(min_epochs=5)\n",
    "lr_finder = trainer.tuner.lr_find(model, datamodule)\n",
    "\n",
    "# Results can be found in\n",
    "print(lr_finder.results)\n",
    "\n",
    "# Plot with\n",
    "fig = lr_finder.plot(suggest=True)\n",
    "fig.show()\n",
    "\n",
    "# Pick point based on plot, or get suggestion\n",
    "new_lr = lr_finder.suggestion()\n",
    "print(new_lr)\n",
    "\n",
    "# update hparams of the model\n",
    "model.hparams.lr = new_lr\n"
   ],
   "metadata": {
    "collapsed": false,
    "pycharm": {
     "name": "#%%\n"
    }
   }
  },
  {
   "cell_type": "markdown",
   "source": [
    "## 6. Train with early stop and test"
   ],
   "metadata": {
    "collapsed": false
   }
  },
  {
   "cell_type": "code",
   "execution_count": 9,
   "outputs": [
    {
     "name": "stderr",
     "output_type": "stream",
     "text": [
      "GPU available: False, used: False\n",
      "TPU available: False, using: 0 TPU cores\n",
      "IPU available: False, using: 0 IPUs\n",
      "\n",
      "  | Name              | Type       | Params\n",
      "-------------------------------------------------\n",
      "0 | metric            | Accuracy   | 0     \n",
      "1 | linear_relu_stack | Sequential | 285 K \n",
      "-------------------------------------------------\n",
      "285 K     Trainable params\n",
      "0         Non-trainable params\n",
      "285 K     Total params\n",
      "1.143     Total estimated model params size (MB)\n"
     ]
    },
    {
     "data": {
      "text/plain": "Validation sanity check: 0it [00:00, ?it/s]",
      "application/vnd.jupyter.widget-view+json": {
       "version_major": 2,
       "version_minor": 0,
       "model_id": "172ea1b1c65544728007c86cff791972"
      }
     },
     "metadata": {},
     "output_type": "display_data"
    },
    {
     "name": "stdout",
     "output_type": "stream",
     "text": [
      "val_loss: tensor(0.7045)\n",
      "val_loss: tensor(0.7044)\n"
     ]
    },
    {
     "data": {
      "text/plain": "Training: 0it [00:00, ?it/s]",
      "application/vnd.jupyter.widget-view+json": {
       "version_major": 2,
       "version_minor": 0,
       "model_id": "7a25b999a3aa408ab4746907e9d9e9a1"
      }
     },
     "metadata": {},
     "output_type": "display_data"
    },
    {
     "data": {
      "text/plain": "Validating: 0it [00:00, ?it/s]",
      "application/vnd.jupyter.widget-view+json": {
       "version_major": 2,
       "version_minor": 0,
       "model_id": "2f8952c9ee35453aa02fed4532aa49a8"
      }
     },
     "metadata": {},
     "output_type": "display_data"
    },
    {
     "name": "stdout",
     "output_type": "stream",
     "text": [
      "val_loss: tensor(0.6983)\n",
      "val_loss: tensor(0.7000)\n",
      "val_loss: tensor(0.7104)\n",
      "val_loss: tensor(0.6777)\n",
      "val_loss: tensor(0.6991)\n",
      "val_loss: tensor(0.7169)\n",
      "val_loss: tensor(0.6945)\n"
     ]
    },
    {
     "data": {
      "text/plain": "Validating: 0it [00:00, ?it/s]",
      "application/vnd.jupyter.widget-view+json": {
       "version_major": 2,
       "version_minor": 0,
       "model_id": "3ad24cbce849416c975e345287694f41"
      }
     },
     "metadata": {},
     "output_type": "display_data"
    },
    {
     "name": "stdout",
     "output_type": "stream",
     "text": [
      "val_loss: tensor(0.6814)\n",
      "val_loss: tensor(0.6888)\n",
      "val_loss: tensor(0.6974)\n",
      "val_loss: tensor(0.6352)\n",
      "val_loss: tensor(0.6713)\n",
      "val_loss: tensor(0.7002)\n",
      "val_loss: tensor(0.6733)\n"
     ]
    },
    {
     "data": {
      "text/plain": "Validating: 0it [00:00, ?it/s]",
      "application/vnd.jupyter.widget-view+json": {
       "version_major": 2,
       "version_minor": 0,
       "model_id": "bc2a0af8f3834d39a3ec42db0cc53471"
      }
     },
     "metadata": {},
     "output_type": "display_data"
    },
    {
     "name": "stdout",
     "output_type": "stream",
     "text": [
      "val_loss: tensor(0.6325)\n",
      "val_loss: tensor(0.6556)\n",
      "val_loss: tensor(0.6605)\n",
      "val_loss: tensor(0.5072)\n",
      "val_loss: tensor(0.5869)\n",
      "val_loss: tensor(0.6551)\n",
      "val_loss: tensor(0.6131)\n"
     ]
    },
    {
     "data": {
      "text/plain": "Validating: 0it [00:00, ?it/s]",
      "application/vnd.jupyter.widget-view+json": {
       "version_major": 2,
       "version_minor": 0,
       "model_id": "7dbeb1dad2384140baba821e01b3ea85"
      }
     },
     "metadata": {},
     "output_type": "display_data"
    },
    {
     "name": "stdout",
     "output_type": "stream",
     "text": [
      "val_loss: tensor(0.5085)\n",
      "val_loss: tensor(0.5686)\n",
      "val_loss: tensor(0.5635)\n",
      "val_loss: tensor(0.2895)\n",
      "val_loss: tensor(0.4026)\n",
      "val_loss: tensor(0.5413)\n",
      "val_loss: tensor(0.4606)\n"
     ]
    },
    {
     "data": {
      "text/plain": "Validating: 0it [00:00, ?it/s]",
      "application/vnd.jupyter.widget-view+json": {
       "version_major": 2,
       "version_minor": 0,
       "model_id": "7d1e66a3af3845d2abcb6411ac5b7edd"
      }
     },
     "metadata": {},
     "output_type": "display_data"
    },
    {
     "name": "stdout",
     "output_type": "stream",
     "text": [
      "val_loss: tensor(0.3539)\n",
      "val_loss: tensor(0.4477)\n",
      "val_loss: tensor(0.4224)\n",
      "val_loss: tensor(0.1432)\n",
      "val_loss: tensor(0.2734)\n",
      "val_loss: tensor(0.4137)\n",
      "val_loss: tensor(0.2870)\n"
     ]
    },
    {
     "data": {
      "text/plain": "Validating: 0it [00:00, ?it/s]",
      "application/vnd.jupyter.widget-view+json": {
       "version_major": 2,
       "version_minor": 0,
       "model_id": "62aaeb7a524f433981e863ed898c0be2"
      }
     },
     "metadata": {},
     "output_type": "display_data"
    },
    {
     "name": "stdout",
     "output_type": "stream",
     "text": [
      "val_loss: tensor(0.2582)\n",
      "val_loss: tensor(0.3631)\n",
      "val_loss: tensor(0.3072)\n",
      "val_loss: tensor(0.0801)\n",
      "val_loss: tensor(0.2741)\n",
      "val_loss: tensor(0.3549)\n",
      "val_loss: tensor(0.1966)\n"
     ]
    },
    {
     "data": {
      "text/plain": "Validating: 0it [00:00, ?it/s]",
      "application/vnd.jupyter.widget-view+json": {
       "version_major": 2,
       "version_minor": 0,
       "model_id": "ce6f75fe178144898e01f9fe3d67c705"
      }
     },
     "metadata": {},
     "output_type": "display_data"
    },
    {
     "name": "stdout",
     "output_type": "stream",
     "text": [
      "val_loss: tensor(0.2215)\n",
      "val_loss: tensor(0.3285)\n",
      "val_loss: tensor(0.2475)\n",
      "val_loss: tensor(0.0546)\n",
      "val_loss: tensor(0.3218)\n",
      "val_loss: tensor(0.3597)\n",
      "val_loss: tensor(0.1736)\n"
     ]
    },
    {
     "data": {
      "text/plain": "Validating: 0it [00:00, ?it/s]",
      "application/vnd.jupyter.widget-view+json": {
       "version_major": 2,
       "version_minor": 0,
       "model_id": "3d3974065ea74865b46f324794d3fe79"
      }
     },
     "metadata": {},
     "output_type": "display_data"
    },
    {
     "name": "stdout",
     "output_type": "stream",
     "text": [
      "val_loss: tensor(0.2096)\n",
      "val_loss: tensor(0.3181)\n",
      "val_loss: tensor(0.2194)\n",
      "val_loss: tensor(0.0426)\n",
      "val_loss: tensor(0.3686)\n",
      "val_loss: tensor(0.3860)\n",
      "val_loss: tensor(0.1745)\n"
     ]
    },
    {
     "data": {
      "text/plain": "Validating: 0it [00:00, ?it/s]",
      "application/vnd.jupyter.widget-view+json": {
       "version_major": 2,
       "version_minor": 0,
       "model_id": "62153f18df274833a4ee059c23114daf"
      }
     },
     "metadata": {},
     "output_type": "display_data"
    },
    {
     "name": "stderr",
     "output_type": "stream",
     "text": [
      "Restoring states from the checkpoint path at D:\\dev\\workspace\\surfmachine\\ai\\src\\04_pytorch_lightning_sp500_classifier\\models\\sp500-epoch=05-val_accuracy=0.88.ckpt\n",
      "Loaded model weights from checkpoint at D:\\dev\\workspace\\surfmachine\\ai\\src\\04_pytorch_lightning_sp500_classifier\\models\\sp500-epoch=05-val_accuracy=0.88.ckpt\n"
     ]
    },
    {
     "name": "stdout",
     "output_type": "stream",
     "text": [
      "val_loss: tensor(0.2062)\n",
      "val_loss: tensor(0.3164)\n",
      "val_loss: tensor(0.2075)\n",
      "val_loss: tensor(0.0361)\n",
      "val_loss: tensor(0.4064)\n",
      "val_loss: tensor(0.4196)\n",
      "val_loss: tensor(0.1829)\n",
      "Setup - define data split:\n",
      "- Train rows : 2392 ( 80%)\n",
      "- Val   rows : 0299 ( 10%)\n",
      "- Test  rows : 0299 ( 10%)\n",
      "- Total rows : 2990 (100%)\n",
      "Setup - split and transform data for stage: test\n",
      "- Test  shape: (299, 490)\n",
      "- Total shape: (2990, 490)\n"
     ]
    },
    {
     "data": {
      "text/plain": "Testing: 0it [00:00, ?it/s]",
      "application/vnd.jupyter.widget-view+json": {
       "version_major": 2,
       "version_minor": 0,
       "model_id": "4a4388cd31b844a1bfcd43e788069e43"
      }
     },
     "metadata": {},
     "output_type": "display_data"
    },
    {
     "name": "stdout",
     "output_type": "stream",
     "text": [
      "--------------------------------------------------------------------------------\n",
      "DATALOADER:0 TEST RESULTS\n",
      "{'test_accuracy': 0.8561872839927673, 'test_loss': 0.34729865193367004}\n",
      "--------------------------------------------------------------------------------\n"
     ]
    },
    {
     "data": {
      "text/plain": "[{'test_loss': 0.34729865193367004, 'test_accuracy': 0.8561872839927673}]"
     },
     "execution_count": 9,
     "metadata": {},
     "output_type": "execute_result"
    }
   ],
   "source": [
    "early_stop_callback = EarlyStopping(monitor=\"val_accuracy\", min_delta=0.00, patience=3, verbose=False, mode=\"max\")\n",
    "\n",
    "# saves a file like: my/path/sample-mnist-epoch=02-val_loss=0.32.ckpt\n",
    "if not os.path.exists('models'):\n",
    "    os.makedirs('models')\n",
    "\n",
    "checkpoint_callback = ModelCheckpoint(\n",
    "    monitor=\"val_accuracy\",\n",
    "    dirpath=\"models\",\n",
    "    filename=\"sp500-{epoch:02d}-{val_accuracy:.2f}\",\n",
    "    save_top_k = 5,\n",
    "    mode=\"max\"\n",
    ")\n",
    "\n",
    "trainer = pl.Trainer(callbacks=[early_stop_callback, checkpoint_callback], progress_bar_refresh_rate=progress_bar_refresh_rate, max_epochs=epochs)\n",
    "\n",
    "trainer.fit(model, datamodule)\n",
    "trainer.test(datamodule=datamodule)\n"
   ],
   "metadata": {
    "collapsed": false,
    "pycharm": {
     "name": "#%%\n"
    }
   }
  },
  {
   "cell_type": "markdown",
   "source": [
    "---\n",
    "The end."
   ],
   "metadata": {
    "collapsed": false
   }
  }
 ],
 "metadata": {
  "kernelspec": {
   "name": "pycharm-ec18b53a",
   "language": "python",
   "display_name": "PyCharm (python-work)"
  },
  "language_info": {
   "codemirror_mode": {
    "name": "ipython",
    "version": 2
   },
   "file_extension": ".py",
   "mimetype": "text/x-python",
   "name": "python",
   "nbconvert_exporter": "python",
   "pygments_lexer": "ipython2",
   "version": "2.7.6"
  }
 },
 "nbformat": 4,
 "nbformat_minor": 0
}