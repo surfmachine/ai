{
 "cells": [
  {
   "cell_type": "markdown",
   "source": [
    "# Branching DQN with Pendulum Continous - Solution\n",
    "22.03.2022, Gruppe B\n",
    "\n",
    "Reference:\n",
    "https://github.com/openai/gym/blob/master/gym/envs/classic_control/pendulum.py \n",
    "\n",
    "\n",
    "## Aufgaben\n",
    "\n",
    "1. Bei der Diskretisierung des Action Space ist Min und Max fix codiert. Bitte die Werte aus dem Environment nehmem.\n",
    "2. Deklariere LR und Gamma im Code\n",
    "3. Definiere Aktivierungsfunktion (2x)\n",
    "4. Definiere den Linear Input korrekt (2x)\n",
    "5. Ergänze den zweiten Parameter für die Multiplikation mit dem state_dict\n",
    "6. Welche Parameter müssen geändert werden, wenn die Gewichte vom Target Modell häufiger und stärker aktualisiert werden sollen\n",
    "\n",
    "> Lösungen siehe mit TODO markierte Stellen\n"
   ],
   "metadata": {
    "collapsed": false,
    "id": "yqCQklQYDEj6"
   }
  },
  {
   "cell_type": "code",
   "execution_count": 13,
   "outputs": [],
   "source": [
    "import collections\n",
    "import os\n",
    "import random\n",
    "import numpy as np\n",
    "import pandas as pd\n",
    "from argparse import ArgumentParser\n",
    "\n",
    "import gym\n",
    "\n",
    "import torch\n",
    "import torch.nn as nn\n",
    "import torch.nn.functional as F\n",
    "import torch.optim as optim\n",
    "\n",
    "from tqdm import tqdm\n",
    "import matplotlib.pyplot as plt\n",
    "plt.style.use('ggplot')\n",
    "from scipy.ndimage.filters import gaussian_filter1d\n"
   ],
   "metadata": {
    "pycharm": {
     "name": "#%%\n"
    },
    "id": "Ywgy42RxDEj_"
   }
  },
  {
   "cell_type": "markdown",
   "source": [
    "## Save plot and csv"
   ],
   "metadata": {
    "collapsed": false,
    "id": "6M2q4QcHDEkD"
   }
  },
  {
   "cell_type": "code",
   "execution_count": 15,
   "outputs": [],
   "source": [
    "def save(agent, rewards, envname):\n",
    "    path = './runs/{}/'.format(envname)\n",
    "    try:\n",
    "        os.makedirs(path)\n",
    "    except:\n",
    "        pass\n",
    "    torch.save(agent.q.state_dict(), os.path.join(path, 'model_state_dict'))\n",
    "    # plot\n",
    "    plt.cla()\n",
    "    plt.plot(rewards, c = 'r', alpha = 0.3)\n",
    "    plt.plot(gaussian_filter1d(rewards, sigma = 5), c = 'r', label = 'Rewards')\n",
    "    plt.xlabel('Episodes')\n",
    "    plt.ylabel('Cumulative reward')\n",
    "    plt.title('Branching DDQN: {}'.format(envname))\n",
    "    plt.savefig(os.path.join(path, 'reward.png'))\n",
    "    # save csv\n",
    "    pd.DataFrame(rewards, columns = ['Reward']).to_csv(os.path.join(path, 'rewards.csv'), index = False)"
   ],
   "metadata": {
    "pycharm": {
     "name": "#%%\n"
    },
    "id": "VwqtVW3NDEkE"
   }
  },
  {
   "cell_type": "markdown",
   "source": [
    "## ExperienceReplayMemory"
   ],
   "metadata": {
    "collapsed": false,
    "id": "1WNlR1s2DEkF"
   }
  },
  {
   "cell_type": "code",
   "execution_count": 3,
   "outputs": [],
   "source": [
    "class ExperienceReplayMemory:\n",
    "    def __init__(self, capacity):\n",
    "        self.capacity = capacity\n",
    "        self.memory = []\n",
    "\n",
    "    def push(self, transition):\n",
    "        self.memory.append(transition)\n",
    "        if len(self.memory) > self.capacity:\n",
    "            del self.memory[0]\n",
    "\n",
    "    def sample(self, batch_size):\n",
    "        batch = random.sample(self.memory, batch_size)\n",
    "        states = []\n",
    "        actions = []\n",
    "        rewards = []\n",
    "        next_states = []\n",
    "        dones = []\n",
    "        for b in batch:\n",
    "            states.append(b[0])\n",
    "            actions.append(b[1])\n",
    "            rewards.append(b[2])\n",
    "            next_states.append(b[3])\n",
    "            dones.append(b[4])\n",
    "        return states, actions, rewards, next_states, dones\n",
    "\n",
    "    def __len__(self):\n",
    "        return len(self.memory)"
   ],
   "metadata": {
    "pycharm": {
     "name": "#%%\n"
    },
    "id": "O4QpoXtkDEkF"
   }
  },
  {
   "cell_type": "markdown",
   "source": [
    "## StateDictHelper"
   ],
   "metadata": {
    "collapsed": false,
    "id": "60rUKZrXDEkG"
   }
  },
  {
   "cell_type": "code",
   "execution_count": 4,
   "outputs": [],
   "source": [
    "class StateDictHelper():\n",
    "    \"\"\"Modify an existing state_dict by applying an arbitrary lambda expression or one of the given convince methods\"\"\"\n",
    "\n",
    "    @staticmethod\n",
    "    def apply(state_dict, func=lambda x: x):\n",
    "        state_dict_new = collections.OrderedDict()\n",
    "        for k in state_dict.keys():\n",
    "            state_dict_new[k] = func(state_dict[k])\n",
    "        return state_dict_new\n",
    "\n",
    "    @staticmethod\n",
    "    def mul(state_dict, value):\n",
    "        return StateDictHelper.apply(state_dict, lambda x: x * value)\n",
    "\n",
    "    @staticmethod\n",
    "    def add(state_dict, value):\n",
    "        return StateDictHelper.apply(state_dict, lambda x: x+value)\n",
    "\n",
    "    @staticmethod\n",
    "    def add_sd(state_dict, other_state_dict):\n",
    "        state_dict_new = collections.OrderedDict()\n",
    "        for k in state_dict.keys():\n",
    "            state_dict_new[k] = state_dict[k] + other_state_dict[k]\n",
    "        return state_dict_new\n",
    "\n",
    "    @staticmethod\n",
    "    def print(state_dict, title, break_after=2):\n",
    "        count = 0\n",
    "        print(\"# ----------------------------------------------------------------------------------\")\n",
    "        print(\"#\", title)\n",
    "        print(\"# ----------------------------------------------------------------------------------\")\n",
    "        for k in state_dict.keys():\n",
    "            count = count + 1\n",
    "            print(k, \":\")\n",
    "            for l in state_dict[k]:\n",
    "                print(\"list shape =\", l.shape, \", content = \", end=\"\")\n",
    "                if len(l.shape) == 0:\n",
    "                    print(l, end=\"\")\n",
    "                else:\n",
    "                    for e in l:\n",
    "                        print(e, \" : \", end=\"\")\n",
    "                print()\n",
    "            if count >= break_after:\n",
    "                break\n",
    "        print()"
   ],
   "metadata": {
    "pycharm": {
     "name": "#%%\n"
    },
    "id": "DxzylR01DEkH"
   }
  },
  {
   "cell_type": "markdown",
   "source": [
    "## BranchingQNetwork"
   ],
   "metadata": {
    "collapsed": false,
    "id": "o9VWHXfWDEkI"
   }
  },
  {
   "cell_type": "code",
   "execution_count": 5,
   "outputs": [],
   "source": [
    "class BranchingQNetwork(nn.Module):                 # Agent\n",
    "    def __init__(self,\n",
    "                 obs,                               # observations\n",
    "                 ac_dim, n):                        # continous actions auf n sections discretisiert\n",
    "        super().__init__()\n",
    "        self.ac_dim = ac_dim\n",
    "        self.n = n\n",
    "        self.model = nn.Sequential(\n",
    "            nn.Linear(obs, 128),                    # Input = Observations\n",
    "            # TODO:Aufgabe 3: Definiere Aktivierungsfunktion\n",
    "            nn.ReLU(),\n",
    "            nn.Linear(128,128),\n",
    "            # TODO:Aufgabe 3: Definiere Aktivierungsfunktion\n",
    "            nn.ReLU() )\n",
    "        # TODO: Aufgabe 4: Definiere den Linear Input korrekt\n",
    "        self.value_head = nn.Linear(128, 1)         # Value State\n",
    "        # Advantage pro Action\n",
    "        # TODO: Aufgabe 4: Definiere den Linear Input korrekt\n",
    "        self.adv_heads = nn.ModuleList([nn.Linear(128, n) for i in range(ac_dim)])\n",
    "\n",
    "    def forward(self, x):\n",
    "        out = self.model(x)\n",
    "\n",
    "        value = self.value_head(out)\n",
    "        advs = torch.stack([l(out) for l in self.adv_heads], dim = 1)\n",
    "\n",
    "        q_val = value.unsqueeze(2) + advs - advs.mean(2, keepdim = True )\n",
    "        return q_val\n",
    "\n",
    "\n",
    "    def update_model(self, other_model, tau=None):\n",
    "        \"\"\"Updates the model weigths, either 1:1 if tau is None or weighted with tau [0.0 - 1.0).\n",
    "\n",
    "        The weighted update follows the following logic for model weights\n",
    "        but is adapted for the model.state_dict parameters:\n",
    "            new_target_weights = []\n",
    "            for target, online in zip(self.model.get_weights(), other_model.model.get_weights()):\n",
    "                target_ratio = (1.0 - self.tau) * target            # target_model (self)\n",
    "                online_ratio = self.tau * online                    # online_model (other_model)\n",
    "                mixed_weights = target_ratio + online_ratio\n",
    "                new_target_weights.append(mixed_weights)\n",
    "            self.model.set_weights(new_target_weights)\n",
    "        \"\"\"\n",
    "\n",
    "        # standard update without weights\n",
    "        if tau is None:\n",
    "            self.load_state_dict( other_model.state_dict() )\n",
    "            return\n",
    "\n",
    "        # weighted update\n",
    "        # TODO: Aufgabe 5: Ergänze den zweiten Parameter für die Multiplikation mit dem state_dict\n",
    "        target_ratio = StateDictHelper.mul(self.state_dict(), 1-tau)\n",
    "        online_ratio = StateDictHelper.mul(other_model.state_dict(), tau)\n",
    "        new_target_sd = StateDictHelper.add_sd(target_ratio, online_ratio)\n",
    "        self.load_state_dict( new_target_sd )"
   ],
   "metadata": {
    "pycharm": {
     "name": "#%%\n"
    },
    "id": "WDsTGvCDDEkJ"
   }
  },
  {
   "cell_type": "markdown",
   "source": [
    "## AgentConfig and BranchingDQNAgent"
   ],
   "metadata": {
    "collapsed": false,
    "id": "XvJhg5CkDEkJ"
   }
  },
  {
   "cell_type": "code",
   "execution_count": 20,
   "outputs": [],
   "source": [
    "class AgentConfig:\n",
    "    def __init__(self,\n",
    "                 \n",
    "                 epsilon_start = 1.,\n",
    "                 epsilon_final = 0.01,\n",
    "                 epsilon_decay = 800,               # Orig=8000\n",
    "                 gamma = 0.99,\n",
    "                 lr = 1e-4,\n",
    "                                                    # TODO: Aufgabe 6, Anpassung tau und freq\n",
    "                 target_net_update_tau = 0.3,       # Orig=None, changed for weighted update to 0.1 [0.0. ... 1.0]\n",
    "                 target_net_update_freq = 300,      # Orig=1000, changed for weighted update to 100\n",
    "                 memory_size = 100000,\n",
    "                 batch_size = 128,\n",
    "                 learning_starts = 5000,\n",
    "                 max_frames = 50000):            # 10000000\n",
    "        self.epsilon_start = epsilon_start\n",
    "        self.epsilon_final = epsilon_final\n",
    "        self.epsilon_decay = epsilon_decay\n",
    "        self.epsilon_by_frame = lambda i: self.epsilon_final + (self.epsilon_start - self.epsilon_final) * np.exp(-1. * i / self.epsilon_decay)\n",
    "        \n",
    "        # gamma and learining rate\n",
    "        # TODO: Aufgabe 2: Deklariere Gamma und LR\n",
    "        self.gamma = gamma\n",
    "        self.lr = lr\n",
    "        # update frequency, memory and batch size\n",
    "        self.target_net_update_tau = target_net_update_tau\n",
    "        self.target_net_update_freq = target_net_update_freq\n",
    "        self.memory_size =memory_size\n",
    "        self.batch_size =batch_size\n",
    "        # initialize lr and frames\n",
    "        self.learning_starts = learning_starts\n",
    "        self.max_frames = max_frames\n",
    "\n",
    "\n",
    "class BranchingDQNAgent(nn.Module):\n",
    "    def __init__(self, obs, ac, n, config):\n",
    "        super().__init__()\n",
    "        # Model\n",
    "        self.q = BranchingQNetwork(obs, ac,n )\n",
    "        self.target = BranchingQNetwork(obs, ac,n )\n",
    "        # self.target.load_state_dict(self.q.state_dict())\n",
    "        self.target.update_model(self.q, tau=None)\n",
    "        # Model update parameters\n",
    "        self.target_net_update_tau = config.target_net_update_tau\n",
    "        self.target_net_update_freq = config.target_net_update_freq\n",
    "        self.update_counter = 0\n",
    "\n",
    "    def get_action(self, x):\n",
    "        with torch.no_grad():\n",
    "            # a = self.q(x).max(1)[1]\n",
    "            out = self.q(x).squeeze(0)                  # Beispiel\n",
    "            action = torch.argmax(out, dim = 1)         # Tensor(4) [1,0,3,3] = 4 Aktionen, A1=Bin 1, A2=Bin 0, A3=Bin 3, A4=Bin 3\n",
    "        return action.numpy()\n",
    "\n",
    "    def update_policy(self, adam, memory, params):\n",
    "        b_states, b_actions, b_rewards, b_next_states, b_masks = memory.sample(params.batch_size)\n",
    "        states = torch.tensor(b_states).float()\n",
    "        actions = torch.tensor(b_actions).long().reshape(states.shape[0],-1,1)\n",
    "        rewards = torch.tensor(b_rewards).float().reshape(-1,1)\n",
    "        next_states = torch.tensor(b_next_states).float()\n",
    "        masks = torch.tensor(b_masks).float().reshape(-1,1)\n",
    "\n",
    "        # Gather: Extraktion Q-Values für Aktionen (Index 2 = dritte Position = continous values)\n",
    "        # - self.q(states)   = Tensor(128,4,6) wobei 4 Actions mit 6 continous values\n",
    "        # - actions          = Tensor(128,4,1) wobei 4 Actions mit 6 discrete values (bin nummer 0..5), squeeze letzte dim weg nehmen\n",
    "        # - current_q_values = Tensor(128,4)   wobei 4 Actions mit 6 continous values\n",
    "        current_q_values = self.q(states).gather(2, actions).squeeze(-1)        # 128, 4\n",
    "\n",
    "        with torch.no_grad():\n",
    "            argmax = torch.argmax(self.q(next_states), dim = 2)\n",
    "            # Target ist zuständig für nächsten State, Online zuständig für aktuellen State\n",
    "            max_next_q_vals = self.target(next_states).gather(2, argmax.unsqueeze(2)).squeeze(-1)\n",
    "            # Original\n",
    "            # max_next_q_vals = max_next_q_vals.mean(1, keepdim = True)\n",
    "            max_next_q_vals = max_next_q_vals.mean(1, keepdim = True).expand(-1,1) # max_next_q_vals.shape[1]) # Expand to 128,2 (Actions)\n",
    "\n",
    "        expected_q_vals = rewards + max_next_q_vals*0.99*masks\n",
    "        loss = F.mse_loss(expected_q_vals, current_q_values)\n",
    "        adam.zero_grad()\n",
    "        loss.backward()                             # Backward Step mit Gradienten Berechnen (Werte ändern)\n",
    "        for p in self.q.parameters():               # Begrenzung Gradienten auf -1 .. 1\n",
    "            p.grad.data.clamp_(-1.,1.)\n",
    "        adam.step()\n",
    "\n",
    "        self.update_counter += 1\n",
    "        if self.update_counter % self.target_net_update_freq == 0:\n",
    "            self.update_counter = 0\n",
    "            # weighted update\n",
    "            # self.target.load_state_dict(self.q.state_dict())\n",
    "            self.target.update_model(self.q, self.target_net_update_tau)"
   ],
   "metadata": {
    "pycharm": {
     "name": "#%%\n"
    },
    "id": "111GtLSEDEkK"
   }
  },
  {
   "cell_type": "markdown",
   "source": [
    "## TensorEnv and BranchingTensorEnv"
   ],
   "metadata": {
    "collapsed": false,
    "id": "GLEWs-JfDEkL"
   }
  },
  {
   "cell_type": "code",
   "execution_count": 7,
   "outputs": [],
   "source": [
    "class TensorEnv(gym.Wrapper):\n",
    "    def __init__(self, env_name):\n",
    "        super().__init__(gym.make(env_name))\n",
    "\n",
    "    def process(self, x):\n",
    "        return torch.tensor(x).reshape(1,-1).float()\n",
    "\n",
    "    def reset(self):\n",
    "        return self.process(super().reset())\n",
    "\n",
    "    def step(self, a):\n",
    "        ns, r, done, infos = super().step(a)\n",
    "        return self.process(ns), r, done, infos\n",
    "\n",
    "\n",
    "class BranchingTensorEnv(TensorEnv):\n",
    "    def __init__(self, env_name, n):\n",
    "        super().__init__(env_name)\n",
    "        self.n = n\n",
    "        # TODO: Aufgabe 1: Min und Max aus Environment nehmem\n",
    "        self.discretized = np.linspace(-2.0,2.0, self.n)    \n",
    "        # self.discretized = np.linspace(max(self.action_space.low),max(self.action_space.high), self.n)    # bins=6, aus countinous action werden 6 bins gemacht\n",
    "\n",
    "    def step(self, a):\n",
    "        action = np.array([self.discretized[aa] for aa in a])\n",
    "        return super().step(action)"
   ],
   "metadata": {
    "pycharm": {
     "name": "#%%\n"
    },
    "id": "cnu2WTQCDEkM"
   }
  },
  {
   "cell_type": "markdown",
   "source": [
    "## Training"
   ],
   "metadata": {
    "collapsed": false,
    "id": "67PP7jJ7DEkM"
   }
  },
  {
   "cell_type": "code",
   "execution_count": 21,
   "outputs": [
    {
     "output_type": "stream",
     "name": "stdout",
     "text": [
      "--------------------------------\n",
      "Observation Space:\n",
      "Box(-8.0, 8.0, (3,), float32)\n",
      "Action Space:\n",
      "Box(-2.0, 2.0, (1,), float32)\n",
      "--------------------------------\n"
     ]
    },
    {
     "output_type": "stream",
     "name": "stderr",
     "text": [
      "Rew: -814.457:   0%|          | 15600/10000000 [01:16<13:39:08, 203.15it/s]\n",
      "Rew: -1017.650:  10%|█         | 5002/50000 [00:02<00:26, 1687.27it/s]/usr/local/lib/python3.7/dist-packages/ipykernel_launcher.py:74: UserWarning: Using a target size (torch.Size([128, 1])) that is different to the input size (torch.Size([128, 2])). This will likely lead to incorrect results due to broadcasting. Please ensure they have the same size.\n",
      "Rew: -1231.427:  12%|█▏        | 5999/50000 [00:05<02:29, 294.50it/s]/usr/local/lib/python3.7/dist-packages/ipykernel_launcher.py:74: UserWarning: Using a target size (torch.Size([128, 1])) that is different to the input size (torch.Size([128, 2])). This will likely lead to incorrect results due to broadcasting. Please ensure they have the same size.\n",
      "Rew: -1549.388:  14%|█▍        | 6999/50000 [00:09<02:28, 288.62it/s]/usr/local/lib/python3.7/dist-packages/ipykernel_launcher.py:74: UserWarning: Using a target size (torch.Size([128, 1])) that is different to the input size (torch.Size([128, 2])). This will likely lead to incorrect results due to broadcasting. Please ensure they have the same size.\n",
      "Rew: -1646.168:  16%|█▌        | 8001/50000 [00:13<03:10, 220.66it/s]/usr/local/lib/python3.7/dist-packages/ipykernel_launcher.py:74: UserWarning: Using a target size (torch.Size([128, 1])) that is different to the input size (torch.Size([128, 2])). This will likely lead to incorrect results due to broadcasting. Please ensure they have the same size.\n",
      "Rew: -1632.188:  18%|█▊        | 8999/50000 [00:17<02:32, 269.19it/s]/usr/local/lib/python3.7/dist-packages/ipykernel_launcher.py:74: UserWarning: Using a target size (torch.Size([128, 1])) that is different to the input size (torch.Size([128, 2])). This will likely lead to incorrect results due to broadcasting. Please ensure they have the same size.\n",
      "Rew: -1639.140:  20%|█▉        | 9999/50000 [00:21<02:18, 288.74it/s]/usr/local/lib/python3.7/dist-packages/ipykernel_launcher.py:74: UserWarning: Using a target size (torch.Size([128, 1])) that is different to the input size (torch.Size([128, 2])). This will likely lead to incorrect results due to broadcasting. Please ensure they have the same size.\n",
      "Rew: -1155.611:  22%|██▏       | 10999/50000 [00:24<02:18, 281.11it/s]/usr/local/lib/python3.7/dist-packages/ipykernel_launcher.py:74: UserWarning: Using a target size (torch.Size([128, 1])) that is different to the input size (torch.Size([128, 2])). This will likely lead to incorrect results due to broadcasting. Please ensure they have the same size.\n",
      "Rew: -1372.174:  24%|██▍       | 11999/50000 [00:28<02:17, 276.20it/s]/usr/local/lib/python3.7/dist-packages/ipykernel_launcher.py:74: UserWarning: Using a target size (torch.Size([128, 1])) that is different to the input size (torch.Size([128, 2])). This will likely lead to incorrect results due to broadcasting. Please ensure they have the same size.\n",
      "Rew: -1176.143:  26%|██▌       | 12999/50000 [00:32<02:12, 280.19it/s]/usr/local/lib/python3.7/dist-packages/ipykernel_launcher.py:74: UserWarning: Using a target size (torch.Size([128, 1])) that is different to the input size (torch.Size([128, 2])). This will likely lead to incorrect results due to broadcasting. Please ensure they have the same size.\n",
      "Rew: -1236.268:  28%|██▊       | 14000/50000 [00:35<02:10, 274.85it/s]/usr/local/lib/python3.7/dist-packages/ipykernel_launcher.py:74: UserWarning: Using a target size (torch.Size([128, 1])) that is different to the input size (torch.Size([128, 2])). This will likely lead to incorrect results due to broadcasting. Please ensure they have the same size.\n",
      "Rew: -790.651:  30%|██▉       | 14999/50000 [00:39<02:01, 288.33it/s] /usr/local/lib/python3.7/dist-packages/ipykernel_launcher.py:74: UserWarning: Using a target size (torch.Size([128, 1])) that is different to the input size (torch.Size([128, 2])). This will likely lead to incorrect results due to broadcasting. Please ensure they have the same size.\n",
      "Rew: -1052.569:  32%|███▏      | 15999/50000 [00:43<02:00, 282.90it/s]/usr/local/lib/python3.7/dist-packages/ipykernel_launcher.py:74: UserWarning: Using a target size (torch.Size([128, 1])) that is different to the input size (torch.Size([128, 2])). This will likely lead to incorrect results due to broadcasting. Please ensure they have the same size.\n",
      "Rew: -266.183:  34%|███▍      | 16999/50000 [00:47<02:01, 270.74it/s]/usr/local/lib/python3.7/dist-packages/ipykernel_launcher.py:74: UserWarning: Using a target size (torch.Size([128, 1])) that is different to the input size (torch.Size([128, 2])). This will likely lead to incorrect results due to broadcasting. Please ensure they have the same size.\n",
      "Rew: -624.447:  36%|███▌      | 18001/50000 [00:51<02:12, 241.52it/s]/usr/local/lib/python3.7/dist-packages/ipykernel_launcher.py:74: UserWarning: Using a target size (torch.Size([128, 1])) that is different to the input size (torch.Size([128, 2])). This will likely lead to incorrect results due to broadcasting. Please ensure they have the same size.\n",
      "Rew: -264.116:  38%|███▊      | 18999/50000 [00:54<02:08, 242.16it/s]/usr/local/lib/python3.7/dist-packages/ipykernel_launcher.py:74: UserWarning: Using a target size (torch.Size([128, 1])) that is different to the input size (torch.Size([128, 2])). This will likely lead to incorrect results due to broadcasting. Please ensure they have the same size.\n",
      "Rew: -1504.362:  40%|███▉      | 19999/50000 [00:58<01:47, 278.08it/s]/usr/local/lib/python3.7/dist-packages/ipykernel_launcher.py:74: UserWarning: Using a target size (torch.Size([128, 1])) that is different to the input size (torch.Size([128, 2])). This will likely lead to incorrect results due to broadcasting. Please ensure they have the same size.\n",
      "Rew: -378.846:  42%|████▏     | 21002/50000 [01:02<02:21, 205.22it/s]/usr/local/lib/python3.7/dist-packages/ipykernel_launcher.py:74: UserWarning: Using a target size (torch.Size([128, 1])) that is different to the input size (torch.Size([128, 2])). This will likely lead to incorrect results due to broadcasting. Please ensure they have the same size.\n",
      "Rew: -250.973:  44%|████▍     | 21999/50000 [01:06<02:15, 207.09it/s]/usr/local/lib/python3.7/dist-packages/ipykernel_launcher.py:74: UserWarning: Using a target size (torch.Size([128, 1])) that is different to the input size (torch.Size([128, 2])). This will likely lead to incorrect results due to broadcasting. Please ensure they have the same size.\n",
      "Rew: -125.594:  46%|████▌     | 22999/50000 [01:10<01:38, 274.51it/s]/usr/local/lib/python3.7/dist-packages/ipykernel_launcher.py:74: UserWarning: Using a target size (torch.Size([128, 1])) that is different to the input size (torch.Size([128, 2])). This will likely lead to incorrect results due to broadcasting. Please ensure they have the same size.\n",
      "Rew: -251.635:  48%|████▊     | 23999/50000 [01:13<01:34, 276.14it/s]/usr/local/lib/python3.7/dist-packages/ipykernel_launcher.py:74: UserWarning: Using a target size (torch.Size([128, 1])) that is different to the input size (torch.Size([128, 2])). This will likely lead to incorrect results due to broadcasting. Please ensure they have the same size.\n",
      "Rew: -381.481:  50%|████▉     | 24999/50000 [01:17<01:31, 272.04it/s]/usr/local/lib/python3.7/dist-packages/ipykernel_launcher.py:74: UserWarning: Using a target size (torch.Size([128, 1])) that is different to the input size (torch.Size([128, 2])). This will likely lead to incorrect results due to broadcasting. Please ensure they have the same size.\n",
      "Rew: -124.723:  52%|█████▏    | 25999/50000 [01:21<01:26, 276.46it/s]/usr/local/lib/python3.7/dist-packages/ipykernel_launcher.py:74: UserWarning: Using a target size (torch.Size([128, 1])) that is different to the input size (torch.Size([128, 2])). This will likely lead to incorrect results due to broadcasting. Please ensure they have the same size.\n",
      "Rew: -1211.229:  54%|█████▍    | 27000/50000 [01:25<01:23, 274.31it/s]/usr/local/lib/python3.7/dist-packages/ipykernel_launcher.py:74: UserWarning: Using a target size (torch.Size([128, 1])) that is different to the input size (torch.Size([128, 2])). This will likely lead to incorrect results due to broadcasting. Please ensure they have the same size.\n",
      "Rew: -2.320:  56%|█████▌    | 27999/50000 [01:28<01:17, 284.34it/s]  /usr/local/lib/python3.7/dist-packages/ipykernel_launcher.py:74: UserWarning: Using a target size (torch.Size([128, 1])) that is different to the input size (torch.Size([128, 2])). This will likely lead to incorrect results due to broadcasting. Please ensure they have the same size.\n",
      "Rew: -385.956:  58%|█████▊    | 28999/50000 [01:32<01:18, 267.71it/s]/usr/local/lib/python3.7/dist-packages/ipykernel_launcher.py:74: UserWarning: Using a target size (torch.Size([128, 1])) that is different to the input size (torch.Size([128, 2])). This will likely lead to incorrect results due to broadcasting. Please ensure they have the same size.\n",
      "Rew: -240.818:  60%|█████▉    | 29999/50000 [01:36<01:11, 279.11it/s]/usr/local/lib/python3.7/dist-packages/ipykernel_launcher.py:74: UserWarning: Using a target size (torch.Size([128, 1])) that is different to the input size (torch.Size([128, 2])). This will likely lead to incorrect results due to broadcasting. Please ensure they have the same size.\n",
      "Rew: -429.740:  62%|██████▏   | 31002/50000 [01:40<01:38, 192.50it/s]/usr/local/lib/python3.7/dist-packages/ipykernel_launcher.py:74: UserWarning: Using a target size (torch.Size([128, 1])) that is different to the input size (torch.Size([128, 2])). This will likely lead to incorrect results due to broadcasting. Please ensure they have the same size.\n",
      "Rew: -251.799:  64%|██████▍   | 31999/50000 [01:43<01:10, 256.03it/s]/usr/local/lib/python3.7/dist-packages/ipykernel_launcher.py:74: UserWarning: Using a target size (torch.Size([128, 1])) that is different to the input size (torch.Size([128, 2])). This will likely lead to incorrect results due to broadcasting. Please ensure they have the same size.\n",
      "Rew: -130.707:  66%|██████▌   | 32999/50000 [01:47<01:01, 278.25it/s]/usr/local/lib/python3.7/dist-packages/ipykernel_launcher.py:74: UserWarning: Using a target size (torch.Size([128, 1])) that is different to the input size (torch.Size([128, 2])). This will likely lead to incorrect results due to broadcasting. Please ensure they have the same size.\n",
      "Rew: -121.333:  68%|██████▊   | 34001/50000 [01:51<01:05, 244.33it/s]/usr/local/lib/python3.7/dist-packages/ipykernel_launcher.py:74: UserWarning: Using a target size (torch.Size([128, 1])) that is different to the input size (torch.Size([128, 2])). This will likely lead to incorrect results due to broadcasting. Please ensure they have the same size.\n",
      "Rew: -124.611:  70%|██████▉   | 34999/50000 [01:55<00:52, 285.23it/s]/usr/local/lib/python3.7/dist-packages/ipykernel_launcher.py:74: UserWarning: Using a target size (torch.Size([128, 1])) that is different to the input size (torch.Size([128, 2])). This will likely lead to incorrect results due to broadcasting. Please ensure they have the same size.\n",
      "Rew: -243.735:  72%|███████▏  | 35999/50000 [01:59<00:50, 278.34it/s]/usr/local/lib/python3.7/dist-packages/ipykernel_launcher.py:74: UserWarning: Using a target size (torch.Size([128, 1])) that is different to the input size (torch.Size([128, 2])). This will likely lead to incorrect results due to broadcasting. Please ensure they have the same size.\n",
      "Rew: -126.700:  74%|███████▍  | 36999/50000 [02:03<00:47, 271.82it/s]/usr/local/lib/python3.7/dist-packages/ipykernel_launcher.py:74: UserWarning: Using a target size (torch.Size([128, 1])) that is different to the input size (torch.Size([128, 2])). This will likely lead to incorrect results due to broadcasting. Please ensure they have the same size.\n",
      "Rew: -126.239:  76%|███████▌  | 38000/50000 [02:07<00:43, 276.75it/s]/usr/local/lib/python3.7/dist-packages/ipykernel_launcher.py:74: UserWarning: Using a target size (torch.Size([128, 1])) that is different to the input size (torch.Size([128, 2])). This will likely lead to incorrect results due to broadcasting. Please ensure they have the same size.\n",
      "Rew: -6.167:  78%|███████▊  | 38999/50000 [02:11<00:40, 269.87it/s]/usr/local/lib/python3.7/dist-packages/ipykernel_launcher.py:74: UserWarning: Using a target size (torch.Size([128, 1])) that is different to the input size (torch.Size([128, 2])). This will likely lead to incorrect results due to broadcasting. Please ensure they have the same size.\n",
      "Rew: -7.102:  80%|███████▉  | 39999/50000 [02:14<00:36, 274.00it/s]  /usr/local/lib/python3.7/dist-packages/ipykernel_launcher.py:74: UserWarning: Using a target size (torch.Size([128, 1])) that is different to the input size (torch.Size([128, 2])). This will likely lead to incorrect results due to broadcasting. Please ensure they have the same size.\n",
      "Rew: -125.698:  82%|████████▏ | 40999/50000 [02:18<00:32, 279.76it/s]/usr/local/lib/python3.7/dist-packages/ipykernel_launcher.py:74: UserWarning: Using a target size (torch.Size([128, 1])) that is different to the input size (torch.Size([128, 2])). This will likely lead to incorrect results due to broadcasting. Please ensure they have the same size.\n",
      "Rew: -238.144:  84%|████████▍ | 41999/50000 [02:22<00:28, 275.98it/s]/usr/local/lib/python3.7/dist-packages/ipykernel_launcher.py:74: UserWarning: Using a target size (torch.Size([128, 1])) that is different to the input size (torch.Size([128, 2])). This will likely lead to incorrect results due to broadcasting. Please ensure they have the same size.\n",
      "Rew: -127.171:  86%|████████▌ | 42999/50000 [02:26<00:25, 272.15it/s]/usr/local/lib/python3.7/dist-packages/ipykernel_launcher.py:74: UserWarning: Using a target size (torch.Size([128, 1])) that is different to the input size (torch.Size([128, 2])). This will likely lead to incorrect results due to broadcasting. Please ensure they have the same size.\n",
      "Rew: -124.713:  88%|████████▊ | 43999/50000 [02:30<00:23, 251.16it/s]/usr/local/lib/python3.7/dist-packages/ipykernel_launcher.py:74: UserWarning: Using a target size (torch.Size([128, 1])) that is different to the input size (torch.Size([128, 2])). This will likely lead to incorrect results due to broadcasting. Please ensure they have the same size.\n",
      "Rew: -128.818:  90%|████████▉ | 44999/50000 [02:34<00:18, 263.47it/s]/usr/local/lib/python3.7/dist-packages/ipykernel_launcher.py:74: UserWarning: Using a target size (torch.Size([128, 1])) that is different to the input size (torch.Size([128, 2])). This will likely lead to incorrect results due to broadcasting. Please ensure they have the same size.\n",
      "Rew: -130.644:  92%|█████████▏| 45999/50000 [02:38<00:14, 272.42it/s]/usr/local/lib/python3.7/dist-packages/ipykernel_launcher.py:74: UserWarning: Using a target size (torch.Size([128, 1])) that is different to the input size (torch.Size([128, 2])). This will likely lead to incorrect results due to broadcasting. Please ensure they have the same size.\n",
      "Rew: -239.752:  94%|█████████▍| 46999/50000 [02:42<00:11, 266.25it/s]/usr/local/lib/python3.7/dist-packages/ipykernel_launcher.py:74: UserWarning: Using a target size (torch.Size([128, 1])) that is different to the input size (torch.Size([128, 2])). This will likely lead to incorrect results due to broadcasting. Please ensure they have the same size.\n",
      "Rew: -232.226:  96%|█████████▌| 47999/50000 [02:45<00:07, 280.40it/s]/usr/local/lib/python3.7/dist-packages/ipykernel_launcher.py:74: UserWarning: Using a target size (torch.Size([128, 1])) that is different to the input size (torch.Size([128, 2])). This will likely lead to incorrect results due to broadcasting. Please ensure they have the same size.\n",
      "Rew: -117.530:  98%|█████████▊| 48999/50000 [02:49<00:03, 282.40it/s]/usr/local/lib/python3.7/dist-packages/ipykernel_launcher.py:74: UserWarning: Using a target size (torch.Size([128, 1])) that is different to the input size (torch.Size([128, 2])). This will likely lead to incorrect results due to broadcasting. Please ensure they have the same size.\n",
      "Rew: -125.974: 100%|██████████| 50000/50000 [02:53<00:00, 288.14it/s]\n"
     ]
    },
    {
     "output_type": "display_data",
     "data": {
      "text/plain": [
       "<Figure size 432x288 with 1 Axes>"
      ],
      "image/png": "[encoded data removed]"
     },
     "metadata": {}
    }
   ],
   "source": [
    "# Fix duplicate ddl error\n",
    "# os.environ[\"KMP_DUPLICATE_LIB_OK\"]=\"TRUE\"\n",
    "\n",
    "envname = 'Pendulum-v0'\n",
    "\n",
    "# Discretization of continous action space to linespace with n bins\n",
    "bins = 8\n",
    "env = BranchingTensorEnv(envname, bins)\n",
    "\n",
    "print(\"--------------------------------\")\n",
    "\n",
    "print(\"Observation Space:\")\n",
    "print(env.observation_space)\n",
    "\n",
    "print(\"Action Space:\")\n",
    "print(env.action_space)\n",
    "\n",
    "print(\"--------------------------------\")\n",
    "\n",
    "# Initialize Agent (with Branching-Q-Network and Target-Branching-Q-Network), Memory and Optimizer\n",
    "config = AgentConfig()\n",
    "agent = BranchingDQNAgent(env.observation_space.shape[0], env.action_space.shape[0], bins, config)\n",
    "memory = ExperienceReplayMemory(config.memory_size)\n",
    "optimizer = optim.Adam(agent.q.parameters(), lr = config.lr)\n",
    "\n",
    "s = env.reset()\n",
    "ep_reward = 0.\n",
    "recap = []\n",
    "\n",
    "p_bar = tqdm(total = config.max_frames)\n",
    "for frame in range(config.max_frames):\n",
    "\n",
    "    epsilon = config.epsilon_by_frame(frame)\n",
    "\n",
    "    if np.random.random() > epsilon:\n",
    "        action = agent.get_action(s)\n",
    "    else:\n",
    "        action = np.random.randint(0, bins, size = env.action_space.shape[0])\n",
    "\n",
    "    ns, r, done, infos = env.step(action)\n",
    "    ep_reward += r\n",
    "\n",
    "    if done:\n",
    "        ns = env.reset()\n",
    "        recap.append(ep_reward)\n",
    "        p_bar.set_description('Rew: {:.3f}'.format(ep_reward))\n",
    "        ep_reward = 0.\n",
    "\n",
    "    # Umwandlung zu listen\n",
    "    memory.push((s.reshape(-1).numpy().tolist(), action, r, ns.reshape(-1).numpy().tolist(), 0. if done else 1.))\n",
    "    s = ns\n",
    "\n",
    "    p_bar.update(1)\n",
    "\n",
    "    if frame > config.learning_starts:\n",
    "        agent.update_policy(optimizer, memory, config)\n",
    "\n",
    "    if frame % 1000 == 0:\n",
    "        save(agent, recap, envname)\n",
    "\n",
    "p_bar.close()"
   ],
   "metadata": {
    "pycharm": {
     "name": "#%%\n"
    },
    "colab": {
     "base_uri": "https://localhost:8080/",
     "height": 1000
    },
    "id": "h60VXoY5DEkM",
    "outputId": "1baf2846-4fa7-426b-cb28-26ee22f8d410"
   }
  },
  {
   "cell_type": "code",
   "execution_count": null,
   "outputs": [],
   "source": [
    ""
   ],
   "metadata": {
    "pycharm": {
     "name": "#%%\n"
    },
    "id": "aTst0AJ5DEkN"
   }
  }
 ],
 "metadata": {
  "kernelspec": {
   "display_name": "Python 3",
   "language": "python",
   "name": "python3"
  },
  "language_info": {
   "codemirror_mode": {
    "name": "ipython",
    "version": 2
   },
   "file_extension": ".py",
   "mimetype": "text/x-python",
   "name": "python",
   "nbconvert_exporter": "python",
   "pygments_lexer": "ipython2",
   "version": "2.7.6"
  },
  "colab": {
   "name": "dqn_pendulum_solution.ipynb",
   "provenance": []
  }
 },
 "nbformat": 4,
 "nbformat_minor": 0
}