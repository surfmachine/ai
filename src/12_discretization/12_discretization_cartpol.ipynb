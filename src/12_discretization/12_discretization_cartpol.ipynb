{
 "cells": [
  {
   "cell_type": "markdown",
   "metadata": {},
   "source": [
    "# Aufgabe 12 - Discretization CartPol\n",
    "29.01.2022, Thomas Iten\n",
    "\n",
    "**Content**\n",
    "1. Import the Necessary Packages\n",
    "2. Specify the Environment, and Explore the State and Action Spaces\n",
    "3. Discretize the State Space with a Uniform Grid\n",
    "4. Visualization\n",
    "5. Q-Learning\n",
    "6. Modify the Grid\n",
    "7. Watch a Smart Agent\n",
    "8. Modify the Grid to Geomspace Grid\n",
    "\n",
    "**References**\n",
    "- https://github.com/openai/gym/blob/master/gym/envs/classic_control/cartpole.py\n",
    "- https://realpython.com/np-linspace-numpy/#creating-ranges-of-numbers-with-uneven-spacing\n",
    "- https://github.com/YuriyGuts/cartpole-q-learning/blob/master/cartpole.py\n",
    "\n",
    "## 1. Import the Necessary Packages"
   ]
  },
  {
   "cell_type": "code",
   "execution_count": 1,
   "metadata": {},
   "outputs": [
    {
     "data": {
      "text/plain": "<matplotlib.pyplot._IonContext at 0x179fb8bed60>"
     },
     "execution_count": 1,
     "metadata": {},
     "output_type": "execute_result"
    }
   ],
   "source": [
    "import sys\n",
    "import gym\n",
    "import numpy as np\n",
    "\n",
    "import pandas as pd\n",
    "import matplotlib.pyplot as plt\n",
    "\n",
    "# Set plotting options\n",
    "%matplotlib inline\n",
    "plt.style.use('ggplot')\n",
    "np.set_printoptions(precision=3, linewidth=120)\n",
    "\n",
    "is_ipython = 'inline' in plt.get_backend()\n",
    "if is_ipython:\n",
    "    from IPython import display\n",
    "plt.ion()\n",
    "\n"
   ]
  },
  {
   "cell_type": "markdown",
   "metadata": {},
   "source": [
    "## 2. Specify the Environment, and Explore the State and Action Spaces\n",
    "\n",
    "### Environment\n",
    "\n",
    "We'll use [OpenAI Gym](https://gym.openai.com/) environments to test and develop our algorithms. These simulate a variety of classic as well as contemporary reinforcement learning tasks.  Let's use an environment that has a continuous state space, but a discrete action space."
   ]
  },
  {
   "cell_type": "code",
   "execution_count": 2,
   "metadata": {},
   "outputs": [],
   "source": [
    "# Create an environment and set random seed\n",
    "env = gym.make('CartPole-v0')\n",
    "env.seed(505);"
   ]
  },
  {
   "cell_type": "markdown",
   "metadata": {},
   "source": [
    "### Run a random agent"
   ]
  },
  {
   "cell_type": "code",
   "execution_count": 3,
   "metadata": {},
   "outputs": [
    {
     "name": "stdout",
     "output_type": "stream",
     "text": [
      "Score:  38\n"
     ]
    },
    {
     "data": {
      "text/plain": "<Figure size 432x288 with 1 Axes>",
      "image/png": "[encoded data removed]"
     },
     "metadata": {},
     "output_type": "display_data"
    }
   ],
   "source": [
    "state = env.reset()\n",
    "img = plt.imshow(env.render(mode='rgb_array'))\n",
    "for t in range(1000):\n",
    "    action = env.action_space.sample()\n",
    "    img.set_data(env.render(mode='rgb_array')) \n",
    "    plt.axis('off')\n",
    "    display.display(plt.gcf())\n",
    "    display.clear_output(wait=True)\n",
    "    state, reward, done, _ = env.step(action)\n",
    "    if done:\n",
    "        print('Score: ', t+1)\n",
    "        break\n",
    "        \n",
    "env.close()"
   ]
  },
  {
   "cell_type": "markdown",
   "metadata": {},
   "source": [
    "### Observations\n",
    "\n",
    "| Num  |  Observation            | Min                     | Max\n",
    "| ---- | ----------------------- | ----------------------- | -----------------------\n",
    "|  0   |  Cart Position          |   -2.4                  |  2.4\n",
    "|  1   |  Cart Velocity          |   -Inf                  |  Inf\n",
    "|  2   |  Pole Angle             |   -0.209 rad (-12 deg)  |  0.209 rad (12 deg)\n",
    "|  3   |  Pole Angular Velocity  |   -Inf                  |  Inf\n"
   ]
  },
  {
   "cell_type": "code",
   "execution_count": 4,
   "metadata": {},
   "outputs": [
    {
     "name": "stdout",
     "output_type": "stream",
     "text": [
      "State space: Box([-4.800e+00 -3.403e+38 -4.189e-01 -3.403e+38], [4.800e+00 3.403e+38 4.189e-01 3.403e+38], (4,), float32)\n",
      "- low: [-4.800e+00 -3.403e+38 -4.189e-01 -3.403e+38]\n",
      "- high: [4.800e+00 3.403e+38 4.189e-01 3.403e+38]\n"
     ]
    }
   ],
   "source": [
    "# Explore state (observation) space\n",
    "print(\"State space:\", env.observation_space)\n",
    "print(\"- low:\", env.observation_space.low)\n",
    "print(\"- high:\", env.observation_space.high)"
   ]
  },
  {
   "cell_type": "code",
   "execution_count": 5,
   "metadata": {},
   "outputs": [
    {
     "name": "stdout",
     "output_type": "stream",
     "text": [
      "State space samples:\n",
      "[[ 5.370e-01  1.525e+38  2.636e-02  1.250e+37]\n",
      " [ 3.930e+00 -2.579e+38 -1.411e-01 -1.322e+38]\n",
      " [-2.765e+00 -2.811e+38 -3.816e-02  1.439e+38]\n",
      " [ 1.571e+00  1.068e+38 -3.957e-01  2.824e+38]\n",
      " [-3.040e+00 -2.335e+38 -2.919e-01  2.193e+38]\n",
      " [-3.480e+00  2.994e+37  2.838e-01  1.268e+38]\n",
      " [-1.366e+00 -1.482e+38  1.448e-01 -1.566e+38]\n",
      " [-1.880e+00  1.147e+38 -1.828e-01 -2.823e+38]\n",
      " [-9.112e-01 -3.273e+38 -1.842e-01  1.774e+38]\n",
      " [-9.090e-01 -7.606e+37 -3.076e-01  2.422e+38]]\n"
     ]
    }
   ],
   "source": [
    "# Generate some samples from the state space \n",
    "print(\"State space samples:\")\n",
    "print(np.array([env.observation_space.sample() for i in range(10)]))\n"
   ]
  },
  {
   "cell_type": "markdown",
   "source": [
    "### Actions\n",
    "\n",
    "Actions:\n",
    "Type: Discrete(2)\n",
    "\n",
    "| Num  | Action\n",
    "| ---- | -----------------------\n",
    "| - 0  | Push cart to the left\n",
    "| - 1  | Push cart to the right"
   ],
   "metadata": {
    "collapsed": false,
    "pycharm": {
     "name": "#%% md\n"
    }
   }
  },
  {
   "cell_type": "code",
   "execution_count": 6,
   "metadata": {},
   "outputs": [
    {
     "name": "stdout",
     "output_type": "stream",
     "text": [
      "Action space: Discrete(2)\n",
      "Action space samples:\n",
      "[0 0 0 1 0 1 0 1 1 0]\n"
     ]
    }
   ],
   "source": [
    "# Explore the action space\n",
    "print(\"Action space:\", env.action_space)\n",
    "\n",
    "# Generate some samples from the action space\n",
    "print(\"Action space samples:\")\n",
    "print(np.array([env.action_space.sample() for i in range(10)]))"
   ]
  },
  {
   "cell_type": "markdown",
   "metadata": {},
   "source": [
    "## 3. Discretize the State Space with a Uniform Grid\n",
    "\n",
    "Note that the ends of `low` and `high` are **not** included in these split points.\n",
    "It is assumed that any value below the lowest split point maps to index `0` and any value above\n",
    "the highest split point maps to index `n-1`, where `n` is the number of bins along that dimension.\n",
    "\n",
    "### Grid class"
   ]
  },
  {
   "cell_type": "code",
   "execution_count": 7,
   "outputs": [],
   "source": [
    "class Grid:\n",
    "\n",
    "    @staticmethod\n",
    "    def create_uniform_grid(low, high, bins):\n",
    "        \"\"\"Define a uniformly-spaced grid that can be used to discretize a space.\n",
    "\n",
    "        Parameters\n",
    "        ----------\n",
    "        low : array_like\n",
    "            Lower bounds for each dimension of the continuous space.\n",
    "        high : array_like\n",
    "            Upper bounds for each dimension of the continuous space.\n",
    "        bins : tuple\n",
    "            Number of bins along each corresponding dimension.\n",
    "\n",
    "        Returns\n",
    "        -------\n",
    "        grid : list of array_like\n",
    "            A list of arrays containing split points for each dimension.\n",
    "\n",
    "        Sample\n",
    "        ------\n",
    "                ------------------------------------------\n",
    "        Bins:  ¦ 1 ¦ 2 ¦ 3 ¦ 4 ¦ 5 ¦ 6 ¦ 7 ¦ 8 ¦ 9 ¦ 10 ¦\n",
    "               ------------------------------------------\n",
    "        Grid:  [   1,  2,  3,  4,  5,  6,  7,  8,  9   ] (Split Points= bins-1)\n",
    "        \"\"\"\n",
    "        grids = []\n",
    "        for low, high, b in zip(low, high, bins):\n",
    "            # print(low, high, b+1)\n",
    "            grid = np.linspace(low,high,b+1)[1:-1]\n",
    "            grids.append(grid)\n",
    "        return grids\n",
    "\n",
    "\n",
    "    @staticmethod\n",
    "    def create_geomspace(start, end, bins, zero_start=0.1):\n",
    "        \"\"\"Create geomspace according the following rules:\n",
    "\n",
    "        1) If start is zero, the zero_start number will be used as start value for the split.\n",
    "        2) If start is negative\n",
    "           a) the split will be half/half for the positive and negative ranges.\n",
    "           b) the zero_start number will be used as start value for each half.\n",
    "           c) a zero value will be added between the positive an negative range\n",
    "           d) only even bin number deliver the demanded number of bins\n",
    "        \"\"\"\n",
    "\n",
    "        if start > 0:\n",
    "            return np.geomspace(start, end, bins+1)[1:-1]\n",
    "\n",
    "        if start == 0:\n",
    "            return np.geomspace(zero_start, end, bins+1)[1:-1]\n",
    "\n",
    "        result = []\n",
    "        b_half = int(bins/2)\n",
    "        n_range = (np.geomspace(zero_start, -start, b_half)*-1)[:-1]\n",
    "        p_range = np.geomspace(zero_start, end, b_half)[:-1]\n",
    "\n",
    "        for n  in reversed(n_range):\n",
    "            result.append(n)\n",
    "        result.append(0)\n",
    "        for p in p_range:\n",
    "            result.append(p)\n",
    "        return result\n",
    "\n",
    "    @staticmethod\n",
    "    def create_geomspace_grid(low, high, bins):\n",
    "        grids = []\n",
    "        for low, high, b in zip(low, high, bins):\n",
    "            # print(low, high, b+1)\n",
    "            grid = Grid.create_geomspace(low,high,b)\n",
    "            grids.append(grid)\n",
    "        return grids\n",
    "\n",
    "\n",
    "    @staticmethod\n",
    "    def create_mixed_grid(low, high, bins, func):\n",
    "        \"\"\"Create mixed grid with \"geom\" oder \"uni\" function.\n",
    "\n",
    "        Sample\n",
    "        ------\n",
    "        low  = [ 1,  1, -10, -10]\n",
    "        high = [10, 10,  10,  10]\n",
    "        bins = (10, 10,  10,  10)\n",
    "        func = (\"uni\", \"geom\", \"uni\", \"geom\")\n",
    "\n",
    "        grids = create_mixed_grid(low, high, bins, func)\n",
    "        \"\"\"\n",
    "        grids = []\n",
    "        for low, high, b, f in zip(low, high, bins, func):\n",
    "            if f == \"geom\":\n",
    "                grid = Grid.create_geomspace(low,high,b)\n",
    "            else:\n",
    "                grid = np.linspace(low,high,b+1)[1:-1]\n",
    "            grids.append(grid)\n",
    "        return grids\n"
   ],
   "metadata": {
    "collapsed": false,
    "pycharm": {
     "name": "#%%\n"
    }
   }
  },
  {
   "cell_type": "markdown",
   "source": [
    "### Create Uniform Grid with limited observation space"
   ],
   "metadata": {
    "collapsed": false,
    "pycharm": {
     "name": "#%% md\n"
    }
   }
  },
  {
   "cell_type": "code",
   "execution_count": 8,
   "metadata": {},
   "outputs": [
    {
     "name": "stdout",
     "output_type": "stream",
     "text": [
      "- low: [-4.800e+00 -3.403e+38 -4.189e-01 -3.403e+38]\n",
      "- high: [4.800e+00 3.403e+38 4.189e-01 3.403e+38]\n",
      "- low: [-4.8   -6.    -0.419 -4.   ]\n",
      "- high: [4.8   6.    0.419 4.   ]\n"
     ]
    },
    {
     "data": {
      "text/plain": "[array([-3.84, -2.88, -1.92, -0.96,  0.  ,  0.96,  1.92,  2.88,  3.84]),\n array([-4.8, -3.6, -2.4, -1.2,  0. ,  1.2,  2.4,  3.6,  4.8]),\n array([-0.335, -0.251, -0.168, -0.084,  0.   ,  0.084,  0.168,  0.251,  0.335]),\n array([-3.2, -2.4, -1.6, -0.8,  0. ,  0.8,  1.6,  2.4,  3.2])]"
     },
     "execution_count": 8,
     "metadata": {},
     "output_type": "execute_result"
    }
   ],
   "source": [
    "low  = env.observation_space.low #\n",
    "high = env.observation_space.high # [1.0, 5.0]\n",
    "bins = (10,10,10,10)\n",
    "\n",
    "print(\"- low:\", low)\n",
    "print(\"- high:\", high)\n",
    "\n",
    "low[1] = -6.0\n",
    "high[1] = 6.0\n",
    "low[3] = -4.0\n",
    "high[3] = 4.0\n",
    "\n",
    "print(\"- low:\", low)\n",
    "print(\"- high:\", high)\n",
    "\n",
    "\n",
    "grids = Grid.create_uniform_grid(low, high, bins)  # [test]\n",
    "grids\n"
   ]
  },
  {
   "cell_type": "markdown",
   "metadata": {},
   "source": [
    "### Discretize\n",
    "\n",
    "Now write a function that can convert samples from a continuous space into its equivalent discretized\n",
    "representation, given a grid like the one you created above.\n",
    "You can use the [`numpy.digitize()`](https://docs.scipy.org/doc/numpy-1.9.3/reference/generated/numpy.digitize.html) function for this purpose.\n",
    "\n",
    "\n",
    "**Note**: There may be one-off differences in binning due to floating-point inaccuracies\n",
    "when samples are close to grid boundaries, but that is alright."
   ]
  },
  {
   "cell_type": "code",
   "execution_count": 9,
   "metadata": {},
   "outputs": [],
   "source": [
    "def discretize(sample, grid):\n",
    "    \"\"\"Discretize a sample as per given grid.\n",
    "    \n",
    "    Parameters\n",
    "    ----------\n",
    "    sample : array_like\n",
    "        A single sample from the (original) continuous space.\n",
    "    grid : list of array_like\n",
    "        A list of arrays containing split points for each dimension.\n",
    "    \n",
    "    Returns\n",
    "    -------\n",
    "    discretized_sample : array_like\n",
    "        A sequence of integers with the same number of dimensions as sample.\n",
    "    \"\"\"\n",
    "    indexes=[]\n",
    "    for sample,grid in zip(sample,grid):\n",
    "        index=np.digitize(sample,grid, right=False)\n",
    "        indexes.append(index.tolist())\n",
    "    return indexes"
   ]
  },
  {
   "cell_type": "markdown",
   "source": [
    "### Test with a simple grid and some samples"
   ],
   "metadata": {
    "collapsed": false,
    "pycharm": {
     "name": "#%% md\n"
    }
   }
  },
  {
   "cell_type": "code",
   "execution_count": 10,
   "outputs": [
    {
     "name": "stdout",
     "output_type": "stream",
     "text": [
      "[[ 2.307  0.134 -0.055 -2.949]]\n"
     ]
    }
   ],
   "source": [
    "print(np.array([env.observation_space.sample() for i in range(1)]))"
   ],
   "metadata": {
    "collapsed": false,
    "pycharm": {
     "name": "#%%\n"
    }
   }
  },
  {
   "cell_type": "code",
   "execution_count": 11,
   "outputs": [
    {
     "name": "stdout",
     "output_type": "stream",
     "text": [
      "[-4.8   -6.    -0.419 -4.   ]\n",
      "[4.8   6.    0.419 4.   ]\n",
      "\n",
      "Samples:\n",
      "array([[ 4.237,  2.169,  0.029,  0.546],\n",
      "       [-2.294,  3.371, -0.019, -2.455],\n",
      "       [ 0.053, -2.218,  0.398, -1.304],\n",
      "       [ 3.909,  1.043,  0.193,  3.198],\n",
      "       [ 0.464,  3.132,  0.099, -1.804]], dtype=float32)\n",
      "\n",
      "Discretized samples:\n",
      "array([[9, 6, 5, 5],\n",
      "       [2, 7, 4, 1],\n",
      "       [5, 3, 9, 3],\n",
      "       [9, 5, 7, 8],\n",
      "       [5, 7, 6, 2]])\n"
     ]
    }
   ],
   "source": [
    "print(low)\n",
    "print(high)\n",
    "\n",
    "grid = Grid.create_uniform_grid(low,high, bins)\n",
    "\n",
    "samples = np.array(\n",
    "    [env.observation_space.sample() for i in range(5)] )\n",
    "\n",
    "discretized_samples = np.array([discretize(sample, grid) for sample in samples])\n",
    "print(\"\\nSamples:\", repr(samples), sep=\"\\n\")\n",
    "print(\"\\nDiscretized samples:\", repr(discretized_samples), sep=\"\\n\")"
   ],
   "metadata": {
    "collapsed": false,
    "pycharm": {
     "name": "#%%\n"
    }
   }
  },
  {
   "cell_type": "markdown",
   "metadata": {},
   "source": [
    "## 4. Visualization\n",
    "\n",
    "It might be helpful to visualize the original and discretized samples to get a sense of how much error you are introducing."
   ]
  },
  {
   "cell_type": "code",
   "execution_count": 12,
   "metadata": {},
   "outputs": [],
   "source": [
    "import matplotlib.collections as mc\n",
    "\n",
    "def visualize_samples(samples, discretized_samples, grid, low=None, high=None):\n",
    "    \"\"\"Visualize original and discretized samples on a given 2-dimensional grid.\"\"\"\n",
    "\n",
    "    print(samples)\n",
    "    print(discretized_samples)\n",
    "    print(grid)\n",
    "\n",
    "    fig, ax = plt.subplots(figsize=(10, 10))\n",
    "    \n",
    "    # Show grid\n",
    "    ax.xaxis.set_major_locator(plt.FixedLocator(grid[0]))\n",
    "    ax.yaxis.set_major_locator(plt.FixedLocator(grid[1]))\n",
    "    ax.grid(True)\n",
    "    \n",
    "    # If bounds (low, high) are specified, use them to set axis limits\n",
    "    if low is not None and high is not None:\n",
    "        ax.set_xlim(low[0], high[0])\n",
    "        ax.set_ylim(low[1], high[1])\n",
    "    else:\n",
    "        # Otherwise use first, last grid locations as low, high (for further mapping discretized samples)\n",
    "        low = [splits[0] for splits in grid]\n",
    "        high = [splits[-1] for splits in grid]\n",
    "\n",
    "    # Map each discretized sample (which is really an index) to the center of corresponding grid cell\n",
    "    grid_extended = np.hstack((np.array([low]).T, grid, np.array([high]).T))  # add low and high ends\n",
    "    grid_centers = (grid_extended[:, 1:] + grid_extended[:, :-1]) / 2  # compute center of each grid cell\n",
    "    locs = np.stack(grid_centers[i, discretized_samples[:, i]] for i in range(len(grid))).T  # map discretized samples\n",
    "\n",
    "    ax.plot(samples[:, 0], samples[:, 1], 'o')  # plot original samples\n",
    "    ax.plot(locs[:, 0], locs[:, 1], 's')  # plot discretized samples in mapped locations\n",
    "    ax.add_collection(mc.LineCollection(list(zip(samples, locs)), colors='orange'))  # add a line connecting each original-discretized sample\n",
    "    ax.legend(['original', 'discretized'])\n"
   ]
  },
  {
   "cell_type": "code",
   "execution_count": 13,
   "outputs": [
    {
     "name": "stdout",
     "output_type": "stream",
     "text": [
      "[[ 4.237  2.169  0.029  0.546]\n",
      " [-2.294  3.371 -0.019 -2.455]\n",
      " [ 0.053 -2.218  0.398 -1.304]\n",
      " [ 3.909  1.043  0.193  3.198]\n",
      " [ 0.464  3.132  0.099 -1.804]]\n",
      "[[ 4.237  2.169]\n",
      " [-2.294  3.371]\n",
      " [ 0.053 -2.218]\n",
      " [ 3.909  1.043]\n",
      " [ 0.464  3.132]]\n",
      "[[ 0.029  0.546]\n",
      " [-0.019 -2.455]\n",
      " [ 0.398 -1.304]\n",
      " [ 0.193  3.198]\n",
      " [ 0.099 -1.804]]\n"
     ]
    }
   ],
   "source": [
    "print(samples)\n",
    "\n",
    "cart_samples = []\n",
    "pole_samples = []\n",
    "for s in samples:\n",
    "    cart_sample = list(s[:2])\n",
    "    pole_sample = list(s[2:])\n",
    "    cart_samples.append(cart_sample)\n",
    "    pole_samples.append(pole_sample)\n",
    "\n",
    "cart_samples = np.asarray(cart_samples)\n",
    "pole_samples = np.asarray(pole_samples)\n",
    "\n",
    "print(cart_samples)\n",
    "print(pole_samples)"
   ],
   "metadata": {
    "collapsed": false,
    "pycharm": {
     "name": "#%%\n"
    }
   }
  },
  {
   "cell_type": "code",
   "source": [
    "print(discretized_samples)\n",
    "\n",
    "cart_dsamples = []\n",
    "pole_dsamples = []\n",
    "for s in discretized_samples:\n",
    "    cart_sample = list(s[:2])\n",
    "    pole_sample = list(s[2:])\n",
    "    cart_dsamples.append(cart_sample)\n",
    "    pole_dsamples.append(pole_sample)\n",
    "\n",
    "cart_dsamples = np.asarray(cart_dsamples)\n",
    "pole_dsamples = np.asarray(pole_dsamples)\n",
    "\n",
    "\n",
    "print(cart_dsamples)\n",
    "print(pole_dsamples)\n"
   ],
   "metadata": {
    "collapsed": false,
    "pycharm": {
     "name": "#%%\n"
    }
   },
   "execution_count": 14,
   "outputs": [
    {
     "name": "stdout",
     "output_type": "stream",
     "text": [
      "[[9 6 5 5]\n",
      " [2 7 4 1]\n",
      " [5 3 9 3]\n",
      " [9 5 7 8]\n",
      " [5 7 6 2]]\n",
      "[[9 6]\n",
      " [2 7]\n",
      " [5 3]\n",
      " [9 5]\n",
      " [5 7]]\n",
      "[[5 5]\n",
      " [4 1]\n",
      " [9 3]\n",
      " [7 8]\n",
      " [6 2]]\n"
     ]
    }
   ]
  },
  {
   "cell_type": "markdown",
   "source": [
    "### Cart Position and Velocity"
   ],
   "metadata": {
    "collapsed": false,
    "pycharm": {
     "name": "#%% md\n"
    }
   }
  },
  {
   "cell_type": "code",
   "execution_count": 15,
   "outputs": [
    {
     "name": "stdout",
     "output_type": "stream",
     "text": [
      "[[ 4.237  2.169]\n",
      " [-2.294  3.371]\n",
      " [ 0.053 -2.218]\n",
      " [ 3.909  1.043]\n",
      " [ 0.464  3.132]]\n",
      "[[9 6]\n",
      " [2 7]\n",
      " [5 3]\n",
      " [9 5]\n",
      " [5 7]]\n",
      "[array([-3.84, -2.88, -1.92, -0.96,  0.  ,  0.96,  1.92,  2.88,  3.84]), array([-4.8, -3.6, -2.4, -1.2,  0. ,  1.2,  2.4,  3.6,  4.8])]\n"
     ]
    },
    {
     "name": "stderr",
     "output_type": "stream",
     "text": [
      "D:\\dev\\software\\miniconda3\\lib\\site-packages\\IPython\\core\\interactiveshell.py:3441: FutureWarning: arrays to stack must be passed as a \"sequence\" type such as list or tuple. Support for non-sequence iterables such as generators is deprecated as of NumPy 1.16 and will raise an error in the future.\n",
      "  exec(code_obj, self.user_global_ns, self.user_ns)\n"
     ]
    },
    {
     "data": {
      "text/plain": "<Figure size 720x720 with 1 Axes>",
      "image/png": "[encoded data removed]"
     },
     "metadata": {},
     "output_type": "display_data"
    }
   ],
   "source": [
    "visualize_samples(cart_samples, cart_dsamples, grid[0:2])\n"
   ],
   "metadata": {
    "collapsed": false,
    "pycharm": {
     "name": "#%%\n"
    }
   }
  },
  {
   "cell_type": "markdown",
   "source": [
    "### Pole Angle and Angle Velocity"
   ],
   "metadata": {
    "collapsed": false
   }
  },
  {
   "cell_type": "code",
   "execution_count": 16,
   "outputs": [
    {
     "name": "stdout",
     "output_type": "stream",
     "text": [
      "[[ 0.029  0.546]\n",
      " [-0.019 -2.455]\n",
      " [ 0.398 -1.304]\n",
      " [ 0.193  3.198]\n",
      " [ 0.099 -1.804]]\n",
      "[[5 5]\n",
      " [4 1]\n",
      " [9 3]\n",
      " [7 8]\n",
      " [6 2]]\n",
      "[array([-0.335, -0.251, -0.168, -0.084,  0.   ,  0.084,  0.168,  0.251,  0.335]), array([-3.2, -2.4, -1.6, -0.8,  0. ,  0.8,  1.6,  2.4,  3.2])]\n"
     ]
    },
    {
     "name": "stderr",
     "output_type": "stream",
     "text": [
      "D:\\dev\\software\\miniconda3\\lib\\site-packages\\IPython\\core\\interactiveshell.py:3441: FutureWarning: arrays to stack must be passed as a \"sequence\" type such as list or tuple. Support for non-sequence iterables such as generators is deprecated as of NumPy 1.16 and will raise an error in the future.\n",
      "  exec(code_obj, self.user_global_ns, self.user_ns)\n"
     ]
    },
    {
     "data": {
      "text/plain": "<Figure size 720x720 with 1 Axes>",
      "image/png": "[encoded data removed]"
     },
     "metadata": {},
     "output_type": "display_data"
    }
   ],
   "source": [
    "visualize_samples(pole_samples, pole_dsamples, grid[2:])\n"
   ],
   "metadata": {
    "collapsed": false,
    "pycharm": {
     "name": "#%%\n"
    }
   }
  },
  {
   "cell_type": "markdown",
   "metadata": {},
   "source": [
    "### Create Uniform State Grid and test discretize\n",
    "\n",
    "Now that we have a way to discretize a state space, let's apply it to our reinforcement\n",
    "learning environment."
   ]
  },
  {
   "cell_type": "code",
   "execution_count": 17,
   "metadata": {},
   "outputs": [
    {
     "data": {
      "text/plain": "[array([-3.84, -2.88, -1.92, -0.96,  0.  ,  0.96,  1.92,  2.88,  3.84]),\n array([-4.8, -3.6, -2.4, -1.2,  0. ,  1.2,  2.4,  3.6,  4.8]),\n array([-0.335, -0.251, -0.168, -0.084,  0.   ,  0.084,  0.168,  0.251,  0.335]),\n array([-3.2, -2.4, -1.6, -0.8,  0. ,  0.8,  1.6,  2.4,  3.2])]"
     },
     "execution_count": 17,
     "metadata": {},
     "output_type": "execute_result"
    }
   ],
   "source": [
    "# Create a grid to discretize the state space\n",
    "state_grid = Grid.create_uniform_grid(env.observation_space.low, env.observation_space.high, bins=(10, 10, 10, 10))\n",
    "state_grid"
   ]
  },
  {
   "cell_type": "code",
   "execution_count": 18,
   "outputs": [
    {
     "name": "stdout",
     "output_type": "stream",
     "text": [
      "[[ 0.627 -0.573 -0.289 -2.207]\n",
      " [-4.201 -4.916 -0.06   2.485]\n",
      " [ 1.915  3.154  0.163 -0.803]\n",
      " [-1.781 -5.679 -0.117  1.716]\n",
      " [-4.619  0.828 -0.333  0.393]\n",
      " [-0.349  4.243 -0.23  -3.891]\n",
      " [-0.832  5.401 -0.335  3.774]\n",
      " [-0.59   1.835 -0.049  2.734]\n",
      " [-1.963  3.232  0.348  1.943]\n",
      " [ 1.723 -1.817 -0.223  0.331]]\n",
      "[[5 4 1 2]\n",
      " [0 0 4 8]\n",
      " [6 7 6 3]\n",
      " [3 0 3 7]\n",
      " [0 5 1 5]\n",
      " [4 8 2 0]\n",
      " [4 9 1 9]\n",
      " [4 6 4 8]\n",
      " [2 7 9 7]\n",
      " [6 3 2 5]]\n"
     ]
    }
   ],
   "source": [
    "# Obtain some samples from the space\n",
    "state_samples = np.array([env.observation_space.sample() for i in range(10)])\n",
    "print(state_samples)\n",
    "\n",
    "# Discretize them\n",
    "discretized_state_samples = np.array([discretize(sample, state_grid) for sample in state_samples])\n",
    "print(discretized_state_samples)\n"
   ],
   "metadata": {
    "collapsed": false,
    "pycharm": {
     "name": "#%%\n"
    }
   }
  },
  {
   "cell_type": "markdown",
   "source": [
    "## 5. Q-Learning\n",
    "\n",
    "Provided below is a simple Q-Learning agent.\n",
    "Implement the `preprocess_state()` method to convert each continuous state sample to its corresponding\n",
    "discretized representation.\n",
    "\n",
    "### QLearningAgent"
   ],
   "metadata": {
    "collapsed": false
   }
  },
  {
   "cell_type": "code",
   "execution_count": 19,
   "metadata": {},
   "outputs": [
    {
     "name": "stdout",
     "output_type": "stream",
     "text": [
      "Environment: <TimeLimit<CartPoleEnv<CartPole-v0>>>\n",
      "State space size: (10, 10, 10, 10)\n",
      "Action space size: 2\n",
      "Q table size: (10, 10, 10, 10, 2)\n"
     ]
    }
   ],
   "source": [
    "class QLearningAgent:\n",
    "    \"\"\"Q-Learning agent that can act on a continuous state space by discretizing it.\"\"\"\n",
    "\n",
    "    def __init__(self, env, state_grid, alpha=0.02, gamma=0.99,\n",
    "                 epsilon=1.0, epsilon_decay_rate=0.9999, min_epsilon=.001, seed=505):\n",
    "        \"\"\"Initialize variables, create grid for discretization.\"\"\"\n",
    "        # Environment info\n",
    "        self.env = env\n",
    "        self.state_grid = state_grid\n",
    "        self.state_size = tuple(len(splits) + 1 for splits in self.state_grid)  # n-dimensional state space\n",
    "        self.action_size = self.env.action_space.n  # 1-dimensional discrete action space\n",
    "        self.seed = np.random.seed(seed)\n",
    "        print(\"Environment:\", self.env)\n",
    "        print(\"State space size:\", self.state_size)\n",
    "        print(\"Action space size:\", self.action_size)\n",
    "        \n",
    "        # Learning parameters\n",
    "        self.alpha = alpha  # learning rate\n",
    "        self.gamma = gamma  # discount factor\n",
    "        self.epsilon = self.initial_epsilon = epsilon  # initial exploration rate\n",
    "        self.epsilon_decay_rate = epsilon_decay_rate # how quickly should we decrease epsilon\n",
    "        self.min_epsilon = min_epsilon\n",
    "        \n",
    "        # Create Q-table\n",
    "        self.q_table = np.zeros(shape=(self.state_size + (self.action_size,)))\n",
    "        print(\"Q table size:\", self.q_table.shape)\n",
    "\n",
    "    def preprocess_state(self, state):\n",
    "        \"\"\"Map a continuous state to its discretized representation.\"\"\"\n",
    "        return tuple(discretize(state, self.state_grid))\n",
    "\n",
    "    def reset_episode(self, state):\n",
    "        \"\"\"Reset variables for a new episode.\"\"\"\n",
    "        # Gradually decrease exploration rate\n",
    "        self.epsilon *= self.epsilon_decay_rate\n",
    "        self.epsilon = max(self.epsilon, self.min_epsilon)\n",
    "\n",
    "        # Decide initial action\n",
    "        # print(\"state:\", state)\n",
    "        self.last_state = self.preprocess_state(state)\n",
    "        self.last_action = np.argmax(self.q_table[self.last_state])\n",
    "        return self.last_action\n",
    "    \n",
    "    def reset_exploration(self, epsilon=None):\n",
    "        \"\"\"Reset exploration rate used when training.\"\"\"\n",
    "        self.epsilon = epsilon if epsilon is not None else self.initial_epsilon\n",
    "\n",
    "    def act(self, state, reward=None, done=None, mode='train'):\n",
    "        \"\"\"Pick next action and update internal Q table (when mode != 'test').\"\"\"\n",
    "        state = self.preprocess_state(state)\n",
    "        if mode == 'test':\n",
    "            # Test mode: Simply produce an action\n",
    "            action = np.argmax(self.q_table[state])\n",
    "        else:\n",
    "            # Train mode (default): Update Q table, pick next action\n",
    "            # Note: We update the Q table entry for the *last* (state, action) pair with current state, reward\n",
    "\n",
    "            # print(\"self.last_state:\", self.last_state, type(self.last_state))\n",
    "            # print(\"self.last_action:\", self.last_action, type(self.last_action))\n",
    "            # print(\"self.last_action:\", (self.last_action,), type((self.last_action,)))\n",
    "            # print(\"index\", self.last_state + (self.last_action,))\n",
    "            # print(self.q_table)\n",
    "            self.q_table[self.last_state + (self.last_action,)] += self.alpha * \\\n",
    "                (reward + self.gamma * max(self.q_table[state]) - self.q_table[self.last_state + (self.last_action,)])\n",
    "\n",
    "            # Exploration vs. exploitation\n",
    "            do_exploration = np.random.uniform(0, 1) < self.epsilon\n",
    "            if do_exploration:\n",
    "                # Pick a random action\n",
    "                action = np.random.randint(0, self.action_size)\n",
    "            else:\n",
    "                # Pick the best action from Q table\n",
    "                action = np.argmax(self.q_table[state])\n",
    "\n",
    "        # Roll over current state, action for next step\n",
    "        self.last_state = state\n",
    "        self.last_action = action\n",
    "        return action\n",
    "\n",
    "    \n",
    "q_agent = QLearningAgent(env, state_grid)"
   ]
  },
  {
   "cell_type": "markdown",
   "metadata": {},
   "source": [
    "### Run QLearningAgent\n",
    "\n",
    "Let's also define a convenience function to run an agent on a given environment.\n",
    "When calling this function, you can pass in `mode='test'` to tell the agent not to learn."
   ]
  },
  {
   "cell_type": "code",
   "execution_count": 20,
   "metadata": {},
   "outputs": [
    {
     "name": "stdout",
     "output_type": "stream",
     "text": [
      "Episode 20000/20000 | Max Average Score: 200.04"
     ]
    }
   ],
   "source": [
    "# def run(agent, env, num_episodes=20000, mode='train'):\n",
    "\n",
    "def run(agent, env, num_episodes=20000, mode='train'):\n",
    "    \"\"\"Run agent in given reinforcement learning environment and return scores.\"\"\"\n",
    "    scores = []\n",
    "    max_avg_score = -np.inf\n",
    "    for i_episode in range(1, num_episodes+1):\n",
    "        # Initialize episode\n",
    "        state = env.reset()\n",
    "        action = agent.reset_episode(state)\n",
    "        total_reward = 0\n",
    "        done = False\n",
    "\n",
    "        # Roll out steps until done\n",
    "        while not done:\n",
    "            state, reward, done, info = env.step(action)\n",
    "            total_reward += reward\n",
    "            # print(\"agent.act params:\", state, reward, done, mode)\n",
    "            action = agent.act(state, reward, done, mode)\n",
    "\n",
    "        # Save final score\n",
    "        # print(\"total_reward:\", total_reward)\n",
    "        scores.append(total_reward)\n",
    "        \n",
    "        # Print episode stats\n",
    "        if mode == 'train':\n",
    "            if len(scores) > 100:\n",
    "                avg_score = np.mean(scores[-100:])\n",
    "                if avg_score > max_avg_score:\n",
    "                    max_avg_score = avg_score\n",
    "\n",
    "            if i_episode % 100 == 0:\n",
    "                print(\"\\rEpisode {}/{} | Max Average Score: {}\".format(i_episode, num_episodes, max_avg_score), end=\"\")\n",
    "                sys.stdout.flush()\n",
    "\n",
    "    return scores\n",
    "\n",
    "scores = run(q_agent, env)"
   ]
  },
  {
   "cell_type": "markdown",
   "metadata": {},
   "source": [
    "### Plot scores obtained per episode\n",
    "\n",
    "The best way to analyze if your agent was learning the task is to plot the scores.\n",
    "It should generally increase as the agent goes through more episodes."
   ]
  },
  {
   "cell_type": "code",
   "execution_count": 21,
   "metadata": {},
   "outputs": [
    {
     "data": {
      "text/plain": "<Figure size 432x288 with 1 Axes>",
      "image/png": "[encoded data removed]"
     },
     "metadata": {},
     "output_type": "display_data"
    }
   ],
   "source": [
    "plt.plot(scores); plt.title(\"Scores\");"
   ]
  },
  {
   "cell_type": "markdown",
   "metadata": {},
   "source": [
    "If the scores are noisy, it might be difficult to tell whether your agent is actually learning. To find the underlying trend, you may want to plot a rolling mean of the scores. Let's write a convenience function to plot both raw scores as well as a rolling mean."
   ]
  },
  {
   "cell_type": "code",
   "execution_count": 22,
   "metadata": {},
   "outputs": [
    {
     "data": {
      "text/plain": "<Figure size 432x288 with 1 Axes>",
      "image/png": "[encoded data removed]"
     },
     "metadata": {},
     "output_type": "display_data"
    }
   ],
   "source": [
    "def plot_scores(scores, rolling_window=100):\n",
    "    \"\"\"Plot scores and optional rolling mean using specified window.\"\"\"\n",
    "    plt.plot(scores); plt.title(\"Scores\");\n",
    "    rolling_mean = pd.Series(scores).rolling(rolling_window).mean()\n",
    "    plt.plot(rolling_mean);\n",
    "    return rolling_mean\n",
    "\n",
    "rolling_mean = plot_scores(scores)"
   ]
  },
  {
   "cell_type": "markdown",
   "metadata": {},
   "source": [
    "## 6. Modify the Grid\n",
    "\n",
    "Now it's your turn to play with the grid definition and see what gives you optimal results.\n",
    "Your agent's final performance is likely to get better if you use a finer grid, with more bins per dimension,\n",
    "at the cost of higher model complexity (more parameters to learn).\n",
    "\n",
    "### Create new State Grid"
   ]
  },
  {
   "cell_type": "code",
   "execution_count": 23,
   "metadata": {},
   "outputs": [
    {
     "name": "stdout",
     "output_type": "stream",
     "text": [
      "Environment: <TimeLimit<CartPoleEnv<CartPole-v0>>>\n",
      "State space size: (8, 8, 8, 8)\n",
      "Action space size: 2\n",
      "Q table size: (8, 8, 8, 8, 2)\n"
     ]
    }
   ],
   "source": [
    "state_grid_new = Grid.create_uniform_grid(env.observation_space.low, env.observation_space.high, bins=(8,8,8,8))\n",
    "q_agent_new = QLearningAgent(env, state_grid_new)\n",
    "q_agent_new.scores = []  # initialize a list to store scores for this agent\n"
   ]
  },
  {
   "cell_type": "markdown",
   "source": [
    "### Train it over a desired number of episodes and analyze scores\n",
    "Note: This cell can be run multiple times, and scores will get accumulated"
   ],
   "metadata": {
    "collapsed": false,
    "pycharm": {
     "name": "#%% md\n"
    }
   }
  },
  {
   "cell_type": "code",
   "execution_count": 24,
   "metadata": {},
   "outputs": [
    {
     "name": "stdout",
     "output_type": "stream",
     "text": [
      "Episode 20000/20000 | Max Average Score: 199.53"
     ]
    },
    {
     "data": {
      "text/plain": "<Figure size 432x288 with 1 Axes>",
      "image/png": "[encoded data removed]"
     },
     "metadata": {},
     "output_type": "display_data"
    }
   ],
   "source": [
    "q_agent_new.scores += run(q_agent_new, env, num_episodes=20000)  # accumulate scores\n",
    "rolling_mean_new = plot_scores(q_agent_new.scores)\n"
   ]
  },
  {
   "cell_type": "markdown",
   "source": [
    "### Run in test mode and analyze scores obtained"
   ],
   "metadata": {
    "collapsed": false,
    "pycharm": {
     "name": "#%% md\n"
    }
   }
  },
  {
   "cell_type": "code",
   "execution_count": 25,
   "metadata": {},
   "outputs": [
    {
     "name": "stdout",
     "output_type": "stream",
     "text": [
      "[TEST] Completed 200 episodes with avg. score = 199.97\n"
     ]
    },
    {
     "data": {
      "text/plain": "<Figure size 432x288 with 1 Axes>",
      "image/png": "[encoded data removed]"
     },
     "metadata": {},
     "output_type": "display_data"
    }
   ],
   "source": [
    "test_scores = run(q_agent_new, env, num_episodes=200, mode='test')\n",
    "print(\"[TEST] Completed {} episodes with avg. score = {}\".format(len(test_scores), np.mean(test_scores)))\n",
    "_ = plot_scores(test_scores)"
   ]
  },
  {
   "cell_type": "markdown",
   "metadata": {},
   "source": [
    "## 7. Watch a Smart Agent"
   ]
  },
  {
   "cell_type": "code",
   "execution_count": 26,
   "metadata": {},
   "outputs": [
    {
     "name": "stdout",
     "output_type": "stream",
     "text": [
      "Score:  200.0\n"
     ]
    },
    {
     "data": {
      "text/plain": "<Figure size 432x288 with 1 Axes>",
      "image/png": "[encoded data removed]"
     },
     "metadata": {},
     "output_type": "display_data"
    }
   ],
   "source": [
    "state = env.reset()\n",
    "score = 0\n",
    "img = plt.imshow(env.render(mode='rgb_array'))\n",
    "for t in range(1000):\n",
    "    action = q_agent_new.act(state, mode='test')\n",
    "    img.set_data(env.render(mode='rgb_array')) \n",
    "    plt.axis('off')\n",
    "    display.display(plt.gcf())\n",
    "    display.clear_output(wait=True)\n",
    "    state, reward, done, _ = env.step(action)\n",
    "    score += reward\n",
    "    if done:\n",
    "        print('Score: ', score)\n",
    "        break\n",
    "        \n",
    "env.close()\n"
   ]
  },
  {
   "cell_type": "markdown",
   "source": [
    "## 8. Modify the Grid to geomspace grid\n",
    "\n",
    "\n",
    "### Create new State Grid"
   ],
   "metadata": {
    "collapsed": false
   }
  },
  {
   "cell_type": "code",
   "execution_count": 27,
   "outputs": [
    {
     "name": "stdout",
     "output_type": "stream",
     "text": [
      "[-4.8   -8.    -0.419 -6.   ]\n",
      "[4.8   8.    0.419 6.   ]\n",
      "[-3.6 -2.4 -1.2  0.   1.2  2.4  3.6]\n",
      "[-3.330212829607492, -1.3862896863102925, -0.5770799623628854, -0.24022488679628626, -0.1, 0, 0.1, 0.24022488679628626, 0.5770799623628854, 1.3862896863102925, 3.330212829607492]\n",
      "[-0.314 -0.209 -0.105  0.     0.105  0.209  0.314]\n",
      "[-2.645580618665161, -1.1665161349761228, -0.5143520796755041, -0.22679331552660548, -0.1, 0, 0.1, 0.22679331552660548, 0.5143520796755041, 1.1665161349761228, 2.645580618665161]\n",
      "Environment: <TimeLimit<CartPoleEnv<CartPole-v0>>>\n",
      "State space size: (8, 12, 8, 12)\n",
      "Action space size: 2\n",
      "Q table size: (8, 12, 8, 12, 2)\n"
     ]
    }
   ],
   "source": [
    "env = gym.make('CartPole-v0')\n",
    "env.seed(505);\n",
    "env.reset()\n",
    "\n",
    "low  = env.observation_space.low\n",
    "high = env.observation_space.high\n",
    "\n",
    "low[1] = -8.0\n",
    "high[1] = 8.0\n",
    "low[3] = -6.0\n",
    "high[3] = 6.0\n",
    "\n",
    "\n",
    "bins = (8,12,8,12)\n",
    "funcs= (\"uni\",\"geom\",\"uni\",\"geom\")\n",
    "\n",
    "print(low)\n",
    "print(high)\n",
    "\n",
    "state_grid_geom = Grid.create_mixed_grid(low, high, bins, funcs)\n",
    "\n",
    "for g in state_grid_geom:\n",
    "    print(g)\n",
    "\n",
    "\n",
    "# (self, env, state_grid, alpha=0.02, gamma=0.99,\n",
    "#  epsilon=1.0, epsilon_decay_rate=0.9999, min_epsilon=.001, seed=505)\n",
    "\n",
    "q_agent_geom = QLearningAgent(env, state_grid_geom,\n",
    "                              alpha=0.015, # learning rate\n",
    "                              gamma=0.95, # discount factor\n",
    "                              epsilon=1.0, epsilon_decay_rate=0.9999, min_epsilon=.001,\n",
    "                              seed=505)\n",
    "\n",
    "q_agent_geom.scores = []  # initialize a list to store scores for this agent\n"
   ],
   "metadata": {
    "collapsed": false,
    "pycharm": {
     "name": "#%%\n"
    }
   }
  },
  {
   "cell_type": "markdown",
   "source": [
    "### Train it over a desired number of episodes and analyze scores\n",
    "Note: This cell can be run multiple times, and scores will get accumulated"
   ],
   "metadata": {
    "collapsed": false
   }
  },
  {
   "cell_type": "code",
   "execution_count": 28,
   "outputs": [
    {
     "name": "stdout",
     "output_type": "stream",
     "text": [
      "Episode 30000/30000 | Max Average Score: 198.71"
     ]
    },
    {
     "data": {
      "text/plain": "<Figure size 432x288 with 1 Axes>",
      "image/png": "[encoded data removed]"
     },
     "metadata": {},
     "output_type": "display_data"
    }
   ],
   "source": [
    "q_agent_geom.scores += run(q_agent_geom, env, num_episodes=30000)  # accumulate scores\n",
    "rolling_mean_geom = plot_scores(q_agent_geom.scores)"
   ],
   "metadata": {
    "collapsed": false,
    "pycharm": {
     "name": "#%%\n"
    }
   }
  },
  {
   "cell_type": "markdown",
   "source": [
    "### Run in test mode and analyze scores obtained"
   ],
   "metadata": {
    "collapsed": false
   }
  },
  {
   "cell_type": "code",
   "execution_count": 29,
   "outputs": [
    {
     "name": "stdout",
     "output_type": "stream",
     "text": [
      "[TEST] Completed 3000 episodes with avg. score = 192.726\n"
     ]
    },
    {
     "data": {
      "text/plain": "<Figure size 432x288 with 1 Axes>",
      "image/png": "[encoded data removed]"
     },
     "metadata": {},
     "output_type": "display_data"
    }
   ],
   "source": [
    "test_scores = run(q_agent_geom, env, num_episodes=3000, mode='test')\n",
    "print(\"[TEST] Completed {} episodes with avg. score = {}\".format(len(test_scores), np.mean(test_scores)))\n",
    "_ = plot_scores(test_scores)\n"
   ],
   "metadata": {
    "collapsed": false,
    "pycharm": {
     "name": "#%%\n"
    }
   }
  },
  {
   "cell_type": "markdown",
   "source": [
    "__The end.__"
   ],
   "metadata": {
    "collapsed": false
   }
  }
 ],
 "metadata": {
  "kernelspec": {
   "name": "pycharm-ec18b53a",
   "language": "python",
   "display_name": "PyCharm (python-work)"
  },
  "language_info": {
   "codemirror_mode": {
    "name": "ipython",
    "version": 3
   },
   "file_extension": ".py",
   "mimetype": "text/x-python",
   "name": "python",
   "nbconvert_exporter": "python",
   "pygments_lexer": "ipython3",
   "version": "3.6.3"
  }
 },
 "nbformat": 4,
 "nbformat_minor": 2
}